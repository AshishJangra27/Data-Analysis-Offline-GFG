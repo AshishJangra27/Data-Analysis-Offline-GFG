{
  "nbformat": 4,
  "nbformat_minor": 0,
  "metadata": {
    "colab": {
      "provenance": []
    },
    "kernelspec": {
      "name": "python3",
      "display_name": "Python 3"
    },
    "language_info": {
      "name": "python"
    }
  },
  "cells": [
    {
      "cell_type": "code",
      "execution_count": null,
      "metadata": {
        "colab": {
          "base_uri": "https://localhost:8080/"
        },
        "id": "HpurXlEQKjUV",
        "outputId": "133054e2-5428-4caa-9029-ceeabf187fce"
      },
      "outputs": [
        {
          "output_type": "stream",
          "name": "stdout",
          "text": [
            "Cloning into 'datasets'...\n",
            "remote: Enumerating objects: 306, done.\u001b[K\n",
            "remote: Counting objects: 100% (71/71), done.\u001b[K\n",
            "remote: Compressing objects: 100% (61/61), done.\u001b[K\n",
            "remote: Total 306 (delta 11), reused 54 (delta 9), pack-reused 235\u001b[K\n",
            "Receiving objects: 100% (306/306), 278.61 MiB | 16.26 MiB/s, done.\n",
            "Resolving deltas: 100% (137/137), done.\n",
            "Updating files: 100% (219/219), done.\n"
          ]
        }
      ],
      "source": [
        "!git clone https://github.com/AshishJangra27/datasets"
      ]
    },
    {
      "cell_type": "code",
      "source": [
        "import numpy as np\n",
        "import pandas as pd\n",
        "\n",
        "import seaborn as sns\n",
        "import matplotlib.pyplot as plt\n",
        "\n",
        "df = pd.read_csv('/content/datasets/Job Postings/jobs.csv.zip')\n",
        "df"
      ],
      "metadata": {
        "id": "iz2sTTlEKnDo",
        "colab": {
          "base_uri": "https://localhost:8080/",
          "height": 981
        },
        "outputId": "31cce146-73fc-4587-9d45-7c3e1c0b1f6e"
      },
      "execution_count": null,
      "outputs": [
        {
          "output_type": "execute_result",
          "data": {
            "text/plain": [
              "             job_id                                           job_role  \\\n",
              "0      7.012301e+10      Branch Banking - Calling For Women Candidates   \n",
              "1      6.012391e+10                       Product Owner Senior Manager   \n",
              "2      6.012391e+10  Employee Relations and Policies Associate Manager   \n",
              "3      6.012391e+10         Employee Relations and Policies Specialist   \n",
              "4      6.012301e+10                                  SAP BO Consultant   \n",
              "...             ...                                                ...   \n",
              "79142  6.012301e+10                           .Net Fullstack Developer   \n",
              "79143  1.122201e+10        Senior (BI) Business Intelligence Architect   \n",
              "79144  1.512220e+11                                  PowerBI Developer   \n",
              "79145  2.712220e+11                         Customer Service Associate   \n",
              "79146  2.112220e+11                   Senior Java BED ( PAN India)- KG   \n",
              "\n",
              "                     company experience                     salary  \\\n",
              "0                  Hdfc Bank    1-6 Yrs              Not disclosed   \n",
              "1                  Accenture  11-15 Yrs              Not disclosed   \n",
              "2                  Accenture    3-7 Yrs              Not disclosed   \n",
              "3                  Accenture    3-7 Yrs              Not disclosed   \n",
              "4                   Mindtree    5-7 Yrs              Not disclosed   \n",
              "...                      ...        ...                        ...   \n",
              "79142             Citiustech    3-8 Yrs   7,00,000 - 17,00,000 PA.   \n",
              "79143  Hexaware Technologies  10-13 Yrs              Not disclosed   \n",
              "79144                     EY   5-10 Yrs              Not disclosed   \n",
              "79145          Tech Mahindra    0-2 Yrs    2,50,000 - 3,50,000 PA.   \n",
              "79146          Tech Mahindra   8-12 Yrs  25,00,000 - 27,50,000 PA.   \n",
              "\n",
              "                                                location  rating  \\\n",
              "0      Kolkata, Hyderabad/Secunderabad, Pune, Ahmedab...     4.0   \n",
              "1      Kolkata, Mumbai, Hyderabad/Secunderabad, Pune,...     4.1   \n",
              "2      Kolkata, Mumbai, Hyderabad/Secunderabad, Pune,...     4.1   \n",
              "3      Kolkata, Mumbai, Hyderabad/Secunderabad, Pune,...     4.1   \n",
              "4      Hybrid - Kolkata, Hyderabad/Secunderabad, Pune...     4.1   \n",
              "...                                                  ...     ...   \n",
              "79142  Hybrid - Pune, Bangalore/Bengaluru, Mumbai (Al...     4.0   \n",
              "79143  Hybrid - Pune, Chennai, Bangalore/Bengaluru, M...     3.7   \n",
              "79144                  Hybrid - Pune, Mumbai (All Areas)     3.8   \n",
              "79145  Temp. WFH - Noida, Kolkata, New Delhi, Hyderab...     3.7   \n",
              "79146  Temp. WFH - Noida, Kolkata, Hyderabad/Secunder...     3.7   \n",
              "\n",
              "             reviews                                    resposibilities  \\\n",
              "0      39110 Reviews     Customer Service,Sales,Relationship Management   \n",
              "1      32129 Reviews  Product management,Market analysis,Change mana...   \n",
              "2      32129 Reviews  Business process,Change management,Team manage...   \n",
              "3      32129 Reviews  Business process,Change management,Team manage...   \n",
              "4       3759 Reviews  SAP BO,PL / SQL,Oracle SQL,SAP Business Object...   \n",
              "...              ...                                                ...   \n",
              "79142    742 Reviews  c#,.net core,javascript,Microservices,Angular,...   \n",
              "79143   3172 Reviews  Informatica Mdm,etl,business intelligence,Agil...   \n",
              "79144   6267 Reviews                            pagination,Power Bi,Dax   \n",
              "79145  21440 Reviews  Bengali,International BPO,BPO,Customer Service...   \n",
              "79146  21440 Reviews  Kafka,sql,spring boot,REST API,java,Lambda,Des...   \n",
              "\n",
              "         posted_on                                           job_link  \\\n",
              "0        1 Day Ago  https://www.naukri.com/job-listings-branch-ban...   \n",
              "1        1 Day Ago  https://www.naukri.com/job-listings-product-ow...   \n",
              "2        1 Day Ago  https://www.naukri.com/job-listings-employee-r...   \n",
              "3        1 Day Ago  https://www.naukri.com/job-listings-employee-r...   \n",
              "4        1 Day Ago  https://www.naukri.com/job-listings-sap-bo-con...   \n",
              "...            ...                                                ...   \n",
              "79142   2 Days Ago  https://www.naukri.com/job-listings-net-fullst...   \n",
              "79143    1 Day Ago  https://www.naukri.com/job-listings-senior-bi-...   \n",
              "79144   2 Days Ago  https://www.naukri.com/job-listings-powerbi-de...   \n",
              "79145  10 Days Ago  https://www.naukri.com/job-listings-customer-s...   \n",
              "79146   3 Days Ago  https://www.naukri.com/job-listings-senior-jav...   \n",
              "\n",
              "                                            company_link  \n",
              "0      https://www.naukri.com/hdfc-bank-jobs-careers-213  \n",
              "1      https://www.naukri.com/accenture-jobs-careers-...  \n",
              "2      https://www.naukri.com/accenture-jobs-careers-...  \n",
              "3      https://www.naukri.com/accenture-jobs-careers-...  \n",
              "4      https://www.naukri.com/mindtree-jobs-careers-3...  \n",
              "...                                                  ...  \n",
              "79142  https://www.naukri.com/citiustech-jobs-careers...  \n",
              "79143  https://www.naukri.com/hexaware-technologies-j...  \n",
              "79144        https://www.naukri.com/ey-jobs-careers-9156  \n",
              "79145  https://www.naukri.com/tech-mahindra-jobs-care...  \n",
              "79146  https://www.naukri.com/born-commerce-jobs-care...  \n",
              "\n",
              "[79147 rows x 12 columns]"
            ],
            "text/html": [
              "\n",
              "  <div id=\"df-9c553d91-dfe2-4021-a18d-87e8a8369da3\" class=\"colab-df-container\">\n",
              "    <div>\n",
              "<style scoped>\n",
              "    .dataframe tbody tr th:only-of-type {\n",
              "        vertical-align: middle;\n",
              "    }\n",
              "\n",
              "    .dataframe tbody tr th {\n",
              "        vertical-align: top;\n",
              "    }\n",
              "\n",
              "    .dataframe thead th {\n",
              "        text-align: right;\n",
              "    }\n",
              "</style>\n",
              "<table border=\"1\" class=\"dataframe\">\n",
              "  <thead>\n",
              "    <tr style=\"text-align: right;\">\n",
              "      <th></th>\n",
              "      <th>job_id</th>\n",
              "      <th>job_role</th>\n",
              "      <th>company</th>\n",
              "      <th>experience</th>\n",
              "      <th>salary</th>\n",
              "      <th>location</th>\n",
              "      <th>rating</th>\n",
              "      <th>reviews</th>\n",
              "      <th>resposibilities</th>\n",
              "      <th>posted_on</th>\n",
              "      <th>job_link</th>\n",
              "      <th>company_link</th>\n",
              "    </tr>\n",
              "  </thead>\n",
              "  <tbody>\n",
              "    <tr>\n",
              "      <th>0</th>\n",
              "      <td>7.012301e+10</td>\n",
              "      <td>Branch Banking - Calling For Women Candidates</td>\n",
              "      <td>Hdfc Bank</td>\n",
              "      <td>1-6 Yrs</td>\n",
              "      <td>Not disclosed</td>\n",
              "      <td>Kolkata, Hyderabad/Secunderabad, Pune, Ahmedab...</td>\n",
              "      <td>4.0</td>\n",
              "      <td>39110 Reviews</td>\n",
              "      <td>Customer Service,Sales,Relationship Management</td>\n",
              "      <td>1 Day Ago</td>\n",
              "      <td>https://www.naukri.com/job-listings-branch-ban...</td>\n",
              "      <td>https://www.naukri.com/hdfc-bank-jobs-careers-213</td>\n",
              "    </tr>\n",
              "    <tr>\n",
              "      <th>1</th>\n",
              "      <td>6.012391e+10</td>\n",
              "      <td>Product Owner Senior Manager</td>\n",
              "      <td>Accenture</td>\n",
              "      <td>11-15 Yrs</td>\n",
              "      <td>Not disclosed</td>\n",
              "      <td>Kolkata, Mumbai, Hyderabad/Secunderabad, Pune,...</td>\n",
              "      <td>4.1</td>\n",
              "      <td>32129 Reviews</td>\n",
              "      <td>Product management,Market analysis,Change mana...</td>\n",
              "      <td>1 Day Ago</td>\n",
              "      <td>https://www.naukri.com/job-listings-product-ow...</td>\n",
              "      <td>https://www.naukri.com/accenture-jobs-careers-...</td>\n",
              "    </tr>\n",
              "    <tr>\n",
              "      <th>2</th>\n",
              "      <td>6.012391e+10</td>\n",
              "      <td>Employee Relations and Policies Associate Manager</td>\n",
              "      <td>Accenture</td>\n",
              "      <td>3-7 Yrs</td>\n",
              "      <td>Not disclosed</td>\n",
              "      <td>Kolkata, Mumbai, Hyderabad/Secunderabad, Pune,...</td>\n",
              "      <td>4.1</td>\n",
              "      <td>32129 Reviews</td>\n",
              "      <td>Business process,Change management,Team manage...</td>\n",
              "      <td>1 Day Ago</td>\n",
              "      <td>https://www.naukri.com/job-listings-employee-r...</td>\n",
              "      <td>https://www.naukri.com/accenture-jobs-careers-...</td>\n",
              "    </tr>\n",
              "    <tr>\n",
              "      <th>3</th>\n",
              "      <td>6.012391e+10</td>\n",
              "      <td>Employee Relations and Policies Specialist</td>\n",
              "      <td>Accenture</td>\n",
              "      <td>3-7 Yrs</td>\n",
              "      <td>Not disclosed</td>\n",
              "      <td>Kolkata, Mumbai, Hyderabad/Secunderabad, Pune,...</td>\n",
              "      <td>4.1</td>\n",
              "      <td>32129 Reviews</td>\n",
              "      <td>Business process,Change management,Team manage...</td>\n",
              "      <td>1 Day Ago</td>\n",
              "      <td>https://www.naukri.com/job-listings-employee-r...</td>\n",
              "      <td>https://www.naukri.com/accenture-jobs-careers-...</td>\n",
              "    </tr>\n",
              "    <tr>\n",
              "      <th>4</th>\n",
              "      <td>6.012301e+10</td>\n",
              "      <td>SAP BO Consultant</td>\n",
              "      <td>Mindtree</td>\n",
              "      <td>5-7 Yrs</td>\n",
              "      <td>Not disclosed</td>\n",
              "      <td>Hybrid - Kolkata, Hyderabad/Secunderabad, Pune...</td>\n",
              "      <td>4.1</td>\n",
              "      <td>3759 Reviews</td>\n",
              "      <td>SAP BO,PL / SQL,Oracle SQL,SAP Business Object...</td>\n",
              "      <td>1 Day Ago</td>\n",
              "      <td>https://www.naukri.com/job-listings-sap-bo-con...</td>\n",
              "      <td>https://www.naukri.com/mindtree-jobs-careers-3...</td>\n",
              "    </tr>\n",
              "    <tr>\n",
              "      <th>...</th>\n",
              "      <td>...</td>\n",
              "      <td>...</td>\n",
              "      <td>...</td>\n",
              "      <td>...</td>\n",
              "      <td>...</td>\n",
              "      <td>...</td>\n",
              "      <td>...</td>\n",
              "      <td>...</td>\n",
              "      <td>...</td>\n",
              "      <td>...</td>\n",
              "      <td>...</td>\n",
              "      <td>...</td>\n",
              "    </tr>\n",
              "    <tr>\n",
              "      <th>79142</th>\n",
              "      <td>6.012301e+10</td>\n",
              "      <td>.Net Fullstack Developer</td>\n",
              "      <td>Citiustech</td>\n",
              "      <td>3-8 Yrs</td>\n",
              "      <td>7,00,000 - 17,00,000 PA.</td>\n",
              "      <td>Hybrid - Pune, Bangalore/Bengaluru, Mumbai (Al...</td>\n",
              "      <td>4.0</td>\n",
              "      <td>742 Reviews</td>\n",
              "      <td>c#,.net core,javascript,Microservices,Angular,...</td>\n",
              "      <td>2 Days Ago</td>\n",
              "      <td>https://www.naukri.com/job-listings-net-fullst...</td>\n",
              "      <td>https://www.naukri.com/citiustech-jobs-careers...</td>\n",
              "    </tr>\n",
              "    <tr>\n",
              "      <th>79143</th>\n",
              "      <td>1.122201e+10</td>\n",
              "      <td>Senior (BI) Business Intelligence Architect</td>\n",
              "      <td>Hexaware Technologies</td>\n",
              "      <td>10-13 Yrs</td>\n",
              "      <td>Not disclosed</td>\n",
              "      <td>Hybrid - Pune, Chennai, Bangalore/Bengaluru, M...</td>\n",
              "      <td>3.7</td>\n",
              "      <td>3172 Reviews</td>\n",
              "      <td>Informatica Mdm,etl,business intelligence,Agil...</td>\n",
              "      <td>1 Day Ago</td>\n",
              "      <td>https://www.naukri.com/job-listings-senior-bi-...</td>\n",
              "      <td>https://www.naukri.com/hexaware-technologies-j...</td>\n",
              "    </tr>\n",
              "    <tr>\n",
              "      <th>79144</th>\n",
              "      <td>1.512220e+11</td>\n",
              "      <td>PowerBI Developer</td>\n",
              "      <td>EY</td>\n",
              "      <td>5-10 Yrs</td>\n",
              "      <td>Not disclosed</td>\n",
              "      <td>Hybrid - Pune, Mumbai (All Areas)</td>\n",
              "      <td>3.8</td>\n",
              "      <td>6267 Reviews</td>\n",
              "      <td>pagination,Power Bi,Dax</td>\n",
              "      <td>2 Days Ago</td>\n",
              "      <td>https://www.naukri.com/job-listings-powerbi-de...</td>\n",
              "      <td>https://www.naukri.com/ey-jobs-careers-9156</td>\n",
              "    </tr>\n",
              "    <tr>\n",
              "      <th>79145</th>\n",
              "      <td>2.712220e+11</td>\n",
              "      <td>Customer Service Associate</td>\n",
              "      <td>Tech Mahindra</td>\n",
              "      <td>0-2 Yrs</td>\n",
              "      <td>2,50,000 - 3,50,000 PA.</td>\n",
              "      <td>Temp. WFH - Noida, Kolkata, New Delhi, Hyderab...</td>\n",
              "      <td>3.7</td>\n",
              "      <td>21440 Reviews</td>\n",
              "      <td>Bengali,International BPO,BPO,Customer Service...</td>\n",
              "      <td>10 Days Ago</td>\n",
              "      <td>https://www.naukri.com/job-listings-customer-s...</td>\n",
              "      <td>https://www.naukri.com/tech-mahindra-jobs-care...</td>\n",
              "    </tr>\n",
              "    <tr>\n",
              "      <th>79146</th>\n",
              "      <td>2.112220e+11</td>\n",
              "      <td>Senior Java BED ( PAN India)- KG</td>\n",
              "      <td>Tech Mahindra</td>\n",
              "      <td>8-12 Yrs</td>\n",
              "      <td>25,00,000 - 27,50,000 PA.</td>\n",
              "      <td>Temp. WFH - Noida, Kolkata, Hyderabad/Secunder...</td>\n",
              "      <td>3.7</td>\n",
              "      <td>21440 Reviews</td>\n",
              "      <td>Kafka,sql,spring boot,REST API,java,Lambda,Des...</td>\n",
              "      <td>3 Days Ago</td>\n",
              "      <td>https://www.naukri.com/job-listings-senior-jav...</td>\n",
              "      <td>https://www.naukri.com/born-commerce-jobs-care...</td>\n",
              "    </tr>\n",
              "  </tbody>\n",
              "</table>\n",
              "<p>79147 rows × 12 columns</p>\n",
              "</div>\n",
              "    <div class=\"colab-df-buttons\">\n",
              "\n",
              "  <div class=\"colab-df-container\">\n",
              "    <button class=\"colab-df-convert\" onclick=\"convertToInteractive('df-9c553d91-dfe2-4021-a18d-87e8a8369da3')\"\n",
              "            title=\"Convert this dataframe to an interactive table.\"\n",
              "            style=\"display:none;\">\n",
              "\n",
              "  <svg xmlns=\"http://www.w3.org/2000/svg\" height=\"24px\" viewBox=\"0 -960 960 960\">\n",
              "    <path d=\"M120-120v-720h720v720H120Zm60-500h600v-160H180v160Zm220 220h160v-160H400v160Zm0 220h160v-160H400v160ZM180-400h160v-160H180v160Zm440 0h160v-160H620v160ZM180-180h160v-160H180v160Zm440 0h160v-160H620v160Z\"/>\n",
              "  </svg>\n",
              "    </button>\n",
              "\n",
              "  <style>\n",
              "    .colab-df-container {\n",
              "      display:flex;\n",
              "      gap: 12px;\n",
              "    }\n",
              "\n",
              "    .colab-df-convert {\n",
              "      background-color: #E8F0FE;\n",
              "      border: none;\n",
              "      border-radius: 50%;\n",
              "      cursor: pointer;\n",
              "      display: none;\n",
              "      fill: #1967D2;\n",
              "      height: 32px;\n",
              "      padding: 0 0 0 0;\n",
              "      width: 32px;\n",
              "    }\n",
              "\n",
              "    .colab-df-convert:hover {\n",
              "      background-color: #E2EBFA;\n",
              "      box-shadow: 0px 1px 2px rgba(60, 64, 67, 0.3), 0px 1px 3px 1px rgba(60, 64, 67, 0.15);\n",
              "      fill: #174EA6;\n",
              "    }\n",
              "\n",
              "    .colab-df-buttons div {\n",
              "      margin-bottom: 4px;\n",
              "    }\n",
              "\n",
              "    [theme=dark] .colab-df-convert {\n",
              "      background-color: #3B4455;\n",
              "      fill: #D2E3FC;\n",
              "    }\n",
              "\n",
              "    [theme=dark] .colab-df-convert:hover {\n",
              "      background-color: #434B5C;\n",
              "      box-shadow: 0px 1px 3px 1px rgba(0, 0, 0, 0.15);\n",
              "      filter: drop-shadow(0px 1px 2px rgba(0, 0, 0, 0.3));\n",
              "      fill: #FFFFFF;\n",
              "    }\n",
              "  </style>\n",
              "\n",
              "    <script>\n",
              "      const buttonEl =\n",
              "        document.querySelector('#df-9c553d91-dfe2-4021-a18d-87e8a8369da3 button.colab-df-convert');\n",
              "      buttonEl.style.display =\n",
              "        google.colab.kernel.accessAllowed ? 'block' : 'none';\n",
              "\n",
              "      async function convertToInteractive(key) {\n",
              "        const element = document.querySelector('#df-9c553d91-dfe2-4021-a18d-87e8a8369da3');\n",
              "        const dataTable =\n",
              "          await google.colab.kernel.invokeFunction('convertToInteractive',\n",
              "                                                    [key], {});\n",
              "        if (!dataTable) return;\n",
              "\n",
              "        const docLinkHtml = 'Like what you see? Visit the ' +\n",
              "          '<a target=\"_blank\" href=https://colab.research.google.com/notebooks/data_table.ipynb>data table notebook</a>'\n",
              "          + ' to learn more about interactive tables.';\n",
              "        element.innerHTML = '';\n",
              "        dataTable['output_type'] = 'display_data';\n",
              "        await google.colab.output.renderOutput(dataTable, element);\n",
              "        const docLink = document.createElement('div');\n",
              "        docLink.innerHTML = docLinkHtml;\n",
              "        element.appendChild(docLink);\n",
              "      }\n",
              "    </script>\n",
              "  </div>\n",
              "\n",
              "\n",
              "<div id=\"df-84335d73-80ff-459a-96de-4999cfb764fe\">\n",
              "  <button class=\"colab-df-quickchart\" onclick=\"quickchart('df-84335d73-80ff-459a-96de-4999cfb764fe')\"\n",
              "            title=\"Suggest charts\"\n",
              "            style=\"display:none;\">\n",
              "\n",
              "<svg xmlns=\"http://www.w3.org/2000/svg\" height=\"24px\"viewBox=\"0 0 24 24\"\n",
              "     width=\"24px\">\n",
              "    <g>\n",
              "        <path d=\"M19 3H5c-1.1 0-2 .9-2 2v14c0 1.1.9 2 2 2h14c1.1 0 2-.9 2-2V5c0-1.1-.9-2-2-2zM9 17H7v-7h2v7zm4 0h-2V7h2v10zm4 0h-2v-4h2v4z\"/>\n",
              "    </g>\n",
              "</svg>\n",
              "  </button>\n",
              "\n",
              "<style>\n",
              "  .colab-df-quickchart {\n",
              "      --bg-color: #E8F0FE;\n",
              "      --fill-color: #1967D2;\n",
              "      --hover-bg-color: #E2EBFA;\n",
              "      --hover-fill-color: #174EA6;\n",
              "      --disabled-fill-color: #AAA;\n",
              "      --disabled-bg-color: #DDD;\n",
              "  }\n",
              "\n",
              "  [theme=dark] .colab-df-quickchart {\n",
              "      --bg-color: #3B4455;\n",
              "      --fill-color: #D2E3FC;\n",
              "      --hover-bg-color: #434B5C;\n",
              "      --hover-fill-color: #FFFFFF;\n",
              "      --disabled-bg-color: #3B4455;\n",
              "      --disabled-fill-color: #666;\n",
              "  }\n",
              "\n",
              "  .colab-df-quickchart {\n",
              "    background-color: var(--bg-color);\n",
              "    border: none;\n",
              "    border-radius: 50%;\n",
              "    cursor: pointer;\n",
              "    display: none;\n",
              "    fill: var(--fill-color);\n",
              "    height: 32px;\n",
              "    padding: 0;\n",
              "    width: 32px;\n",
              "  }\n",
              "\n",
              "  .colab-df-quickchart:hover {\n",
              "    background-color: var(--hover-bg-color);\n",
              "    box-shadow: 0 1px 2px rgba(60, 64, 67, 0.3), 0 1px 3px 1px rgba(60, 64, 67, 0.15);\n",
              "    fill: var(--button-hover-fill-color);\n",
              "  }\n",
              "\n",
              "  .colab-df-quickchart-complete:disabled,\n",
              "  .colab-df-quickchart-complete:disabled:hover {\n",
              "    background-color: var(--disabled-bg-color);\n",
              "    fill: var(--disabled-fill-color);\n",
              "    box-shadow: none;\n",
              "  }\n",
              "\n",
              "  .colab-df-spinner {\n",
              "    border: 2px solid var(--fill-color);\n",
              "    border-color: transparent;\n",
              "    border-bottom-color: var(--fill-color);\n",
              "    animation:\n",
              "      spin 1s steps(1) infinite;\n",
              "  }\n",
              "\n",
              "  @keyframes spin {\n",
              "    0% {\n",
              "      border-color: transparent;\n",
              "      border-bottom-color: var(--fill-color);\n",
              "      border-left-color: var(--fill-color);\n",
              "    }\n",
              "    20% {\n",
              "      border-color: transparent;\n",
              "      border-left-color: var(--fill-color);\n",
              "      border-top-color: var(--fill-color);\n",
              "    }\n",
              "    30% {\n",
              "      border-color: transparent;\n",
              "      border-left-color: var(--fill-color);\n",
              "      border-top-color: var(--fill-color);\n",
              "      border-right-color: var(--fill-color);\n",
              "    }\n",
              "    40% {\n",
              "      border-color: transparent;\n",
              "      border-right-color: var(--fill-color);\n",
              "      border-top-color: var(--fill-color);\n",
              "    }\n",
              "    60% {\n",
              "      border-color: transparent;\n",
              "      border-right-color: var(--fill-color);\n",
              "    }\n",
              "    80% {\n",
              "      border-color: transparent;\n",
              "      border-right-color: var(--fill-color);\n",
              "      border-bottom-color: var(--fill-color);\n",
              "    }\n",
              "    90% {\n",
              "      border-color: transparent;\n",
              "      border-bottom-color: var(--fill-color);\n",
              "    }\n",
              "  }\n",
              "</style>\n",
              "\n",
              "  <script>\n",
              "    async function quickchart(key) {\n",
              "      const quickchartButtonEl =\n",
              "        document.querySelector('#' + key + ' button');\n",
              "      quickchartButtonEl.disabled = true;  // To prevent multiple clicks.\n",
              "      quickchartButtonEl.classList.add('colab-df-spinner');\n",
              "      try {\n",
              "        const charts = await google.colab.kernel.invokeFunction(\n",
              "            'suggestCharts', [key], {});\n",
              "      } catch (error) {\n",
              "        console.error('Error during call to suggestCharts:', error);\n",
              "      }\n",
              "      quickchartButtonEl.classList.remove('colab-df-spinner');\n",
              "      quickchartButtonEl.classList.add('colab-df-quickchart-complete');\n",
              "    }\n",
              "    (() => {\n",
              "      let quickchartButtonEl =\n",
              "        document.querySelector('#df-84335d73-80ff-459a-96de-4999cfb764fe button');\n",
              "      quickchartButtonEl.style.display =\n",
              "        google.colab.kernel.accessAllowed ? 'block' : 'none';\n",
              "    })();\n",
              "  </script>\n",
              "</div>\n",
              "\n",
              "  <div id=\"id_a91f812c-005c-4b81-99fb-48d0068aade4\">\n",
              "    <style>\n",
              "      .colab-df-generate {\n",
              "        background-color: #E8F0FE;\n",
              "        border: none;\n",
              "        border-radius: 50%;\n",
              "        cursor: pointer;\n",
              "        display: none;\n",
              "        fill: #1967D2;\n",
              "        height: 32px;\n",
              "        padding: 0 0 0 0;\n",
              "        width: 32px;\n",
              "      }\n",
              "\n",
              "      .colab-df-generate:hover {\n",
              "        background-color: #E2EBFA;\n",
              "        box-shadow: 0px 1px 2px rgba(60, 64, 67, 0.3), 0px 1px 3px 1px rgba(60, 64, 67, 0.15);\n",
              "        fill: #174EA6;\n",
              "      }\n",
              "\n",
              "      [theme=dark] .colab-df-generate {\n",
              "        background-color: #3B4455;\n",
              "        fill: #D2E3FC;\n",
              "      }\n",
              "\n",
              "      [theme=dark] .colab-df-generate:hover {\n",
              "        background-color: #434B5C;\n",
              "        box-shadow: 0px 1px 3px 1px rgba(0, 0, 0, 0.15);\n",
              "        filter: drop-shadow(0px 1px 2px rgba(0, 0, 0, 0.3));\n",
              "        fill: #FFFFFF;\n",
              "      }\n",
              "    </style>\n",
              "    <button class=\"colab-df-generate\" onclick=\"generateWithVariable('df')\"\n",
              "            title=\"Generate code using this dataframe.\"\n",
              "            style=\"display:none;\">\n",
              "\n",
              "  <svg xmlns=\"http://www.w3.org/2000/svg\" height=\"24px\"viewBox=\"0 0 24 24\"\n",
              "       width=\"24px\">\n",
              "    <path d=\"M7,19H8.4L18.45,9,17,7.55,7,17.6ZM5,21V16.75L18.45,3.32a2,2,0,0,1,2.83,0l1.4,1.43a1.91,1.91,0,0,1,.58,1.4,1.91,1.91,0,0,1-.58,1.4L9.25,21ZM18.45,9,17,7.55Zm-12,3A5.31,5.31,0,0,0,4.9,8.1,5.31,5.31,0,0,0,1,6.5,5.31,5.31,0,0,0,4.9,4.9,5.31,5.31,0,0,0,6.5,1,5.31,5.31,0,0,0,8.1,4.9,5.31,5.31,0,0,0,12,6.5,5.46,5.46,0,0,0,6.5,12Z\"/>\n",
              "  </svg>\n",
              "    </button>\n",
              "    <script>\n",
              "      (() => {\n",
              "      const buttonEl =\n",
              "        document.querySelector('#id_a91f812c-005c-4b81-99fb-48d0068aade4 button.colab-df-generate');\n",
              "      buttonEl.style.display =\n",
              "        google.colab.kernel.accessAllowed ? 'block' : 'none';\n",
              "\n",
              "      buttonEl.onclick = () => {\n",
              "        google.colab.notebook.generateWithVariable('df');\n",
              "      }\n",
              "      })();\n",
              "    </script>\n",
              "  </div>\n",
              "\n",
              "    </div>\n",
              "  </div>\n"
            ],
            "application/vnd.google.colaboratory.intrinsic+json": {
              "type": "dataframe",
              "variable_name": "df",
              "summary": "{\n  \"name\": \"df\",\n  \"rows\": 79147,\n  \"fields\": [\n    {\n      \"column\": \"job_id\",\n      \"properties\": {\n        \"dtype\": \"number\",\n        \"std\": 109746366353.32233,\n        \"min\": 10122000503.0,\n        \"max\": 311222904900.0,\n        \"num_unique_values\": 73009,\n        \"samples\": [\n          20123000806.0,\n          291222007132.0,\n          70123500585.0\n        ],\n        \"semantic_type\": \"\",\n        \"description\": \"\"\n      }\n    },\n    {\n      \"column\": \"job_role\",\n      \"properties\": {\n        \"dtype\": \"string\",\n        \"num_unique_values\": 51050,\n        \"samples\": [\n          \"Web Administrator\",\n          \"Audio framework Engineer\",\n          \"TEKsystems #Hiring # SAP SD Consultant\"\n        ],\n        \"semantic_type\": \"\",\n        \"description\": \"\"\n      }\n    },\n    {\n      \"column\": \"company\",\n      \"properties\": {\n        \"dtype\": \"category\",\n        \"num_unique_values\": 15313,\n        \"samples\": [\n          \"Transglobe Iskcon India\",\n          \"Vrecroot\",\n          \"Leaptest\"\n        ],\n        \"semantic_type\": \"\",\n        \"description\": \"\"\n      }\n    },\n    {\n      \"column\": \"experience\",\n      \"properties\": {\n        \"dtype\": \"category\",\n        \"num_unique_values\": 231,\n        \"samples\": [\n          \"16-19 Yrs\",\n          \"10-12 Yrs\",\n          \"3-8 Yrs\"\n        ],\n        \"semantic_type\": \"\",\n        \"description\": \"\"\n      }\n    },\n    {\n      \"column\": \"salary\",\n      \"properties\": {\n        \"dtype\": \"category\",\n        \"num_unique_values\": 813,\n        \"samples\": [\n          \"14,00,000 - 22,50,000 PA.\",\n          \"55,00,000 - 65,00,000 PA.\",\n          \"2,00,000 - 4,75,000 PA.\"\n        ],\n        \"semantic_type\": \"\",\n        \"description\": \"\"\n      }\n    },\n    {\n      \"column\": \"location\",\n      \"properties\": {\n        \"dtype\": \"category\",\n        \"num_unique_values\": 9038,\n        \"samples\": [\n          \"Temp. WFH - Chennai\",\n          \"Vapi, Dadra & Nagar Haveli/Silvassa\",\n          \"New Delhi(Safdarjung Enclave), Delhi / NCR\"\n        ],\n        \"semantic_type\": \"\",\n        \"description\": \"\"\n      }\n    },\n    {\n      \"column\": \"rating\",\n      \"properties\": {\n        \"dtype\": \"number\",\n        \"std\": 0.5192110664984727,\n        \"min\": 1.0,\n        \"max\": 5.0,\n        \"num_unique_values\": 41,\n        \"samples\": [\n          2.2,\n          3.4,\n          4.4\n        ],\n        \"semantic_type\": \"\",\n        \"description\": \"\"\n      }\n    },\n    {\n      \"column\": \"reviews\",\n      \"properties\": {\n        \"dtype\": \"category\",\n        \"num_unique_values\": 980,\n        \"samples\": [\n          \"942 Reviews\",\n          \"867 Reviews\",\n          \"28172 Reviews\"\n        ],\n        \"semantic_type\": \"\",\n        \"description\": \"\"\n      }\n    },\n    {\n      \"column\": \"resposibilities\",\n      \"properties\": {\n        \"dtype\": \"string\",\n        \"num_unique_values\": 61911,\n        \"samples\": [\n          \".net core,aws,React.Js\",\n          \"Test Engineering,JIRA,Confluence,Analytical,JCL,SDLC,Communication,LMS\",\n          \"Team Management,Reporting,Presentation,account management,Market Research,Business Strategy,Swot Analysis,research\"\n        ],\n        \"semantic_type\": \"\",\n        \"description\": \"\"\n      }\n    },\n    {\n      \"column\": \"posted_on\",\n      \"properties\": {\n        \"dtype\": \"category\",\n        \"num_unique_values\": 26,\n        \"samples\": [\n          \"6 Days Ago\",\n          \"Just Now\",\n          \"1 Day Ago\"\n        ],\n        \"semantic_type\": \"\",\n        \"description\": \"\"\n      }\n    },\n    {\n      \"column\": \"job_link\",\n      \"properties\": {\n        \"dtype\": \"string\",\n        \"num_unique_values\": 73009,\n        \"samples\": [\n          \"https://www.naukri.com/job-listings-medical-coding-for-18-22-passout-microbiology-zoology-adv-zoo-grad-alpha-medical-coding-solutions-pondicherry-puducherry-chennai-tiruchirapalli-trichy-0-to-4-years-020123000806\",\n          \"https://www.naukri.com/job-listings-admission-counsellor-atz-properties-bangalore-bengaluru-1-to-3-years-291222007132\",\n          \"https://www.naukri.com/job-listings-hygiene-care-consultant-sr-hygiene-care-consultant-skillety-noida-kochi-cochin-kolkata-mumbai-chandigarh-hyderabad-secunderabad-pune-chennai-ahmedabad-bangalore-bengaluru-2-to-7-years-070123500585\"\n        ],\n        \"semantic_type\": \"\",\n        \"description\": \"\"\n      }\n    },\n    {\n      \"column\": \"company_link\",\n      \"properties\": {\n        \"dtype\": \"category\",\n        \"num_unique_values\": 13845,\n        \"samples\": [\n          \"https://www.naukri.com/modify-digital-jobs-careers-3717488\",\n          \"https://www.naukri.com/fg-glass-jobs-careers-4624134\",\n          \"https://www.naukri.com/n-solutions-jobs-careers-594659\"\n        ],\n        \"semantic_type\": \"\",\n        \"description\": \"\"\n      }\n    }\n  ]\n}"
            }
          },
          "metadata": {},
          "execution_count": 4
        }
      ]
    },
    {
      "cell_type": "markdown",
      "source": [
        "### 1. Handling Duplicate & Null Values\n",
        "\n",
        "##### 1.1) Checking Null Values"
      ],
      "metadata": {
        "id": "WcmNC9ELN2tD"
      }
    },
    {
      "cell_type": "code",
      "source": [
        "df.isnull().sum()"
      ],
      "metadata": {
        "colab": {
          "base_uri": "https://localhost:8080/"
        },
        "id": "s-nJWYR3OA-j",
        "outputId": "41f92aad-92d9-461a-c8f3-a3348814c1d7"
      },
      "execution_count": null,
      "outputs": [
        {
          "output_type": "execute_result",
          "data": {
            "text/plain": [
              "job_id               480\n",
              "job_role             480\n",
              "company              481\n",
              "experience          1749\n",
              "salary               480\n",
              "location            1706\n",
              "rating             36199\n",
              "reviews            36199\n",
              "resposibilities      500\n",
              "posted_on            480\n",
              "job_link             480\n",
              "company_link         480\n",
              "dtype: int64"
            ]
          },
          "metadata": {},
          "execution_count": 44
        }
      ]
    },
    {
      "cell_type": "markdown",
      "source": [
        "##### 1.2) Removing Null values"
      ],
      "metadata": {
        "id": "kXx0frW6ODSh"
      }
    },
    {
      "cell_type": "code",
      "source": [
        "df = df.dropna(subset=['job_id', 'job_role', 'company', 'experience', 'salary', 'location',\n",
        "                      'resposibilities', 'posted_on', 'job_link', 'company_link'])"
      ],
      "metadata": {
        "id": "0Y_aPxPzLcQq"
      },
      "execution_count": null,
      "outputs": []
    },
    {
      "cell_type": "markdown",
      "source": [
        "##### 1.3) Checking Duplicate Values\n",
        "\n"
      ],
      "metadata": {
        "id": "Frl9m0UsOHSQ"
      }
    },
    {
      "cell_type": "code",
      "source": [
        "print(df.duplicated().sum())\n",
        "\n",
        "print(df.duplicated(subset=['job_id']).sum())\n",
        "\n",
        "print(df.duplicated(subset=['job_link']).sum())"
      ],
      "metadata": {
        "colab": {
          "base_uri": "https://localhost:8080/"
        },
        "id": "2WzT_0S6NCN-",
        "outputId": "8ad099da-0cbc-49ec-c3e5-e88777f0eb9c"
      },
      "execution_count": null,
      "outputs": [
        {
          "output_type": "stream",
          "name": "stdout",
          "text": [
            "5312\n",
            "5640\n",
            "5640\n"
          ]
        }
      ]
    },
    {
      "cell_type": "markdown",
      "source": [
        "##### 1.4) Remove the Null Values"
      ],
      "metadata": {
        "id": "lKGAHKRFSocM"
      }
    },
    {
      "cell_type": "code",
      "source": [
        "df = df.drop_duplicates(subset=['job_link'])"
      ],
      "metadata": {
        "id": "MIU9wzZhNddQ"
      },
      "execution_count": null,
      "outputs": []
    },
    {
      "cell_type": "markdown",
      "source": [
        "### 2. Exploratory Data Analysis\n",
        "\n",
        "##### 2.1) Exploring job_id Column"
      ],
      "metadata": {
        "id": "SxERKCdnT3QZ"
      }
    },
    {
      "cell_type": "code",
      "source": [
        "df['job_id'].nunique() == len(df)"
      ],
      "metadata": {
        "colab": {
          "base_uri": "https://localhost:8080/"
        },
        "id": "W3iVLbckO_fn",
        "outputId": "4c9831a3-8bc1-4f33-fdd7-718a767389d3"
      },
      "execution_count": null,
      "outputs": [
        {
          "output_type": "execute_result",
          "data": {
            "text/plain": [
              "True"
            ]
          },
          "metadata": {},
          "execution_count": 67
        }
      ]
    },
    {
      "cell_type": "markdown",
      "source": [
        "- convert it to string data-type\n",
        "- get it from link column"
      ],
      "metadata": {
        "id": "Rh1X0d0ChSb4"
      }
    },
    {
      "cell_type": "markdown",
      "source": [
        "##### 2.2) Exploring job_role Column"
      ],
      "metadata": {
        "id": "5EuTWQ02hM_h"
      }
    },
    {
      "cell_type": "code",
      "source": [
        "df['job_role'].nunique()"
      ],
      "metadata": {
        "colab": {
          "base_uri": "https://localhost:8080/"
        },
        "id": "OZ51YQXdUNHd",
        "outputId": "e69a7def-78e8-42d2-ba69-697ff828848c"
      },
      "execution_count": null,
      "outputs": [
        {
          "output_type": "execute_result",
          "data": {
            "text/plain": [
              "51050"
            ]
          },
          "metadata": {},
          "execution_count": 123
        }
      ]
    },
    {
      "cell_type": "markdown",
      "source": [
        "##### 2.3) Exploring company Column"
      ],
      "metadata": {
        "id": "-spvDY7ijdQ_"
      }
    },
    {
      "cell_type": "code",
      "source": [
        "df['company'].nunique()"
      ],
      "metadata": {
        "colab": {
          "base_uri": "https://localhost:8080/"
        },
        "id": "zm-phO1lUn7p",
        "outputId": "acd7fcb6-7129-4b50-dd8a-71340bf5ca12"
      },
      "execution_count": null,
      "outputs": [
        {
          "output_type": "execute_result",
          "data": {
            "text/plain": [
              "15313"
            ]
          },
          "metadata": {},
          "execution_count": 124
        }
      ]
    },
    {
      "cell_type": "markdown",
      "source": [
        "##### 2.4) Exploring company & company_link Column together"
      ],
      "metadata": {
        "id": "5tCm_UtTjiet"
      }
    },
    {
      "cell_type": "code",
      "source": [
        "print(df['company'].nunique())\n",
        "print(df['company_link'].nunique())"
      ],
      "metadata": {
        "colab": {
          "base_uri": "https://localhost:8080/"
        },
        "id": "uD9k5KZSUp76",
        "outputId": "8d1f48c3-485b-4453-d878-363ddbe82ea0"
      },
      "execution_count": null,
      "outputs": [
        {
          "output_type": "stream",
          "name": "stdout",
          "text": [
            "15313\n",
            "13845\n"
          ]
        }
      ]
    },
    {
      "cell_type": "markdown",
      "source": [
        "##### 2.5) Exploring companies whose links are mathcing but names are different"
      ],
      "metadata": {
        "id": "OGWViZCdj1AB"
      }
    },
    {
      "cell_type": "code",
      "source": [
        "df['company_id'] =  df['company_link'].str.lower().str.split('-').str[-1]\n",
        "\n",
        "# for company_id in tqdm(df['company_id'].unique()):\n",
        "#   no_of_un_links = df[df['company_id'] == company_id]['company_link'].nunique()\n",
        "#   if (no_of_un_links != 1):\n",
        "#     print(company_id, no_of_un_links)\n",
        "\n",
        "df.groupby('company_id').nunique()['company_link'].sort_values(ascending = False).head()"
      ],
      "metadata": {
        "colab": {
          "base_uri": "https://localhost:8080/"
        },
        "id": "Q5vMVXKfXBPQ",
        "outputId": "45604d65-3ade-496c-f801-bc8368a87a95"
      },
      "execution_count": null,
      "outputs": [
        {
          "output_type": "execute_result",
          "data": {
            "text/plain": [
              "company_id\n",
              "0          53\n",
              "2778010     2\n",
              "932996      2\n",
              "5542888     1\n",
              "5539450     1\n",
              "Name: company_link, dtype: int64"
            ]
          },
          "metadata": {},
          "execution_count": 133
        }
      ]
    },
    {
      "cell_type": "code",
      "source": [],
      "metadata": {
        "id": "OiJhx1yJZ6kL"
      },
      "execution_count": null,
      "outputs": []
    }
  ]
}