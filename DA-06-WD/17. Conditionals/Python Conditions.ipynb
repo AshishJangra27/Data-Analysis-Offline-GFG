{
 "cells": [
  {
   "cell_type": "markdown",
   "metadata": {},
   "source": [
    "# Practical If-Else and Nested If-Else Exercises (More Nested and Multi-Elif)\n\n",
    "Below are 50 practical Python practice questions focusing on **if-else**, **nested if-else**, and multiple elif conditions.\n\n",
    "Each question is provided as a code cell with:\n",
    "- A comment describing the question\n",
    "- A code snippet showing one possible solution\n\n",
    "**Note:** No advanced data structures or functions are used, only basic variables, operators, and conditionals.\n\n",
    "You can run each cell to see the output."
   ]
  },
  {
   "cell_type": "code",
   "metadata": {},
   "source": [
    "# Q1: Nested if: Check nationality. If 'India', print 'Namaste'. If 'USA', print 'Hello'. If 'France', print 'Bonjour'. Else print 'Hi'.\n",
    "nationality = 'India'\n",
    "if nationality == 'India':\n",
    "    print('Namaste')\n",
    "elif nationality == 'USA':\n",
    "    print('Hello')\n",
    "elif nationality == 'France':\n",
    "    print('Bonjour')\n",
    "else:\n",
    "    print('Hi')"
   ]
  },
  {
   "cell_type": "code",
   "metadata": {},
   "source": [
    "# Q2: Nested if: If income > 1000000, check if > 2000000: 'Very High'; else 'High'. Else if income > 500000: 'Medium' else 'Low'.\n",
    "income = 1500000\n",
    "if income > 1000000:\n",
    "    if income > 2000000:\n",
    "        print('Very High')\n",
    "    else:\n",
    "        print('High')\n",
    "elif income > 500000:\n",
    "    print('Medium')\n",
    "else:\n",
    "    print('Low')"
   ]
  },
  {
   "cell_type": "code",
   "metadata": {},
   "source": [
    "# Q3: Multi-elif: Check car color. 'red'->'Stop sign color', 'green'->'Go color', 'yellow'->'Caution', else 'Unknown'.\n",
    "car_color = 'yellow'\n",
    "if car_color == 'red':\n",
    "    print('Stop sign color')\n",
    "elif car_color == 'green':\n",
    "    print('Go color')\n",
    "elif car_color == 'yellow':\n",
    "    print('Caution')\n",
    "else:\n",
    "    print('Unknown')"
   ]
  },
  {
   "cell_type": "code",
   "metadata": {},
   "source": [
    "# Q4: Nested if: If user_age >=18 check if age<21 print 'Adult but no alcohol', else 'Adult with alcohol', else 'Minor'.\n",
    "user_age = 19\n",
    "if user_age >= 18:\n",
    "    if user_age < 21:\n",
    "        print('Adult but no alcohol')\n",
    "    else:\n",
    "        print('Adult with alcohol')\n",
    "else:\n",
    "    print('Minor')"
   ]
  },
  {
   "cell_type": "code",
   "metadata": {},
   "source": [
    "# Q5: Multi-elif: Temperature ranges: <0='Freezing', <15='Cold', <25='Warm', else 'Hot'.\n",
    "temp = 10\n",
    "if temp < 0:\n",
    "    print('Freezing')\n",
    "elif temp < 15:\n",
    "    print('Cold')\n",
    "elif temp < 25:\n",
    "    print('Warm')\n",
    "else:\n",
    "    print('Hot')"
   ]
  },
  {
   "cell_type": "code",
   "metadata": {},
   "source": [
    "# Q6: Nested if: Check exam_score. If >=90: print 'A'. Else if >=80: if >=85: print 'B+', else 'B'. Else 'Below B'.\n",
    "exam_score = 83\n",
    "if exam_score >= 90:\n",
    "    print('A')\n",
    "elif exam_score >= 80:\n",
    "    if exam_score >= 85:\n",
    "        print('B+')\n",
    "    else:\n",
    "        print('B')\n",
    "else:\n",
    "    print('Below B')"
   ]
  },
  {
   "cell_type": "code",
   "metadata": {},
   "source": [
    "# Q7: Multi-elif: Day number (1=Mon,...7=Sun), print type: Mon-Fri='Workday', Sat='Half-day', Sun='Holiday'. Else 'Invalid'.\n",
    "day_num = 6\n",
    "if day_num == 1 or day_num == 2 or day_num == 3 or day_num == 4 or day_num == 5:\n",
    "    print('Workday')\n",
    "elif day_num == 6:\n",
    "    print('Half-day')\n",
    "elif day_num == 7:\n",
    "    print('Holiday')\n",
    "else:\n",
    "    print('Invalid')"
   ]
  },
  {
   "cell_type": "code",
   "metadata": {},
   "source": [
    "# Q8: Nested if: If user_role='admin' check if active=True: 'Full Access', else 'Admin not active'; else 'Limited Access'.\n",
    "user_role = 'admin'\n",
    "active = True\n",
    "if user_role == 'admin':\n",
    "    if active == True:\n",
    "        print('Full Access')\n",
    "    else:\n",
    "        print('Admin not active')\n",
    "else:\n",
    "    print('Limited Access')"
   ]
  },
  {
   "cell_type": "code",
   "metadata": {},
   "source": [
    "# Q9: Multi-elif: Speed zones: <30='Slow zone', <60='Normal', <90='Fast', else 'Very Fast'.\n",
    "speed = 75\n",
    "if speed < 30:\n",
    "    print('Slow zone')\n",
    "elif speed < 60:\n",
    "    print('Normal')\n",
    "elif speed < 90:\n",
    "    print('Fast')\n",
    "else:\n",
    "    print('Very Fast')"
   ]
  },
  {
   "cell_type": "code",
   "metadata": {},
   "source": [
    "# Q10: Nested if: If budget>1000: if >2000 'Luxury', else 'Moderate'. Else if >500 'Basic', else 'Low'.\n",
    "budget = 1500\n",
    "if budget > 1000:\n",
    "    if budget > 2000:\n",
    "        print('Luxury')\n",
    "    else:\n",
    "        print('Moderate')\n",
    "elif budget > 500:\n",
    "    print('Basic')\n",
    "else:\n",
    "    print('Low')"
   ]
  },
  {
   "cell_type": "code",
   "metadata": {},
   "source": [
    "# Q11: Multi-elif: Check a letter grade from marks: >=90='A', >=80='B', >=70='C', else='D'.\n",
    "marks = 72\n",
    "if marks >= 90:\n",
    "    print('A')\n",
    "elif marks >= 80:\n",
    "    print('B')\n",
    "elif marks >= 70:\n",
    "    print('C')\n",
    "else:\n",
    "    print('D')"
   ]
  },
  {
   "cell_type": "code",
   "metadata": {},
   "source": [
    "# Q12: Nested if: If candidate_age>=18: if >=65 'Senior Voter', else 'Adult Voter'; else 'Underage'.\n",
    "candidate_age = 70\n",
    "if candidate_age >= 18:\n",
    "    if candidate_age >= 65:\n",
    "        print('Senior Voter')\n",
    "    else:\n",
    "        print('Adult Voter')\n",
    "else:\n",
    "    print('Underage')"
   ]
  },
  {
   "cell_type": "code",
   "metadata": {},
   "source": [
    "# Q13: Multi-elif: BMI categories: <18.5='Underweight', <25='Normal', <30='Overweight', else='Obese'.\n",
    "bmi = 27\n",
    "if bmi < 18.5:\n",
    "    print('Underweight')\n",
    "elif bmi < 25:\n",
    "    print('Normal')\n",
    "elif bmi < 30:\n",
    "    print('Overweight')\n",
    "else:\n",
    "    print('Obese')"
   ]
  },
  {
   "cell_type": "code",
   "metadata": {},
   "source": [
    "# Q14: Nested if: If rainfall>50 check if >100 print 'Severe Flood', else 'Flood Warning'; else 'No Flood'.\n",
    "rainfall = 110\n",
    "if rainfall > 50:\n",
    "    if rainfall > 100:\n",
    "        print('Severe Flood')\n",
    "    else:\n",
    "        print('Flood Warning')\n",
    "else:\n",
    "    print('No Flood')"
   ]
  },
  {
   "cell_type": "code",
   "metadata": {},
   "source": [
    "# Q15: Multi-elif: Select language. 'en'='English', 'fr'='French', 'hi'='Hindi', else='Unknown'.\n",
    "lang_code = 'fr'\n",
    "if lang_code == 'en':\n",
    "    print('English')\n",
    "elif lang_code == 'fr':\n",
    "    print('French')\n",
    "elif lang_code == 'hi':\n",
    "    print('Hindi')\n",
    "else:\n",
    "    print('Unknown')"
   ]
  },
  {
   "cell_type": "code",
   "metadata": {},
   "source": [
    "# Q16: Nested if: If product_price>500: if >1000='High-end', else 'Mid-range'; else 'Budget'.\n",
    "product_price = 300\n",
    "if product_price > 500:\n",
    "    if product_price > 1000:\n",
    "        print('High-end')\n",
    "    else:\n",
    "        print('Mid-range')\n",
    "else:\n",
    "    print('Budget')"
   ]
  },
  {
   "cell_type": "code",
   "metadata": {},
   "source": [
    "# Q17: Multi-elif: Age group: <13='Child', <20='Teen', <60='Adult', else='Senior'.\n",
    "age = 45\n",
    "if age < 13:\n",
    "    print('Child')\n",
    "elif age < 20:\n",
    "    print('Teen')\n",
    "elif age < 60:\n",
    "    print('Adult')\n",
    "else:\n",
    "    print('Senior')"
   ]
  },
  {
   "cell_type": "code",
   "metadata": {},
   "source": [
    "# Q18: Nested if: If electricity_units>500: if >1000='High Bill', else='Medium Bill'; else 'Low Bill'.\n",
    "electricity_units = 1200\n",
    "if electricity_units > 500:\n",
    "    if electricity_units > 1000:\n",
    "        print('High Bill')\n",
    "    else:\n",
    "        print('Medium Bill')\n",
    "else:\n",
    "    print('Low Bill')"
   ]
  },
  {
   "cell_type": "code",
   "metadata": {},
   "source": [
    "# Q19: Multi-elif: Meal time: 'breakfast'(before10), 'lunch'(before15), 'dinner'(before21), else='late snack'.\n",
    "hour = 16\n",
    "if hour < 10:\n",
    "    print('breakfast')\n",
    "elif hour < 15:\n",
    "    print('lunch')\n",
    "elif hour < 21:\n",
    "    print('dinner')\n",
    "else:\n",
    "    print('late snack')"
   ]
  },
  {
   "cell_type": "code",
   "metadata": {},
   "source": [
    "# Q20: Nested if: If password_len>=8: if contains_digit='Strong', else='Moderate'; else 'Weak'.\n",
    "password = 'abc1234'\n",
    "# Checking digit presence without loops or data structures by direct condition\n",
    "has_digit = ('0' in password or '1' in password or '2' in password or '3' in password or '4' in password or\n",
    "             '5' in password or '6' in password or '7' in password or '8' in password or '9' in password)\n",
    "if len(password) >= 8:\n",
    "    if has_digit:\n",
    "        print('Strong')\n",
    "    else:\n",
    "        print('Moderate')\n",
    "else:\n",
    "    print('Weak')"
   ]
  },
  {
   "cell_type": "code",
   "metadata": {},
   "source": [
    "# Q21: Multi-elif: Check height: <150='Short', <170='Below average', <185='Average', else 'Tall'.\n",
    "height = 160\n",
    "if height < 150:\n",
    "    print('Short')\n",
    "elif height < 170:\n",
    "    print('Below average')\n",
    "elif height < 185:\n",
    "    print('Average')\n",
    "else:\n",
    "    print('Tall')"
   ]
  },
  {
   "cell_type": "code",
   "metadata": {},
   "source": [
    "# Q22: Nested if: If tickets_sold>1000: if >5000='Blockbuster', else 'Hit'; else if >500='Average', else 'Flop'.\n",
    "tickets_sold = 600\n",
    "if tickets_sold > 1000:\n",
    "    if tickets_sold > 5000:\n",
    "        print('Blockbuster')\n",
    "    else:\n",
    "        print('Hit')\n",
    "elif tickets_sold > 500:\n",
    "    print('Average')\n",
    "else:\n",
    "    print('Flop')"
   ]
  },
  {
   "cell_type": "code",
   "metadata": {},
   "source": [
    "# Q23: Multi-elif: Assign letter based on speed limit break: 0='Safe', <=10='Warning', <=20='Penalty', else='Severe Penalty'.\n",
    "over_speed = 15\n",
    "if over_speed == 0:\n",
    "    print('Safe')\n",
    "elif over_speed <= 10:\n",
    "    print('Warning')\n",
    "elif over_speed <= 20:\n",
    "    print('Penalty')\n",
    "else:\n",
    "    print('Severe Penalty')"
   ]
  },
  {
   "cell_type": "code",
   "metadata": {},
   "source": [
    "# Q24: Nested if: If exam_passed=True: if interview_passed=True='Job Offer', else='No Offer'; else='No Offer'.\n",
    "exam_passed = True\n",
    "interview_passed = False\n",
    "if exam_passed == True:\n",
    "    if interview_passed == True:\n",
    "        print('Job Offer')\n",
    "    else:\n",
    "        print('No Offer')\n",
    "else:\n",
    "    print('No Offer')"
   ]
  },
  {
   "cell_type": "code",
   "metadata": {},
   "source": [
    "# Q25: Multi-elif: Month number: 1='Jan',2='Feb',3='Mar', else='Other month'.\n",
    "month_num = 3\n",
    "if month_num == 1:\n",
    "    print('Jan')\n",
    "elif month_num == 2:\n",
    "    print('Feb')\n",
    "elif month_num == 3:\n",
    "    print('Mar')\n",
    "else:\n",
    "    print('Other month')"
   ]
  },
  {
   "cell_type": "code",
   "metadata": {},
   "source": [
    "# Q26: Nested if: If score>80: if >90='Excellent', else='Good'; else if >60='Average', else 'Poor'.\n",
    "score = 75\n",
    "if score > 80:\n",
    "    if score > 90:\n",
    "        print('Excellent')\n",
    "    else:\n",
    "        print('Good')\n",
    "elif score > 60:\n",
    "    print('Average')\n",
    "else:\n",
    "    print('Poor')"
   ]
  },
  {
   "cell_type": "code",
   "metadata": {},
   "source": [
    "# Q27: Multi-elif: Credit score rating: >=800='Excellent', >=700='Good', >=600='Fair', else='Poor'.\n",
    "credit_score = 650\n",
    "if credit_score >= 800:\n",
    "    print('Excellent')\n",
    "elif credit_score >= 700:\n",
    "    print('Good')\n",
    "elif credit_score >= 600:\n",
    "    print('Fair')\n",
    "else:\n",
    "    print('Poor')"
   ]
  },
  {
   "cell_type": "code",
   "metadata": {},
   "source": [
    "# Q28: Nested if: If temperature>30: if >40='Heatwave', else 'Hot'; else if >20='Warm', else 'Cool'.\n",
    "temperature = 25\n",
    "if temperature > 30:\n",
    "    if temperature > 40:\n",
    "        print('Heatwave')\n",
    "    else:\n",
    "        print('Hot')\n",
    "elif temperature > 20:\n",
    "    print('Warm')\n",
    "else:\n",
    "    print('Cool')"
   ]
  },
  {
   "cell_type": "code",
   "metadata": {},
   "source": [
    "# Q29: Multi-elif: Salary range: >=100000='Top Earner', >=50000='Middle', >=20000='Low Middle', else='Low'.\n",
    "salary = 30000\n",
    "if salary >= 100000:\n",
    "    print('Top Earner')\n",
    "elif salary >= 50000:\n",
    "    print('Middle')\n",
    "elif salary >= 20000:\n",
    "    print('Low Middle')\n",
    "else:\n",
    "    print('Low')"
   ]
  },
  {
   "cell_type": "code",
   "metadata": {},
   "source": [
    "# Q30: Nested if: If fuel>10: if >50='Full Tank', else='Partial'; else if >0='Low fuel', else 'Empty'.\n",
    "fuel = 5\n",
    "if fuel > 10:\n",
    "    if fuel > 50:\n",
    "        print('Full Tank')\n",
    "    else:\n",
    "        print('Partial')\n",
    "elif fuel > 0:\n",
    "    print('Low fuel')\n",
    "else:\n",
    "    print('Empty')"
   ]
  },
  {
   "cell_type": "code",
   "metadata": {},
   "source": [
    "# Q31: Multi-elif: Internet speed test: >=100='High Speed', >=50='Medium Speed', >=10='Low Speed', else='Very Low'.\n",
    "internet_speed = 8\n",
    "if internet_speed >= 100:\n",
    "    print('High Speed')\n",
    "elif internet_speed >= 50:\n",
    "    print('Medium Speed')\n",
    "elif internet_speed >= 10:\n",
    "    print('Low Speed')\n",
    "else:\n",
    "    print('Very Low')"
   ]
  },
  {
   "cell_type": "code",
   "metadata": {},
   "source": [
    "# Q32: Nested if: If distance>1000: if >2000='Very Far', else='Far'; else if >500='Moderate', else 'Close'.\n",
    "distance = 1800\n",
    "if distance > 1000:\n",
    "    if distance > 2000:\n",
    "        print('Very Far')\n",
    "    else:\n",
    "        print('Far')\n",
    "elif distance > 500:\n",
    "    print('Moderate')\n",
    "else:\n",
    "    print('Close')"
   ]
  },
  {
   "cell_type": "code",
   "metadata": {},
   "source": [
    "# Q33: Multi-elif: Customer rating: 5='Excellent',4='Good',3='Average',2='Below Average',1='Poor', else='Invalid'.\n",
    "rating = 4\n",
    "if rating == 5:\n",
    "    print('Excellent')\n",
    "elif rating == 4:\n",
    "    print('Good')\n",
    "elif rating == 3:\n",
    "    print('Average')\n",
    "elif rating == 2:\n",
    "    print('Below Average')\n",
    "elif rating == 1:\n",
    "    print('Poor')\n",
    "else:\n",
    "    print('Invalid')"
   ]
  },
  {
   "cell_type": "code",
   "metadata": {},
   "source": [
    "# Q34: Nested if: If marks>80: if >90='Outstanding', else='Great'; else if >50='Okay', else 'Fail'.\n",
    "marks_obtained = 55\n",
    "if marks_obtained > 80:\n",
    "    if marks_obtained > 90:\n",
    "        print('Outstanding')\n",
    "    else:\n",
    "        print('Great')\n",
    "elif marks_obtained > 50:\n",
    "    print('Okay')\n",
    "else:\n",
    "    print('Fail')"
   ]
  },
  {
   "cell_type": "code",
   "metadata": {},
   "source": [
    "# Q35: Multi-elif: Weather code: 'S'='Sunny','R'='Rainy','C'='Cloudy','W'='Windy', else='Unknown'.\n",
    "weather_code = 'C'\n",
    "if weather_code == 'S':\n",
    "    print('Sunny')\n",
    "elif weather_code == 'R':\n",
    "    print('Rainy')\n",
    "elif weather_code == 'C':\n",
    "    print('Cloudy')\n",
    "elif weather_code == 'W':\n",
    "    print('Windy')\n",
    "else:\n",
    "    print('Unknown')"
   ]
  },
  {
   "cell_type": "code",
   "metadata": {},
   "source": [
    "# Q36: Nested if: If num>0: if even='Positive Even', else='Positive Odd'; else if num<0='Negative', else 'Zero'.\n",
    "num = 14\n",
    "if num > 0:\n",
    "    if num % 2 == 0:\n",
    "        print('Positive Even')\n",
    "    else:\n",
    "        print('Positive Odd')\n",
    "elif num < 0:\n",
    "    print('Negative')\n",
    "else:\n",
    "    print('Zero')"
   ]
  },
  {
   "cell_type": "code",
   "metadata": {},
   "source": [
    "# Q37: Multi-elif: Year category: <1900='Historic', <2000='20th Century', <2020='Modern', else='Recent'.\n",
    "year = 1985\n",
    "if year < 1900:\n",
    "    print('Historic')\n",
    "elif year < 2000:\n",
    "    print('20th Century')\n",
    "elif year < 2020:\n",
    "    print('Modern')\n",
    "else:\n",
    "    print('Recent')"
   ]
  },
  {
   "cell_type": "code",
   "metadata": {},
   "source": [
    "# Q38: Nested if: If stock_level>100: if >500='Surplus', else='Sufficient'; else if >0='Limited', else 'Out of stock'.\n",
    "stock_level = 50\n",
    "if stock_level > 100:\n",
    "    if stock_level > 500:\n",
    "        print('Surplus')\n",
    "    else:\n",
    "        print('Sufficient')\n",
    "elif stock_level > 0:\n",
    "    print('Limited')\n",
    "else:\n",
    "    print('Out of stock')"
   ]
  },
  {
   "cell_type": "code",
   "metadata": {},
   "source": [
    "# Q39: Multi-elif: Priority level: 1='High',2='Medium',3='Low', else='No priority'.\n",
    "priority = 1\n",
    "if priority == 1:\n",
    "    print('High')\n",
    "elif priority == 2:\n",
    "    print('Medium')\n",
    "elif priority == 3:\n",
    "    print('Low')\n",
    "else:\n",
    "    print('No priority')"
   ]
  },
  {
   "cell_type": "code",
   "metadata": {},
   "source": [
    "# Q40: Nested if: If attempts>3: if >5='Locked Out', else='One last try'; else if >0='Try again', else 'No attempt left'.\n",
    "attempts = 6\n",
    "if attempts > 3:\n",
    "    if attempts > 5:\n",
    "        print('Locked Out')\n",
    "    else:\n",
    "        print('One last try')\n",
    "elif attempts > 0:\n",
    "    print('Try again')\n",
    "else:\n",
    "    print('No attempt left')"
   ]
  },
  {
   "cell_type": "code",
   "metadata": {},
   "source": [
    "# Q41: Multi-elif: Check temperature scale: 'C'='Celsius', 'F'='Fahrenheit', 'K'='Kelvin', else='Unknown'.\n",
    "scale = 'F'\n",
    "if scale == 'C':\n",
    "    print('Celsius')\n",
    "elif scale == 'F':\n",
    "    print('Fahrenheit')\n",
    "elif scale == 'K':\n",
    "    print('Kelvin')\n",
    "else:\n",
    "    print('Unknown')"
   ]
  },
  {
   "cell_type": "code",
   "metadata": {},
   "source": [
    "# Q42: Nested if: If storage>100GB: if >500GB='Large Storage', else='Moderate'; else if >50GB='Small', else 'Minimal'.\n",
    "storage = 60\n",
    "if storage > 100:\n",
    "    if storage > 500:\n",
    "        print('Large Storage')\n",
    "    else:\n",
    "        print('Moderate')\n",
    "elif storage > 50:\n",
    "    print('Small')\n",
    "else:\n",
    "    print('Minimal')"
   ]
  },
  {
   "cell_type": "code",
   "metadata": {},
   "source": [
    "# Q43: Multi-elif: Time of day by hour: <6='Early Morning', <12='Morning', <18='Afternoon', <24='Night'.\n",
    "hour_of_day = 5\n",
    "if hour_of_day < 6:\n",
    "    print('Early Morning')\n",
    "elif hour_of_day < 12:\n",
    "    print('Morning')\n",
    "elif hour_of_day < 18:\n",
    "    print('Afternoon')\n",
    "elif hour_of_day < 24:\n",
    "    print('Night')\n",
    "else:\n",
    "    print('Invalid hour')"
   ]
  },
  {
   "cell_type": "code",
   "metadata": {},
   "source": [
    "# Q44: Nested if: If cpu_usage>70%: if >90%='Overloaded', else='High Load'; else if >30%='Normal', else 'Low Load'.\n",
    "cpu_usage = 95\n",
    "if cpu_usage > 70:\n",
    "    if cpu_usage > 90:\n",
    "        print('Overloaded')\n",
    "    else:\n",
    "        print('High Load')\n",
    "elif cpu_usage > 30:\n",
    "    print('Normal')\n",
    "else:\n",
    "    print('Low Load')"
   ]
  },
  {
   "cell_type": "code",
   "metadata": {},
   "source": [
    "# Q45: Multi-elif: Check feedback char: 'A'='Excellent', 'B'='Good', 'C'='Fair', 'D'='Poor', else='Unknown'.\n",
    "feedback = 'D'\n",
    "if feedback == 'A':\n",
    "    print('Excellent')\n",
    "elif feedback == 'B':\n",
    "    print('Good')\n",
    "elif feedback == 'C':\n",
    "    print('Fair')\n",
    "elif feedback == 'D':\n",
    "    print('Poor')\n",
    "else:\n",
    "    print('Unknown')"
   ]
  },
  {
   "cell_type": "code",
   "metadata": {},
   "source": [
    "# Q46: Nested if: If hours_worked>40: if >60='Excessive OT', else='Overtime'; else if >20='Part-time', else 'Minimal'.\n",
    "hours_worked = 62\n",
    "if hours_worked > 40:\n",
    "    if hours_worked > 60:\n",
    "        print('Excessive OT')\n",
    "    else:\n",
    "        print('Overtime')\n",
    "elif hours_worked > 20:\n",
    "    print('Part-time')\n",
    "else:\n",
    "    print('Minimal')"
   ]
  },
  {
   "cell_type": "code",
   "metadata": {},
   "source": [
    "# Q47: Multi-elif: Product rating: >=4.5='Excellent', >=4='Good', >=3='Average', else='Poor'.\n",
    "product_rating = 3.5\n",
    "if product_rating >= 4.5:\n",
    "    print('Excellent')\n",
    "elif product_rating >= 4:\n",
    "    print('Good')\n",
    "elif product_rating >= 3:\n",
    "    print('Average')\n",
    "else:\n",
    "    print('Poor')"
   ]
  },
  {
   "cell_type": "code",
   "metadata": {},
   "source": [
    "# Q48: Nested if: If grade_level>10: if >12='College', else='High School'; else if >5='Primary', else 'Kindergarten'.\n",
    "grade_level = 11\n",
    "if grade_level > 10:\n",
    "    if grade_level > 12:\n",
    "        print('College')\n",
    "    else:\n",
    "        print('High School')\n",
    "elif grade_level > 5:\n",
    "    print('Primary')\n",
    "else:\n",
    "    print('Kindergarten')"
   ]
  },
  {
   "cell_type": "code",
   "metadata": {},
   "source": [
    "# Q49: Multi-elif: Performance score: >=90='Star', >=75='Good', >=50='Average', else='Needs Improvement'.\n",
    "performance_score = 95\n",
    "if performance_score >= 90:\n",
    "    print('Star')\n",
    "elif performance_score >= 75:\n",
    "    print('Good')\n",
    "elif performance_score >= 50:\n",
    "    print('Average')\n",
    "else:\n",
    "    print('Needs Improvement')"
   ]
  },
  {
   "cell_type": "code",
   "metadata": {},
   "source": [
    "# Q50: Nested if: If balance>10000: if >50000='Wealthy', else='Comfortable'; else if >0='Stable', else 'Debt'.\n",
    "balance = 60000\n",
    "if balance > 10000:\n",
    "    if balance > 50000:\n",
    "        print('Wealthy')\n",
    "    else:\n",
    "        print('Comfortable')\n",
    "elif balance > 0:\n",
    "    print('Stable')\n",
    "else:\n",
    "    print('Debt')"
   ]
  }
 ],
 "metadata": {
  "name": "Practical_If_Else_Nested_Exercises"
 },
 "nbformat": 4,
 "nbformat_minor": 5
}
