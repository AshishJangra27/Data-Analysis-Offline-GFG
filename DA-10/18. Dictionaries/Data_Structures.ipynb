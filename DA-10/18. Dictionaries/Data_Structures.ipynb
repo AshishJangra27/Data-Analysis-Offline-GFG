{
  "nbformat": 4,
  "nbformat_minor": 0,
  "metadata": {
    "colab": {
      "provenance": []
    },
    "kernelspec": {
      "name": "python3",
      "display_name": "Python 3"
    },
    "language_info": {
      "name": "python"
    }
  },
  "cells": [
    {
      "cell_type": "markdown",
      "source": [
        "# **1**. Lists"
      ],
      "metadata": {
        "id": "trJ9kNWSvqM9"
      }
    },
    {
      "cell_type": "code",
      "source": [
        "user_name = 'Akash'\n",
        "phone_no = 92123874128\n",
        "address = 'delhi'\n",
        "batch = 'd-10'\n",
        "email = 'akash@gmail.com'\n",
        "gender = ''\n",
        "dob = ''\n",
        "education_background = ''\n",
        "isWorking = True"
      ],
      "metadata": {
        "id": "Yu-Qk3I4uAxv"
      },
      "execution_count": null,
      "outputs": []
    },
    {
      "cell_type": "code",
      "source": [
        "user_1 = ['Akash',92123874128,'delhi','d-10']"
      ],
      "metadata": {
        "id": "oRNGwLjsxgUR"
      },
      "execution_count": null,
      "outputs": []
    },
    {
      "cell_type": "code",
      "source": [
        "user_1.append(12)"
      ],
      "metadata": {
        "id": "K_B-E8g-w4ky"
      },
      "execution_count": null,
      "outputs": []
    },
    {
      "cell_type": "code",
      "source": [
        "user_1"
      ],
      "metadata": {
        "colab": {
          "base_uri": "https://localhost:8080/"
        },
        "id": "g-uhrbuSwxVm",
        "outputId": "e79f4e63-fcd5-4c20-d611-27f88d56f388"
      },
      "execution_count": null,
      "outputs": [
        {
          "output_type": "execute_result",
          "data": {
            "text/plain": [
              "['Akash', 92123874128, 'delhi', 'd-10', 12, 12, 12, 12, 12, 12]"
            ]
          },
          "metadata": {},
          "execution_count": 28
        }
      ]
    },
    {
      "cell_type": "code",
      "source": [
        "user_1"
      ],
      "metadata": {
        "colab": {
          "base_uri": "https://localhost:8080/"
        },
        "id": "yCSY5wNGzMKr",
        "outputId": "48fc98ef-5e82-4f27-fdcd-a64cb9281f46"
      },
      "execution_count": null,
      "outputs": [
        {
          "output_type": "execute_result",
          "data": {
            "text/plain": [
              "['Akash', 92123874128, 'delhi', 'd-10']"
            ]
          },
          "metadata": {},
          "execution_count": 47
        }
      ]
    },
    {
      "cell_type": "code",
      "source": [
        "user_1[0] = 'Manish'"
      ],
      "metadata": {
        "id": "oprz08wIw_LD"
      },
      "execution_count": null,
      "outputs": []
    },
    {
      "cell_type": "code",
      "source": [
        "user_1"
      ],
      "metadata": {
        "colab": {
          "base_uri": "https://localhost:8080/"
        },
        "id": "jLg_xFn1xFzF",
        "outputId": "4b752e41-1c51-4c91-f682-2a3d18f15bc4"
      },
      "execution_count": null,
      "outputs": [
        {
          "output_type": "execute_result",
          "data": {
            "text/plain": [
              "['Manish', 92123874128, 'delhi', 'd-10']"
            ]
          },
          "metadata": {},
          "execution_count": 50
        }
      ]
    },
    {
      "cell_type": "markdown",
      "source": [
        "### 1.2) Practice List"
      ],
      "metadata": {
        "id": "50cTrD4934tl"
      }
    },
    {
      "cell_type": "markdown",
      "source": [
        "##### 1.2.1) append all the even numbers between 0-100 into the list"
      ],
      "metadata": {
        "id": "zbcwH9dH3Ycx"
      }
    },
    {
      "cell_type": "code",
      "source": [
        "lst = []\n",
        "\n",
        "for i in range(2,100,2):\n",
        "  lst.append(i)\n",
        "\n",
        "print(lst)\n"
      ],
      "metadata": {
        "colab": {
          "base_uri": "https://localhost:8080/"
        },
        "id": "XCrvKF2Y0PMl",
        "outputId": "71f6bdf5-7c53-40ca-9858-5cf91f68b97a"
      },
      "execution_count": null,
      "outputs": [
        {
          "output_type": "stream",
          "name": "stdout",
          "text": [
            "[2, 4, 6, 8, 10, 12, 14, 16, 18, 20, 22, 24, 26, 28, 30, 32, 34, 36, 38, 40, 42, 44, 46, 48, 50, 52, 54, 56, 58, 60, 62, 64, 66, 68, 70, 72, 74, 76, 78, 80, 82, 84, 86, 88, 90, 92, 94, 96, 98]\n"
          ]
        }
      ]
    },
    {
      "cell_type": "markdown",
      "source": [
        "##### 1.2.2) sum of all the elements of a list"
      ],
      "metadata": {
        "id": "0XG7I9A_3dxn"
      }
    },
    {
      "cell_type": "code",
      "source": [
        "s = 0\n",
        "\n",
        "for i in range(len(lst)):\n",
        "  s = s + lst[i]\n",
        "\n",
        "print(s)"
      ],
      "metadata": {
        "colab": {
          "base_uri": "https://localhost:8080/"
        },
        "id": "gSkIFQvo3ntR",
        "outputId": "77677e0d-0026-4311-a222-b2f4b5a43116"
      },
      "execution_count": null,
      "outputs": [
        {
          "output_type": "stream",
          "name": "stdout",
          "text": [
            "2450\n"
          ]
        }
      ]
    },
    {
      "cell_type": "markdown",
      "source": [
        "##### 1.2.3) sum of all the even place elements of a list"
      ],
      "metadata": {
        "id": "yAqO70fa3kvK"
      }
    },
    {
      "cell_type": "code",
      "source": [
        "sum_even = 0\n",
        "\n",
        "for i in range(len(lst)):\n",
        "  if i%2 == 0:\n",
        "    sum_even = sum_even + lst[i]\n",
        "\n",
        "print(sum_even)"
      ],
      "metadata": {
        "colab": {
          "base_uri": "https://localhost:8080/"
        },
        "id": "r8uFfdcb3WbR",
        "outputId": "dc95af87-5102-4024-8323-dff2fe327553"
      },
      "execution_count": null,
      "outputs": [
        {
          "output_type": "stream",
          "name": "stdout",
          "text": [
            "1250\n"
          ]
        }
      ]
    },
    {
      "cell_type": "markdown",
      "source": [
        "##### 1.2.4) sum of all the odd place elements of a list"
      ],
      "metadata": {
        "id": "gN8yZUAo3qYn"
      }
    },
    {
      "cell_type": "code",
      "source": [
        "sum_odd = 0\n",
        "\n",
        "for i in range(len(lst)):\n",
        "  if i%2 != 0:\n",
        "    sum_odd = sum_odd + lst[i]\n",
        "\n",
        "print(sum_odd)"
      ],
      "metadata": {
        "colab": {
          "base_uri": "https://localhost:8080/"
        },
        "id": "j4nar3aZ3WY7",
        "outputId": "a59e8114-1137-4695-e421-faad8a9d92c4"
      },
      "execution_count": null,
      "outputs": [
        {
          "output_type": "stream",
          "name": "stdout",
          "text": [
            "1200\n"
          ]
        }
      ]
    },
    {
      "cell_type": "markdown",
      "source": [
        "##### 1.2.5) difference between even and off place element sum of a list"
      ],
      "metadata": {
        "id": "pk98fcEe3tf4"
      }
    },
    {
      "cell_type": "code",
      "source": [
        "print(sum_even - sum_odd)"
      ],
      "metadata": {
        "colab": {
          "base_uri": "https://localhost:8080/"
        },
        "id": "kOQ-8Af83WWE",
        "outputId": "f0d324cc-4c77-4503-fcb3-2ddd76e32a52"
      },
      "execution_count": null,
      "outputs": [
        {
          "output_type": "stream",
          "name": "stdout",
          "text": [
            "50\n"
          ]
        }
      ]
    },
    {
      "cell_type": "code",
      "source": [
        "n = int(input('enter a number : '))\n",
        "\n",
        "# 5 ,100, 12300, 1287782231\n",
        "\n",
        "s = 0\n",
        "for i in range(n+1):\n",
        "  s += i\n",
        "print(s)"
      ],
      "metadata": {
        "colab": {
          "base_uri": "https://localhost:8080/"
        },
        "id": "smBElPJa3WTu",
        "outputId": "05042d34-6376-4111-a7da-b1058cce8c7d"
      },
      "execution_count": null,
      "outputs": [
        {
          "output_type": "stream",
          "name": "stdout",
          "text": [
            "enter a number : 6\n",
            "21\n"
          ]
        }
      ]
    },
    {
      "cell_type": "code",
      "source": [
        "1 = 1\n",
        "2 = 3\n",
        "3 = 6 (3*2)\n",
        "4 = 10 (4*2.5)\n",
        "5 = 15 (5*3)\n",
        "6 = 21 (6*3.5)\n",
        "7 = 28 (7*4)\n",
        "8 = 36 (8*4.5)\n",
        "\n",
        "3 = 6 (3*2)\n",
        "5 = 15 (5*3)\n",
        "7 = 28 (7*4)\n",
        "\n"
      ],
      "metadata": {
        "colab": {
          "base_uri": "https://localhost:8080/",
          "height": 106
        },
        "id": "BWZMroVS-BmY",
        "outputId": "918ae0dc-91a1-40df-ccda-86c496566c30"
      },
      "execution_count": null,
      "outputs": [
        {
          "output_type": "error",
          "ename": "SyntaxError",
          "evalue": "cannot assign to literal here. Maybe you meant '==' instead of '='? (ipython-input-86-2188391950.py, line 1)",
          "traceback": [
            "\u001b[0;36m  File \u001b[0;32m\"/tmp/ipython-input-86-2188391950.py\"\u001b[0;36m, line \u001b[0;32m1\u001b[0m\n\u001b[0;31m    1 = 1\u001b[0m\n\u001b[0m    ^\u001b[0m\n\u001b[0;31mSyntaxError\u001b[0m\u001b[0;31m:\u001b[0m cannot assign to literal here. Maybe you meant '==' instead of '='?\n"
          ]
        }
      ]
    },
    {
      "cell_type": "code",
      "source": [
        "n = 8\n",
        "\n",
        "print(n * ((n//2) + .5))"
      ],
      "metadata": {
        "colab": {
          "base_uri": "https://localhost:8080/"
        },
        "id": "mlfVq6sO3WQr",
        "outputId": "3b1b0675-b360-4c85-ef02-d62fce14d5db"
      },
      "execution_count": null,
      "outputs": [
        {
          "output_type": "stream",
          "name": "stdout",
          "text": [
            "36.0\n"
          ]
        }
      ]
    },
    {
      "cell_type": "code",
      "source": [
        "n = 26598326498239841\n",
        "\n",
        "print(n * ((n//2) + 1))"
      ],
      "metadata": {
        "colab": {
          "base_uri": "https://localhost:8080/"
        },
        "id": "X74I_hjvAW0k",
        "outputId": "cab54364-10af-4934-e9f8-ce16dcd0007c"
      },
      "execution_count": null,
      "outputs": [
        {
          "output_type": "execute_result",
          "data": {
            "text/plain": [
              "5"
            ]
          },
          "metadata": {},
          "execution_count": 91
        }
      ]
    },
    {
      "cell_type": "code",
      "source": [
        "n = 6\n",
        "print(n*(n+1)//2)"
      ],
      "metadata": {
        "colab": {
          "base_uri": "https://localhost:8080/"
        },
        "id": "jbb4fYCTBlIU",
        "outputId": "be7e2992-bf89-429d-bc10-921b8078393e"
      },
      "execution_count": null,
      "outputs": [
        {
          "output_type": "stream",
          "name": "stdout",
          "text": [
            "21\n"
          ]
        }
      ]
    },
    {
      "cell_type": "markdown",
      "source": [
        "### 1.3) Assignment List"
      ],
      "metadata": {
        "id": "hxnR90qc3_43"
      }
    },
    {
      "cell_type": "markdown",
      "metadata": {
        "id": "6e7ebd6b"
      },
      "source": [
        "Here are some practice questions on basic 1D lists in Python:\n",
        "\n",
        "```fruits = ['apple', 'banana', 'cherry', 'date', 'grape', 'mango', 'orange', 'strawberry']```\n",
        "\n",
        "\n",
        "1. **Creating and Accessing Lists:**\n",
        "   - Create a list named `fruits` containing the strings 'apple', 'banana', 'cherry', and 'date'.\n",
        "   - Print the first element of the `fruits` list.\n",
        "   - Print the last element of the `fruits` list.\n",
        "   - Print the elements from the second to the third element (inclusive) of the `fruits` list using slicing.\n",
        "\n",
        "2. **Modifying Lists:**\n",
        "   - Add the string 'grape' to the end of the `fruits` list.\n",
        "   - Change the second element of the `fruits` list to 'blueberry'.\n",
        "   - Insert the string 'orange' at the beginning of the `fruits` list.\n",
        "   - Remove the element 'cherry' from the `fruits` list.\n",
        "\n",
        "3. **List Operations:**\n",
        "   - Create a list of numbers from 1 to 10.\n",
        "   - Find the length of the list of numbers.\n",
        "   - Find the maximum value in the list of numbers.\n",
        "   - Find the minimum value in the list of numbers.\n",
        "   - Calculate the sum of all numbers in the list.\n",
        "\n",
        "4. **Iterating through Lists:**\n",
        "   - Iterate through the `fruits` list and print each fruit on a new line.\n",
        "   - Iterate through the list of numbers and print only the even numbers.\n",
        "\n",
        "\n",
        "5. **Checking Membership:**\n",
        "   - Check if 'banana' is present in the `fruits` list.\n",
        "   - Check if 'kiwi' is present in the `fruits` list."
      ]
    },
    {
      "cell_type": "code",
      "metadata": {
        "id": "CkZ02W0f-Vw6"
      },
      "source": [
        "fruits = ['apple', 'banana', 'cherry', 'date', 'grape', 'mango', 'orange', 'strawberry']\n",
        "print(fruits)"
      ],
      "execution_count": null,
      "outputs": []
    },
    {
      "cell_type": "code",
      "source": [
        "da_10   = [['Akash',[92123874128,4123121],'delhi','d-10'],\n",
        "           ['Akash',92123874128,'delhi','d-10'],\n",
        "           ['Akash',92123874128,'delhi','d-10'],\n",
        "           ['Akash',92123874128,'delhi','d-10'],\n",
        "           ['Akash',92123874128,'delhi','d-10'],\n",
        "           ['Akash',92123874128,'delhi','d-10'],\n",
        "           ['Akash',92123874128,'delhi','d-10'],\n",
        "           ['Akash',92123874128,'delhi','d-10']]"
      ],
      "metadata": {
        "id": "8YWU5Kwq1SRA"
      },
      "execution_count": null,
      "outputs": []
    },
    {
      "cell_type": "code",
      "source": [
        "lst = [[1,2,3],\n",
        "       [4,5,6],\n",
        "       [7,8,9]]\n",
        "\n",
        "# 1. find the sum of all teh elements of this list\n",
        "# 2. find the sum elements row wise\n",
        "# 3. find the sum elements column wise\n",
        "# 4. find the sum elements left diagonal wise\n",
        "# 5. find the sum elements right diagonal wise\n",
        "# 6. find the sum elements both the diagonal"
      ],
      "metadata": {
        "id": "Yb89-x3NDFDs"
      },
      "execution_count": null,
      "outputs": []
    },
    {
      "cell_type": "code",
      "source": [
        "lst = [[1,2,3,4],\n",
        "       [4,5,6,6],\n",
        "       [7,8,9,4],\n",
        "       [7,8,9,4]]"
      ],
      "metadata": {
        "id": "ozieg1LTDId5"
      },
      "execution_count": null,
      "outputs": []
    },
    {
      "cell_type": "markdown",
      "source": [
        "# **2**. Dictionary"
      ],
      "metadata": {
        "id": "z_G0Quwqm-q4"
      }
    },
    {
      "cell_type": "code",
      "source": [
        "lst = [12,12.5,'AJ1',1,1,11,1,True]"
      ],
      "metadata": {
        "id": "Wi3RPgVum-YZ"
      },
      "execution_count": 10,
      "outputs": []
    },
    {
      "cell_type": "code",
      "source": [
        "user_name = 'Akash'\n",
        "phone_no = 92123874128\n",
        "address = 'delhi'\n",
        "batch = 'd-10'\n",
        "email = 'akash@gmail.com'\n",
        "gender = ''\n",
        "dob = ''\n",
        "education_background = ''\n",
        "isWorking = True\n",
        "\n",
        "dct = {'roll_no' : 101, 'roll_no' : 102, 'name' : 'Manish', 'address' : 'noida', 'phone' : 1269841212}"
      ],
      "metadata": {
        "id": "qILaJJrCnWTS"
      },
      "execution_count": 53,
      "outputs": []
    },
    {
      "cell_type": "code",
      "source": [
        "dct = {101 : {'name' : 'a', 'address' : 'noida', 'phone' : [1269841212], 'marks' : {'eng' : 56, 'hindi':67,'maths' : 88}},\n",
        "       102 : {'name' : 'b', 'address' : 'noida', 'phone' : [1269841212], 'marks' : {'eng' : 56, 'hindi':67,'maths' : 88}},\n",
        "       103 : {'name' : 'c', 'address' : 'noida', 'phone' : [1269841212], 'marks' : {'eng' : 56, 'hindi':67,'maths' : 88}},\n",
        "       104 : {'name' : 'd', 'address' : 'noida', 'phone' : [1269841212], 'marks' : {'eng' : 56, 'hindi':67,'maths' : 88}},\n",
        "       105 : {'name' : 'e', 'address' : 'noida', 'phone' : [1269841212], 'marks' : {'eng' : 56, 'hindi':67,'maths' : 88}}}"
      ],
      "metadata": {
        "id": "-J-effqwqTY6"
      },
      "execution_count": 86,
      "outputs": []
    },
    {
      "cell_type": "code",
      "source": [
        "dct"
      ],
      "metadata": {
        "colab": {
          "base_uri": "https://localhost:8080/"
        },
        "id": "T7-t4je1nXfj",
        "outputId": "285856ca-48ad-43df-b62a-fa7ae2ed14b7"
      },
      "execution_count": 87,
      "outputs": [
        {
          "output_type": "execute_result",
          "data": {
            "text/plain": [
              "{101: {'name': 'a',\n",
              "  'address': 'noida',\n",
              "  'phone': [1269841212],\n",
              "  'marks': {'eng': 56, 'hindi': 67, 'maths': 88}},\n",
              " 102: {'name': 'b',\n",
              "  'address': 'noida',\n",
              "  'phone': [1269841212],\n",
              "  'marks': {'eng': 56, 'hindi': 67, 'maths': 88}},\n",
              " 103: {'name': 'c',\n",
              "  'address': 'noida',\n",
              "  'phone': [1269841212],\n",
              "  'marks': {'eng': 56, 'hindi': 67, 'maths': 88}},\n",
              " 104: {'name': 'd',\n",
              "  'address': 'noida',\n",
              "  'phone': [1269841212],\n",
              "  'marks': {'eng': 56, 'hindi': 67, 'maths': 88}},\n",
              " 105: {'name': 'e',\n",
              "  'address': 'noida',\n",
              "  'phone': [1269841212],\n",
              "  'marks': {'eng': 56, 'hindi': 67, 'maths': 88}}}"
            ]
          },
          "metadata": {},
          "execution_count": 87
        }
      ]
    },
    {
      "cell_type": "code",
      "source": [
        "len(1269841212)"
      ],
      "metadata": {
        "colab": {
          "base_uri": "https://localhost:8080/",
          "height": 141
        },
        "id": "J7yqJNkrurQ7",
        "outputId": "acf7f36b-d005-420c-f615-1f5932924de4"
      },
      "execution_count": 83,
      "outputs": [
        {
          "output_type": "error",
          "ename": "TypeError",
          "evalue": "object of type 'int' has no len()",
          "traceback": [
            "\u001b[0;31m---------------------------------------------------------------------------\u001b[0m",
            "\u001b[0;31mTypeError\u001b[0m                                 Traceback (most recent call last)",
            "\u001b[0;32m/tmp/ipython-input-83-4089780454.py\u001b[0m in \u001b[0;36m<cell line: 0>\u001b[0;34m()\u001b[0m\n\u001b[0;32m----> 1\u001b[0;31m \u001b[0mlen\u001b[0m\u001b[0;34m(\u001b[0m\u001b[0;36m1269841212\u001b[0m\u001b[0;34m)\u001b[0m\u001b[0;34m\u001b[0m\u001b[0;34m\u001b[0m\u001b[0m\n\u001b[0m",
            "\u001b[0;31mTypeError\u001b[0m: object of type 'int' has no len()"
          ]
        }
      ]
    },
    {
      "cell_type": "code",
      "source": [
        "{'name' : 'Manish', 'address' : 'noida', 'phone' : 1269841212}"
      ],
      "metadata": {
        "id": "nwI1uJnVpQW6"
      },
      "execution_count": 32,
      "outputs": []
    },
    {
      "cell_type": "code",
      "source": [
        "len([{1:'a'}, {2:'b'}])"
      ],
      "metadata": {
        "colab": {
          "base_uri": "https://localhost:8080/"
        },
        "id": "XAM-_7iQptjz",
        "outputId": "45d76054-2301-4a0f-9537-0ca0497593ac"
      },
      "execution_count": 75,
      "outputs": [
        {
          "output_type": "execute_result",
          "data": {
            "text/plain": [
              "2"
            ]
          },
          "metadata": {},
          "execution_count": 75
        }
      ]
    },
    {
      "cell_type": "code",
      "source": [],
      "metadata": {
        "id": "0CEvNEpVuMiH"
      },
      "execution_count": null,
      "outputs": []
    },
    {
      "cell_type": "code",
      "metadata": {
        "colab": {
          "base_uri": "https://localhost:8080/",
          "height": 36
        },
        "id": "33abc698",
        "outputId": "a4c363ab-14c1-4da2-dcbc-99d30ea6e82d"
      },
      "source": [
        "dct = {101: {'name': 'Alice Johnson', 'address': '123 Main St, Anytown, CA 91234', 'phone': ['555-123-4567'], 'marks': {'eng': 85, 'hindi': 78, 'maths': 92}},\n",
        "       102: {'name': 'Bob Williams', 'address': '456 Oak Ave, Somewhere, TX 75001', 'phone': ['555-987-6543'], 'marks': {'eng': 70, 'hindi': 88, 'maths': 75}},\n",
        "       103: {'name': 'Charlie Brown', 'address': '789 Pine Ln, Elsewhere, FL 33101', 'phone': ['555-555-1212'], 'marks': {'eng': 95, 'hindi': 90, 'maths': 80}},\n",
        "       104: {'name': 'Diana Miller', 'address': '101 Maple Dr, Anytime, NY 10001', 'phone': ['555-222-3333'], 'marks': {'eng': 88, 'hindi': 75, 'maths': 96}},\n",
        "       105: {'name': 'Ethan Davis', 'address': '222 Elm Ct, Anywhere, IL 60601', 'phone': ['555-444-5555'], 'marks': {'eng': 78, 'hindi': 82, 'maths': 88}}}\n",
        "\n",
        "\n",
        "'-----------------'\n",
        "'Roll no     : 1'\n",
        "'Name        : Alice'\n",
        "'Total Marks : 215'\n",
        "'Percentage  : 76%'\n",
        "\n",
        "'-----------------'\n",
        "\n",
        "'Roll no     : 2'\n",
        "'Name        : Bob'\n",
        "'Total Marks : 210'\n",
        "'Percentage  : 72%'\n",
        "'-----------------'"
      ],
      "execution_count": 89,
      "outputs": [
        {
          "output_type": "execute_result",
          "data": {
            "text/plain": [
              "'-----------------'"
            ],
            "application/vnd.google.colaboratory.intrinsic+json": {
              "type": "string"
            }
          },
          "metadata": {},
          "execution_count": 89
        }
      ]
    },
    {
      "cell_type": "code",
      "source": [
        "dct"
      ],
      "metadata": {
        "colab": {
          "base_uri": "https://localhost:8080/"
        },
        "id": "y7yA7vsv0ILd",
        "outputId": "0a47aae5-a183-464c-d490-f396805e9530"
      },
      "execution_count": 120,
      "outputs": [
        {
          "output_type": "execute_result",
          "data": {
            "text/plain": [
              "{101: {'name': 'Alice Johnson',\n",
              "  'address': '123 Main St, Anytown, CA 91234',\n",
              "  'phone': ['555-123-4567'],\n",
              "  'marks': {'eng': 85, 'hindi': 78, 'maths': 92}},\n",
              " 102: {'name': 'Bob Williams',\n",
              "  'address': '456 Oak Ave, Somewhere, TX 75001',\n",
              "  'phone': ['555-987-6543'],\n",
              "  'marks': {'eng': 70, 'hindi': 88, 'maths': 75}},\n",
              " 103: {'name': 'Charlie Brown',\n",
              "  'address': '789 Pine Ln, Elsewhere, FL 33101',\n",
              "  'phone': ['555-555-1212'],\n",
              "  'marks': {'eng': 95, 'hindi': 90, 'maths': 80}},\n",
              " 104: {'name': 'Diana Miller',\n",
              "  'address': '101 Maple Dr, Anytime, NY 10001',\n",
              "  'phone': ['555-222-3333'],\n",
              "  'marks': {'eng': 88, 'hindi': 75, 'maths': 96}},\n",
              " 105: {'name': 'Ethan Davis',\n",
              "  'address': '222 Elm Ct, Anywhere, IL 60601',\n",
              "  'phone': ['555-444-5555'],\n",
              "  'marks': {'eng': 78, 'hindi': 82, 'maths': 88}}}"
            ]
          },
          "metadata": {},
          "execution_count": 120
        }
      ]
    },
    {
      "cell_type": "code",
      "source": [
        "for roll_no in dct.keys():\n",
        "  print(roll_no, \"|\", dct[roll_no]['name'] , \"|\", dct[roll_no]['marks'].values())"
      ],
      "metadata": {
        "colab": {
          "base_uri": "https://localhost:8080/"
        },
        "id": "tQeiT0Ev6D9E",
        "outputId": "e095832e-3c4d-4922-f19b-684cb9157bb6"
      },
      "execution_count": 145,
      "outputs": [
        {
          "output_type": "stream",
          "name": "stdout",
          "text": [
            "101 | Alice Johnson | dict_values([85, 78, 92])\n",
            "102 | Bob Williams | dict_values([70, 88, 75])\n",
            "103 | Charlie Brown | dict_values([95, 90, 80])\n",
            "104 | Diana Miller | dict_values([88, 75, 96])\n",
            "105 | Ethan Davis | dict_values([78, 82, 88])\n"
          ]
        }
      ]
    },
    {
      "cell_type": "code",
      "source": [
        "for key in dct.keys():\n",
        "\n",
        "  total_marks = sum(list(dct[key]['marks'].values()))\n",
        "  no_of_exams = len(list(dct[key]['marks'].values()))\n",
        "  percentage = round((total_marks/no_of_exams),2)\n",
        "\n",
        "\n",
        "  dct[key]['score'] = percentage\n",
        "\n",
        "  print('Roll No     : ', key)\n",
        "  print('Name        : ', dct[key]['name'].split(' ')[0])\n",
        "  print('Total Marks : ', total_marks)\n",
        "  print('Percentage  : ', dct[key]['score'], \"%\")\n",
        "  print('-'*25)"
      ],
      "metadata": {
        "colab": {
          "base_uri": "https://localhost:8080/"
        },
        "id": "zH_YsTrJv7x3",
        "outputId": "036d8401-821b-41f0-b852-b48f2a746b1a"
      },
      "execution_count": 133,
      "outputs": [
        {
          "output_type": "stream",
          "name": "stdout",
          "text": [
            "Roll No     :  101\n",
            "Name        :  Alice\n",
            "Total Marks :  255\n",
            "Percentage  :  85.0 %\n",
            "-------------------------\n",
            "Roll No     :  102\n",
            "Name        :  Bob\n",
            "Total Marks :  233\n",
            "Percentage  :  77.67 %\n",
            "-------------------------\n",
            "Roll No     :  103\n",
            "Name        :  Charlie\n",
            "Total Marks :  265\n",
            "Percentage  :  88.33 %\n",
            "-------------------------\n",
            "Roll No     :  104\n",
            "Name        :  Diana\n",
            "Total Marks :  259\n",
            "Percentage  :  86.33 %\n",
            "-------------------------\n",
            "Roll No     :  105\n",
            "Name        :  Ethan\n",
            "Total Marks :  248\n",
            "Percentage  :  82.67 %\n",
            "-------------------------\n"
          ]
        }
      ]
    },
    {
      "cell_type": "code",
      "source": [
        "dct"
      ],
      "metadata": {
        "colab": {
          "base_uri": "https://localhost:8080/"
        },
        "id": "wDOE19Jt4-rB",
        "outputId": "a59433b8-4b07-4676-a4bf-07e70be0df12"
      },
      "execution_count": 134,
      "outputs": [
        {
          "output_type": "execute_result",
          "data": {
            "text/plain": [
              "{101: {'name': 'Alice Johnson',\n",
              "  'address': '123 Main St, Anytown, CA 91234',\n",
              "  'phone': ['555-123-4567'],\n",
              "  'marks': {'eng': 85, 'hindi': 78, 'maths': 92},\n",
              "  'score': 85.0},\n",
              " 102: {'name': 'Bob Williams',\n",
              "  'address': '456 Oak Ave, Somewhere, TX 75001',\n",
              "  'phone': ['555-987-6543'],\n",
              "  'marks': {'eng': 70, 'hindi': 88, 'maths': 75},\n",
              "  'score': 77.67},\n",
              " 103: {'name': 'Charlie Brown',\n",
              "  'address': '789 Pine Ln, Elsewhere, FL 33101',\n",
              "  'phone': ['555-555-1212'],\n",
              "  'marks': {'eng': 95, 'hindi': 90, 'maths': 80},\n",
              "  'score': 88.33},\n",
              " 104: {'name': 'Diana Miller',\n",
              "  'address': '101 Maple Dr, Anytime, NY 10001',\n",
              "  'phone': ['555-222-3333'],\n",
              "  'marks': {'eng': 88, 'hindi': 75, 'maths': 96},\n",
              "  'score': 86.33},\n",
              " 105: {'name': 'Ethan Davis',\n",
              "  'address': '222 Elm Ct, Anywhere, IL 60601',\n",
              "  'phone': ['555-444-5555'],\n",
              "  'marks': {'eng': 78, 'hindi': 82, 'maths': 88},\n",
              "  'score': 82.67}}"
            ]
          },
          "metadata": {},
          "execution_count": 134
        }
      ]
    },
    {
      "cell_type": "code",
      "source": [
        "for i in dct.keys():\n",
        "    print(\"Roll_No:\", i)\n",
        "\n",
        "    for j in dct[i].keys():\n",
        "        print(j, dct[i][j])\n",
        "        total_marks=0\n",
        "        if(j=='marks'):\n",
        "            for k in dct[i][j].keys():\n",
        "                print(k, dct[i][j][k], end=\", \")\n",
        "                total_marks+=dct[i][j][k]\n",
        "            print(\"\\nTotal Marks: \", total_marks)\n",
        "            perct=(total_marks/300)*100\n",
        "            print(\"Percentage: \", perct)\n",
        "    print(\"----------------------------------\\n\")"
      ],
      "metadata": {
        "id": "Xqvr12Gi48pi"
      },
      "execution_count": null,
      "outputs": []
    },
    {
      "cell_type": "code",
      "source": [
        "dct[101]['phone']"
      ],
      "metadata": {
        "colab": {
          "base_uri": "https://localhost:8080/"
        },
        "id": "qXKOugoov9Z3",
        "outputId": "34d79433-2228-4199-d1f9-265ab4052a62"
      },
      "execution_count": 135,
      "outputs": [
        {
          "output_type": "execute_result",
          "data": {
            "text/plain": [
              "['555-123-4567']"
            ]
          },
          "metadata": {},
          "execution_count": 135
        }
      ]
    },
    {
      "cell_type": "code",
      "source": [
        "'Ashish Kumar Jangra'.split(' ')[0]"
      ],
      "metadata": {
        "colab": {
          "base_uri": "https://localhost:8080/",
          "height": 36
        },
        "id": "YtkdYYKV0g2C",
        "outputId": "4ef0837e-d3ea-470a-a750-0192db40f71b"
      },
      "execution_count": 126,
      "outputs": [
        {
          "output_type": "execute_result",
          "data": {
            "text/plain": [
              "'Ashish'"
            ],
            "application/vnd.google.colaboratory.intrinsic+json": {
              "type": "string"
            }
          },
          "metadata": {},
          "execution_count": 126
        }
      ]
    },
    {
      "cell_type": "code",
      "source": [
        "data = {'name': 'Alice Johnson',\n",
        " 'address': '123 Main St, Anytown, CA 91234',\n",
        " 'phone': ['555-123-4567'],\n",
        " 'marks': {'eng': 85, 'hindi': 78, 'maths': 92}}\n",
        "\n",
        "data['marks'] = 90\n",
        "\n",
        "data\n"
      ],
      "metadata": {
        "colab": {
          "base_uri": "https://localhost:8080/"
        },
        "id": "mWBFPBT5zEGf",
        "outputId": "e4996b5e-3f85-4c0d-e47b-11d121f66119"
      },
      "execution_count": 130,
      "outputs": [
        {
          "output_type": "execute_result",
          "data": {
            "text/plain": [
              "{'name': 'Alice Johnson',\n",
              " 'address': '123 Main St, Anytown, CA 91234',\n",
              " 'phone': ['555-123-4567'],\n",
              " 'marks': 90}"
            ]
          },
          "metadata": {},
          "execution_count": 130
        }
      ]
    },
    {
      "cell_type": "code",
      "source": [],
      "metadata": {
        "id": "CBW91bnk2IV4"
      },
      "execution_count": null,
      "outputs": []
    },
    {
      "cell_type": "code",
      "source": [],
      "metadata": {
        "id": "I4obNmbw2ITj"
      },
      "execution_count": null,
      "outputs": []
    },
    {
      "cell_type": "code",
      "source": [],
      "metadata": {
        "id": "mnQu1veQ2IQ9"
      },
      "execution_count": null,
      "outputs": []
    },
    {
      "cell_type": "code",
      "source": [
        "lst_1 = [[1,2,3],\n",
        "         [3,4,5],\n",
        "         [4,5,6]]\n",
        "\n",
        "\n",
        "lst_2 = [[1,2,3]]\n",
        "\n"
      ],
      "metadata": {
        "id": "yIemweHx1Fi5"
      },
      "execution_count": null,
      "outputs": []
    }
  ]
}