{
  "nbformat": 4,
  "nbformat_minor": 0,
  "metadata": {
    "colab": {
      "provenance": []
    },
    "kernelspec": {
      "name": "python3",
      "display_name": "Python 3"
    },
    "language_info": {
      "name": "python"
    }
  },
  "cells": [
    {
      "cell_type": "markdown",
      "source": [
        "### 1. Introduction to Python"
      ],
      "metadata": {
        "id": "g-J9NlSgXFCu"
      }
    },
    {
      "cell_type": "markdown",
      "source": [
        "#####  1.1) Hello World"
      ],
      "metadata": {
        "id": "-26iqU8HXoxz"
      }
    },
    {
      "cell_type": "code",
      "source": [
        "print('Hello World')"
      ],
      "metadata": {
        "colab": {
          "base_uri": "https://localhost:8080/"
        },
        "id": "fzxIxbNeOo-Q",
        "outputId": "a40eb78b-86e4-4fa3-b774-6858fbb0a11b"
      },
      "execution_count": null,
      "outputs": [
        {
          "output_type": "stream",
          "name": "stdout",
          "text": [
            "Hello World\n"
          ]
        }
      ]
    },
    {
      "cell_type": "markdown",
      "source": [
        "#### 1.2) Dealing with Datatypes"
      ],
      "metadata": {
        "id": "ocIhEbAPXuYr"
      }
    },
    {
      "cell_type": "markdown",
      "source": [
        "1.2.1) int"
      ],
      "metadata": {
        "id": "Fj3XjpDlYNac"
      }
    },
    {
      "cell_type": "code",
      "source": [
        "print(type(12))\n",
        "print(type(-12))\n",
        "print(type(0))"
      ],
      "metadata": {
        "colab": {
          "base_uri": "https://localhost:8080/"
        },
        "id": "0oQQFXe1OpCS",
        "outputId": "10c28a39-5ced-4593-ab14-471be883356f"
      },
      "execution_count": null,
      "outputs": [
        {
          "output_type": "stream",
          "name": "stdout",
          "text": [
            "<class 'int'>\n",
            "<class 'int'>\n",
            "<class 'int'>\n"
          ]
        }
      ]
    },
    {
      "cell_type": "markdown",
      "source": [
        "1.2.2) float"
      ],
      "metadata": {
        "id": "tOzVnlO9Yp_r"
      }
    },
    {
      "cell_type": "code",
      "source": [
        "print(type(12.5))\n",
        "print(type(0.000000001))\n",
        "print(type(0.0))"
      ],
      "metadata": {
        "colab": {
          "base_uri": "https://localhost:8080/"
        },
        "id": "uVq09u8WOpE0",
        "outputId": "a75225f3-3c38-4a8e-a74a-4fc02c162e96"
      },
      "execution_count": null,
      "outputs": [
        {
          "output_type": "stream",
          "name": "stdout",
          "text": [
            "<class 'float'>\n",
            "<class 'float'>\n",
            "<class 'float'>\n"
          ]
        }
      ]
    },
    {
      "cell_type": "markdown",
      "source": [
        "1.2.3) string"
      ],
      "metadata": {
        "id": "P7PXvQ9IYxRo"
      }
    },
    {
      "cell_type": "code",
      "source": [
        "print(type('A'))\n",
        "print(type('Ashish Jangra'))\n",
        "print(type('Ashish Jangra is a data scince mentor at gfg'))\n",
        "print(type('5.5'))\n",
        "print(type('True'))"
      ],
      "metadata": {
        "colab": {
          "base_uri": "https://localhost:8080/"
        },
        "id": "oiPk8yUXOpHh",
        "outputId": "ee7053d7-debf-427d-a123-3800f3ce8413"
      },
      "execution_count": null,
      "outputs": [
        {
          "output_type": "stream",
          "name": "stdout",
          "text": [
            "<class 'str'>\n",
            "<class 'str'>\n",
            "<class 'str'>\n",
            "<class 'str'>\n",
            "<class 'str'>\n"
          ]
        }
      ]
    },
    {
      "cell_type": "markdown",
      "source": [
        "1.2.4) boolean"
      ],
      "metadata": {
        "id": "VnS1GI6tZSeW"
      }
    },
    {
      "cell_type": "code",
      "source": [
        "print(type(True))\n",
        "print(type(False))"
      ],
      "metadata": {
        "colab": {
          "base_uri": "https://localhost:8080/"
        },
        "id": "-j3ELzheY5B5",
        "outputId": "ebc24603-4bd6-4305-8cb2-341a0cfd9c88"
      },
      "execution_count": null,
      "outputs": [
        {
          "output_type": "stream",
          "name": "stdout",
          "text": [
            "<class 'bool'>\n",
            "<class 'bool'>\n"
          ]
        }
      ]
    },
    {
      "cell_type": "markdown",
      "source": [
        "#### 1.3) Operators"
      ],
      "metadata": {
        "id": "YAbCFzAaaeIT"
      }
    },
    {
      "cell_type": "markdown",
      "source": [
        "1.3.1) Arithmetic Operator"
      ],
      "metadata": {
        "id": "9cmWZ02nbNof"
      }
    },
    {
      "cell_type": "code",
      "source": [
        "print('--INT--')\n",
        "print(2+3)\n",
        "print(2-3)\n",
        "print(3/2)\n",
        "print(3//2)\n",
        "print(3%2)\n",
        "print(2*3)\n",
        "print(2**3)\n",
        "\n",
        "print()\n",
        "print()\n",
        "print()\n",
        "print('--STR--')\n",
        "print('A' + 'A')\n",
        "print('Ashish' * 3)\n",
        "\n",
        "print()\n",
        "print()\n",
        "print()\n",
        "print('--Bool--')\n",
        "\n",
        "print(True + True)\n",
        "print(True + False)\n",
        "print(False + True)\n",
        "print(False + False)\n",
        "print('-'*5)\n",
        "\n",
        "print(True * True)\n",
        "print(True * False)\n",
        "print(False * True)\n",
        "print(False * False)"
      ],
      "metadata": {
        "colab": {
          "base_uri": "https://localhost:8080/"
        },
        "id": "6Wf4de-4ZzTm",
        "outputId": "2792fe4f-3408-4174-acfb-56e964e76238"
      },
      "execution_count": null,
      "outputs": [
        {
          "output_type": "stream",
          "name": "stdout",
          "text": [
            "--INT--\n",
            "5\n",
            "-1\n",
            "1.5\n",
            "1\n",
            "1\n",
            "6\n",
            "8\n",
            "\n",
            "\n",
            "\n",
            "--STR--\n",
            "AA\n",
            "AshishAshishAshish\n",
            "\n",
            "\n",
            "\n",
            "--Bool--\n",
            "2\n",
            "1\n",
            "1\n",
            "0\n",
            "-----\n",
            "1\n",
            "0\n",
            "0\n",
            "0\n"
          ]
        }
      ]
    },
    {
      "cell_type": "markdown",
      "source": [
        "1.3.2) Comparison Operators"
      ],
      "metadata": {
        "id": "1ei3wqnWeoRB"
      }
    },
    {
      "cell_type": "code",
      "source": [
        "print(2>3)\n",
        "print(2<3)\n",
        "print(2>=3)\n",
        "print(2<=3)\n",
        "print(2==3)\n",
        "print(2!=3)\n",
        "\n",
        "print(2=='2')\n",
        "print(1 == True)\n",
        "print(100 == True*100)\n"
      ],
      "metadata": {
        "colab": {
          "base_uri": "https://localhost:8080/"
        },
        "id": "_uNsLhyfZ0_N",
        "outputId": "a3545faf-f057-4e91-ff29-ed532d91999e"
      },
      "execution_count": null,
      "outputs": [
        {
          "output_type": "stream",
          "name": "stdout",
          "text": [
            "False\n",
            "True\n",
            "False\n",
            "True\n",
            "False\n",
            "True\n"
          ]
        }
      ]
    },
    {
      "cell_type": "markdown",
      "source": [
        "1.3.3) Logical Operators"
      ],
      "metadata": {
        "id": "gJ8WCu7Eg0oG"
      }
    },
    {
      "cell_type": "code",
      "source": [
        "print(True and True)\n",
        "print(True and False)\n",
        "print(False and True)\n",
        "print(False and False)\n",
        "\n",
        "print(True or True)\n",
        "print(True or False)\n",
        "print(False or True)\n",
        "print(False or False)\n",
        "\n",
        "print(not(True))"
      ],
      "metadata": {
        "colab": {
          "base_uri": "https://localhost:8080/"
        },
        "id": "yPbmis-Wc9jd",
        "outputId": "6bbdc0fb-2887-4d04-a7d2-9674b7334019"
      },
      "execution_count": null,
      "outputs": [
        {
          "output_type": "stream",
          "name": "stdout",
          "text": [
            "True\n",
            "False\n",
            "False\n",
            "False\n",
            "True\n",
            "True\n",
            "True\n",
            "False\n",
            "False\n"
          ]
        }
      ]
    },
    {
      "cell_type": "markdown",
      "source": [
        "#### 1.4) Typecasting"
      ],
      "metadata": {
        "id": "1b5NBzVjhqpG"
      }
    },
    {
      "cell_type": "markdown",
      "source": [
        "1.4.1) int"
      ],
      "metadata": {
        "id": "d2uDl59Jhv_E"
      }
    },
    {
      "cell_type": "code",
      "source": [
        "print(int(12.5))\n",
        "print(type(int(12.5)))\n",
        "\n",
        "print(int('121312'))\n",
        "print(type(int('121312')))\n",
        "\n",
        "print(int(True))\n",
        "print(type(int(True)))"
      ],
      "metadata": {
        "colab": {
          "base_uri": "https://localhost:8080/"
        },
        "id": "tcROLh9MhKp8",
        "outputId": "721a32d1-d2ea-40a2-9f6f-3b1b74789336"
      },
      "execution_count": null,
      "outputs": [
        {
          "output_type": "stream",
          "name": "stdout",
          "text": [
            "12\n",
            "<class 'int'>\n",
            "121312\n",
            "<class 'int'>\n",
            "1\n",
            "<class 'int'>\n"
          ]
        }
      ]
    },
    {
      "cell_type": "markdown",
      "source": [
        "1.4.2) float"
      ],
      "metadata": {
        "id": "mnwu_jadi-6s"
      }
    },
    {
      "cell_type": "code",
      "source": [
        "print(float(12))\n",
        "\n",
        "print(float('12'))\n",
        "\n",
        "print(float(True))"
      ],
      "metadata": {
        "colab": {
          "base_uri": "https://localhost:8080/"
        },
        "id": "83cVMSYmhQFs",
        "outputId": "def233cf-b992-4be9-97e4-f32f894a6ad2"
      },
      "execution_count": null,
      "outputs": [
        {
          "output_type": "stream",
          "name": "stdout",
          "text": [
            "12.0\n",
            "12.0\n",
            "1.0\n"
          ]
        }
      ]
    },
    {
      "cell_type": "markdown",
      "source": [
        "1.4.3) str"
      ],
      "metadata": {
        "id": "pFqXAPuWjWH7"
      }
    },
    {
      "cell_type": "code",
      "source": [
        "print(str(12))\n",
        "\n",
        "print(str(12.5))\n",
        "\n",
        "print(str(True))"
      ],
      "metadata": {
        "colab": {
          "base_uri": "https://localhost:8080/"
        },
        "id": "sEnPWZM1jL-1",
        "outputId": "7d49212b-23b2-4030-eb59-9a92581d1622"
      },
      "execution_count": null,
      "outputs": [
        {
          "output_type": "stream",
          "name": "stdout",
          "text": [
            "12\n",
            "12.5\n",
            "True\n"
          ]
        }
      ]
    },
    {
      "cell_type": "markdown",
      "source": [
        "1.4.4) bool"
      ],
      "metadata": {
        "id": "dyk6ujgaj6_c"
      }
    },
    {
      "cell_type": "code",
      "source": [
        "print(bool(0.0000000000000000))\n",
        "\n",
        "\n",
        "print(bool('0'))\n",
        "print(bool('a'))\n",
        "print(bool(''))"
      ],
      "metadata": {
        "colab": {
          "base_uri": "https://localhost:8080/"
        },
        "id": "GGm4EPfGjmwJ",
        "outputId": "7728a85f-08d5-43ca-e45b-62ddcb370576"
      },
      "execution_count": 2,
      "outputs": [
        {
          "output_type": "stream",
          "name": "stdout",
          "text": [
            "False\n",
            "True\n",
            "True\n",
            "False\n"
          ]
        }
      ]
    },
    {
      "cell_type": "markdown",
      "source": [
        "#### 1.5) Variables"
      ],
      "metadata": {
        "id": "36WgYk5guZXu"
      }
    },
    {
      "cell_type": "code",
      "source": [
        "a = 15\n",
        "b = 6\n",
        "\n",
        "print(a+b)\n",
        "print(a-b)\n",
        "print(a*b)\n",
        "print(a/b)\n",
        "print(a//b)\n",
        "print(a%b)\n",
        "print(a**b)"
      ],
      "metadata": {
        "colab": {
          "base_uri": "https://localhost:8080/"
        },
        "id": "iapBt2IWoeQV",
        "outputId": "a695f88e-2fde-4d10-8ecf-c88958edad84"
      },
      "execution_count": 24,
      "outputs": [
        {
          "output_type": "stream",
          "name": "stdout",
          "text": [
            "21\n",
            "9\n",
            "90\n",
            "2.5\n",
            "2\n",
            "3\n",
            "11390625\n"
          ]
        }
      ]
    },
    {
      "cell_type": "markdown",
      "source": [
        "### 2. Conditionals"
      ],
      "metadata": {
        "id": "8a_RXD9217X3"
      }
    },
    {
      "cell_type": "code",
      "source": [
        "age = int(input('Enter the age : '))\n",
        "\n",
        "if age >= 18 and age <= 100:\n",
        "  print('You are eligible to vote')\n",
        "elif age >= 0 and age < 18:\n",
        "  print('Not eligible to vote')\n",
        "else:\n",
        "  print('Invalid age')"
      ],
      "metadata": {
        "colab": {
          "base_uri": "https://localhost:8080/"
        },
        "id": "egdGkiZrwbb4",
        "outputId": "c34752de-fef6-4948-f583-1b9f2aa3b559"
      },
      "execution_count": 87,
      "outputs": [
        {
          "output_type": "stream",
          "name": "stdout",
          "text": [
            "Enter the age : -576\n",
            "Invalid age\n"
          ]
        }
      ]
    },
    {
      "cell_type": "markdown",
      "source": [
        "- Write a Python function that checks if a number is positive. If it is, print \"Positive\".\n",
        "\n",
        "\n",
        "- Write a Python function that checks if a number is even or odd. Print \"Even\" for even numbers and \"Odd\" for odd numbers.\n",
        "\n",
        "\n",
        "- Write a Python function that checks a number and prints \"Positive\", \"Negative\", or \"Zero\" based on its value.\n",
        "\n",
        "\n",
        "- Write a Python function that checks if a number is positive and even. If it is, print \"Positive and Even\".\n",
        "\n",
        "\n",
        "- Write a Python function that checks a grade and prints \"A\" for scores 90 and above, \"B\" for scores 80-89, \"C\" for scores 70-79, \"D\" for scores 60-69, and \"F\" for scores below 60.\n",
        "\n",
        "\n",
        "- Write a Python function that checks if a year is a leap year. A year is a leap year if it is divisible by 4 but not divisible by 100, except when it is divisible by 400.\n",
        "\n",
        "\n",
        "- Write a Python function that checks if a number is within a specific range (10 to 20 inclusive) and prints \"In range\" if it is, otherwise print \"Out of range\".\n",
        "\n",
        "\n",
        "- Write a Python function that checks if a character is a vowel. If it is, print \"Vowel\", otherwise print \"Consonant\".\n",
        "\n",
        "\n",
        "- Write a Python one-liner that checks if a number is greater than 100 and assigns the string \"Large\" or \"Small\" based on the result.\n",
        "\n",
        "\n",
        "- Write a Python function that takes a list of numbers and prints \"All positive\" if all numbers in the list are positive, otherwise print \"Contains negative\"."
      ],
      "metadata": {
        "id": "kugo5KhE897n"
      }
    }
  ]
}