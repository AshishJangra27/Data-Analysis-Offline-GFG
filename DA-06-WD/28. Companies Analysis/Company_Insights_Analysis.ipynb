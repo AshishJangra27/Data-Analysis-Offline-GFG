{
  "nbformat": 4,
  "nbformat_minor": 0,
  "metadata": {
    "colab": {
      "provenance": []
    },
    "kernelspec": {
      "name": "python3",
      "display_name": "Python 3"
    },
    "language_info": {
      "name": "python"
    }
  },
  "cells": [
    {
      "cell_type": "code",
      "source": [
        "!git clone https://github.com/AshishJangra27/datasets"
      ],
      "metadata": {
        "colab": {
          "base_uri": "https://localhost:8080/"
        },
        "id": "0M2PC_5GlQSy",
        "outputId": "b99a7437-4fa3-493f-f756-31724f937eda"
      },
      "execution_count": 1,
      "outputs": [
        {
          "output_type": "stream",
          "name": "stdout",
          "text": [
            "Cloning into 'datasets'...\n",
            "remote: Enumerating objects: 328, done.\u001b[K\n",
            "remote: Counting objects: 100% (93/93), done.\u001b[K\n",
            "remote: Compressing objects: 100% (83/83), done.\u001b[K\n",
            "remote: Total 328 (delta 19), reused 54 (delta 9), pack-reused 235 (from 1)\u001b[K\n",
            "Receiving objects: 100% (328/328), 278.62 MiB | 15.15 MiB/s, done.\n",
            "Resolving deltas: 100% (145/145), done.\n",
            "Updating files: 100% (225/225), done.\n"
          ]
        }
      ]
    },
    {
      "cell_type": "code",
      "execution_count": 2,
      "metadata": {
        "id": "jdr9kovolOU-"
      },
      "outputs": [],
      "source": [
        "import pandas as pd"
      ]
    },
    {
      "cell_type": "markdown",
      "source": [
        "### 1. Data Exploration"
      ],
      "metadata": {
        "id": "fFaskhXArLaD"
      }
    },
    {
      "cell_type": "markdown",
      "source": [
        "#### 1.1) Loading the Dataset"
      ],
      "metadata": {
        "id": "RUf1FK9SrHgy"
      }
    },
    {
      "cell_type": "code",
      "source": [
        "df = pd.read_csv('/content/datasets/Job Postings/jobs.csv.zip')\n",
        "df.head(2)"
      ],
      "metadata": {
        "colab": {
          "base_uri": "https://localhost:8080/",
          "height": 199
        },
        "id": "vYAxtvs0rFYG",
        "outputId": "e2c14420-6dc4-4208-8394-06152f651dfd"
      },
      "execution_count": 3,
      "outputs": [
        {
          "output_type": "execute_result",
          "data": {
            "text/plain": [
              "         job_id                                       job_role    company  \\\n",
              "0  7.012301e+10  Branch Banking - Calling For Women Candidates  Hdfc Bank   \n",
              "1  6.012391e+10                   Product Owner Senior Manager  Accenture   \n",
              "\n",
              "  experience         salary  \\\n",
              "0    1-6 Yrs  Not disclosed   \n",
              "1  11-15 Yrs  Not disclosed   \n",
              "\n",
              "                                            location  rating        reviews  \\\n",
              "0  Kolkata, Hyderabad/Secunderabad, Pune, Ahmedab...     4.0  39110 Reviews   \n",
              "1  Kolkata, Mumbai, Hyderabad/Secunderabad, Pune,...     4.1  32129 Reviews   \n",
              "\n",
              "                                     resposibilities  posted_on  \\\n",
              "0     Customer Service,Sales,Relationship Management  1 Day Ago   \n",
              "1  Product management,Market analysis,Change mana...  1 Day Ago   \n",
              "\n",
              "                                            job_link  \\\n",
              "0  https://www.naukri.com/job-listings-branch-ban...   \n",
              "1  https://www.naukri.com/job-listings-product-ow...   \n",
              "\n",
              "                                        company_link  \n",
              "0  https://www.naukri.com/hdfc-bank-jobs-careers-213  \n",
              "1  https://www.naukri.com/accenture-jobs-careers-...  "
            ],
            "text/html": [
              "\n",
              "  <div id=\"df-3075be0b-9e8b-407f-9a67-596e067b24eb\" class=\"colab-df-container\">\n",
              "    <div>\n",
              "<style scoped>\n",
              "    .dataframe tbody tr th:only-of-type {\n",
              "        vertical-align: middle;\n",
              "    }\n",
              "\n",
              "    .dataframe tbody tr th {\n",
              "        vertical-align: top;\n",
              "    }\n",
              "\n",
              "    .dataframe thead th {\n",
              "        text-align: right;\n",
              "    }\n",
              "</style>\n",
              "<table border=\"1\" class=\"dataframe\">\n",
              "  <thead>\n",
              "    <tr style=\"text-align: right;\">\n",
              "      <th></th>\n",
              "      <th>job_id</th>\n",
              "      <th>job_role</th>\n",
              "      <th>company</th>\n",
              "      <th>experience</th>\n",
              "      <th>salary</th>\n",
              "      <th>location</th>\n",
              "      <th>rating</th>\n",
              "      <th>reviews</th>\n",
              "      <th>resposibilities</th>\n",
              "      <th>posted_on</th>\n",
              "      <th>job_link</th>\n",
              "      <th>company_link</th>\n",
              "    </tr>\n",
              "  </thead>\n",
              "  <tbody>\n",
              "    <tr>\n",
              "      <th>0</th>\n",
              "      <td>7.012301e+10</td>\n",
              "      <td>Branch Banking - Calling For Women Candidates</td>\n",
              "      <td>Hdfc Bank</td>\n",
              "      <td>1-6 Yrs</td>\n",
              "      <td>Not disclosed</td>\n",
              "      <td>Kolkata, Hyderabad/Secunderabad, Pune, Ahmedab...</td>\n",
              "      <td>4.0</td>\n",
              "      <td>39110 Reviews</td>\n",
              "      <td>Customer Service,Sales,Relationship Management</td>\n",
              "      <td>1 Day Ago</td>\n",
              "      <td>https://www.naukri.com/job-listings-branch-ban...</td>\n",
              "      <td>https://www.naukri.com/hdfc-bank-jobs-careers-213</td>\n",
              "    </tr>\n",
              "    <tr>\n",
              "      <th>1</th>\n",
              "      <td>6.012391e+10</td>\n",
              "      <td>Product Owner Senior Manager</td>\n",
              "      <td>Accenture</td>\n",
              "      <td>11-15 Yrs</td>\n",
              "      <td>Not disclosed</td>\n",
              "      <td>Kolkata, Mumbai, Hyderabad/Secunderabad, Pune,...</td>\n",
              "      <td>4.1</td>\n",
              "      <td>32129 Reviews</td>\n",
              "      <td>Product management,Market analysis,Change mana...</td>\n",
              "      <td>1 Day Ago</td>\n",
              "      <td>https://www.naukri.com/job-listings-product-ow...</td>\n",
              "      <td>https://www.naukri.com/accenture-jobs-careers-...</td>\n",
              "    </tr>\n",
              "  </tbody>\n",
              "</table>\n",
              "</div>\n",
              "    <div class=\"colab-df-buttons\">\n",
              "\n",
              "  <div class=\"colab-df-container\">\n",
              "    <button class=\"colab-df-convert\" onclick=\"convertToInteractive('df-3075be0b-9e8b-407f-9a67-596e067b24eb')\"\n",
              "            title=\"Convert this dataframe to an interactive table.\"\n",
              "            style=\"display:none;\">\n",
              "\n",
              "  <svg xmlns=\"http://www.w3.org/2000/svg\" height=\"24px\" viewBox=\"0 -960 960 960\">\n",
              "    <path d=\"M120-120v-720h720v720H120Zm60-500h600v-160H180v160Zm220 220h160v-160H400v160Zm0 220h160v-160H400v160ZM180-400h160v-160H180v160Zm440 0h160v-160H620v160ZM180-180h160v-160H180v160Zm440 0h160v-160H620v160Z\"/>\n",
              "  </svg>\n",
              "    </button>\n",
              "\n",
              "  <style>\n",
              "    .colab-df-container {\n",
              "      display:flex;\n",
              "      gap: 12px;\n",
              "    }\n",
              "\n",
              "    .colab-df-convert {\n",
              "      background-color: #E8F0FE;\n",
              "      border: none;\n",
              "      border-radius: 50%;\n",
              "      cursor: pointer;\n",
              "      display: none;\n",
              "      fill: #1967D2;\n",
              "      height: 32px;\n",
              "      padding: 0 0 0 0;\n",
              "      width: 32px;\n",
              "    }\n",
              "\n",
              "    .colab-df-convert:hover {\n",
              "      background-color: #E2EBFA;\n",
              "      box-shadow: 0px 1px 2px rgba(60, 64, 67, 0.3), 0px 1px 3px 1px rgba(60, 64, 67, 0.15);\n",
              "      fill: #174EA6;\n",
              "    }\n",
              "\n",
              "    .colab-df-buttons div {\n",
              "      margin-bottom: 4px;\n",
              "    }\n",
              "\n",
              "    [theme=dark] .colab-df-convert {\n",
              "      background-color: #3B4455;\n",
              "      fill: #D2E3FC;\n",
              "    }\n",
              "\n",
              "    [theme=dark] .colab-df-convert:hover {\n",
              "      background-color: #434B5C;\n",
              "      box-shadow: 0px 1px 3px 1px rgba(0, 0, 0, 0.15);\n",
              "      filter: drop-shadow(0px 1px 2px rgba(0, 0, 0, 0.3));\n",
              "      fill: #FFFFFF;\n",
              "    }\n",
              "  </style>\n",
              "\n",
              "    <script>\n",
              "      const buttonEl =\n",
              "        document.querySelector('#df-3075be0b-9e8b-407f-9a67-596e067b24eb button.colab-df-convert');\n",
              "      buttonEl.style.display =\n",
              "        google.colab.kernel.accessAllowed ? 'block' : 'none';\n",
              "\n",
              "      async function convertToInteractive(key) {\n",
              "        const element = document.querySelector('#df-3075be0b-9e8b-407f-9a67-596e067b24eb');\n",
              "        const dataTable =\n",
              "          await google.colab.kernel.invokeFunction('convertToInteractive',\n",
              "                                                    [key], {});\n",
              "        if (!dataTable) return;\n",
              "\n",
              "        const docLinkHtml = 'Like what you see? Visit the ' +\n",
              "          '<a target=\"_blank\" href=https://colab.research.google.com/notebooks/data_table.ipynb>data table notebook</a>'\n",
              "          + ' to learn more about interactive tables.';\n",
              "        element.innerHTML = '';\n",
              "        dataTable['output_type'] = 'display_data';\n",
              "        await google.colab.output.renderOutput(dataTable, element);\n",
              "        const docLink = document.createElement('div');\n",
              "        docLink.innerHTML = docLinkHtml;\n",
              "        element.appendChild(docLink);\n",
              "      }\n",
              "    </script>\n",
              "  </div>\n",
              "\n",
              "\n",
              "<div id=\"df-ff6f4cc0-4788-40dd-abbe-ae0aac8752d2\">\n",
              "  <button class=\"colab-df-quickchart\" onclick=\"quickchart('df-ff6f4cc0-4788-40dd-abbe-ae0aac8752d2')\"\n",
              "            title=\"Suggest charts\"\n",
              "            style=\"display:none;\">\n",
              "\n",
              "<svg xmlns=\"http://www.w3.org/2000/svg\" height=\"24px\"viewBox=\"0 0 24 24\"\n",
              "     width=\"24px\">\n",
              "    <g>\n",
              "        <path d=\"M19 3H5c-1.1 0-2 .9-2 2v14c0 1.1.9 2 2 2h14c1.1 0 2-.9 2-2V5c0-1.1-.9-2-2-2zM9 17H7v-7h2v7zm4 0h-2V7h2v10zm4 0h-2v-4h2v4z\"/>\n",
              "    </g>\n",
              "</svg>\n",
              "  </button>\n",
              "\n",
              "<style>\n",
              "  .colab-df-quickchart {\n",
              "      --bg-color: #E8F0FE;\n",
              "      --fill-color: #1967D2;\n",
              "      --hover-bg-color: #E2EBFA;\n",
              "      --hover-fill-color: #174EA6;\n",
              "      --disabled-fill-color: #AAA;\n",
              "      --disabled-bg-color: #DDD;\n",
              "  }\n",
              "\n",
              "  [theme=dark] .colab-df-quickchart {\n",
              "      --bg-color: #3B4455;\n",
              "      --fill-color: #D2E3FC;\n",
              "      --hover-bg-color: #434B5C;\n",
              "      --hover-fill-color: #FFFFFF;\n",
              "      --disabled-bg-color: #3B4455;\n",
              "      --disabled-fill-color: #666;\n",
              "  }\n",
              "\n",
              "  .colab-df-quickchart {\n",
              "    background-color: var(--bg-color);\n",
              "    border: none;\n",
              "    border-radius: 50%;\n",
              "    cursor: pointer;\n",
              "    display: none;\n",
              "    fill: var(--fill-color);\n",
              "    height: 32px;\n",
              "    padding: 0;\n",
              "    width: 32px;\n",
              "  }\n",
              "\n",
              "  .colab-df-quickchart:hover {\n",
              "    background-color: var(--hover-bg-color);\n",
              "    box-shadow: 0 1px 2px rgba(60, 64, 67, 0.3), 0 1px 3px 1px rgba(60, 64, 67, 0.15);\n",
              "    fill: var(--button-hover-fill-color);\n",
              "  }\n",
              "\n",
              "  .colab-df-quickchart-complete:disabled,\n",
              "  .colab-df-quickchart-complete:disabled:hover {\n",
              "    background-color: var(--disabled-bg-color);\n",
              "    fill: var(--disabled-fill-color);\n",
              "    box-shadow: none;\n",
              "  }\n",
              "\n",
              "  .colab-df-spinner {\n",
              "    border: 2px solid var(--fill-color);\n",
              "    border-color: transparent;\n",
              "    border-bottom-color: var(--fill-color);\n",
              "    animation:\n",
              "      spin 1s steps(1) infinite;\n",
              "  }\n",
              "\n",
              "  @keyframes spin {\n",
              "    0% {\n",
              "      border-color: transparent;\n",
              "      border-bottom-color: var(--fill-color);\n",
              "      border-left-color: var(--fill-color);\n",
              "    }\n",
              "    20% {\n",
              "      border-color: transparent;\n",
              "      border-left-color: var(--fill-color);\n",
              "      border-top-color: var(--fill-color);\n",
              "    }\n",
              "    30% {\n",
              "      border-color: transparent;\n",
              "      border-left-color: var(--fill-color);\n",
              "      border-top-color: var(--fill-color);\n",
              "      border-right-color: var(--fill-color);\n",
              "    }\n",
              "    40% {\n",
              "      border-color: transparent;\n",
              "      border-right-color: var(--fill-color);\n",
              "      border-top-color: var(--fill-color);\n",
              "    }\n",
              "    60% {\n",
              "      border-color: transparent;\n",
              "      border-right-color: var(--fill-color);\n",
              "    }\n",
              "    80% {\n",
              "      border-color: transparent;\n",
              "      border-right-color: var(--fill-color);\n",
              "      border-bottom-color: var(--fill-color);\n",
              "    }\n",
              "    90% {\n",
              "      border-color: transparent;\n",
              "      border-bottom-color: var(--fill-color);\n",
              "    }\n",
              "  }\n",
              "</style>\n",
              "\n",
              "  <script>\n",
              "    async function quickchart(key) {\n",
              "      const quickchartButtonEl =\n",
              "        document.querySelector('#' + key + ' button');\n",
              "      quickchartButtonEl.disabled = true;  // To prevent multiple clicks.\n",
              "      quickchartButtonEl.classList.add('colab-df-spinner');\n",
              "      try {\n",
              "        const charts = await google.colab.kernel.invokeFunction(\n",
              "            'suggestCharts', [key], {});\n",
              "      } catch (error) {\n",
              "        console.error('Error during call to suggestCharts:', error);\n",
              "      }\n",
              "      quickchartButtonEl.classList.remove('colab-df-spinner');\n",
              "      quickchartButtonEl.classList.add('colab-df-quickchart-complete');\n",
              "    }\n",
              "    (() => {\n",
              "      let quickchartButtonEl =\n",
              "        document.querySelector('#df-ff6f4cc0-4788-40dd-abbe-ae0aac8752d2 button');\n",
              "      quickchartButtonEl.style.display =\n",
              "        google.colab.kernel.accessAllowed ? 'block' : 'none';\n",
              "    })();\n",
              "  </script>\n",
              "</div>\n",
              "\n",
              "    </div>\n",
              "  </div>\n"
            ],
            "application/vnd.google.colaboratory.intrinsic+json": {
              "type": "dataframe",
              "variable_name": "df",
              "summary": "{\n  \"name\": \"df\",\n  \"rows\": 79147,\n  \"fields\": [\n    {\n      \"column\": \"job_id\",\n      \"properties\": {\n        \"dtype\": \"number\",\n        \"std\": 109746366353.32597,\n        \"min\": 10122000503.0,\n        \"max\": 311222904900.0,\n        \"num_unique_values\": 73009,\n        \"samples\": [\n          20123000806.0,\n          291222007132.0,\n          70123500585.0\n        ],\n        \"semantic_type\": \"\",\n        \"description\": \"\"\n      }\n    },\n    {\n      \"column\": \"job_role\",\n      \"properties\": {\n        \"dtype\": \"string\",\n        \"num_unique_values\": 51050,\n        \"samples\": [\n          \"Web Administrator\",\n          \"Audio framework Engineer\",\n          \"TEKsystems #Hiring # SAP SD Consultant\"\n        ],\n        \"semantic_type\": \"\",\n        \"description\": \"\"\n      }\n    },\n    {\n      \"column\": \"company\",\n      \"properties\": {\n        \"dtype\": \"category\",\n        \"num_unique_values\": 15313,\n        \"samples\": [\n          \"Transglobe Iskcon India\",\n          \"Vrecroot\",\n          \"Leaptest\"\n        ],\n        \"semantic_type\": \"\",\n        \"description\": \"\"\n      }\n    },\n    {\n      \"column\": \"experience\",\n      \"properties\": {\n        \"dtype\": \"category\",\n        \"num_unique_values\": 231,\n        \"samples\": [\n          \"16-19 Yrs\",\n          \"10-12 Yrs\",\n          \"3-8 Yrs\"\n        ],\n        \"semantic_type\": \"\",\n        \"description\": \"\"\n      }\n    },\n    {\n      \"column\": \"salary\",\n      \"properties\": {\n        \"dtype\": \"category\",\n        \"num_unique_values\": 813,\n        \"samples\": [\n          \"14,00,000 - 22,50,000 PA.\",\n          \"55,00,000 - 65,00,000 PA.\",\n          \"2,00,000 - 4,75,000 PA.\"\n        ],\n        \"semantic_type\": \"\",\n        \"description\": \"\"\n      }\n    },\n    {\n      \"column\": \"location\",\n      \"properties\": {\n        \"dtype\": \"category\",\n        \"num_unique_values\": 9038,\n        \"samples\": [\n          \"Temp. WFH - Chennai\",\n          \"Vapi, Dadra & Nagar Haveli/Silvassa\",\n          \"New Delhi(Safdarjung Enclave), Delhi / NCR\"\n        ],\n        \"semantic_type\": \"\",\n        \"description\": \"\"\n      }\n    },\n    {\n      \"column\": \"rating\",\n      \"properties\": {\n        \"dtype\": \"number\",\n        \"std\": 0.5192110664985025,\n        \"min\": 1.0,\n        \"max\": 5.0,\n        \"num_unique_values\": 41,\n        \"samples\": [\n          2.2,\n          3.4,\n          4.4\n        ],\n        \"semantic_type\": \"\",\n        \"description\": \"\"\n      }\n    },\n    {\n      \"column\": \"reviews\",\n      \"properties\": {\n        \"dtype\": \"category\",\n        \"num_unique_values\": 980,\n        \"samples\": [\n          \"942 Reviews\",\n          \"867 Reviews\",\n          \"28172 Reviews\"\n        ],\n        \"semantic_type\": \"\",\n        \"description\": \"\"\n      }\n    },\n    {\n      \"column\": \"resposibilities\",\n      \"properties\": {\n        \"dtype\": \"string\",\n        \"num_unique_values\": 61911,\n        \"samples\": [\n          \".net core,aws,React.Js\",\n          \"Test Engineering,JIRA,Confluence,Analytical,JCL,SDLC,Communication,LMS\",\n          \"Team Management,Reporting,Presentation,account management,Market Research,Business Strategy,Swot Analysis,research\"\n        ],\n        \"semantic_type\": \"\",\n        \"description\": \"\"\n      }\n    },\n    {\n      \"column\": \"posted_on\",\n      \"properties\": {\n        \"dtype\": \"category\",\n        \"num_unique_values\": 26,\n        \"samples\": [\n          \"6 Days Ago\",\n          \"Just Now\",\n          \"1 Day Ago\"\n        ],\n        \"semantic_type\": \"\",\n        \"description\": \"\"\n      }\n    },\n    {\n      \"column\": \"job_link\",\n      \"properties\": {\n        \"dtype\": \"string\",\n        \"num_unique_values\": 73009,\n        \"samples\": [\n          \"https://www.naukri.com/job-listings-medical-coding-for-18-22-passout-microbiology-zoology-adv-zoo-grad-alpha-medical-coding-solutions-pondicherry-puducherry-chennai-tiruchirapalli-trichy-0-to-4-years-020123000806\",\n          \"https://www.naukri.com/job-listings-admission-counsellor-atz-properties-bangalore-bengaluru-1-to-3-years-291222007132\",\n          \"https://www.naukri.com/job-listings-hygiene-care-consultant-sr-hygiene-care-consultant-skillety-noida-kochi-cochin-kolkata-mumbai-chandigarh-hyderabad-secunderabad-pune-chennai-ahmedabad-bangalore-bengaluru-2-to-7-years-070123500585\"\n        ],\n        \"semantic_type\": \"\",\n        \"description\": \"\"\n      }\n    },\n    {\n      \"column\": \"company_link\",\n      \"properties\": {\n        \"dtype\": \"category\",\n        \"num_unique_values\": 13845,\n        \"samples\": [\n          \"https://www.naukri.com/modify-digital-jobs-careers-3717488\",\n          \"https://www.naukri.com/fg-glass-jobs-careers-4624134\",\n          \"https://www.naukri.com/n-solutions-jobs-careers-594659\"\n        ],\n        \"semantic_type\": \"\",\n        \"description\": \"\"\n      }\n    }\n  ]\n}"
            }
          },
          "metadata": {},
          "execution_count": 3
        }
      ]
    },
    {
      "cell_type": "markdown",
      "source": [
        "#### 1.2) Removing \"posted_on\" Columns"
      ],
      "metadata": {
        "id": "NwPcf-Guq8BI"
      }
    },
    {
      "cell_type": "code",
      "source": [
        "del df['posted_on']"
      ],
      "metadata": {
        "id": "EyIRh0aiq7h3"
      },
      "execution_count": 4,
      "outputs": []
    },
    {
      "cell_type": "markdown",
      "source": [
        "#### 1.3) Check Null Values"
      ],
      "metadata": {
        "id": "5Kn306GJrTd4"
      }
    },
    {
      "cell_type": "code",
      "source": [
        "df.isnull().sum()"
      ],
      "metadata": {
        "colab": {
          "base_uri": "https://localhost:8080/",
          "height": 429
        },
        "id": "QjMAPkOjrE4S",
        "outputId": "cd10ad10-52bf-4229-836a-43406186d11f"
      },
      "execution_count": 5,
      "outputs": [
        {
          "output_type": "execute_result",
          "data": {
            "text/plain": [
              "job_id               480\n",
              "job_role             480\n",
              "company              481\n",
              "experience          1749\n",
              "salary               480\n",
              "location            1706\n",
              "rating             36199\n",
              "reviews            36199\n",
              "resposibilities      500\n",
              "job_link             480\n",
              "company_link         480\n",
              "dtype: int64"
            ],
            "text/html": [
              "<div>\n",
              "<style scoped>\n",
              "    .dataframe tbody tr th:only-of-type {\n",
              "        vertical-align: middle;\n",
              "    }\n",
              "\n",
              "    .dataframe tbody tr th {\n",
              "        vertical-align: top;\n",
              "    }\n",
              "\n",
              "    .dataframe thead th {\n",
              "        text-align: right;\n",
              "    }\n",
              "</style>\n",
              "<table border=\"1\" class=\"dataframe\">\n",
              "  <thead>\n",
              "    <tr style=\"text-align: right;\">\n",
              "      <th></th>\n",
              "      <th>0</th>\n",
              "    </tr>\n",
              "  </thead>\n",
              "  <tbody>\n",
              "    <tr>\n",
              "      <th>job_id</th>\n",
              "      <td>480</td>\n",
              "    </tr>\n",
              "    <tr>\n",
              "      <th>job_role</th>\n",
              "      <td>480</td>\n",
              "    </tr>\n",
              "    <tr>\n",
              "      <th>company</th>\n",
              "      <td>481</td>\n",
              "    </tr>\n",
              "    <tr>\n",
              "      <th>experience</th>\n",
              "      <td>1749</td>\n",
              "    </tr>\n",
              "    <tr>\n",
              "      <th>salary</th>\n",
              "      <td>480</td>\n",
              "    </tr>\n",
              "    <tr>\n",
              "      <th>location</th>\n",
              "      <td>1706</td>\n",
              "    </tr>\n",
              "    <tr>\n",
              "      <th>rating</th>\n",
              "      <td>36199</td>\n",
              "    </tr>\n",
              "    <tr>\n",
              "      <th>reviews</th>\n",
              "      <td>36199</td>\n",
              "    </tr>\n",
              "    <tr>\n",
              "      <th>resposibilities</th>\n",
              "      <td>500</td>\n",
              "    </tr>\n",
              "    <tr>\n",
              "      <th>job_link</th>\n",
              "      <td>480</td>\n",
              "    </tr>\n",
              "    <tr>\n",
              "      <th>company_link</th>\n",
              "      <td>480</td>\n",
              "    </tr>\n",
              "  </tbody>\n",
              "</table>\n",
              "</div><br><label><b>dtype:</b> int64</label>"
            ]
          },
          "metadata": {},
          "execution_count": 5
        }
      ]
    },
    {
      "cell_type": "markdown",
      "source": [
        "#### 1.4) Removign rows with null values in job_id,company and responsibility column"
      ],
      "metadata": {
        "id": "SQl8qNREt5cu"
      }
    },
    {
      "cell_type": "code",
      "source": [
        "df.dropna(subset = ['job_id','company','resposibilities'], inplace = True)"
      ],
      "metadata": {
        "id": "RrOBNuyptAWW"
      },
      "execution_count": 6,
      "outputs": []
    },
    {
      "cell_type": "markdown",
      "source": [
        "#### 1.5) Filling Null values in location and experience column with most frequent"
      ],
      "metadata": {
        "id": "w50bj2MauF1K"
      }
    },
    {
      "cell_type": "code",
      "source": [
        "df['location'].fillna(df['location'].mode()[0], inplace = True)\n",
        "df['experience'].fillna(df['experience'].mode()[0], inplace = True)"
      ],
      "metadata": {
        "colab": {
          "base_uri": "https://localhost:8080/"
        },
        "id": "40rDHjQotkJc",
        "outputId": "671431b3-c109-4602-f6e0-a64007854aff"
      },
      "execution_count": 7,
      "outputs": [
        {
          "output_type": "stream",
          "name": "stderr",
          "text": [
            "<ipython-input-7-2a1fddb959e7>:1: FutureWarning: A value is trying to be set on a copy of a DataFrame or Series through chained assignment using an inplace method.\n",
            "The behavior will change in pandas 3.0. This inplace method will never work because the intermediate object on which we are setting values always behaves as a copy.\n",
            "\n",
            "For example, when doing 'df[col].method(value, inplace=True)', try using 'df.method({col: value}, inplace=True)' or df[col] = df[col].method(value) instead, to perform the operation inplace on the original object.\n",
            "\n",
            "\n",
            "  df['location'].fillna(df['location'].mode()[0], inplace = True)\n",
            "<ipython-input-7-2a1fddb959e7>:2: FutureWarning: A value is trying to be set on a copy of a DataFrame or Series through chained assignment using an inplace method.\n",
            "The behavior will change in pandas 3.0. This inplace method will never work because the intermediate object on which we are setting values always behaves as a copy.\n",
            "\n",
            "For example, when doing 'df[col].method(value, inplace=True)', try using 'df.method({col: value}, inplace=True)' or df[col] = df[col].method(value) instead, to perform the operation inplace on the original object.\n",
            "\n",
            "\n",
            "  df['experience'].fillna(df['experience'].mode()[0], inplace = True)\n"
          ]
        }
      ]
    },
    {
      "cell_type": "markdown",
      "source": [
        "#### 1.6) Filling Null values in rating and reviews column with 0"
      ],
      "metadata": {
        "id": "OVl09RQBwPkH"
      }
    },
    {
      "cell_type": "code",
      "source": [
        "df['rating'].fillna(0.0,inplace = True)\n",
        "df['reviews'].fillna('0 Reviews',inplace = True)"
      ],
      "metadata": {
        "colab": {
          "base_uri": "https://localhost:8080/"
        },
        "id": "d33y26B1rl1b",
        "outputId": "5ef21e0e-e520-4d7b-d6b2-472d447c0a23"
      },
      "execution_count": 8,
      "outputs": [
        {
          "output_type": "stream",
          "name": "stderr",
          "text": [
            "<ipython-input-8-96e8ba36cda5>:1: FutureWarning: A value is trying to be set on a copy of a DataFrame or Series through chained assignment using an inplace method.\n",
            "The behavior will change in pandas 3.0. This inplace method will never work because the intermediate object on which we are setting values always behaves as a copy.\n",
            "\n",
            "For example, when doing 'df[col].method(value, inplace=True)', try using 'df.method({col: value}, inplace=True)' or df[col] = df[col].method(value) instead, to perform the operation inplace on the original object.\n",
            "\n",
            "\n",
            "  df['rating'].fillna(0.0,inplace = True)\n",
            "<ipython-input-8-96e8ba36cda5>:2: FutureWarning: A value is trying to be set on a copy of a DataFrame or Series through chained assignment using an inplace method.\n",
            "The behavior will change in pandas 3.0. This inplace method will never work because the intermediate object on which we are setting values always behaves as a copy.\n",
            "\n",
            "For example, when doing 'df[col].method(value, inplace=True)', try using 'df.method({col: value}, inplace=True)' or df[col] = df[col].method(value) instead, to perform the operation inplace on the original object.\n",
            "\n",
            "\n",
            "  df['reviews'].fillna('0 Reviews',inplace = True)\n"
          ]
        }
      ]
    },
    {
      "cell_type": "code",
      "source": [
        "df.isnull().sum()"
      ],
      "metadata": {
        "colab": {
          "base_uri": "https://localhost:8080/",
          "height": 429
        },
        "id": "ZCaDc2OUrE2O",
        "outputId": "0d759456-2d03-4520-86a3-3a9feee55739"
      },
      "execution_count": 9,
      "outputs": [
        {
          "output_type": "execute_result",
          "data": {
            "text/plain": [
              "job_id             0\n",
              "job_role           0\n",
              "company            0\n",
              "experience         0\n",
              "salary             0\n",
              "location           0\n",
              "rating             0\n",
              "reviews            0\n",
              "resposibilities    0\n",
              "job_link           0\n",
              "company_link       0\n",
              "dtype: int64"
            ],
            "text/html": [
              "<div>\n",
              "<style scoped>\n",
              "    .dataframe tbody tr th:only-of-type {\n",
              "        vertical-align: middle;\n",
              "    }\n",
              "\n",
              "    .dataframe tbody tr th {\n",
              "        vertical-align: top;\n",
              "    }\n",
              "\n",
              "    .dataframe thead th {\n",
              "        text-align: right;\n",
              "    }\n",
              "</style>\n",
              "<table border=\"1\" class=\"dataframe\">\n",
              "  <thead>\n",
              "    <tr style=\"text-align: right;\">\n",
              "      <th></th>\n",
              "      <th>0</th>\n",
              "    </tr>\n",
              "  </thead>\n",
              "  <tbody>\n",
              "    <tr>\n",
              "      <th>job_id</th>\n",
              "      <td>0</td>\n",
              "    </tr>\n",
              "    <tr>\n",
              "      <th>job_role</th>\n",
              "      <td>0</td>\n",
              "    </tr>\n",
              "    <tr>\n",
              "      <th>company</th>\n",
              "      <td>0</td>\n",
              "    </tr>\n",
              "    <tr>\n",
              "      <th>experience</th>\n",
              "      <td>0</td>\n",
              "    </tr>\n",
              "    <tr>\n",
              "      <th>salary</th>\n",
              "      <td>0</td>\n",
              "    </tr>\n",
              "    <tr>\n",
              "      <th>location</th>\n",
              "      <td>0</td>\n",
              "    </tr>\n",
              "    <tr>\n",
              "      <th>rating</th>\n",
              "      <td>0</td>\n",
              "    </tr>\n",
              "    <tr>\n",
              "      <th>reviews</th>\n",
              "      <td>0</td>\n",
              "    </tr>\n",
              "    <tr>\n",
              "      <th>resposibilities</th>\n",
              "      <td>0</td>\n",
              "    </tr>\n",
              "    <tr>\n",
              "      <th>job_link</th>\n",
              "      <td>0</td>\n",
              "    </tr>\n",
              "    <tr>\n",
              "      <th>company_link</th>\n",
              "      <td>0</td>\n",
              "    </tr>\n",
              "  </tbody>\n",
              "</table>\n",
              "</div><br><label><b>dtype:</b> int64</label>"
            ]
          },
          "metadata": {},
          "execution_count": 9
        }
      ]
    },
    {
      "cell_type": "markdown",
      "source": [
        "#### 1.7) Remove Duplicates"
      ],
      "metadata": {
        "id": "QqP5fIw4zdnM"
      }
    },
    {
      "cell_type": "code",
      "source": [
        "df.drop_duplicates(subset=['job_link'],inplace = True)"
      ],
      "metadata": {
        "id": "xezHsGd7zhyp"
      },
      "execution_count": 10,
      "outputs": []
    },
    {
      "cell_type": "markdown",
      "source": [
        "### 2. Data Cleaning"
      ],
      "metadata": {
        "id": "hDrIyVsvyb6P"
      }
    },
    {
      "cell_type": "markdown",
      "source": [
        "#### 2.1) Cleaning Job_id Column"
      ],
      "metadata": {
        "id": "GBR_J8-9yfwK"
      }
    },
    {
      "cell_type": "code",
      "source": [
        "df['job_id'] = df['job_id'].astype('int').astype('str')"
      ],
      "metadata": {
        "id": "-j5w_fb0y5MD"
      },
      "execution_count": 11,
      "outputs": []
    },
    {
      "cell_type": "markdown",
      "source": [
        "#### 2.2) Creating Company ID Column"
      ],
      "metadata": {
        "id": "DX5QE0sKnIUd"
      }
    },
    {
      "cell_type": "code",
      "source": [
        "df['company_id'] = df['company_link'].str.split('-').str[-1]"
      ],
      "metadata": {
        "id": "MgjBQVeTrEzV"
      },
      "execution_count": 12,
      "outputs": []
    },
    {
      "cell_type": "markdown",
      "source": [
        "#### 2.3) Removing Companies with company_id = 0"
      ],
      "metadata": {
        "id": "koPFhJtSy5hY"
      }
    },
    {
      "cell_type": "code",
      "source": [
        "df = df[df['company_id'] != '0']"
      ],
      "metadata": {
        "id": "xgkLqmY2y_q4"
      },
      "execution_count": 13,
      "outputs": []
    },
    {
      "cell_type": "markdown",
      "source": [
        "#### 2.4) Cleaning Experience Column"
      ],
      "metadata": {
        "id": "vIX_uEkL155f"
      }
    },
    {
      "cell_type": "code",
      "source": [
        "df['start_exp'] = df['experience'].str.replace('Yrs','').str.strip().str.split('-').str[0].astype('int')\n",
        "df['end_exp'] = df['experience'].str.replace('Yrs','').str.strip().str.split('-').str[1].astype('int')"
      ],
      "metadata": {
        "id": "TwoBe-pY2GqK"
      },
      "execution_count": 43,
      "outputs": []
    },
    {
      "cell_type": "markdown",
      "source": [
        "#### 2.5) Cleaning Salary Column"
      ],
      "metadata": {
        "id": "KpyyQUeBy___"
      }
    },
    {
      "cell_type": "markdown",
      "source": [
        "###### 2.5.1 Removing Categories like gradudate etc"
      ],
      "metadata": {
        "id": "qyu_9-F462_c"
      }
    },
    {
      "cell_type": "code",
      "source": [
        "salary_clean = []\n",
        "\n",
        "for i in df['salary']:\n",
        "  if bool(re.search(r'\\d', i)) == False or 'Cr' in i:\n",
        "    salary_clean.append('Not disclosed')\n",
        "  else:\n",
        "    salary_clean.append(i)\n",
        "\n",
        "df['salary_clean'] = salary_clean"
      ],
      "metadata": {
        "id": "OW0AmiYT2brb"
      },
      "execution_count": 91,
      "outputs": []
    },
    {
      "cell_type": "markdown",
      "source": [
        "###### 2.5.2 Splitting salaries"
      ],
      "metadata": {
        "id": "TsneyW-T7A1-"
      }
    },
    {
      "cell_type": "code",
      "source": [
        "min_salaries = []\n",
        "max_salaries = []\n",
        "\n",
        "for i in df['salary_clean']:\n",
        "\n",
        "  if i == 'Not disclosed':\n",
        "    min_salary = 'Not disclosed'\n",
        "    max_salary = 'Not disclosed'\n",
        "\n",
        "  elif len(i.split('-')) == 2:\n",
        "    min_salary = i.split('PA')[0].split('-')[0].strip().replace(',','')\n",
        "    max_salary = i.split('PA')[0].split('-')[1].strip().replace(',','')\n",
        "\n",
        "\n",
        "  elif len(i.split('-')) == 1:\n",
        "    min_salary = ''.join(re.findall(r'\\d', i.split('PA')[0]))\n",
        "    max_salary = ''.join(re.findall(r'\\d', i.split('PA')[0]))\n",
        "\n",
        "\n",
        "  min_salaries.append(min_salary)\n",
        "  max_salaries.append(max_salary)\n",
        "\n",
        "df['min_salary'] = min_salaries\n",
        "df['max_salary'] = max_salaries"
      ],
      "metadata": {
        "id": "bMqOlet-2RUb"
      },
      "execution_count": 133,
      "outputs": []
    },
    {
      "cell_type": "markdown",
      "source": [
        "###### 2.5.3 Clean further minimum and maximum salaries"
      ],
      "metadata": {
        "id": "EYWNXx1gB4ep"
      }
    },
    {
      "cell_type": "code",
      "source": [
        "df.loc[df['min_salary'] == 'Less than 5000', 'min_salary'] = '5000'\n",
        "df.loc[df['min_salary'] == 'Less than 50000', 'min_salary'] = '50000'"
      ],
      "metadata": {
        "id": "vlxoSnCYB48j"
      },
      "execution_count": 134,
      "outputs": []
    },
    {
      "cell_type": "markdown",
      "source": [
        "#### 2.6) Cleaning Reviews Column"
      ],
      "metadata": {
        "id": "l4XgTkdiDXa2"
      }
    },
    {
      "cell_type": "code",
      "source": [
        "df['reviews'] = df['reviews'].str.split(' ').str[0].astype('int')"
      ],
      "metadata": {
        "id": "fmh8yznxrEuI"
      },
      "execution_count": 149,
      "outputs": []
    },
    {
      "cell_type": "markdown",
      "source": [
        "#### 2.7) Cleaning Location"
      ],
      "metadata": {
        "id": "PTbvaue_DmUP"
      }
    },
    {
      "cell_type": "code",
      "source": [
        "df['location'].str.split(',').explode().str.lower().explode().nunique()"
      ],
      "metadata": {
        "colab": {
          "base_uri": "https://localhost:8080/"
        },
        "id": "8lkloZjYDr0G",
        "outputId": "a00f2662-0108-4cf9-d8c7-47a31ce38231"
      },
      "execution_count": 159,
      "outputs": [
        {
          "output_type": "execute_result",
          "data": {
            "text/plain": [
              "4777"
            ]
          },
          "metadata": {},
          "execution_count": 159
        }
      ]
    },
    {
      "cell_type": "code",
      "source": [
        "df['location'].str.split(',').explode().str.lower().explode().str.split('/').explode().str.split('-').explode().unique()"
      ],
      "metadata": {
        "colab": {
          "base_uri": "https://localhost:8080/"
        },
        "id": "wkF0N8haEJ0G",
        "outputId": "412e2f69-71b6-4774-abd7-d23332cdb45e"
      },
      "execution_count": 166,
      "outputs": [
        {
          "output_type": "execute_result",
          "data": {
            "text/plain": [
              "array(['kolkata', ' hyderabad', 'secunderabad', ..., ' nerul',\n",
              "       ' ambavadi', ' maninagar'], dtype=object)"
            ]
          },
          "metadata": {},
          "execution_count": 166
        }
      ]
    },
    {
      "cell_type": "code",
      "source": [
        "df['resposibilities'].str.split(',').explode().value_counts().head(20)"
      ],
      "metadata": {
        "colab": {
          "base_uri": "https://localhost:8080/",
          "height": 742
        },
        "id": "iJZuk-VKEZxf",
        "outputId": "1f06050b-db96-4212-fcc0-727b880b11d1"
      },
      "execution_count": 170,
      "outputs": [
        {
          "output_type": "execute_result",
          "data": {
            "text/plain": [
              "resposibilities\n",
              "Sales                   4616\n",
              "tied                    3310\n",
              "agency                  3307\n",
              "communication           2553\n",
              "training                2217\n",
              "Consulting              2099\n",
              "Customer Service        2008\n",
              "Java                    1970\n",
              "Business Development    1965\n",
              "team handling           1951\n",
              "team                    1899\n",
              "agent                   1821\n",
              "direct                  1810\n",
              "business                1808\n",
              "channel                 1807\n",
              "dst                     1800\n",
              "SQL                     1771\n",
              "Management              1743\n",
              "Life Insurance          1724\n",
              "BPO                     1721\n",
              "Name: count, dtype: int64"
            ],
            "text/html": [
              "<div>\n",
              "<style scoped>\n",
              "    .dataframe tbody tr th:only-of-type {\n",
              "        vertical-align: middle;\n",
              "    }\n",
              "\n",
              "    .dataframe tbody tr th {\n",
              "        vertical-align: top;\n",
              "    }\n",
              "\n",
              "    .dataframe thead th {\n",
              "        text-align: right;\n",
              "    }\n",
              "</style>\n",
              "<table border=\"1\" class=\"dataframe\">\n",
              "  <thead>\n",
              "    <tr style=\"text-align: right;\">\n",
              "      <th></th>\n",
              "      <th>count</th>\n",
              "    </tr>\n",
              "    <tr>\n",
              "      <th>resposibilities</th>\n",
              "      <th></th>\n",
              "    </tr>\n",
              "  </thead>\n",
              "  <tbody>\n",
              "    <tr>\n",
              "      <th>Sales</th>\n",
              "      <td>4616</td>\n",
              "    </tr>\n",
              "    <tr>\n",
              "      <th>tied</th>\n",
              "      <td>3310</td>\n",
              "    </tr>\n",
              "    <tr>\n",
              "      <th>agency</th>\n",
              "      <td>3307</td>\n",
              "    </tr>\n",
              "    <tr>\n",
              "      <th>communication</th>\n",
              "      <td>2553</td>\n",
              "    </tr>\n",
              "    <tr>\n",
              "      <th>training</th>\n",
              "      <td>2217</td>\n",
              "    </tr>\n",
              "    <tr>\n",
              "      <th>Consulting</th>\n",
              "      <td>2099</td>\n",
              "    </tr>\n",
              "    <tr>\n",
              "      <th>Customer Service</th>\n",
              "      <td>2008</td>\n",
              "    </tr>\n",
              "    <tr>\n",
              "      <th>Java</th>\n",
              "      <td>1970</td>\n",
              "    </tr>\n",
              "    <tr>\n",
              "      <th>Business Development</th>\n",
              "      <td>1965</td>\n",
              "    </tr>\n",
              "    <tr>\n",
              "      <th>team handling</th>\n",
              "      <td>1951</td>\n",
              "    </tr>\n",
              "    <tr>\n",
              "      <th>team</th>\n",
              "      <td>1899</td>\n",
              "    </tr>\n",
              "    <tr>\n",
              "      <th>agent</th>\n",
              "      <td>1821</td>\n",
              "    </tr>\n",
              "    <tr>\n",
              "      <th>direct</th>\n",
              "      <td>1810</td>\n",
              "    </tr>\n",
              "    <tr>\n",
              "      <th>business</th>\n",
              "      <td>1808</td>\n",
              "    </tr>\n",
              "    <tr>\n",
              "      <th>channel</th>\n",
              "      <td>1807</td>\n",
              "    </tr>\n",
              "    <tr>\n",
              "      <th>dst</th>\n",
              "      <td>1800</td>\n",
              "    </tr>\n",
              "    <tr>\n",
              "      <th>SQL</th>\n",
              "      <td>1771</td>\n",
              "    </tr>\n",
              "    <tr>\n",
              "      <th>Management</th>\n",
              "      <td>1743</td>\n",
              "    </tr>\n",
              "    <tr>\n",
              "      <th>Life Insurance</th>\n",
              "      <td>1724</td>\n",
              "    </tr>\n",
              "    <tr>\n",
              "      <th>BPO</th>\n",
              "      <td>1721</td>\n",
              "    </tr>\n",
              "  </tbody>\n",
              "</table>\n",
              "</div><br><label><b>dtype:</b> int64</label>"
            ]
          },
          "metadata": {},
          "execution_count": 170
        }
      ]
    },
    {
      "cell_type": "code",
      "source": [
        "df.head()"
      ],
      "metadata": {
        "colab": {
          "base_uri": "https://localhost:8080/",
          "height": 538
        },
        "id": "1DwmUkOKCqkm",
        "outputId": "c36c6c73-e6e0-4e6d-ccfb-e01a4b9e0265"
      },
      "execution_count": 141,
      "outputs": [
        {
          "output_type": "execute_result",
          "data": {
            "text/plain": [
              "        job_id                                           job_role    company  \\\n",
              "0  70123006070      Branch Banking - Calling For Women Candidates  Hdfc Bank   \n",
              "1  60123905908                       Product Owner Senior Manager  Accenture   \n",
              "2  60123905898  Employee Relations and Policies Associate Manager  Accenture   \n",
              "3  60123905897         Employee Relations and Policies Specialist  Accenture   \n",
              "4  60123008332                                  SAP BO Consultant   Mindtree   \n",
              "\n",
              "  experience         salary  \\\n",
              "0    1-6 Yrs  Not disclosed   \n",
              "1  11-15 Yrs  Not disclosed   \n",
              "2    3-7 Yrs  Not disclosed   \n",
              "3    3-7 Yrs  Not disclosed   \n",
              "4    5-7 Yrs  Not disclosed   \n",
              "\n",
              "                                            location  rating        reviews  \\\n",
              "0  Kolkata, Hyderabad/Secunderabad, Pune, Ahmedab...     4.0  39110 Reviews   \n",
              "1  Kolkata, Mumbai, Hyderabad/Secunderabad, Pune,...     4.1  32129 Reviews   \n",
              "2  Kolkata, Mumbai, Hyderabad/Secunderabad, Pune,...     4.1  32129 Reviews   \n",
              "3  Kolkata, Mumbai, Hyderabad/Secunderabad, Pune,...     4.1  32129 Reviews   \n",
              "4  Hybrid - Kolkata, Hyderabad/Secunderabad, Pune...     4.1   3759 Reviews   \n",
              "\n",
              "                                     resposibilities  \\\n",
              "0     Customer Service,Sales,Relationship Management   \n",
              "1  Product management,Market analysis,Change mana...   \n",
              "2  Business process,Change management,Team manage...   \n",
              "3  Business process,Change management,Team manage...   \n",
              "4  SAP BO,PL / SQL,Oracle SQL,SAP Business Object...   \n",
              "\n",
              "                                            job_link  \\\n",
              "0  https://www.naukri.com/job-listings-branch-ban...   \n",
              "1  https://www.naukri.com/job-listings-product-ow...   \n",
              "2  https://www.naukri.com/job-listings-employee-r...   \n",
              "3  https://www.naukri.com/job-listings-employee-r...   \n",
              "4  https://www.naukri.com/job-listings-sap-bo-con...   \n",
              "\n",
              "                                        company_link company_id  start_exp  \\\n",
              "0  https://www.naukri.com/hdfc-bank-jobs-careers-213        213          1   \n",
              "1  https://www.naukri.com/accenture-jobs-careers-...       7682         11   \n",
              "2  https://www.naukri.com/accenture-jobs-careers-...       7682          3   \n",
              "3  https://www.naukri.com/accenture-jobs-careers-...       7682          3   \n",
              "4  https://www.naukri.com/mindtree-jobs-careers-3...      30528          5   \n",
              "\n",
              "   end_exp   salary_clean     min_salary     max_salary  \n",
              "0        6  Not disclosed  Not disclosed  Not disclosed  \n",
              "1       15  Not disclosed  Not disclosed  Not disclosed  \n",
              "2        7  Not disclosed  Not disclosed  Not disclosed  \n",
              "3        7  Not disclosed  Not disclosed  Not disclosed  \n",
              "4        7  Not disclosed  Not disclosed  Not disclosed  "
            ],
            "text/html": [
              "\n",
              "  <div id=\"df-3e633974-85a6-47d7-bb80-0b526bc5bad5\" class=\"colab-df-container\">\n",
              "    <div>\n",
              "<style scoped>\n",
              "    .dataframe tbody tr th:only-of-type {\n",
              "        vertical-align: middle;\n",
              "    }\n",
              "\n",
              "    .dataframe tbody tr th {\n",
              "        vertical-align: top;\n",
              "    }\n",
              "\n",
              "    .dataframe thead th {\n",
              "        text-align: right;\n",
              "    }\n",
              "</style>\n",
              "<table border=\"1\" class=\"dataframe\">\n",
              "  <thead>\n",
              "    <tr style=\"text-align: right;\">\n",
              "      <th></th>\n",
              "      <th>job_id</th>\n",
              "      <th>job_role</th>\n",
              "      <th>company</th>\n",
              "      <th>experience</th>\n",
              "      <th>salary</th>\n",
              "      <th>location</th>\n",
              "      <th>rating</th>\n",
              "      <th>reviews</th>\n",
              "      <th>resposibilities</th>\n",
              "      <th>job_link</th>\n",
              "      <th>company_link</th>\n",
              "      <th>company_id</th>\n",
              "      <th>start_exp</th>\n",
              "      <th>end_exp</th>\n",
              "      <th>salary_clean</th>\n",
              "      <th>min_salary</th>\n",
              "      <th>max_salary</th>\n",
              "    </tr>\n",
              "  </thead>\n",
              "  <tbody>\n",
              "    <tr>\n",
              "      <th>0</th>\n",
              "      <td>70123006070</td>\n",
              "      <td>Branch Banking - Calling For Women Candidates</td>\n",
              "      <td>Hdfc Bank</td>\n",
              "      <td>1-6 Yrs</td>\n",
              "      <td>Not disclosed</td>\n",
              "      <td>Kolkata, Hyderabad/Secunderabad, Pune, Ahmedab...</td>\n",
              "      <td>4.0</td>\n",
              "      <td>39110 Reviews</td>\n",
              "      <td>Customer Service,Sales,Relationship Management</td>\n",
              "      <td>https://www.naukri.com/job-listings-branch-ban...</td>\n",
              "      <td>https://www.naukri.com/hdfc-bank-jobs-careers-213</td>\n",
              "      <td>213</td>\n",
              "      <td>1</td>\n",
              "      <td>6</td>\n",
              "      <td>Not disclosed</td>\n",
              "      <td>Not disclosed</td>\n",
              "      <td>Not disclosed</td>\n",
              "    </tr>\n",
              "    <tr>\n",
              "      <th>1</th>\n",
              "      <td>60123905908</td>\n",
              "      <td>Product Owner Senior Manager</td>\n",
              "      <td>Accenture</td>\n",
              "      <td>11-15 Yrs</td>\n",
              "      <td>Not disclosed</td>\n",
              "      <td>Kolkata, Mumbai, Hyderabad/Secunderabad, Pune,...</td>\n",
              "      <td>4.1</td>\n",
              "      <td>32129 Reviews</td>\n",
              "      <td>Product management,Market analysis,Change mana...</td>\n",
              "      <td>https://www.naukri.com/job-listings-product-ow...</td>\n",
              "      <td>https://www.naukri.com/accenture-jobs-careers-...</td>\n",
              "      <td>7682</td>\n",
              "      <td>11</td>\n",
              "      <td>15</td>\n",
              "      <td>Not disclosed</td>\n",
              "      <td>Not disclosed</td>\n",
              "      <td>Not disclosed</td>\n",
              "    </tr>\n",
              "    <tr>\n",
              "      <th>2</th>\n",
              "      <td>60123905898</td>\n",
              "      <td>Employee Relations and Policies Associate Manager</td>\n",
              "      <td>Accenture</td>\n",
              "      <td>3-7 Yrs</td>\n",
              "      <td>Not disclosed</td>\n",
              "      <td>Kolkata, Mumbai, Hyderabad/Secunderabad, Pune,...</td>\n",
              "      <td>4.1</td>\n",
              "      <td>32129 Reviews</td>\n",
              "      <td>Business process,Change management,Team manage...</td>\n",
              "      <td>https://www.naukri.com/job-listings-employee-r...</td>\n",
              "      <td>https://www.naukri.com/accenture-jobs-careers-...</td>\n",
              "      <td>7682</td>\n",
              "      <td>3</td>\n",
              "      <td>7</td>\n",
              "      <td>Not disclosed</td>\n",
              "      <td>Not disclosed</td>\n",
              "      <td>Not disclosed</td>\n",
              "    </tr>\n",
              "    <tr>\n",
              "      <th>3</th>\n",
              "      <td>60123905897</td>\n",
              "      <td>Employee Relations and Policies Specialist</td>\n",
              "      <td>Accenture</td>\n",
              "      <td>3-7 Yrs</td>\n",
              "      <td>Not disclosed</td>\n",
              "      <td>Kolkata, Mumbai, Hyderabad/Secunderabad, Pune,...</td>\n",
              "      <td>4.1</td>\n",
              "      <td>32129 Reviews</td>\n",
              "      <td>Business process,Change management,Team manage...</td>\n",
              "      <td>https://www.naukri.com/job-listings-employee-r...</td>\n",
              "      <td>https://www.naukri.com/accenture-jobs-careers-...</td>\n",
              "      <td>7682</td>\n",
              "      <td>3</td>\n",
              "      <td>7</td>\n",
              "      <td>Not disclosed</td>\n",
              "      <td>Not disclosed</td>\n",
              "      <td>Not disclosed</td>\n",
              "    </tr>\n",
              "    <tr>\n",
              "      <th>4</th>\n",
              "      <td>60123008332</td>\n",
              "      <td>SAP BO Consultant</td>\n",
              "      <td>Mindtree</td>\n",
              "      <td>5-7 Yrs</td>\n",
              "      <td>Not disclosed</td>\n",
              "      <td>Hybrid - Kolkata, Hyderabad/Secunderabad, Pune...</td>\n",
              "      <td>4.1</td>\n",
              "      <td>3759 Reviews</td>\n",
              "      <td>SAP BO,PL / SQL,Oracle SQL,SAP Business Object...</td>\n",
              "      <td>https://www.naukri.com/job-listings-sap-bo-con...</td>\n",
              "      <td>https://www.naukri.com/mindtree-jobs-careers-3...</td>\n",
              "      <td>30528</td>\n",
              "      <td>5</td>\n",
              "      <td>7</td>\n",
              "      <td>Not disclosed</td>\n",
              "      <td>Not disclosed</td>\n",
              "      <td>Not disclosed</td>\n",
              "    </tr>\n",
              "  </tbody>\n",
              "</table>\n",
              "</div>\n",
              "    <div class=\"colab-df-buttons\">\n",
              "\n",
              "  <div class=\"colab-df-container\">\n",
              "    <button class=\"colab-df-convert\" onclick=\"convertToInteractive('df-3e633974-85a6-47d7-bb80-0b526bc5bad5')\"\n",
              "            title=\"Convert this dataframe to an interactive table.\"\n",
              "            style=\"display:none;\">\n",
              "\n",
              "  <svg xmlns=\"http://www.w3.org/2000/svg\" height=\"24px\" viewBox=\"0 -960 960 960\">\n",
              "    <path d=\"M120-120v-720h720v720H120Zm60-500h600v-160H180v160Zm220 220h160v-160H400v160Zm0 220h160v-160H400v160ZM180-400h160v-160H180v160Zm440 0h160v-160H620v160ZM180-180h160v-160H180v160Zm440 0h160v-160H620v160Z\"/>\n",
              "  </svg>\n",
              "    </button>\n",
              "\n",
              "  <style>\n",
              "    .colab-df-container {\n",
              "      display:flex;\n",
              "      gap: 12px;\n",
              "    }\n",
              "\n",
              "    .colab-df-convert {\n",
              "      background-color: #E8F0FE;\n",
              "      border: none;\n",
              "      border-radius: 50%;\n",
              "      cursor: pointer;\n",
              "      display: none;\n",
              "      fill: #1967D2;\n",
              "      height: 32px;\n",
              "      padding: 0 0 0 0;\n",
              "      width: 32px;\n",
              "    }\n",
              "\n",
              "    .colab-df-convert:hover {\n",
              "      background-color: #E2EBFA;\n",
              "      box-shadow: 0px 1px 2px rgba(60, 64, 67, 0.3), 0px 1px 3px 1px rgba(60, 64, 67, 0.15);\n",
              "      fill: #174EA6;\n",
              "    }\n",
              "\n",
              "    .colab-df-buttons div {\n",
              "      margin-bottom: 4px;\n",
              "    }\n",
              "\n",
              "    [theme=dark] .colab-df-convert {\n",
              "      background-color: #3B4455;\n",
              "      fill: #D2E3FC;\n",
              "    }\n",
              "\n",
              "    [theme=dark] .colab-df-convert:hover {\n",
              "      background-color: #434B5C;\n",
              "      box-shadow: 0px 1px 3px 1px rgba(0, 0, 0, 0.15);\n",
              "      filter: drop-shadow(0px 1px 2px rgba(0, 0, 0, 0.3));\n",
              "      fill: #FFFFFF;\n",
              "    }\n",
              "  </style>\n",
              "\n",
              "    <script>\n",
              "      const buttonEl =\n",
              "        document.querySelector('#df-3e633974-85a6-47d7-bb80-0b526bc5bad5 button.colab-df-convert');\n",
              "      buttonEl.style.display =\n",
              "        google.colab.kernel.accessAllowed ? 'block' : 'none';\n",
              "\n",
              "      async function convertToInteractive(key) {\n",
              "        const element = document.querySelector('#df-3e633974-85a6-47d7-bb80-0b526bc5bad5');\n",
              "        const dataTable =\n",
              "          await google.colab.kernel.invokeFunction('convertToInteractive',\n",
              "                                                    [key], {});\n",
              "        if (!dataTable) return;\n",
              "\n",
              "        const docLinkHtml = 'Like what you see? Visit the ' +\n",
              "          '<a target=\"_blank\" href=https://colab.research.google.com/notebooks/data_table.ipynb>data table notebook</a>'\n",
              "          + ' to learn more about interactive tables.';\n",
              "        element.innerHTML = '';\n",
              "        dataTable['output_type'] = 'display_data';\n",
              "        await google.colab.output.renderOutput(dataTable, element);\n",
              "        const docLink = document.createElement('div');\n",
              "        docLink.innerHTML = docLinkHtml;\n",
              "        element.appendChild(docLink);\n",
              "      }\n",
              "    </script>\n",
              "  </div>\n",
              "\n",
              "\n",
              "<div id=\"df-d8c5aaad-d045-47a4-a1dc-b545eb5a7780\">\n",
              "  <button class=\"colab-df-quickchart\" onclick=\"quickchart('df-d8c5aaad-d045-47a4-a1dc-b545eb5a7780')\"\n",
              "            title=\"Suggest charts\"\n",
              "            style=\"display:none;\">\n",
              "\n",
              "<svg xmlns=\"http://www.w3.org/2000/svg\" height=\"24px\"viewBox=\"0 0 24 24\"\n",
              "     width=\"24px\">\n",
              "    <g>\n",
              "        <path d=\"M19 3H5c-1.1 0-2 .9-2 2v14c0 1.1.9 2 2 2h14c1.1 0 2-.9 2-2V5c0-1.1-.9-2-2-2zM9 17H7v-7h2v7zm4 0h-2V7h2v10zm4 0h-2v-4h2v4z\"/>\n",
              "    </g>\n",
              "</svg>\n",
              "  </button>\n",
              "\n",
              "<style>\n",
              "  .colab-df-quickchart {\n",
              "      --bg-color: #E8F0FE;\n",
              "      --fill-color: #1967D2;\n",
              "      --hover-bg-color: #E2EBFA;\n",
              "      --hover-fill-color: #174EA6;\n",
              "      --disabled-fill-color: #AAA;\n",
              "      --disabled-bg-color: #DDD;\n",
              "  }\n",
              "\n",
              "  [theme=dark] .colab-df-quickchart {\n",
              "      --bg-color: #3B4455;\n",
              "      --fill-color: #D2E3FC;\n",
              "      --hover-bg-color: #434B5C;\n",
              "      --hover-fill-color: #FFFFFF;\n",
              "      --disabled-bg-color: #3B4455;\n",
              "      --disabled-fill-color: #666;\n",
              "  }\n",
              "\n",
              "  .colab-df-quickchart {\n",
              "    background-color: var(--bg-color);\n",
              "    border: none;\n",
              "    border-radius: 50%;\n",
              "    cursor: pointer;\n",
              "    display: none;\n",
              "    fill: var(--fill-color);\n",
              "    height: 32px;\n",
              "    padding: 0;\n",
              "    width: 32px;\n",
              "  }\n",
              "\n",
              "  .colab-df-quickchart:hover {\n",
              "    background-color: var(--hover-bg-color);\n",
              "    box-shadow: 0 1px 2px rgba(60, 64, 67, 0.3), 0 1px 3px 1px rgba(60, 64, 67, 0.15);\n",
              "    fill: var(--button-hover-fill-color);\n",
              "  }\n",
              "\n",
              "  .colab-df-quickchart-complete:disabled,\n",
              "  .colab-df-quickchart-complete:disabled:hover {\n",
              "    background-color: var(--disabled-bg-color);\n",
              "    fill: var(--disabled-fill-color);\n",
              "    box-shadow: none;\n",
              "  }\n",
              "\n",
              "  .colab-df-spinner {\n",
              "    border: 2px solid var(--fill-color);\n",
              "    border-color: transparent;\n",
              "    border-bottom-color: var(--fill-color);\n",
              "    animation:\n",
              "      spin 1s steps(1) infinite;\n",
              "  }\n",
              "\n",
              "  @keyframes spin {\n",
              "    0% {\n",
              "      border-color: transparent;\n",
              "      border-bottom-color: var(--fill-color);\n",
              "      border-left-color: var(--fill-color);\n",
              "    }\n",
              "    20% {\n",
              "      border-color: transparent;\n",
              "      border-left-color: var(--fill-color);\n",
              "      border-top-color: var(--fill-color);\n",
              "    }\n",
              "    30% {\n",
              "      border-color: transparent;\n",
              "      border-left-color: var(--fill-color);\n",
              "      border-top-color: var(--fill-color);\n",
              "      border-right-color: var(--fill-color);\n",
              "    }\n",
              "    40% {\n",
              "      border-color: transparent;\n",
              "      border-right-color: var(--fill-color);\n",
              "      border-top-color: var(--fill-color);\n",
              "    }\n",
              "    60% {\n",
              "      border-color: transparent;\n",
              "      border-right-color: var(--fill-color);\n",
              "    }\n",
              "    80% {\n",
              "      border-color: transparent;\n",
              "      border-right-color: var(--fill-color);\n",
              "      border-bottom-color: var(--fill-color);\n",
              "    }\n",
              "    90% {\n",
              "      border-color: transparent;\n",
              "      border-bottom-color: var(--fill-color);\n",
              "    }\n",
              "  }\n",
              "</style>\n",
              "\n",
              "  <script>\n",
              "    async function quickchart(key) {\n",
              "      const quickchartButtonEl =\n",
              "        document.querySelector('#' + key + ' button');\n",
              "      quickchartButtonEl.disabled = true;  // To prevent multiple clicks.\n",
              "      quickchartButtonEl.classList.add('colab-df-spinner');\n",
              "      try {\n",
              "        const charts = await google.colab.kernel.invokeFunction(\n",
              "            'suggestCharts', [key], {});\n",
              "      } catch (error) {\n",
              "        console.error('Error during call to suggestCharts:', error);\n",
              "      }\n",
              "      quickchartButtonEl.classList.remove('colab-df-spinner');\n",
              "      quickchartButtonEl.classList.add('colab-df-quickchart-complete');\n",
              "    }\n",
              "    (() => {\n",
              "      let quickchartButtonEl =\n",
              "        document.querySelector('#df-d8c5aaad-d045-47a4-a1dc-b545eb5a7780 button');\n",
              "      quickchartButtonEl.style.display =\n",
              "        google.colab.kernel.accessAllowed ? 'block' : 'none';\n",
              "    })();\n",
              "  </script>\n",
              "</div>\n",
              "\n",
              "    </div>\n",
              "  </div>\n"
            ],
            "application/vnd.google.colaboratory.intrinsic+json": {
              "type": "dataframe",
              "variable_name": "df",
              "summary": "{\n  \"name\": \"df\",\n  \"rows\": 72815,\n  \"fields\": [\n    {\n      \"column\": \"job_id\",\n      \"properties\": {\n        \"dtype\": \"string\",\n        \"num_unique_values\": 72815,\n        \"samples\": [\n          \"261022005905\",\n          \"70123004760\",\n          \"30123011697\"\n        ],\n        \"semantic_type\": \"\",\n        \"description\": \"\"\n      }\n    },\n    {\n      \"column\": \"job_role\",\n      \"properties\": {\n        \"dtype\": \"string\",\n        \"num_unique_values\": 50933,\n        \"samples\": [\n          \"Hiring For Deputy Manager Operations- Gurgaon\",\n          \"Sales Manager - Inside Sales\",\n          \"Software Developer (Autosar)\"\n        ],\n        \"semantic_type\": \"\",\n        \"description\": \"\"\n      }\n    },\n    {\n      \"column\": \"company\",\n      \"properties\": {\n        \"dtype\": \"category\",\n        \"num_unique_values\": 15253,\n        \"samples\": [\n          \"Shivoham Infotech\",\n          \"RAVR INDUSTRIES PVT LTD\",\n          \"Shiksha Financial Services India\"\n        ],\n        \"semantic_type\": \"\",\n        \"description\": \"\"\n      }\n    },\n    {\n      \"column\": \"experience\",\n      \"properties\": {\n        \"dtype\": \"category\",\n        \"num_unique_values\": 231,\n        \"samples\": [\n          \"16-19 Yrs\",\n          \"10-12 Yrs\",\n          \"3-8 Yrs\"\n        ],\n        \"semantic_type\": \"\",\n        \"description\": \"\"\n      }\n    },\n    {\n      \"column\": \"salary\",\n      \"properties\": {\n        \"dtype\": \"category\",\n        \"num_unique_values\": 812,\n        \"samples\": [\n          \"50,000 - 80,000 PA.\",\n          \"1,50,00,000 - 3,00,00,000 PA.\",\n          \"1,25,000 - 2,25,000 PA.\"\n        ],\n        \"semantic_type\": \"\",\n        \"description\": \"\"\n      }\n    },\n    {\n      \"column\": \"location\",\n      \"properties\": {\n        \"dtype\": \"category\",\n        \"num_unique_values\": 9007,\n        \"samples\": [\n          \"New Delhi(Shadipur +1)\",\n          \"Noida(Sector-63 Noida), Ghaziabad, Gautam Buddha Nagar\",\n          \"Kolkata, Purulia, Raniganj\"\n        ],\n        \"semantic_type\": \"\",\n        \"description\": \"\"\n      }\n    },\n    {\n      \"column\": \"rating\",\n      \"properties\": {\n        \"dtype\": \"number\",\n        \"std\": 2.0062215562986334,\n        \"min\": 0.0,\n        \"max\": 5.0,\n        \"num_unique_values\": 42,\n        \"samples\": [\n          2.2,\n          3.4,\n          4.4\n        ],\n        \"semantic_type\": \"\",\n        \"description\": \"\"\n      }\n    },\n    {\n      \"column\": \"reviews\",\n      \"properties\": {\n        \"dtype\": \"category\",\n        \"num_unique_values\": 975,\n        \"samples\": [\n          \"157 Reviews\",\n          \"2692 Reviews\",\n          \"4125 Reviews\"\n        ],\n        \"semantic_type\": \"\",\n        \"description\": \"\"\n      }\n    },\n    {\n      \"column\": \"resposibilities\",\n      \"properties\": {\n        \"dtype\": \"string\",\n        \"num_unique_values\": 61752,\n        \"samples\": [\n          \"Comptia,Azure,backup,Exchange online,A+,networking,Vmware,System Administrator\",\n          \"Unit Testing,Java,Coding,C++,Agile,Linux,communication,R&D\",\n          \"social media marketing,brand marketing,copy writing,Corel Draw,Pagemaker,Photoshop,digital advertising,content creation\"\n        ],\n        \"semantic_type\": \"\",\n        \"description\": \"\"\n      }\n    },\n    {\n      \"column\": \"job_link\",\n      \"properties\": {\n        \"dtype\": \"string\",\n        \"num_unique_values\": 72815,\n        \"samples\": [\n          \"https://www.naukri.com/job-listings-content-writer-sheopals-new-delhi-delhi-ncr-1-to-6-years-261022005905\",\n          \"https://www.naukri.com/job-listings-typing-work-home-home-based-part-time-work-online-data-entry-operator-raushan-kumar-warangal-mysore-mysuru-vellore-0-to-5-years-070123004760\",\n          \"https://www.naukri.com/job-listings-lead-front-end-angular-newage-software-solutions-bangalore-bengaluru-6-to-10-years-030123011697\"\n        ],\n        \"semantic_type\": \"\",\n        \"description\": \"\"\n      }\n    },\n    {\n      \"column\": \"company_link\",\n      \"properties\": {\n        \"dtype\": \"category\",\n        \"num_unique_values\": 13792,\n        \"samples\": [\n          \"https://www.naukri.com/universal-services-jobs-careers-5940074\",\n          \"https://www.naukri.com/sampark-careers-developers-jobs-careers-1051\",\n          \"https://www.naukri.com/n2-systems-jobs-careers-5319334\"\n        ],\n        \"semantic_type\": \"\",\n        \"description\": \"\"\n      }\n    },\n    {\n      \"column\": \"company_id\",\n      \"properties\": {\n        \"dtype\": \"category\",\n        \"num_unique_values\": 13790,\n        \"samples\": [\n          \"3073852\",\n          \"1954316\",\n          \"5210250\"\n        ],\n        \"semantic_type\": \"\",\n        \"description\": \"\"\n      }\n    },\n    {\n      \"column\": \"start_exp\",\n      \"properties\": {\n        \"dtype\": \"number\",\n        \"std\": 2,\n        \"min\": 0,\n        \"max\": 28,\n        \"num_unique_values\": 29,\n        \"samples\": [\n          21,\n          13,\n          15\n        ],\n        \"semantic_type\": \"\",\n        \"description\": \"\"\n      }\n    },\n    {\n      \"column\": \"end_exp\",\n      \"properties\": {\n        \"dtype\": \"number\",\n        \"std\": 3,\n        \"min\": 0,\n        \"max\": 31,\n        \"num_unique_values\": 32,\n        \"samples\": [\n          27,\n          18,\n          21\n        ],\n        \"semantic_type\": \"\",\n        \"description\": \"\"\n      }\n    },\n    {\n      \"column\": \"salary_clean\",\n      \"properties\": {\n        \"dtype\": \"category\",\n        \"num_unique_values\": 792,\n        \"samples\": [\n          \"1,25,000 - 1,75,000 PA. (Including Variable: 30.0%)\",\n          \"4,75,000 - 7,50,000 PA.\",\n          \"4,50,000 PA.\"\n        ],\n        \"semantic_type\": \"\",\n        \"description\": \"\"\n      }\n    },\n    {\n      \"column\": \"min_salary\",\n      \"properties\": {\n        \"dtype\": \"category\",\n        \"num_unique_values\": 78,\n        \"samples\": [\n          \"60000\",\n          \"Not disclosed\",\n          \"3000000\"\n        ],\n        \"semantic_type\": \"\",\n        \"description\": \"\"\n      }\n    },\n    {\n      \"column\": \"max_salary\",\n      \"properties\": {\n        \"dtype\": \"category\",\n        \"num_unique_values\": 107,\n        \"samples\": [\n          \"7000000\",\n          \"1400000\",\n          \"350000\"\n        ],\n        \"semantic_type\": \"\",\n        \"description\": \"\"\n      }\n    }\n  ]\n}"
            }
          },
          "metadata": {},
          "execution_count": 141
        }
      ]
    },
    {
      "cell_type": "code",
      "source": [],
      "metadata": {
        "id": "5LhuEEcrC1oK"
      },
      "execution_count": null,
      "outputs": []
    },
    {
      "cell_type": "code",
      "source": [],
      "metadata": {
        "id": "HyutsX7hC1mF"
      },
      "execution_count": null,
      "outputs": []
    },
    {
      "cell_type": "code",
      "source": [],
      "metadata": {
        "id": "k8kIX4JKC1ju"
      },
      "execution_count": null,
      "outputs": []
    },
    {
      "cell_type": "code",
      "source": [],
      "metadata": {
        "id": "R9p_VJqKC1hc"
      },
      "execution_count": null,
      "outputs": []
    },
    {
      "cell_type": "code",
      "source": [
        "- Number of Active Jobs in Any Company | Top Companies\n",
        "- Company which provides maximum/minimum average Salary\n",
        "- Salary vs Experience of any Company\n",
        "- Company hiring for most numbers of locations"
      ],
      "metadata": {
        "id": "IPoYro5In5Kx",
        "colab": {
          "base_uri": "https://localhost:8080/",
          "height": 106
        },
        "outputId": "5f15fd75-99d7-4a8a-982c-876a8a2eadf4"
      },
      "execution_count": 18,
      "outputs": [
        {
          "output_type": "error",
          "ename": "SyntaxError",
          "evalue": "invalid syntax (<ipython-input-18-9565e96a72fc>, line 1)",
          "traceback": [
            "\u001b[0;36m  File \u001b[0;32m\"<ipython-input-18-9565e96a72fc>\"\u001b[0;36m, line \u001b[0;32m1\u001b[0m\n\u001b[0;31m    - Number of Active Jobs in Any Company | Top Companies\u001b[0m\n\u001b[0m             ^\u001b[0m\n\u001b[0;31mSyntaxError\u001b[0m\u001b[0;31m:\u001b[0m invalid syntax\n"
          ]
        }
      ]
    },
    {
      "cell_type": "code",
      "source": [
        "1. Analyze Company Ratings\n",
        "  - Calculate the average rating for each company\n",
        "  - Identify companies with the highest and lowest average ratings.\n",
        "  - Compare the distribution of ratings across different companies.\n",
        "  - Calculate the total number of reviews for each company. | Sort to get most and LiteralString\n",
        "\n",
        "- List the top 10 companies based on average rating and number of reviews.\n",
        "- Analyze the characteristics and practices of these top-rated companies. | Most Popular Responsibilities of top 100 companies\n"
      ],
      "metadata": {
        "id": "1xYIqSK9n5BK"
      },
      "execution_count": null,
      "outputs": []
    }
  ]
}