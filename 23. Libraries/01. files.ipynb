{
 "cells": [
  {
   "cell_type": "markdown",
   "id": "9eb58f21",
   "metadata": {},
   "source": [
    "## 1. Creating a Text-file"
   ]
  },
  {
   "cell_type": "code",
   "execution_count": 255,
   "id": "7c4af35e",
   "metadata": {},
   "outputs": [],
   "source": [
    "fd = open('file.txt','w')\n",
    "fd.close()"
   ]
  },
  {
   "cell_type": "markdown",
   "id": "793d5391",
   "metadata": {},
   "source": [
    "## 2. Data Writing on File (write mode)"
   ]
  },
  {
   "cell_type": "code",
   "execution_count": 268,
   "id": "8be9de26",
   "metadata": {},
   "outputs": [],
   "source": [
    "fd = open('file.txt','w')\n",
    "\n",
    "fd.write('Hi')\n",
    "\n",
    "fd.close()"
   ]
  },
  {
   "cell_type": "markdown",
   "id": "fc1ce186",
   "metadata": {},
   "source": [
    "## 3. Data Writing on File (append mode)"
   ]
  },
  {
   "cell_type": "code",
   "execution_count": 267,
   "id": "e0efcaad",
   "metadata": {},
   "outputs": [],
   "source": [
    "fd = open('file.txt','a')\n",
    "\n",
    "fd.write('How are you?')\n",
    "\n",
    "fd.close()"
   ]
  },
  {
   "cell_type": "markdown",
   "id": "f333ac07",
   "metadata": {},
   "source": [
    "## 4. Write data in next line"
   ]
  },
  {
   "cell_type": "code",
   "execution_count": 277,
   "id": "684373d9",
   "metadata": {},
   "outputs": [],
   "source": [
    "fd = open('file.txt','a')\n",
    "\n",
    "fd.write('How are you?')\n",
    "fd.write('\\n')\n",
    "\n",
    "fd.close()"
   ]
  },
  {
   "cell_type": "markdown",
   "id": "0e52416a",
   "metadata": {},
   "source": [
    "## 5. Personal Details in a file"
   ]
  },
  {
   "cell_type": "code",
   "execution_count": 294,
   "id": "c1ae54c6",
   "metadata": {},
   "outputs": [
    {
     "name": "stdout",
     "output_type": "stream",
     "text": [
      "Enter your name: Ashish Jangra\n",
      "Enter your mail: ashish@gmail.com\n",
      "Enter your phone: 438593452\n",
      "Enter your age: 23\n"
     ]
    }
   ],
   "source": [
    "name  = str(input('Enter your name: '))\n",
    "email = str(input('Enter your mail: '))\n",
    "phone = int(input('Enter your phone: '))\n",
    "age   = int(input('Enter your age: '))\n",
    "\n",
    "\n",
    "fd = open(name.split(' ')[0] + '.txt','w')\n",
    "\n",
    "fd.write(name)\n",
    "fd.write('\\n')\n",
    "fd.write(email)\n",
    "fd.write('\\n')\n",
    "fd.write(str(phone))\n",
    "fd.write('\\n')\n",
    "fd.write(str(age))\n",
    "\n",
    "fd.close()"
   ]
  }
 ],
 "metadata": {
  "kernelspec": {
   "display_name": "Python 3 (ipykernel)",
   "language": "python",
   "name": "python3"
  },
  "language_info": {
   "codemirror_mode": {
    "name": "ipython",
    "version": 3
   },
   "file_extension": ".py",
   "mimetype": "text/x-python",
   "name": "python",
   "nbconvert_exporter": "python",
   "pygments_lexer": "ipython3",
   "version": "3.9.7"
  }
 },
 "nbformat": 4,
 "nbformat_minor": 5
}
