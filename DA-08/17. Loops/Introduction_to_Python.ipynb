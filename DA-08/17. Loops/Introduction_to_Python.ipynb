{
  "nbformat": 4,
  "nbformat_minor": 0,
  "metadata": {
    "colab": {
      "provenance": []
    },
    "kernelspec": {
      "name": "python3",
      "display_name": "Python 3"
    },
    "language_info": {
      "name": "python"
    }
  },
  "cells": [
    {
      "cell_type": "markdown",
      "source": [
        "### 1. print"
      ],
      "metadata": {
        "id": "0x-1F10jVcq4"
      }
    },
    {
      "cell_type": "code",
      "source": [
        "print(12)\n",
        "print(12.5)\n",
        "print(\"Ashish Jangra)\")\n",
        "print(True)\n",
        "print()\n",
        "print('--------')\n",
        "\n",
        "print(12, 2.5, True,'AShish')"
      ],
      "metadata": {
        "colab": {
          "base_uri": "https://localhost:8080/"
        },
        "id": "ZPLsrdnsVutz",
        "outputId": "8112336d-b780-4e66-ebe8-6b54a41b2c2b"
      },
      "execution_count": null,
      "outputs": [
        {
          "output_type": "stream",
          "name": "stdout",
          "text": [
            "12\n",
            "12.5\n",
            "Ashish Jangra)\n",
            "True\n",
            "\n",
            "--------\n",
            "12 2.5 True AShish\n"
          ]
        }
      ]
    },
    {
      "cell_type": "markdown",
      "source": [
        "### 2. type"
      ],
      "metadata": {
        "id": "jJrjHqE9YRs_"
      }
    },
    {
      "cell_type": "code",
      "source": [
        "print(type(12))\n",
        "print(type(12.5))\n",
        "print(type('12.5'))\n",
        "print(type('Ashish'))\n",
        "print(type(True))\n",
        "print(type('True'))"
      ],
      "metadata": {
        "colab": {
          "base_uri": "https://localhost:8080/"
        },
        "id": "a14fZBbuSBBC",
        "outputId": "02ee8745-b348-437e-e7b1-3e7329393bb7"
      },
      "execution_count": null,
      "outputs": [
        {
          "output_type": "stream",
          "name": "stdout",
          "text": [
            "<class 'int'>\n",
            "<class 'float'>\n",
            "<class 'str'>\n",
            "<class 'str'>\n",
            "<class 'bool'>\n",
            "<class 'str'>\n"
          ]
        }
      ]
    },
    {
      "cell_type": "markdown",
      "source": [
        "### 3. Operators"
      ],
      "metadata": {
        "id": "NDDMC5yqZJaM"
      }
    },
    {
      "cell_type": "markdown",
      "source": [
        "#### 3.1) Arithmetic"
      ],
      "metadata": {
        "id": "nwRuwpAcZiuu"
      }
    },
    {
      "cell_type": "markdown",
      "source": [
        "##### 3.1.1) Int - Int"
      ],
      "metadata": {
        "id": "N-HuGX2zaan_"
      }
    },
    {
      "cell_type": "code",
      "source": [
        "print(12+5)\n",
        "print(12-5)\n",
        "print(12*5)\n",
        "print(12/5)\n",
        "print(12//5)\n",
        "print(12%5)\n",
        "print(12**5)"
      ],
      "metadata": {
        "colab": {
          "base_uri": "https://localhost:8080/"
        },
        "id": "ZmMv-r7nZXQz",
        "outputId": "a6b948d2-d4e9-42a2-c021-eafe996bf42c"
      },
      "execution_count": null,
      "outputs": [
        {
          "output_type": "stream",
          "name": "stdout",
          "text": [
            "17\n",
            "7\n",
            "60\n",
            "2.4\n",
            "2\n",
            "2\n",
            "248832\n"
          ]
        }
      ]
    },
    {
      "cell_type": "markdown",
      "source": [
        "##### 3.1.2) Int - Float"
      ],
      "metadata": {
        "id": "DSQLEG_JaePw"
      }
    },
    {
      "cell_type": "code",
      "source": [
        "print(12+5.2)\n",
        "print(12-5.2)\n",
        "print(12*5.2)\n",
        "print(12/5.2)\n",
        "print(12//5.2)\n",
        "print(12%5.2)\n",
        "print(12**5.2)"
      ],
      "metadata": {
        "colab": {
          "base_uri": "https://localhost:8080/"
        },
        "id": "6PrMIHGcZXOS",
        "outputId": "764cc293-5a8a-4165-fdb0-fb0a4e6bdaa0"
      },
      "execution_count": null,
      "outputs": [
        {
          "output_type": "stream",
          "name": "stdout",
          "text": [
            "17.2\n",
            "6.8\n",
            "62.400000000000006\n",
            "2.3076923076923075\n",
            "2.0\n",
            "1.5999999999999996\n",
            "409018.0552424305\n"
          ]
        }
      ]
    },
    {
      "cell_type": "markdown",
      "source": [
        "##### 3.1.3) Int - String"
      ],
      "metadata": {
        "id": "mM5Uo_jDa1TG"
      }
    },
    {
      "cell_type": "code",
      "source": [
        "print(12*'Ashish')"
      ],
      "metadata": {
        "colab": {
          "base_uri": "https://localhost:8080/"
        },
        "id": "-M3eRwUva3ld",
        "outputId": "4b4151db-ff5a-4c5e-eefd-aa28e774f23c"
      },
      "execution_count": null,
      "outputs": [
        {
          "output_type": "stream",
          "name": "stdout",
          "text": [
            "AshishAshishAshishAshishAshishAshishAshishAshishAshishAshishAshishAshish\n"
          ]
        }
      ]
    },
    {
      "cell_type": "markdown",
      "source": [
        "##### 3.1.4) Int - Boolean"
      ],
      "metadata": {
        "id": "9woOIdlObPHr"
      }
    },
    {
      "cell_type": "code",
      "source": [
        "print(12+True)\n",
        "print(12-False)\n",
        "print(12*True)\n",
        "print(12/True)\n",
        "print(12//True)\n",
        "print(12%True)\n",
        "print(12**True)"
      ],
      "metadata": {
        "colab": {
          "base_uri": "https://localhost:8080/"
        },
        "id": "2Xblf-crbSg4",
        "outputId": "f625d4f9-f480-4c5c-b323-a29583ee6225"
      },
      "execution_count": null,
      "outputs": [
        {
          "output_type": "stream",
          "name": "stdout",
          "text": [
            "13\n",
            "12\n",
            "12\n",
            "12.0\n",
            "12\n",
            "0\n",
            "12\n"
          ]
        }
      ]
    },
    {
      "cell_type": "code",
      "source": [
        "print(False*'Ashish')"
      ],
      "metadata": {
        "colab": {
          "base_uri": "https://localhost:8080/"
        },
        "id": "Jf5iH8vycBS3",
        "outputId": "c4a878e4-5b37-406e-afb7-25f947ae5ccd"
      },
      "execution_count": null,
      "outputs": [
        {
          "output_type": "stream",
          "name": "stdout",
          "text": [
            "\n"
          ]
        }
      ]
    },
    {
      "cell_type": "markdown",
      "source": [
        "#### 3.2) Comparison"
      ],
      "metadata": {
        "id": "V0nf5ujNcLn4"
      }
    },
    {
      "cell_type": "code",
      "source": [
        "print(10>5)\n",
        "print(10<5)\n",
        "# print(a=5)\n",
        "print(10==5)\n",
        "print(10!=5)\n",
        "print(5>=5)\n",
        "print(5>5)\n",
        "print(10<=5)"
      ],
      "metadata": {
        "colab": {
          "base_uri": "https://localhost:8080/"
        },
        "id": "6m_FI_RJcTKU",
        "outputId": "32f04f5c-dd9a-4402-ffb2-30fd416ae9c5"
      },
      "execution_count": null,
      "outputs": [
        {
          "output_type": "stream",
          "name": "stdout",
          "text": [
            "True\n",
            "False\n",
            "False\n",
            "True\n",
            "True\n",
            "False\n",
            "False\n"
          ]
        }
      ]
    },
    {
      "cell_type": "markdown",
      "source": [
        "#### 3.3) Logical"
      ],
      "metadata": {
        "id": "fzBArlMSc-_C"
      }
    },
    {
      "cell_type": "code",
      "source": [
        "n = 70\n",
        "\n",
        "print((n%7 == 0) and (n%5 == 0))\n",
        "print((n%7 == 0) or (n%5 == 0))\n",
        "\n",
        "print((n%7 == 0) and (n%5 == 0) and not (n%9 == 0))\n",
        "print((n%7 == 0) and (n%5 == 0) and not (n%9 == 0) and (n%2 == 0))"
      ],
      "metadata": {
        "colab": {
          "base_uri": "https://localhost:8080/"
        },
        "id": "tjgY6OIHdHlF",
        "outputId": "b77c010d-3ec1-46e4-ab35-e046f7cc0323"
      },
      "execution_count": null,
      "outputs": [
        {
          "output_type": "stream",
          "name": "stdout",
          "text": [
            "True\n",
            "True\n",
            "True\n",
            "True\n"
          ]
        }
      ]
    },
    {
      "cell_type": "markdown",
      "source": [
        "### 4. Typecasting"
      ],
      "metadata": {
        "id": "-NFUD36wZolT"
      }
    },
    {
      "cell_type": "markdown",
      "source": [
        "#### 4.1) Int"
      ],
      "metadata": {
        "id": "mS3tt1GMgy2N"
      }
    },
    {
      "cell_type": "code",
      "source": [
        "print(int(12.99999))\n",
        "print(int('4623'))\n",
        "print(int(True))\n",
        "print(int(False))"
      ],
      "metadata": {
        "colab": {
          "base_uri": "https://localhost:8080/"
        },
        "id": "uUaey1FqZXL5",
        "outputId": "c0df0170-1076-4228-ca4d-f25d21c2368f"
      },
      "execution_count": null,
      "outputs": [
        {
          "output_type": "stream",
          "name": "stdout",
          "text": [
            "12\n",
            "4623\n",
            "1\n",
            "0\n"
          ]
        }
      ]
    },
    {
      "cell_type": "markdown",
      "source": [
        "#### 4.2) Float"
      ],
      "metadata": {
        "id": "Bt9XhXPChswX"
      }
    },
    {
      "cell_type": "code",
      "source": [
        "print(float(12))\n",
        "print(float('462332'))\n",
        "print(float(True))\n",
        "print(float(False))"
      ],
      "metadata": {
        "colab": {
          "base_uri": "https://localhost:8080/"
        },
        "id": "BfBMyFOEZXJn",
        "outputId": "617bdbeb-9b04-487e-ea23-55b73e8b56a3"
      },
      "execution_count": null,
      "outputs": [
        {
          "output_type": "stream",
          "name": "stdout",
          "text": [
            "12.0\n",
            "462332.0\n",
            "1.0\n",
            "0.0\n"
          ]
        }
      ]
    },
    {
      "cell_type": "markdown",
      "source": [
        "#### 4.3) Boolean"
      ],
      "metadata": {
        "id": "9IAjo-CPiIZu"
      }
    },
    {
      "cell_type": "code",
      "source": [
        "print(bool(0))\n",
        "print(bool(0.0))\n",
        "print(bool(' '))"
      ],
      "metadata": {
        "colab": {
          "base_uri": "https://localhost:8080/"
        },
        "id": "NudAdl7gZIgo",
        "outputId": "6413e701-e5ec-44c9-a718-c6117ea8cd68"
      },
      "execution_count": null,
      "outputs": [
        {
          "output_type": "stream",
          "name": "stdout",
          "text": [
            "False\n",
            "False\n",
            "False\n"
          ]
        }
      ]
    },
    {
      "cell_type": "markdown",
      "source": [
        "### 5. Conditionals"
      ],
      "metadata": {
        "id": "iA8TfZQrbaIW"
      }
    },
    {
      "cell_type": "code",
      "source": [
        "n = 35\n",
        "\n",
        "if (n%5 == 0) and (n%7 == 0):\n",
        "  print('Divisible')\n",
        "\n",
        "else:\n",
        "  print('Not Divisible')\n",
        "\n",
        "\n",
        "# 1. Number is Even or Odd\n",
        "# 2. Number is divisible by 5&7 but not 9 and must be off between (0,100)"
      ],
      "metadata": {
        "colab": {
          "base_uri": "https://localhost:8080/"
        },
        "id": "-TwKw9-FTOjD",
        "outputId": "be3d85b4-3bea-4464-843b-aca2b581c8db"
      },
      "execution_count": 1,
      "outputs": [
        {
          "output_type": "stream",
          "name": "stdout",
          "text": [
            "Divisible\n"
          ]
        }
      ]
    },
    {
      "cell_type": "code",
      "source": [
        "# 1. Number is Even or Odd\n",
        "\n",
        "n = int(input('Enter a number: '))\n",
        "\n",
        "if n%2 == 0:\n",
        "  print('Even')\n",
        "else:\n",
        "  print('Odd')"
      ],
      "metadata": {
        "colab": {
          "base_uri": "https://localhost:8080/"
        },
        "id": "g0R3gyS-T00X",
        "outputId": "27cc508f-31ef-4631-ecda-fa4a31696774"
      },
      "execution_count": 2,
      "outputs": [
        {
          "output_type": "stream",
          "name": "stdout",
          "text": [
            "Enter a number: 12\n",
            "Even\n"
          ]
        }
      ]
    },
    {
      "cell_type": "code",
      "source": [
        "# 2. Number is divisible by either 5 or 7 but not 9 and must be off between (0,100)\n",
        "\n",
        "n = int(input('Enter a number: '))\n",
        "\n",
        "if (n>=0) and (n<=100) and ((n%5==0) or (n%7==0)) and not(n%9==0):\n",
        "  print('Divisible')\n",
        "\n",
        "else:\n",
        "  print('not divisible')"
      ],
      "metadata": {
        "colab": {
          "base_uri": "https://localhost:8080/"
        },
        "id": "0v9TswrMVJSi",
        "outputId": "632d9010-0daa-438a-a011-a83fd805c782"
      },
      "execution_count": 3,
      "outputs": [
        {
          "output_type": "stream",
          "name": "stdout",
          "text": [
            "Enter a number: 34\n",
            "not divisible\n"
          ]
        }
      ]
    },
    {
      "cell_type": "code",
      "source": [
        "n = 12\n",
        "\n",
        "if (n%7 == 0):\n",
        "  print('by 7')\n",
        "elif (n%5 == 0):\n",
        "  print('by 5')\n",
        "elif (n%9 == 0):\n",
        "  print('by 9')\n",
        "else:\n",
        "  print('sorry')"
      ],
      "metadata": {
        "colab": {
          "base_uri": "https://localhost:8080/"
        },
        "id": "-cdJsyITZawo",
        "outputId": "d631ec13-065c-4daa-c1f5-363b4cde5c5e"
      },
      "execution_count": 4,
      "outputs": [
        {
          "output_type": "stream",
          "name": "stdout",
          "text": [
            "sorry\n"
          ]
        }
      ]
    },
    {
      "cell_type": "code",
      "source": [
        "n = 5*7*9\n",
        "\n",
        "if n <= 1000 and n >= 0:\n",
        "\n",
        "  if n%5 == 0 and n%7 == 0 and n%9 != 0:\n",
        "    print('by 5 & 7 not 9')\n",
        "\n",
        "  elif n%5 == 0 and n%7 != 0 and n%9 == 0:\n",
        "    print('by 5 & 9 not 7')\n",
        "\n",
        "  elif n%5 == 0 and n%7 != 0 and n%9 != 0:\n",
        "    print('by 5 not 7 not 9')\n",
        "\n",
        "  elif n%5 != 0 and n%7 == 0 and n%9 != 0:\n",
        "    print('by 7 not 5 not 9')\n",
        "\n",
        "  elif n%5 == 0 and n%7 == 0 and n%9 != 0:\n",
        "    print('by 7 & 5 not 9')\n",
        "\n",
        "  elif n%5 == 0 and n%7 == 0 and n%9 == 0:\n",
        "    print('by 5 & 7 & 9')\n",
        "\n",
        "else:\n",
        "  print('not in range')"
      ],
      "metadata": {
        "colab": {
          "base_uri": "https://localhost:8080/"
        },
        "id": "1QkQpD6sZI-Q",
        "outputId": "7ea7f099-0b6d-4a80-cedb-bf5b59719a41"
      },
      "execution_count": 5,
      "outputs": [
        {
          "output_type": "stream",
          "name": "stdout",
          "text": [
            "by 5 & 7 & 9\n"
          ]
        }
      ]
    },
    {
      "cell_type": "code",
      "source": [
        "num = 0\n",
        "\n",
        "if num >= 0:\n",
        "    if num == 0:\n",
        "        print(\"Zero\")\n",
        "    else:\n",
        "        print(\"Positive\")\n",
        "else:\n",
        "    print(\"Negative\")"
      ],
      "metadata": {
        "colab": {
          "base_uri": "https://localhost:8080/"
        },
        "id": "GzHXoIwel6o2",
        "outputId": "84089847-fb2a-413d-cbbd-13c3fa09c0eb"
      },
      "execution_count": 6,
      "outputs": [
        {
          "output_type": "stream",
          "name": "stdout",
          "text": [
            "Zero\n"
          ]
        }
      ]
    },
    {
      "cell_type": "code",
      "source": [
        "num = 0\n",
        "\n",
        "if num > 0:\n",
        "  print(\"Positive\")\n",
        "\n",
        "elif num == 0:\n",
        "      print(\"Zero\")\n",
        "else:\n",
        "    print(\"Negative\")"
      ],
      "metadata": {
        "colab": {
          "base_uri": "https://localhost:8080/"
        },
        "id": "E69Lo0vVtMoe",
        "outputId": "8d04cfad-6eec-4163-fc50-60f8a11a3322"
      },
      "execution_count": 7,
      "outputs": [
        {
          "output_type": "stream",
          "name": "stdout",
          "text": [
            "Zero\n"
          ]
        }
      ]
    },
    {
      "cell_type": "markdown",
      "source": [
        "### 6. Loops"
      ],
      "metadata": {
        "id": "rr-XZiJ9TZpG"
      }
    },
    {
      "cell_type": "code",
      "source": [
        "n = 13\n",
        "\n",
        "for i in range(1,11):\n",
        "  print(n,'*',i,'=',n*i)"
      ],
      "metadata": {
        "id": "RvexQApaXI-f"
      },
      "execution_count": 30,
      "outputs": []
    },
    {
      "cell_type": "code",
      "source": [
        "n = 39\n",
        "\n",
        "for i in range(n,n*10 + 1,n):\n",
        "  print(i)"
      ],
      "metadata": {
        "colab": {
          "base_uri": "https://localhost:8080/"
        },
        "id": "RC4WRFNkXbtw",
        "outputId": "d619f621-694b-4f97-d1c7-095b168e5dc9"
      },
      "execution_count": 44,
      "outputs": [
        {
          "output_type": "stream",
          "name": "stdout",
          "text": [
            "39\n",
            "78\n",
            "117\n",
            "156\n",
            "195\n",
            "234\n",
            "273\n",
            "312\n",
            "351\n",
            "390\n"
          ]
        }
      ]
    },
    {
      "cell_type": "code",
      "source": [
        "n = 13\n",
        "\n",
        "for i in range(n*10,n-1,-n):\n",
        "  print(i)"
      ],
      "metadata": {
        "colab": {
          "base_uri": "https://localhost:8080/"
        },
        "id": "_OH2ONKyvXwu",
        "outputId": "f32c92b3-4a96-469f-b024-611d3889924d"
      },
      "execution_count": 52,
      "outputs": [
        {
          "output_type": "stream",
          "name": "stdout",
          "text": [
            "130\n",
            "117\n",
            "104\n",
            "91\n",
            "78\n",
            "65\n",
            "52\n",
            "39\n",
            "26\n",
            "13\n"
          ]
        }
      ]
    },
    {
      "cell_type": "code",
      "source": [
        "n = 1000\n",
        "\n",
        "for i in range(n):\n",
        "  n = n + i\n",
        "\n",
        "print(n)"
      ],
      "metadata": {
        "id": "wDDCEdGVvpli",
        "colab": {
          "base_uri": "https://localhost:8080/"
        },
        "outputId": "678309d0-7981-429c-ba87-6f651fbfbec8"
      },
      "execution_count": 79,
      "outputs": [
        {
          "output_type": "stream",
          "name": "stdout",
          "text": [
            "500500\n"
          ]
        }
      ]
    },
    {
      "cell_type": "code",
      "source": [
        "n = 1000000000\n",
        "\n",
        "s = n*((n+1)/2)\n",
        "\n",
        "print(s)"
      ],
      "metadata": {
        "colab": {
          "base_uri": "https://localhost:8080/"
        },
        "id": "QETfPuuRfWYG",
        "outputId": "e08a8fb1-e8df-45b8-e468-2edb6b8975d0"
      },
      "execution_count": 77,
      "outputs": [
        {
          "output_type": "stream",
          "name": "stdout",
          "text": [
            "5.000000005e+17\n"
          ]
        }
      ]
    },
    {
      "cell_type": "code",
      "source": [
        "for n in range(1,101):\n",
        "  if n%5 == 0 and n%7 == 0:\n",
        "    print(n)"
      ],
      "metadata": {
        "colab": {
          "base_uri": "https://localhost:8080/"
        },
        "id": "EGMcQC4Pen6A",
        "outputId": "0c3d9e40-a572-4f7d-b197-6da2b319def8"
      },
      "execution_count": 93,
      "outputs": [
        {
          "output_type": "stream",
          "name": "stdout",
          "text": [
            "35\n",
            "70\n"
          ]
        }
      ]
    },
    {
      "cell_type": "code",
      "source": [
        "n = '2342341'\n",
        "n = str(n)\n",
        "rev = n[::-1]\n",
        "\n",
        "if (n == rev):\n",
        "  print('pal')\n"
      ],
      "metadata": {
        "id": "cFKICn4ZjZzF"
      },
      "execution_count": 138,
      "outputs": []
    },
    {
      "cell_type": "code",
      "source": [
        "name = 'ashish sahd jhsakd a'\n",
        "\n",
        "print(name[::-1])"
      ],
      "metadata": {
        "colab": {
          "base_uri": "https://localhost:8080/"
        },
        "id": "K1oRHLL2lxnD",
        "outputId": "3c4a0392-cbd3-4bf0-9791-3a3941a204f0"
      },
      "execution_count": 137,
      "outputs": [
        {
          "output_type": "stream",
          "name": "stdout",
          "text": [
            "a dkashj dhas hsihsa\n"
          ]
        }
      ]
    },
    {
      "cell_type": "code",
      "source": [],
      "metadata": {
        "id": "HZsPLVxUlxkb"
      },
      "execution_count": null,
      "outputs": []
    },
    {
      "cell_type": "code",
      "source": [],
      "metadata": {
        "id": "CoxUZYqOlxiE"
      },
      "execution_count": null,
      "outputs": []
    },
    {
      "cell_type": "code",
      "source": [],
      "metadata": {
        "id": "2FtLDzyHlxfo"
      },
      "execution_count": null,
      "outputs": []
    },
    {
      "cell_type": "code",
      "source": [
        "str(2434123"
      ],
      "metadata": {
        "colab": {
          "base_uri": "https://localhost:8080/",
          "height": 141
        },
        "id": "sY2aRkIDen3T",
        "outputId": "189cf429-3965-4b70-fba3-76ca10b6f654"
      },
      "execution_count": 99,
      "outputs": [
        {
          "output_type": "error",
          "ename": "AttributeError",
          "evalue": "type object 'reversed' has no attribute 'str'",
          "traceback": [
            "\u001b[0;31m---------------------------------------------------------------------------\u001b[0m",
            "\u001b[0;31mAttributeError\u001b[0m                            Traceback (most recent call last)",
            "\u001b[0;32m<ipython-input-99-acb5c685254b>\u001b[0m in \u001b[0;36m<cell line: 0>\u001b[0;34m()\u001b[0m\n\u001b[0;32m----> 1\u001b[0;31m \u001b[0mreversed\u001b[0m\u001b[0;34m.\u001b[0m\u001b[0mstr\u001b[0m\u001b[0;34m(\u001b[0m\u001b[0;36m2434123\u001b[0m\u001b[0;34m)\u001b[0m\u001b[0;34m\u001b[0m\u001b[0;34m\u001b[0m\u001b[0m\n\u001b[0m",
            "\u001b[0;31mAttributeError\u001b[0m: type object 'reversed' has no attribute 'str'"
          ]
        }
      ]
    },
    {
      "cell_type": "code",
      "source": [
        "123123\n",
        "321321\n",
        "\n",
        "step 1:\n",
        "  123123/10 = 12312\n",
        "  123123%10 = 3\n",
        "\n",
        "  3*10 = 30\n",
        "\n",
        "step 2:\n",
        "  12312/10 = 1231\n",
        "  12312%10 = 2\n",
        "\n",
        "  30 + 2\n",
        "  32 * 10= 320\n",
        "\n",
        "step 3:\n",
        "  1231/10 = 123\n",
        "  1231%10 = 1\n",
        "  320+1 321*10 = 3210\n",
        "\n",
        "step 4:\n",
        "  123/10 = 12\n",
        "  123%10 = 3\n",
        "\n",
        "step 5:\n",
        "  12/10 = 1\n",
        "  12%10 = 2\n",
        "\n",
        "step 6:\n",
        "  1/10 = 0\n",
        "  1%10 = 1\n",
        "\n"
      ],
      "metadata": {
        "id": "0HBUgpERQ2J7"
      },
      "execution_count": null,
      "outputs": []
    },
    {
      "cell_type": "code",
      "source": [
        "n = 10\n",
        "\n",
        "for i in range(n):\n",
        "  print(i)\n",
        "\n",
        "print(n)"
      ],
      "metadata": {
        "colab": {
          "base_uri": "https://localhost:8080/"
        },
        "id": "UMyI6TYNgpcV",
        "outputId": "094f35bf-4633-4a70-9e9a-0d99b6c2d99a"
      },
      "execution_count": 81,
      "outputs": [
        {
          "output_type": "stream",
          "name": "stdout",
          "text": [
            "0\n",
            "1\n",
            "2\n",
            "3\n",
            "4\n",
            "5\n",
            "6\n",
            "7\n",
            "8\n",
            "9\n",
            "10\n"
          ]
        }
      ]
    },
    {
      "cell_type": "code",
      "source": [
        "n = 10\n",
        "\n",
        "for i in range(2,n):\n",
        "  if (n%i == 0):\n",
        "    n  + 1\n",
        "    print(n)\n",
        "\n",
        "print('prime')"
      ],
      "metadata": {
        "colab": {
          "base_uri": "https://localhost:8080/"
        },
        "id": "tsdkaf0DgpZ-",
        "outputId": "4ee8380d-a955-4001-bda8-62595be07e27"
      },
      "execution_count": 143,
      "outputs": [
        {
          "output_type": "stream",
          "name": "stdout",
          "text": [
            "nap\n",
            "nap\n",
            "prime\n"
          ]
        }
      ]
    },
    {
      "cell_type": "code",
      "source": [],
      "metadata": {
        "id": "9lOJJhFOgpXu"
      },
      "execution_count": null,
      "outputs": []
    },
    {
      "cell_type": "markdown",
      "source": [],
      "metadata": {
        "id": "IYJTM1F6TJo1"
      }
    }
  ]
}