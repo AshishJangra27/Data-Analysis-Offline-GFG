{
  "nbformat": 4,
  "nbformat_minor": 0,
  "metadata": {
    "colab": {
      "provenance": []
    },
    "kernelspec": {
      "name": "python3",
      "display_name": "Python 3"
    },
    "language_info": {
      "name": "python"
    }
  },
  "cells": [
    {
      "cell_type": "markdown",
      "source": [
        "1. print"
      ],
      "metadata": {
        "id": "0x-1F10jVcq4"
      }
    },
    {
      "cell_type": "code",
      "source": [
        "print(12)\n",
        "print(12.5)\n",
        "print(\"Ashish Jangra)\")\n",
        "print(True)\n",
        "print()\n",
        "print('--------')\n",
        "\n",
        "print(12, 2.5, True,'AShish')"
      ],
      "metadata": {
        "colab": {
          "base_uri": "https://localhost:8080/"
        },
        "id": "ZPLsrdnsVutz",
        "outputId": "8112336d-b780-4e66-ebe8-6b54a41b2c2b"
      },
      "execution_count": 28,
      "outputs": [
        {
          "output_type": "stream",
          "name": "stdout",
          "text": [
            "12\n",
            "12.5\n",
            "Ashish Jangra)\n",
            "True\n",
            "\n",
            "--------\n",
            "12 2.5 True AShish\n"
          ]
        }
      ]
    },
    {
      "cell_type": "markdown",
      "source": [
        "### 2. type"
      ],
      "metadata": {
        "id": "jJrjHqE9YRs_"
      }
    },
    {
      "cell_type": "code",
      "source": [
        "print(type(12))\n",
        "print(type(12.5))\n",
        "print(type('12.5'))\n",
        "print(type('Ashish'))\n",
        "print(type(True))\n",
        "print(type('True'))"
      ],
      "metadata": {
        "colab": {
          "base_uri": "https://localhost:8080/"
        },
        "id": "a14fZBbuSBBC",
        "outputId": "02ee8745-b348-437e-e7b1-3e7329393bb7"
      },
      "execution_count": 36,
      "outputs": [
        {
          "output_type": "stream",
          "name": "stdout",
          "text": [
            "<class 'int'>\n",
            "<class 'float'>\n",
            "<class 'str'>\n",
            "<class 'str'>\n",
            "<class 'bool'>\n",
            "<class 'str'>\n"
          ]
        }
      ]
    },
    {
      "cell_type": "markdown",
      "source": [
        "### 3. Operators"
      ],
      "metadata": {
        "id": "NDDMC5yqZJaM"
      }
    },
    {
      "cell_type": "markdown",
      "source": [
        "#### 3.1) Arithmetic"
      ],
      "metadata": {
        "id": "nwRuwpAcZiuu"
      }
    },
    {
      "cell_type": "markdown",
      "source": [
        "##### 3.1.1) Int - Int"
      ],
      "metadata": {
        "id": "N-HuGX2zaan_"
      }
    },
    {
      "cell_type": "code",
      "source": [
        "print(12+5)\n",
        "print(12-5)\n",
        "print(12*5)\n",
        "print(12/5)\n",
        "print(12//5)\n",
        "print(12%5)\n",
        "print(12**5)"
      ],
      "metadata": {
        "colab": {
          "base_uri": "https://localhost:8080/"
        },
        "id": "ZmMv-r7nZXQz",
        "outputId": "a6b948d2-d4e9-42a2-c021-eafe996bf42c"
      },
      "execution_count": 39,
      "outputs": [
        {
          "output_type": "stream",
          "name": "stdout",
          "text": [
            "17\n",
            "7\n",
            "60\n",
            "2.4\n",
            "2\n",
            "2\n",
            "248832\n"
          ]
        }
      ]
    },
    {
      "cell_type": "markdown",
      "source": [
        "##### 3.1.2) Int - Float"
      ],
      "metadata": {
        "id": "DSQLEG_JaePw"
      }
    },
    {
      "cell_type": "code",
      "source": [
        "print(12+5.2)\n",
        "print(12-5.2)\n",
        "print(12*5.2)\n",
        "print(12/5.2)\n",
        "print(12//5.2)\n",
        "print(12%5.2)\n",
        "print(12**5.2)"
      ],
      "metadata": {
        "colab": {
          "base_uri": "https://localhost:8080/"
        },
        "id": "6PrMIHGcZXOS",
        "outputId": "764cc293-5a8a-4165-fdb0-fb0a4e6bdaa0"
      },
      "execution_count": 40,
      "outputs": [
        {
          "output_type": "stream",
          "name": "stdout",
          "text": [
            "17.2\n",
            "6.8\n",
            "62.400000000000006\n",
            "2.3076923076923075\n",
            "2.0\n",
            "1.5999999999999996\n",
            "409018.0552424305\n"
          ]
        }
      ]
    },
    {
      "cell_type": "markdown",
      "source": [
        "##### 3.1.3) Int - String"
      ],
      "metadata": {
        "id": "mM5Uo_jDa1TG"
      }
    },
    {
      "cell_type": "code",
      "source": [
        "print(12*'Ashish')"
      ],
      "metadata": {
        "colab": {
          "base_uri": "https://localhost:8080/"
        },
        "id": "-M3eRwUva3ld",
        "outputId": "4b4151db-ff5a-4c5e-eefd-aa28e774f23c"
      },
      "execution_count": 44,
      "outputs": [
        {
          "output_type": "stream",
          "name": "stdout",
          "text": [
            "AshishAshishAshishAshishAshishAshishAshishAshishAshishAshishAshishAshish\n"
          ]
        }
      ]
    },
    {
      "cell_type": "markdown",
      "source": [
        "##### 3.1.4) Int - Boolean"
      ],
      "metadata": {
        "id": "9woOIdlObPHr"
      }
    },
    {
      "cell_type": "code",
      "source": [
        "print(12+True)\n",
        "print(12-False)\n",
        "print(12*True)\n",
        "print(12/True)\n",
        "print(12//True)\n",
        "print(12%True)\n",
        "print(12**True)"
      ],
      "metadata": {
        "colab": {
          "base_uri": "https://localhost:8080/"
        },
        "id": "2Xblf-crbSg4",
        "outputId": "f625d4f9-f480-4c5c-b323-a29583ee6225"
      },
      "execution_count": 46,
      "outputs": [
        {
          "output_type": "stream",
          "name": "stdout",
          "text": [
            "13\n",
            "12\n",
            "12\n",
            "12.0\n",
            "12\n",
            "0\n",
            "12\n"
          ]
        }
      ]
    },
    {
      "cell_type": "code",
      "source": [
        "print(False*'Ashish')"
      ],
      "metadata": {
        "colab": {
          "base_uri": "https://localhost:8080/"
        },
        "id": "Jf5iH8vycBS3",
        "outputId": "c4a878e4-5b37-406e-afb7-25f947ae5ccd"
      },
      "execution_count": 48,
      "outputs": [
        {
          "output_type": "stream",
          "name": "stdout",
          "text": [
            "\n"
          ]
        }
      ]
    },
    {
      "cell_type": "markdown",
      "source": [
        "#### 3.2) Comparison"
      ],
      "metadata": {
        "id": "V0nf5ujNcLn4"
      }
    },
    {
      "cell_type": "code",
      "source": [
        "print(10>5)\n",
        "print(10<5)\n",
        "# print(a=5)\n",
        "print(10==5)\n",
        "print(10!=5)\n",
        "print(5>=5)\n",
        "print(5>5)\n",
        "print(10<=5)"
      ],
      "metadata": {
        "colab": {
          "base_uri": "https://localhost:8080/"
        },
        "id": "6m_FI_RJcTKU",
        "outputId": "32f04f5c-dd9a-4402-ffb2-30fd416ae9c5"
      },
      "execution_count": 52,
      "outputs": [
        {
          "output_type": "stream",
          "name": "stdout",
          "text": [
            "True\n",
            "False\n",
            "False\n",
            "True\n",
            "True\n",
            "False\n",
            "False\n"
          ]
        }
      ]
    },
    {
      "cell_type": "markdown",
      "source": [
        "#### 3.3) Logical"
      ],
      "metadata": {
        "id": "fzBArlMSc-_C"
      }
    },
    {
      "cell_type": "code",
      "source": [
        "n = 70\n",
        "\n",
        "print((n%7 == 0) and (n%5 == 0))\n",
        "print((n%7 == 0) or (n%5 == 0))\n",
        "\n",
        "print((n%7 == 0) and (n%5 == 0) and not (n%9 == 0))\n",
        "print((n%7 == 0) and (n%5 == 0) and not (n%9 == 0) and (n%2 == 0))"
      ],
      "metadata": {
        "colab": {
          "base_uri": "https://localhost:8080/"
        },
        "id": "tjgY6OIHdHlF",
        "outputId": "b77c010d-3ec1-46e4-ab35-e046f7cc0323"
      },
      "execution_count": 74,
      "outputs": [
        {
          "output_type": "stream",
          "name": "stdout",
          "text": [
            "True\n",
            "True\n",
            "True\n",
            "True\n"
          ]
        }
      ]
    },
    {
      "cell_type": "markdown",
      "source": [
        "### 4. Typecasting"
      ],
      "metadata": {
        "id": "-NFUD36wZolT"
      }
    },
    {
      "cell_type": "markdown",
      "source": [
        "#### 4.1) Int"
      ],
      "metadata": {
        "id": "mS3tt1GMgy2N"
      }
    },
    {
      "cell_type": "code",
      "source": [
        "print(int(12.99999))\n",
        "print(int('4623'))\n",
        "print(int(True))\n",
        "print(int(False))"
      ],
      "metadata": {
        "colab": {
          "base_uri": "https://localhost:8080/"
        },
        "id": "uUaey1FqZXL5",
        "outputId": "c0df0170-1076-4228-ca4d-f25d21c2368f"
      },
      "execution_count": 83,
      "outputs": [
        {
          "output_type": "stream",
          "name": "stdout",
          "text": [
            "12\n",
            "4623\n",
            "1\n",
            "0\n"
          ]
        }
      ]
    },
    {
      "cell_type": "markdown",
      "source": [
        "#### 4.2) Float"
      ],
      "metadata": {
        "id": "Bt9XhXPChswX"
      }
    },
    {
      "cell_type": "code",
      "source": [
        "print(float(12))\n",
        "print(float('462332'))\n",
        "print(float(True))\n",
        "print(float(False))"
      ],
      "metadata": {
        "colab": {
          "base_uri": "https://localhost:8080/"
        },
        "id": "BfBMyFOEZXJn",
        "outputId": "617bdbeb-9b04-487e-ea23-55b73e8b56a3"
      },
      "execution_count": 85,
      "outputs": [
        {
          "output_type": "stream",
          "name": "stdout",
          "text": [
            "12.0\n",
            "462332.0\n",
            "1.0\n",
            "0.0\n"
          ]
        }
      ]
    },
    {
      "cell_type": "markdown",
      "source": [
        "#### 4.3) Boolean"
      ],
      "metadata": {
        "id": "9IAjo-CPiIZu"
      }
    },
    {
      "cell_type": "code",
      "source": [
        "print(bool(0))\n",
        "print(bool(0.0))\n",
        "print(bool(' '))"
      ],
      "metadata": {
        "colab": {
          "base_uri": "https://localhost:8080/"
        },
        "id": "NudAdl7gZIgo",
        "outputId": "6413e701-e5ec-44c9-a718-c6117ea8cd68"
      },
      "execution_count": 96,
      "outputs": [
        {
          "output_type": "stream",
          "name": "stdout",
          "text": [
            "False\n",
            "False\n",
            "False\n"
          ]
        }
      ]
    },
    {
      "cell_type": "code",
      "source": [
        "len('')"
      ],
      "metadata": {
        "colab": {
          "base_uri": "https://localhost:8080/"
        },
        "id": "-TwKw9-FTOjD",
        "outputId": "50ebb61f-993a-4334-ac4d-26b1fa2fa2cf"
      },
      "execution_count": 101,
      "outputs": [
        {
          "output_type": "execute_result",
          "data": {
            "text/plain": [
              "0"
            ]
          },
          "metadata": {},
          "execution_count": 101
        }
      ]
    },
    {
      "cell_type": "code",
      "source": [],
      "metadata": {
        "id": "g0R3gyS-T00X"
      },
      "execution_count": 12,
      "outputs": []
    },
    {
      "cell_type": "code",
      "source": [],
      "metadata": {
        "id": "0v9TswrMVJSi"
      },
      "execution_count": null,
      "outputs": []
    }
  ]
}