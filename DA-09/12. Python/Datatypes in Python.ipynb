{
  "nbformat": 4,
  "nbformat_minor": 0,
  "metadata": {
    "colab": {
      "provenance": []
    },
    "kernelspec": {
      "name": "python3",
      "display_name": "Python 3"
    },
    "language_info": {
      "name": "python"
    }
  },
  "cells": [
    {
      "cell_type": "markdown",
      "source": [
        "### 1. Datatypes"
      ],
      "metadata": {
        "id": "x9MFwh6PYKHP"
      }
    },
    {
      "cell_type": "markdown",
      "source": [
        "##### 1.1) print()"
      ],
      "metadata": {
        "id": "8Ay5QdevYOhg"
      }
    },
    {
      "cell_type": "code",
      "execution_count": 16,
      "metadata": {
        "colab": {
          "base_uri": "https://localhost:8080/"
        },
        "id": "UyMlm94jSy3G",
        "outputId": "db5c9c49-f714-4d3f-90de-0414abf4377c"
      },
      "outputs": [
        {
          "output_type": "stream",
          "name": "stdout",
          "text": [
            "Ashish Jangra asd hkjashd kjhsakjd hjksahd khask dks\n"
          ]
        }
      ],
      "source": [
        "print(\"Ashish Jangra asd hkjashd kjhsakjd hjksahd khask dks\")"
      ]
    },
    {
      "cell_type": "markdown",
      "source": [
        "##### 1.2) different datatypes"
      ],
      "metadata": {
        "id": "MNTvZl5IYW0g"
      }
    },
    {
      "cell_type": "code",
      "source": [
        "print(0.0)\n",
        "print(0)\n",
        "print(False)\n",
        "print('0.asdasd3458r13fd')"
      ],
      "metadata": {
        "id": "YSQm7TaIYJbe"
      },
      "execution_count": null,
      "outputs": []
    },
    {
      "cell_type": "markdown",
      "source": [
        "##### 1.3) type"
      ],
      "metadata": {
        "id": "nvG3UNCaYhI4"
      }
    },
    {
      "cell_type": "code",
      "source": [
        "print(type(0.0))\n",
        "print(type(0))\n",
        "print(type(False))\n",
        "print(type('0.asdasd3458r13fd'))"
      ],
      "metadata": {
        "id": "wYH_4WrtYJiN"
      },
      "execution_count": null,
      "outputs": []
    },
    {
      "cell_type": "markdown",
      "source": [
        "### 2. Operators"
      ],
      "metadata": {
        "id": "j4yyMiWJYl2f"
      }
    },
    {
      "cell_type": "markdown",
      "source": [
        "#### 2.1) Arithmetic"
      ],
      "metadata": {
        "id": "WymqPZJ6Yuuq"
      }
    },
    {
      "cell_type": "code",
      "source": [
        "print(3+2)\n",
        "print(3-2)\n",
        "print(3*2)\n",
        "print(3/2)\n",
        "print(3//2)\n",
        "print(3%2)\n",
        "print(3**2)\n",
        "\n",
        "print(3*'Ashish')\n",
        "print('Ashish' + 'Jangra')\n",
        "\n",
        "print(True + True + True)\n",
        "print(False + False + False)\n",
        "\n",
        "print('Ashish'*False)\n",
        "print(5*True)"
      ],
      "metadata": {
        "colab": {
          "base_uri": "https://localhost:8080/"
        },
        "id": "gi7QACeEYJkn",
        "outputId": "22134146-753f-4f9e-a06b-28aee1f6f17b"
      },
      "execution_count": 47,
      "outputs": [
        {
          "output_type": "stream",
          "name": "stdout",
          "text": [
            "5\n",
            "1\n",
            "6\n",
            "1.5\n",
            "1\n",
            "1\n",
            "9\n",
            "AshishAshishAshish\n",
            "AshishJangra\n",
            "3\n",
            "0\n",
            "\n",
            "5\n"
          ]
        }
      ]
    },
    {
      "cell_type": "markdown",
      "source": [
        "#### 2.2) Comparison"
      ],
      "metadata": {
        "id": "cFUcEC9RaPg8"
      }
    },
    {
      "cell_type": "code",
      "source": [
        "print(2>3)\n",
        "print(2>=3)\n",
        "print(2>=3)\n",
        "print(2<3)\n",
        "print(2<=3)\n",
        "print(2!=3)\n",
        "print(2==3)"
      ],
      "metadata": {
        "colab": {
          "base_uri": "https://localhost:8080/"
        },
        "id": "201Omp0_YJnb",
        "outputId": "c2b8bf68-47fd-4f3e-c0f3-f0ade8b74681"
      },
      "execution_count": 48,
      "outputs": [
        {
          "output_type": "stream",
          "name": "stdout",
          "text": [
            "False\n",
            "False\n",
            "True\n",
            "True\n",
            "True\n",
            "False\n"
          ]
        }
      ]
    },
    {
      "cell_type": "code",
      "source": [
        "a"
      ],
      "metadata": {
        "colab": {
          "base_uri": "https://localhost:8080/"
        },
        "id": "MfMAOK55d4oA",
        "outputId": "0df20051-be77-494a-cccf-f0614cd75172"
      },
      "execution_count": 84,
      "outputs": [
        {
          "output_type": "execute_result",
          "data": {
            "text/plain": [
              "5"
            ]
          },
          "metadata": {},
          "execution_count": 84
        }
      ]
    },
    {
      "cell_type": "code",
      "source": [
        "a = 13\n",
        "print(a)\n",
        "a = a * 2\n",
        "a *= 2\n",
        "print(a)"
      ],
      "metadata": {
        "colab": {
          "base_uri": "https://localhost:8080/"
        },
        "id": "TfllAaJXYJp1",
        "outputId": "c99d99b7-aaac-442c-df6d-1cfa15c3ed3f"
      },
      "execution_count": 81,
      "outputs": [
        {
          "output_type": "stream",
          "name": "stdout",
          "text": [
            "13\n",
            "52\n"
          ]
        }
      ]
    },
    {
      "cell_type": "code",
      "source": [
        "a = 10"
      ],
      "metadata": {
        "id": "U8fDc4JmW4fx"
      },
      "execution_count": 82,
      "outputs": []
    },
    {
      "cell_type": "code",
      "source": [
        "a = 5"
      ],
      "metadata": {
        "id": "gkOcJU9uS8tA"
      },
      "execution_count": 83,
      "outputs": []
    },
    {
      "cell_type": "code",
      "source": [],
      "metadata": {
        "colab": {
          "base_uri": "https://localhost:8080/"
        },
        "id": "eaHSTXPMS8vV",
        "outputId": "d54b1996-9486-43e5-d3ba-227c26258676"
      },
      "execution_count": 17,
      "outputs": [
        {
          "output_type": "stream",
          "name": "stdout",
          "text": [
            "21499084800000\n"
          ]
        }
      ]
    },
    {
      "cell_type": "code",
      "source": [],
      "metadata": {
        "id": "224pDvcxS8x5"
      },
      "execution_count": null,
      "outputs": []
    },
    {
      "cell_type": "code",
      "source": [],
      "metadata": {
        "id": "4I20-lfVS80i"
      },
      "execution_count": null,
      "outputs": []
    },
    {
      "cell_type": "code",
      "source": [],
      "metadata": {
        "id": "ccp_nQJPS86A"
      },
      "execution_count": null,
      "outputs": []
    },
    {
      "cell_type": "code",
      "source": [],
      "metadata": {
        "id": "vhbhYdi2S882"
      },
      "execution_count": null,
      "outputs": []
    }
  ]
}