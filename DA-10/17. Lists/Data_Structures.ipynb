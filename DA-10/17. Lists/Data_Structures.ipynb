{
  "nbformat": 4,
  "nbformat_minor": 0,
  "metadata": {
    "colab": {
      "provenance": []
    },
    "kernelspec": {
      "name": "python3",
      "display_name": "Python 3"
    },
    "language_info": {
      "name": "python"
    }
  },
  "cells": [
    {
      "cell_type": "markdown",
      "source": [
        "# **1**. Lists"
      ],
      "metadata": {
        "id": "trJ9kNWSvqM9"
      }
    },
    {
      "cell_type": "code",
      "source": [
        "user_name = 'Akash'\n",
        "phone_no = 92123874128\n",
        "address = 'delhi'\n",
        "batch = 'd-10'\n",
        "email = 'akash@gmail.com'\n",
        "gender = ''\n",
        "dob = ''\n",
        "education_background = ''\n",
        "isWorking = True"
      ],
      "metadata": {
        "id": "Yu-Qk3I4uAxv"
      },
      "execution_count": null,
      "outputs": []
    },
    {
      "cell_type": "code",
      "source": [
        "user_1 = ['Akash',92123874128,'delhi','d-10']"
      ],
      "metadata": {
        "id": "oRNGwLjsxgUR"
      },
      "execution_count": 46,
      "outputs": []
    },
    {
      "cell_type": "code",
      "source": [
        "user_1.append(12)"
      ],
      "metadata": {
        "id": "K_B-E8g-w4ky"
      },
      "execution_count": 27,
      "outputs": []
    },
    {
      "cell_type": "code",
      "source": [
        "user_1"
      ],
      "metadata": {
        "colab": {
          "base_uri": "https://localhost:8080/"
        },
        "id": "g-uhrbuSwxVm",
        "outputId": "e79f4e63-fcd5-4c20-d611-27f88d56f388"
      },
      "execution_count": 28,
      "outputs": [
        {
          "output_type": "execute_result",
          "data": {
            "text/plain": [
              "['Akash', 92123874128, 'delhi', 'd-10', 12, 12, 12, 12, 12, 12]"
            ]
          },
          "metadata": {},
          "execution_count": 28
        }
      ]
    },
    {
      "cell_type": "code",
      "source": [
        "user_1"
      ],
      "metadata": {
        "colab": {
          "base_uri": "https://localhost:8080/"
        },
        "id": "yCSY5wNGzMKr",
        "outputId": "48fc98ef-5e82-4f27-fdcd-a64cb9281f46"
      },
      "execution_count": 47,
      "outputs": [
        {
          "output_type": "execute_result",
          "data": {
            "text/plain": [
              "['Akash', 92123874128, 'delhi', 'd-10']"
            ]
          },
          "metadata": {},
          "execution_count": 47
        }
      ]
    },
    {
      "cell_type": "code",
      "source": [
        "user_1[0] = 'Manish'"
      ],
      "metadata": {
        "id": "oprz08wIw_LD"
      },
      "execution_count": 49,
      "outputs": []
    },
    {
      "cell_type": "code",
      "source": [
        "user_1"
      ],
      "metadata": {
        "colab": {
          "base_uri": "https://localhost:8080/"
        },
        "id": "jLg_xFn1xFzF",
        "outputId": "4b752e41-1c51-4c91-f682-2a3d18f15bc4"
      },
      "execution_count": 50,
      "outputs": [
        {
          "output_type": "execute_result",
          "data": {
            "text/plain": [
              "['Manish', 92123874128, 'delhi', 'd-10']"
            ]
          },
          "metadata": {},
          "execution_count": 50
        }
      ]
    },
    {
      "cell_type": "markdown",
      "source": [
        "### 1.2) Practice List"
      ],
      "metadata": {
        "id": "50cTrD4934tl"
      }
    },
    {
      "cell_type": "markdown",
      "source": [
        "##### 1.2.1) append all the even numbers between 0-100 into the list"
      ],
      "metadata": {
        "id": "zbcwH9dH3Ycx"
      }
    },
    {
      "cell_type": "code",
      "source": [
        "lst = []\n",
        "\n",
        "for i in range(2,100,2):\n",
        "  lst.append(i)\n",
        "\n",
        "print(lst)\n"
      ],
      "metadata": {
        "colab": {
          "base_uri": "https://localhost:8080/"
        },
        "id": "XCrvKF2Y0PMl",
        "outputId": "71f6bdf5-7c53-40ca-9858-5cf91f68b97a"
      },
      "execution_count": 60,
      "outputs": [
        {
          "output_type": "stream",
          "name": "stdout",
          "text": [
            "[2, 4, 6, 8, 10, 12, 14, 16, 18, 20, 22, 24, 26, 28, 30, 32, 34, 36, 38, 40, 42, 44, 46, 48, 50, 52, 54, 56, 58, 60, 62, 64, 66, 68, 70, 72, 74, 76, 78, 80, 82, 84, 86, 88, 90, 92, 94, 96, 98]\n"
          ]
        }
      ]
    },
    {
      "cell_type": "markdown",
      "source": [
        "##### 1.2.2) sum of all the elements of a list"
      ],
      "metadata": {
        "id": "0XG7I9A_3dxn"
      }
    },
    {
      "cell_type": "code",
      "source": [
        "s = 0\n",
        "\n",
        "for i in range(len(lst)):\n",
        "  s = s + lst[i]\n",
        "\n",
        "print(s)"
      ],
      "metadata": {
        "colab": {
          "base_uri": "https://localhost:8080/"
        },
        "id": "gSkIFQvo3ntR",
        "outputId": "77677e0d-0026-4311-a222-b2f4b5a43116"
      },
      "execution_count": 67,
      "outputs": [
        {
          "output_type": "stream",
          "name": "stdout",
          "text": [
            "2450\n"
          ]
        }
      ]
    },
    {
      "cell_type": "markdown",
      "source": [
        "##### 1.2.3) sum of all the even place elements of a list"
      ],
      "metadata": {
        "id": "yAqO70fa3kvK"
      }
    },
    {
      "cell_type": "code",
      "source": [
        "sum_even = 0\n",
        "\n",
        "for i in range(len(lst)):\n",
        "  if i%2 == 0:\n",
        "    sum_even = sum_even + lst[i]\n",
        "\n",
        "print(sum_even)"
      ],
      "metadata": {
        "colab": {
          "base_uri": "https://localhost:8080/"
        },
        "id": "r8uFfdcb3WbR",
        "outputId": "dc95af87-5102-4024-8323-dff2fe327553"
      },
      "execution_count": 73,
      "outputs": [
        {
          "output_type": "stream",
          "name": "stdout",
          "text": [
            "1250\n"
          ]
        }
      ]
    },
    {
      "cell_type": "markdown",
      "source": [
        "##### 1.2.4) sum of all the odd place elements of a list"
      ],
      "metadata": {
        "id": "gN8yZUAo3qYn"
      }
    },
    {
      "cell_type": "code",
      "source": [
        "sum_odd = 0\n",
        "\n",
        "for i in range(len(lst)):\n",
        "  if i%2 != 0:\n",
        "    sum_odd = sum_odd + lst[i]\n",
        "\n",
        "print(sum_odd)"
      ],
      "metadata": {
        "colab": {
          "base_uri": "https://localhost:8080/"
        },
        "id": "j4nar3aZ3WY7",
        "outputId": "a59e8114-1137-4695-e421-faad8a9d92c4"
      },
      "execution_count": 74,
      "outputs": [
        {
          "output_type": "stream",
          "name": "stdout",
          "text": [
            "1200\n"
          ]
        }
      ]
    },
    {
      "cell_type": "markdown",
      "source": [
        "##### 1.2.5) difference between even and off place element sum of a list"
      ],
      "metadata": {
        "id": "pk98fcEe3tf4"
      }
    },
    {
      "cell_type": "code",
      "source": [
        "print(sum_even - sum_odd)"
      ],
      "metadata": {
        "colab": {
          "base_uri": "https://localhost:8080/"
        },
        "id": "kOQ-8Af83WWE",
        "outputId": "f0d324cc-4c77-4503-fcb3-2ddd76e32a52"
      },
      "execution_count": 75,
      "outputs": [
        {
          "output_type": "stream",
          "name": "stdout",
          "text": [
            "50\n"
          ]
        }
      ]
    },
    {
      "cell_type": "code",
      "source": [
        "n = int(input('enter a number : '))\n",
        "\n",
        "# 5 ,100, 12300, 1287782231\n",
        "\n",
        "s = 0\n",
        "for i in range(n+1):\n",
        "  s += i\n",
        "print(s)"
      ],
      "metadata": {
        "colab": {
          "base_uri": "https://localhost:8080/"
        },
        "id": "smBElPJa3WTu",
        "outputId": "05042d34-6376-4111-a7da-b1058cce8c7d"
      },
      "execution_count": 85,
      "outputs": [
        {
          "output_type": "stream",
          "name": "stdout",
          "text": [
            "enter a number : 6\n",
            "21\n"
          ]
        }
      ]
    },
    {
      "cell_type": "code",
      "source": [
        "1 = 1\n",
        "2 = 3\n",
        "3 = 6 (3*2)\n",
        "4 = 10 (4*2.5)\n",
        "5 = 15 (5*3)\n",
        "6 = 21 (6*3.5)\n",
        "7 = 28 (7*4)\n",
        "8 = 36 (8*4.5)\n",
        "\n",
        "3 = 6 (3*2)\n",
        "5 = 15 (5*3)\n",
        "7 = 28 (7*4)\n",
        "\n"
      ],
      "metadata": {
        "colab": {
          "base_uri": "https://localhost:8080/",
          "height": 106
        },
        "id": "BWZMroVS-BmY",
        "outputId": "918ae0dc-91a1-40df-ccda-86c496566c30"
      },
      "execution_count": 86,
      "outputs": [
        {
          "output_type": "error",
          "ename": "SyntaxError",
          "evalue": "cannot assign to literal here. Maybe you meant '==' instead of '='? (ipython-input-86-2188391950.py, line 1)",
          "traceback": [
            "\u001b[0;36m  File \u001b[0;32m\"/tmp/ipython-input-86-2188391950.py\"\u001b[0;36m, line \u001b[0;32m1\u001b[0m\n\u001b[0;31m    1 = 1\u001b[0m\n\u001b[0m    ^\u001b[0m\n\u001b[0;31mSyntaxError\u001b[0m\u001b[0;31m:\u001b[0m cannot assign to literal here. Maybe you meant '==' instead of '='?\n"
          ]
        }
      ]
    },
    {
      "cell_type": "code",
      "source": [
        "n = 8\n",
        "\n",
        "print(n * ((n//2) + .5))"
      ],
      "metadata": {
        "colab": {
          "base_uri": "https://localhost:8080/"
        },
        "id": "mlfVq6sO3WQr",
        "outputId": "3b1b0675-b360-4c85-ef02-d62fce14d5db"
      },
      "execution_count": 99,
      "outputs": [
        {
          "output_type": "stream",
          "name": "stdout",
          "text": [
            "36.0\n"
          ]
        }
      ]
    },
    {
      "cell_type": "code",
      "source": [
        "n = 26598326498239841\n",
        "\n",
        "print(n * ((n//2) + 1))"
      ],
      "metadata": {
        "colab": {
          "base_uri": "https://localhost:8080/"
        },
        "id": "X74I_hjvAW0k",
        "outputId": "cab54364-10af-4934-e9f8-ce16dcd0007c"
      },
      "execution_count": 91,
      "outputs": [
        {
          "output_type": "execute_result",
          "data": {
            "text/plain": [
              "5"
            ]
          },
          "metadata": {},
          "execution_count": 91
        }
      ]
    },
    {
      "cell_type": "code",
      "source": [
        "n = 6\n",
        "print(n*(n+1)//2)"
      ],
      "metadata": {
        "colab": {
          "base_uri": "https://localhost:8080/"
        },
        "id": "jbb4fYCTBlIU",
        "outputId": "be7e2992-bf89-429d-bc10-921b8078393e"
      },
      "execution_count": 104,
      "outputs": [
        {
          "output_type": "stream",
          "name": "stdout",
          "text": [
            "21\n"
          ]
        }
      ]
    },
    {
      "cell_type": "markdown",
      "source": [
        "### 1.3) Assignment List"
      ],
      "metadata": {
        "id": "hxnR90qc3_43"
      }
    },
    {
      "cell_type": "markdown",
      "metadata": {
        "id": "6e7ebd6b"
      },
      "source": [
        "Here are some practice questions on basic 1D lists in Python:\n",
        "\n",
        "```fruits = ['apple', 'banana', 'cherry', 'date', 'grape', 'mango', 'orange', 'strawberry']```\n",
        "\n",
        "\n",
        "1. **Creating and Accessing Lists:**\n",
        "   - Create a list named `fruits` containing the strings 'apple', 'banana', 'cherry', and 'date'.\n",
        "   - Print the first element of the `fruits` list.\n",
        "   - Print the last element of the `fruits` list.\n",
        "   - Print the elements from the second to the third element (inclusive) of the `fruits` list using slicing.\n",
        "\n",
        "2. **Modifying Lists:**\n",
        "   - Add the string 'grape' to the end of the `fruits` list.\n",
        "   - Change the second element of the `fruits` list to 'blueberry'.\n",
        "   - Insert the string 'orange' at the beginning of the `fruits` list.\n",
        "   - Remove the element 'cherry' from the `fruits` list.\n",
        "\n",
        "3. **List Operations:**\n",
        "   - Create a list of numbers from 1 to 10.\n",
        "   - Find the length of the list of numbers.\n",
        "   - Find the maximum value in the list of numbers.\n",
        "   - Find the minimum value in the list of numbers.\n",
        "   - Calculate the sum of all numbers in the list.\n",
        "\n",
        "4. **Iterating through Lists:**\n",
        "   - Iterate through the `fruits` list and print each fruit on a new line.\n",
        "   - Iterate through the list of numbers and print only the even numbers.\n",
        "\n",
        "\n",
        "5. **Checking Membership:**\n",
        "   - Check if 'banana' is present in the `fruits` list.\n",
        "   - Check if 'kiwi' is present in the `fruits` list."
      ]
    },
    {
      "cell_type": "code",
      "metadata": {
        "id": "CkZ02W0f-Vw6"
      },
      "source": [
        "fruits = ['apple', 'banana', 'cherry', 'date', 'grape', 'mango', 'orange', 'strawberry']\n",
        "print(fruits)"
      ],
      "execution_count": null,
      "outputs": []
    },
    {
      "cell_type": "code",
      "source": [
        "da_10   = [['Akash',[92123874128,4123121],'delhi','d-10'],\n",
        "           ['Akash',92123874128,'delhi','d-10'],\n",
        "           ['Akash',92123874128,'delhi','d-10'],\n",
        "           ['Akash',92123874128,'delhi','d-10'],\n",
        "           ['Akash',92123874128,'delhi','d-10'],\n",
        "           ['Akash',92123874128,'delhi','d-10'],\n",
        "           ['Akash',92123874128,'delhi','d-10'],\n",
        "           ['Akash',92123874128,'delhi','d-10']]"
      ],
      "metadata": {
        "id": "8YWU5Kwq1SRA"
      },
      "execution_count": 111,
      "outputs": []
    },
    {
      "cell_type": "code",
      "source": [
        "lst = [[1,2,3],\n",
        "       [4,5,6],\n",
        "       [7,8,9]]\n",
        "\n",
        "# 1. find the sum of all teh elements of this list\n",
        "# 2. find the sum elements row wise\n",
        "# 3. find the sum elements column wise\n",
        "# 4. find the sum elements left diagonal wise\n",
        "# 5. find the sum elements right diagonal wise\n",
        "# 6. find the sum elements both the diagonal"
      ],
      "metadata": {
        "id": "Yb89-x3NDFDs"
      },
      "execution_count": 115,
      "outputs": []
    },
    {
      "cell_type": "code",
      "source": [
        "lst = [[1,2,3,4],\n",
        "       [4,5,6,6],\n",
        "       [7,8,9,4],\n",
        "       [7,8,9,4]]"
      ],
      "metadata": {
        "id": "ozieg1LTDId5"
      },
      "execution_count": null,
      "outputs": []
    }
  ]
}