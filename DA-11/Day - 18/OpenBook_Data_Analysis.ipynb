{
  "nbformat": 4,
  "nbformat_minor": 0,
  "metadata": {
    "colab": {
      "provenance": []
    },
    "kernelspec": {
      "name": "python3",
      "display_name": "Python 3"
    },
    "language_info": {
      "name": "python"
    },
    "widgets": {
      "application/vnd.jupyter.widget-state+json": {
        "ca5e9378e5344b9d9d75e72c6ec0485d": {
          "model_module": "@jupyter-widgets/controls",
          "model_name": "HBoxModel",
          "model_module_version": "1.5.0",
          "state": {
            "_dom_classes": [],
            "_model_module": "@jupyter-widgets/controls",
            "_model_module_version": "1.5.0",
            "_model_name": "HBoxModel",
            "_view_count": null,
            "_view_module": "@jupyter-widgets/controls",
            "_view_module_version": "1.5.0",
            "_view_name": "HBoxView",
            "box_style": "",
            "children": [
              "IPY_MODEL_b9074dc1b16946e1b57987d2c23a1cc2",
              "IPY_MODEL_7db8e9aaa0444af59b4b313223b3a4df",
              "IPY_MODEL_da7afa42fa7d4d73906fdda78cfe75be"
            ],
            "layout": "IPY_MODEL_2fee3aac11ac47d5b32b420ce70f8bcd"
          }
        },
        "b9074dc1b16946e1b57987d2c23a1cc2": {
          "model_module": "@jupyter-widgets/controls",
          "model_name": "HTMLModel",
          "model_module_version": "1.5.0",
          "state": {
            "_dom_classes": [],
            "_model_module": "@jupyter-widgets/controls",
            "_model_module_version": "1.5.0",
            "_model_name": "HTMLModel",
            "_view_count": null,
            "_view_module": "@jupyter-widgets/controls",
            "_view_module_version": "1.5.0",
            "_view_name": "HTMLView",
            "description": "",
            "description_tooltip": null,
            "layout": "IPY_MODEL_87bb6708b72f4c02ba830ba83e9fd2e3",
            "placeholder": "​",
            "style": "IPY_MODEL_2eda4d5a62bf4676a3d5b46330aeae0f",
            "value": "100%"
          }
        },
        "7db8e9aaa0444af59b4b313223b3a4df": {
          "model_module": "@jupyter-widgets/controls",
          "model_name": "FloatProgressModel",
          "model_module_version": "1.5.0",
          "state": {
            "_dom_classes": [],
            "_model_module": "@jupyter-widgets/controls",
            "_model_module_version": "1.5.0",
            "_model_name": "FloatProgressModel",
            "_view_count": null,
            "_view_module": "@jupyter-widgets/controls",
            "_view_module_version": "1.5.0",
            "_view_name": "ProgressView",
            "bar_style": "success",
            "description": "",
            "description_tooltip": null,
            "layout": "IPY_MODEL_4932e89156894bc7a9150863bbc15719",
            "max": 141,
            "min": 0,
            "orientation": "horizontal",
            "style": "IPY_MODEL_2439a30b2bcb46129716d92b4c0318e8",
            "value": 141
          }
        },
        "da7afa42fa7d4d73906fdda78cfe75be": {
          "model_module": "@jupyter-widgets/controls",
          "model_name": "HTMLModel",
          "model_module_version": "1.5.0",
          "state": {
            "_dom_classes": [],
            "_model_module": "@jupyter-widgets/controls",
            "_model_module_version": "1.5.0",
            "_model_name": "HTMLModel",
            "_view_count": null,
            "_view_module": "@jupyter-widgets/controls",
            "_view_module_version": "1.5.0",
            "_view_name": "HTMLView",
            "description": "",
            "description_tooltip": null,
            "layout": "IPY_MODEL_4f7947bdfc2f47d2970bbead83eddb75",
            "placeholder": "​",
            "style": "IPY_MODEL_1c30dd0151e6406f8f3774c8658ce6cf",
            "value": " 141/141 [00:35&lt;00:00,  2.56it/s]"
          }
        },
        "2fee3aac11ac47d5b32b420ce70f8bcd": {
          "model_module": "@jupyter-widgets/base",
          "model_name": "LayoutModel",
          "model_module_version": "1.2.0",
          "state": {
            "_model_module": "@jupyter-widgets/base",
            "_model_module_version": "1.2.0",
            "_model_name": "LayoutModel",
            "_view_count": null,
            "_view_module": "@jupyter-widgets/base",
            "_view_module_version": "1.2.0",
            "_view_name": "LayoutView",
            "align_content": null,
            "align_items": null,
            "align_self": null,
            "border": null,
            "bottom": null,
            "display": null,
            "flex": null,
            "flex_flow": null,
            "grid_area": null,
            "grid_auto_columns": null,
            "grid_auto_flow": null,
            "grid_auto_rows": null,
            "grid_column": null,
            "grid_gap": null,
            "grid_row": null,
            "grid_template_areas": null,
            "grid_template_columns": null,
            "grid_template_rows": null,
            "height": null,
            "justify_content": null,
            "justify_items": null,
            "left": null,
            "margin": null,
            "max_height": null,
            "max_width": null,
            "min_height": null,
            "min_width": null,
            "object_fit": null,
            "object_position": null,
            "order": null,
            "overflow": null,
            "overflow_x": null,
            "overflow_y": null,
            "padding": null,
            "right": null,
            "top": null,
            "visibility": null,
            "width": null
          }
        },
        "87bb6708b72f4c02ba830ba83e9fd2e3": {
          "model_module": "@jupyter-widgets/base",
          "model_name": "LayoutModel",
          "model_module_version": "1.2.0",
          "state": {
            "_model_module": "@jupyter-widgets/base",
            "_model_module_version": "1.2.0",
            "_model_name": "LayoutModel",
            "_view_count": null,
            "_view_module": "@jupyter-widgets/base",
            "_view_module_version": "1.2.0",
            "_view_name": "LayoutView",
            "align_content": null,
            "align_items": null,
            "align_self": null,
            "border": null,
            "bottom": null,
            "display": null,
            "flex": null,
            "flex_flow": null,
            "grid_area": null,
            "grid_auto_columns": null,
            "grid_auto_flow": null,
            "grid_auto_rows": null,
            "grid_column": null,
            "grid_gap": null,
            "grid_row": null,
            "grid_template_areas": null,
            "grid_template_columns": null,
            "grid_template_rows": null,
            "height": null,
            "justify_content": null,
            "justify_items": null,
            "left": null,
            "margin": null,
            "max_height": null,
            "max_width": null,
            "min_height": null,
            "min_width": null,
            "object_fit": null,
            "object_position": null,
            "order": null,
            "overflow": null,
            "overflow_x": null,
            "overflow_y": null,
            "padding": null,
            "right": null,
            "top": null,
            "visibility": null,
            "width": null
          }
        },
        "2eda4d5a62bf4676a3d5b46330aeae0f": {
          "model_module": "@jupyter-widgets/controls",
          "model_name": "DescriptionStyleModel",
          "model_module_version": "1.5.0",
          "state": {
            "_model_module": "@jupyter-widgets/controls",
            "_model_module_version": "1.5.0",
            "_model_name": "DescriptionStyleModel",
            "_view_count": null,
            "_view_module": "@jupyter-widgets/base",
            "_view_module_version": "1.2.0",
            "_view_name": "StyleView",
            "description_width": ""
          }
        },
        "4932e89156894bc7a9150863bbc15719": {
          "model_module": "@jupyter-widgets/base",
          "model_name": "LayoutModel",
          "model_module_version": "1.2.0",
          "state": {
            "_model_module": "@jupyter-widgets/base",
            "_model_module_version": "1.2.0",
            "_model_name": "LayoutModel",
            "_view_count": null,
            "_view_module": "@jupyter-widgets/base",
            "_view_module_version": "1.2.0",
            "_view_name": "LayoutView",
            "align_content": null,
            "align_items": null,
            "align_self": null,
            "border": null,
            "bottom": null,
            "display": null,
            "flex": null,
            "flex_flow": null,
            "grid_area": null,
            "grid_auto_columns": null,
            "grid_auto_flow": null,
            "grid_auto_rows": null,
            "grid_column": null,
            "grid_gap": null,
            "grid_row": null,
            "grid_template_areas": null,
            "grid_template_columns": null,
            "grid_template_rows": null,
            "height": null,
            "justify_content": null,
            "justify_items": null,
            "left": null,
            "margin": null,
            "max_height": null,
            "max_width": null,
            "min_height": null,
            "min_width": null,
            "object_fit": null,
            "object_position": null,
            "order": null,
            "overflow": null,
            "overflow_x": null,
            "overflow_y": null,
            "padding": null,
            "right": null,
            "top": null,
            "visibility": null,
            "width": null
          }
        },
        "2439a30b2bcb46129716d92b4c0318e8": {
          "model_module": "@jupyter-widgets/controls",
          "model_name": "ProgressStyleModel",
          "model_module_version": "1.5.0",
          "state": {
            "_model_module": "@jupyter-widgets/controls",
            "_model_module_version": "1.5.0",
            "_model_name": "ProgressStyleModel",
            "_view_count": null,
            "_view_module": "@jupyter-widgets/base",
            "_view_module_version": "1.2.0",
            "_view_name": "StyleView",
            "bar_color": null,
            "description_width": ""
          }
        },
        "4f7947bdfc2f47d2970bbead83eddb75": {
          "model_module": "@jupyter-widgets/base",
          "model_name": "LayoutModel",
          "model_module_version": "1.2.0",
          "state": {
            "_model_module": "@jupyter-widgets/base",
            "_model_module_version": "1.2.0",
            "_model_name": "LayoutModel",
            "_view_count": null,
            "_view_module": "@jupyter-widgets/base",
            "_view_module_version": "1.2.0",
            "_view_name": "LayoutView",
            "align_content": null,
            "align_items": null,
            "align_self": null,
            "border": null,
            "bottom": null,
            "display": null,
            "flex": null,
            "flex_flow": null,
            "grid_area": null,
            "grid_auto_columns": null,
            "grid_auto_flow": null,
            "grid_auto_rows": null,
            "grid_column": null,
            "grid_gap": null,
            "grid_row": null,
            "grid_template_areas": null,
            "grid_template_columns": null,
            "grid_template_rows": null,
            "height": null,
            "justify_content": null,
            "justify_items": null,
            "left": null,
            "margin": null,
            "max_height": null,
            "max_width": null,
            "min_height": null,
            "min_width": null,
            "object_fit": null,
            "object_position": null,
            "order": null,
            "overflow": null,
            "overflow_x": null,
            "overflow_y": null,
            "padding": null,
            "right": null,
            "top": null,
            "visibility": null,
            "width": null
          }
        },
        "1c30dd0151e6406f8f3774c8658ce6cf": {
          "model_module": "@jupyter-widgets/controls",
          "model_name": "DescriptionStyleModel",
          "model_module_version": "1.5.0",
          "state": {
            "_model_module": "@jupyter-widgets/controls",
            "_model_module_version": "1.5.0",
            "_model_name": "DescriptionStyleModel",
            "_view_count": null,
            "_view_module": "@jupyter-widgets/base",
            "_view_module_version": "1.2.0",
            "_view_name": "StyleView",
            "description_width": ""
          }
        },
        "f5832577ff044c48a08d76a8df795497": {
          "model_module": "@jupyter-widgets/controls",
          "model_name": "HBoxModel",
          "model_module_version": "1.5.0",
          "state": {
            "_dom_classes": [],
            "_model_module": "@jupyter-widgets/controls",
            "_model_module_version": "1.5.0",
            "_model_name": "HBoxModel",
            "_view_count": null,
            "_view_module": "@jupyter-widgets/controls",
            "_view_module_version": "1.5.0",
            "_view_name": "HBoxView",
            "box_style": "",
            "children": [
              "IPY_MODEL_6f2349d14dc04d31839c34d733e10196",
              "IPY_MODEL_fffbeaad74524ea2bd67072f9233d9db",
              "IPY_MODEL_2599a0807b7f4d23b5f69836da96c441"
            ],
            "layout": "IPY_MODEL_3bd9a296f10b443689ddbf78745dfde8"
          }
        },
        "6f2349d14dc04d31839c34d733e10196": {
          "model_module": "@jupyter-widgets/controls",
          "model_name": "HTMLModel",
          "model_module_version": "1.5.0",
          "state": {
            "_dom_classes": [],
            "_model_module": "@jupyter-widgets/controls",
            "_model_module_version": "1.5.0",
            "_model_name": "HTMLModel",
            "_view_count": null,
            "_view_module": "@jupyter-widgets/controls",
            "_view_module_version": "1.5.0",
            "_view_name": "HTMLView",
            "description": "",
            "description_tooltip": null,
            "layout": "IPY_MODEL_94235d2bd5a44b4686a891903d831985",
            "placeholder": "​",
            "style": "IPY_MODEL_74b8e7af0840478a8b5fb9a250bd2e4c",
            "value": "100%"
          }
        },
        "fffbeaad74524ea2bd67072f9233d9db": {
          "model_module": "@jupyter-widgets/controls",
          "model_name": "FloatProgressModel",
          "model_module_version": "1.5.0",
          "state": {
            "_dom_classes": [],
            "_model_module": "@jupyter-widgets/controls",
            "_model_module_version": "1.5.0",
            "_model_name": "FloatProgressModel",
            "_view_count": null,
            "_view_module": "@jupyter-widgets/controls",
            "_view_module_version": "1.5.0",
            "_view_name": "ProgressView",
            "bar_style": "success",
            "description": "",
            "description_tooltip": null,
            "layout": "IPY_MODEL_ec9227347c7f41e9a385fc8217c33ea0",
            "max": 1253472,
            "min": 0,
            "orientation": "horizontal",
            "style": "IPY_MODEL_6d3d2d5cf2ec4688a39c8a96a43b9044",
            "value": 1253472
          }
        },
        "2599a0807b7f4d23b5f69836da96c441": {
          "model_module": "@jupyter-widgets/controls",
          "model_name": "HTMLModel",
          "model_module_version": "1.5.0",
          "state": {
            "_dom_classes": [],
            "_model_module": "@jupyter-widgets/controls",
            "_model_module_version": "1.5.0",
            "_model_name": "HTMLModel",
            "_view_count": null,
            "_view_module": "@jupyter-widgets/controls",
            "_view_module_version": "1.5.0",
            "_view_name": "HTMLView",
            "description": "",
            "description_tooltip": null,
            "layout": "IPY_MODEL_2970fedb64984f0fa6f8918876fb1f9b",
            "placeholder": "​",
            "style": "IPY_MODEL_c0034aff139e4dca8344df1e122fc04b",
            "value": " 1253472/1253472 [00:01&lt;00:00, 1093884.15it/s]"
          }
        },
        "3bd9a296f10b443689ddbf78745dfde8": {
          "model_module": "@jupyter-widgets/base",
          "model_name": "LayoutModel",
          "model_module_version": "1.2.0",
          "state": {
            "_model_module": "@jupyter-widgets/base",
            "_model_module_version": "1.2.0",
            "_model_name": "LayoutModel",
            "_view_count": null,
            "_view_module": "@jupyter-widgets/base",
            "_view_module_version": "1.2.0",
            "_view_name": "LayoutView",
            "align_content": null,
            "align_items": null,
            "align_self": null,
            "border": null,
            "bottom": null,
            "display": null,
            "flex": null,
            "flex_flow": null,
            "grid_area": null,
            "grid_auto_columns": null,
            "grid_auto_flow": null,
            "grid_auto_rows": null,
            "grid_column": null,
            "grid_gap": null,
            "grid_row": null,
            "grid_template_areas": null,
            "grid_template_columns": null,
            "grid_template_rows": null,
            "height": null,
            "justify_content": null,
            "justify_items": null,
            "left": null,
            "margin": null,
            "max_height": null,
            "max_width": null,
            "min_height": null,
            "min_width": null,
            "object_fit": null,
            "object_position": null,
            "order": null,
            "overflow": null,
            "overflow_x": null,
            "overflow_y": null,
            "padding": null,
            "right": null,
            "top": null,
            "visibility": null,
            "width": null
          }
        },
        "94235d2bd5a44b4686a891903d831985": {
          "model_module": "@jupyter-widgets/base",
          "model_name": "LayoutModel",
          "model_module_version": "1.2.0",
          "state": {
            "_model_module": "@jupyter-widgets/base",
            "_model_module_version": "1.2.0",
            "_model_name": "LayoutModel",
            "_view_count": null,
            "_view_module": "@jupyter-widgets/base",
            "_view_module_version": "1.2.0",
            "_view_name": "LayoutView",
            "align_content": null,
            "align_items": null,
            "align_self": null,
            "border": null,
            "bottom": null,
            "display": null,
            "flex": null,
            "flex_flow": null,
            "grid_area": null,
            "grid_auto_columns": null,
            "grid_auto_flow": null,
            "grid_auto_rows": null,
            "grid_column": null,
            "grid_gap": null,
            "grid_row": null,
            "grid_template_areas": null,
            "grid_template_columns": null,
            "grid_template_rows": null,
            "height": null,
            "justify_content": null,
            "justify_items": null,
            "left": null,
            "margin": null,
            "max_height": null,
            "max_width": null,
            "min_height": null,
            "min_width": null,
            "object_fit": null,
            "object_position": null,
            "order": null,
            "overflow": null,
            "overflow_x": null,
            "overflow_y": null,
            "padding": null,
            "right": null,
            "top": null,
            "visibility": null,
            "width": null
          }
        },
        "74b8e7af0840478a8b5fb9a250bd2e4c": {
          "model_module": "@jupyter-widgets/controls",
          "model_name": "DescriptionStyleModel",
          "model_module_version": "1.5.0",
          "state": {
            "_model_module": "@jupyter-widgets/controls",
            "_model_module_version": "1.5.0",
            "_model_name": "DescriptionStyleModel",
            "_view_count": null,
            "_view_module": "@jupyter-widgets/base",
            "_view_module_version": "1.2.0",
            "_view_name": "StyleView",
            "description_width": ""
          }
        },
        "ec9227347c7f41e9a385fc8217c33ea0": {
          "model_module": "@jupyter-widgets/base",
          "model_name": "LayoutModel",
          "model_module_version": "1.2.0",
          "state": {
            "_model_module": "@jupyter-widgets/base",
            "_model_module_version": "1.2.0",
            "_model_name": "LayoutModel",
            "_view_count": null,
            "_view_module": "@jupyter-widgets/base",
            "_view_module_version": "1.2.0",
            "_view_name": "LayoutView",
            "align_content": null,
            "align_items": null,
            "align_self": null,
            "border": null,
            "bottom": null,
            "display": null,
            "flex": null,
            "flex_flow": null,
            "grid_area": null,
            "grid_auto_columns": null,
            "grid_auto_flow": null,
            "grid_auto_rows": null,
            "grid_column": null,
            "grid_gap": null,
            "grid_row": null,
            "grid_template_areas": null,
            "grid_template_columns": null,
            "grid_template_rows": null,
            "height": null,
            "justify_content": null,
            "justify_items": null,
            "left": null,
            "margin": null,
            "max_height": null,
            "max_width": null,
            "min_height": null,
            "min_width": null,
            "object_fit": null,
            "object_position": null,
            "order": null,
            "overflow": null,
            "overflow_x": null,
            "overflow_y": null,
            "padding": null,
            "right": null,
            "top": null,
            "visibility": null,
            "width": null
          }
        },
        "6d3d2d5cf2ec4688a39c8a96a43b9044": {
          "model_module": "@jupyter-widgets/controls",
          "model_name": "ProgressStyleModel",
          "model_module_version": "1.5.0",
          "state": {
            "_model_module": "@jupyter-widgets/controls",
            "_model_module_version": "1.5.0",
            "_model_name": "ProgressStyleModel",
            "_view_count": null,
            "_view_module": "@jupyter-widgets/base",
            "_view_module_version": "1.2.0",
            "_view_name": "StyleView",
            "bar_color": null,
            "description_width": ""
          }
        },
        "2970fedb64984f0fa6f8918876fb1f9b": {
          "model_module": "@jupyter-widgets/base",
          "model_name": "LayoutModel",
          "model_module_version": "1.2.0",
          "state": {
            "_model_module": "@jupyter-widgets/base",
            "_model_module_version": "1.2.0",
            "_model_name": "LayoutModel",
            "_view_count": null,
            "_view_module": "@jupyter-widgets/base",
            "_view_module_version": "1.2.0",
            "_view_name": "LayoutView",
            "align_content": null,
            "align_items": null,
            "align_self": null,
            "border": null,
            "bottom": null,
            "display": null,
            "flex": null,
            "flex_flow": null,
            "grid_area": null,
            "grid_auto_columns": null,
            "grid_auto_flow": null,
            "grid_auto_rows": null,
            "grid_column": null,
            "grid_gap": null,
            "grid_row": null,
            "grid_template_areas": null,
            "grid_template_columns": null,
            "grid_template_rows": null,
            "height": null,
            "justify_content": null,
            "justify_items": null,
            "left": null,
            "margin": null,
            "max_height": null,
            "max_width": null,
            "min_height": null,
            "min_width": null,
            "object_fit": null,
            "object_position": null,
            "order": null,
            "overflow": null,
            "overflow_x": null,
            "overflow_y": null,
            "padding": null,
            "right": null,
            "top": null,
            "visibility": null,
            "width": null
          }
        },
        "c0034aff139e4dca8344df1e122fc04b": {
          "model_module": "@jupyter-widgets/controls",
          "model_name": "DescriptionStyleModel",
          "model_module_version": "1.5.0",
          "state": {
            "_model_module": "@jupyter-widgets/controls",
            "_model_module_version": "1.5.0",
            "_model_name": "DescriptionStyleModel",
            "_view_count": null,
            "_view_module": "@jupyter-widgets/base",
            "_view_module_version": "1.2.0",
            "_view_name": "StyleView",
            "description_width": ""
          }
        }
      }
    }
  },
  "cells": [
    {
      "cell_type": "markdown",
      "source": [
        "# Book Dataset Analysis\n",
        "\n",
        "A concise, insight-first exploration of a books dataset—covering inventory, authorship, categories, publication trends, and reader engagement. The notebook answers the following:\n",
        "\n",
        "## Objectives (Clear Questions)\n",
        "1. Total number of books.\n",
        "2. Top 25 categories by book count.\n",
        "3. Top 25 authors by number of books published.\n",
        "4. Yearly trend in books published (earliest → latest).\n",
        "5. Top 25 most common book titles.\n",
        "6. Top 25 authors by total pages written.\n",
        "7. Top 25 books by “want_to_read”.\n",
        "8. Top 25 books by “currently_reading”.\n",
        "9. Top 25 books by “have_read”.\n",
        "10. Top 25 authors by “want_to_read”, “currently_reading”, and “have_read”.\n",
        "\n",
        "---\n",
        "\n",
        "## Data Preview (5 rows)\n",
        "\n",
        "| title                                               | author                    | category      | publish_year             | reading_stats                                     |\n",
        "|-----------------------------------------------------|---------------------------|---------------|--------------------------|---------------------------------------------------|\n",
        "| Grasping the Changing World                         | Vaclav Hubinger           | anthropology  | First published in 2002  | 0 Want to read \\| 0 Currently reading \\| 0 Have read |\n",
        "| Design Anthropology in Context                      | Adam Drazin               | anthropology  | First published in 2020  | 0 Want to read \\| 0 Currently reading \\| 0 Have read |\n",
        "| Transculture, Société et Savoirs Dans les Amériques | Adina Balint              | anthropology  | First published in 2017  | 0 Want to read \\| 0 Currently reading \\| 0 Have read |\n",
        "| Methods and Data Analysis for Cross-Cultural R...   | Fons J. R. van de Vijver  | anthropology  | First published in 2021  | 0 Want to read \\| 0 Currently reading \\| 0 Have read |\n",
        "| Redefining Nature                                   | R. F. Ellen               | anthropology  | First published in 2021  | 0 Want to read \\| 0 Currently reading \\| 0 Have read |\n",
        "\n",
        "---"
      ],
      "metadata": {
        "id": "HlQqnUbaDlp2"
      }
    },
    {
      "cell_type": "markdown",
      "source": [
        "### 1. Importing Libraries & Data Loading"
      ],
      "metadata": {
        "id": "JI-MQIZQ96vT"
      }
    },
    {
      "cell_type": "code",
      "source": [
        "# !git clone https://github.com/AshishJangra27/datasets\n",
        "\n",
        "import os\n",
        "import numpy as np\n",
        "import pandas as pd\n",
        "from tqdm.auto import tqdm\n",
        "\n",
        "data = pd.DataFrame()\n",
        "\n",
        "for file in tqdm(os.listdir('/content/datasets/OpenBook')):\n",
        "\n",
        "  file_path = '/content/datasets/OpenBook/' + file\n",
        "  df = pd.read_csv(file_path)\n",
        "  data = pd.concat([data, df], ignore_index=True)\n",
        "\n",
        "data.head()"
      ],
      "metadata": {
        "colab": {
          "base_uri": "https://localhost:8080/",
          "height": 518,
          "referenced_widgets": [
            "ca5e9378e5344b9d9d75e72c6ec0485d",
            "b9074dc1b16946e1b57987d2c23a1cc2",
            "7db8e9aaa0444af59b4b313223b3a4df",
            "da7afa42fa7d4d73906fdda78cfe75be",
            "2fee3aac11ac47d5b32b420ce70f8bcd",
            "87bb6708b72f4c02ba830ba83e9fd2e3",
            "2eda4d5a62bf4676a3d5b46330aeae0f",
            "4932e89156894bc7a9150863bbc15719",
            "2439a30b2bcb46129716d92b4c0318e8",
            "4f7947bdfc2f47d2970bbead83eddb75",
            "1c30dd0151e6406f8f3774c8658ce6cf"
          ]
        },
        "id": "lS5Y8VQ390IT",
        "outputId": "595ab423-9216-4c56-eaad-8c40b5309c37"
      },
      "execution_count": 181,
      "outputs": [
        {
          "output_type": "display_data",
          "data": {
            "text/plain": [
              "  0%|          | 0/141 [00:00<?, ?it/s]"
            ],
            "application/vnd.jupyter.widget-view+json": {
              "version_major": 2,
              "version_minor": 0,
              "model_id": "ca5e9378e5344b9d9d75e72c6ec0485d"
            }
          },
          "metadata": {}
        },
        {
          "output_type": "execute_result",
          "data": {
            "text/plain": [
              "                           title             author    category  \\\n",
              "0  British Literature, 1640-1789     Robert Demaria  literature   \n",
              "1  Altes Reich und Neue Dichtung        Markus Hien  literature   \n",
              "2                  Deviant women    Tiina Mäntymäki  literature   \n",
              "3                 Terry McMillan  Paulette Richards  literature   \n",
              "4                     Then & now   Floyd C. Watkins  literature   \n",
              "\n",
              "              publish_year                                           title_id  \\\n",
              "0  First published in 1996  /works/OL8223625W?edition=ia%3Abritishliteratu...   \n",
              "1  First published in 2015                                 /works/OL21552602W   \n",
              "2  First published in 2014                                 /works/OL23220400W   \n",
              "3  First published in 1999  /works/OL34382W?edition=ia%3Aterrymcmillancri0...   \n",
              "4  First published in 1982  /works/OL1313660W?edition=ia%3Athennowpersonal...   \n",
              "\n",
              "                             author_id  \\\n",
              "0   /authors/OL2735177A/Robert_Demaria   \n",
              "1      /authors/OL8244204A/Markus_Hien   \n",
              "2  /authors/OL8802663A/Tiina_Mäntymäki   \n",
              "3  /authors/OL25028A/Paulette_Richards   \n",
              "4  /authors/OL133535A/Floyd_C._Watkins   \n",
              "\n",
              "                                           cover_url  \\\n",
              "0   //covers.openlibrary.org/b/olid/OL7609326M-M.jpg   \n",
              "1  //covers.openlibrary.org/b/olid/OL29241387M-M.jpg   \n",
              "2                   /images/icons/avatar_book-sm.png   \n",
              "3     //covers.openlibrary.org/b/olid/OL38705M-M.jpg   \n",
              "4   //covers.openlibrary.org/b/olid/OL3786776M-M.jpg   \n",
              "\n",
              "                                          book_stats  \\\n",
              "0  Publish Date December 1996|Publisher  Blackwel...   \n",
              "1  Publish Date 2015|Publisher  De Gruyter, Inc.,...   \n",
              "2  Publish Date 2015|Publisher  PL Academic Resea...   \n",
              "3  Publish Date 1999|Publisher  Greenwood Press|L...   \n",
              "4  Publish Date 1982|Publisher  University Press ...   \n",
              "\n",
              "                                        descriptions  \\\n",
              "0  This edition doesn't have a description yet. C...   \n",
              "1  This edition doesn't have a description yet. C...   \n",
              "2  This edition doesn't have a description yet. C...   \n",
              "3  This edition doesn't have a description yet. C...   \n",
              "4  This edition doesn't have a description yet. C...   \n",
              "\n",
              "                                    reading_stats  \n",
              "0  0 Want to read|1 Currently reading|0 Have read  \n",
              "1  0 Want to read|0 Currently reading|0 Have read  \n",
              "2  0 Want to read|0 Currently reading|0 Have read  \n",
              "3  1 Want to read|0 Currently reading|0 Have read  \n",
              "4  0 Want to read|0 Currently reading|0 Have read  "
            ],
            "text/html": [
              "\n",
              "  <div id=\"df-53d41be6-9164-4d20-b1a2-354f1e52f078\" class=\"colab-df-container\">\n",
              "    <div>\n",
              "<style scoped>\n",
              "    .dataframe tbody tr th:only-of-type {\n",
              "        vertical-align: middle;\n",
              "    }\n",
              "\n",
              "    .dataframe tbody tr th {\n",
              "        vertical-align: top;\n",
              "    }\n",
              "\n",
              "    .dataframe thead th {\n",
              "        text-align: right;\n",
              "    }\n",
              "</style>\n",
              "<table border=\"1\" class=\"dataframe\">\n",
              "  <thead>\n",
              "    <tr style=\"text-align: right;\">\n",
              "      <th></th>\n",
              "      <th>title</th>\n",
              "      <th>author</th>\n",
              "      <th>category</th>\n",
              "      <th>publish_year</th>\n",
              "      <th>title_id</th>\n",
              "      <th>author_id</th>\n",
              "      <th>cover_url</th>\n",
              "      <th>book_stats</th>\n",
              "      <th>descriptions</th>\n",
              "      <th>reading_stats</th>\n",
              "    </tr>\n",
              "  </thead>\n",
              "  <tbody>\n",
              "    <tr>\n",
              "      <th>0</th>\n",
              "      <td>British Literature, 1640-1789</td>\n",
              "      <td>Robert Demaria</td>\n",
              "      <td>literature</td>\n",
              "      <td>First published in 1996</td>\n",
              "      <td>/works/OL8223625W?edition=ia%3Abritishliteratu...</td>\n",
              "      <td>/authors/OL2735177A/Robert_Demaria</td>\n",
              "      <td>//covers.openlibrary.org/b/olid/OL7609326M-M.jpg</td>\n",
              "      <td>Publish Date December 1996|Publisher  Blackwel...</td>\n",
              "      <td>This edition doesn't have a description yet. C...</td>\n",
              "      <td>0 Want to read|1 Currently reading|0 Have read</td>\n",
              "    </tr>\n",
              "    <tr>\n",
              "      <th>1</th>\n",
              "      <td>Altes Reich und Neue Dichtung</td>\n",
              "      <td>Markus Hien</td>\n",
              "      <td>literature</td>\n",
              "      <td>First published in 2015</td>\n",
              "      <td>/works/OL21552602W</td>\n",
              "      <td>/authors/OL8244204A/Markus_Hien</td>\n",
              "      <td>//covers.openlibrary.org/b/olid/OL29241387M-M.jpg</td>\n",
              "      <td>Publish Date 2015|Publisher  De Gruyter, Inc.,...</td>\n",
              "      <td>This edition doesn't have a description yet. C...</td>\n",
              "      <td>0 Want to read|0 Currently reading|0 Have read</td>\n",
              "    </tr>\n",
              "    <tr>\n",
              "      <th>2</th>\n",
              "      <td>Deviant women</td>\n",
              "      <td>Tiina Mäntymäki</td>\n",
              "      <td>literature</td>\n",
              "      <td>First published in 2014</td>\n",
              "      <td>/works/OL23220400W</td>\n",
              "      <td>/authors/OL8802663A/Tiina_Mäntymäki</td>\n",
              "      <td>/images/icons/avatar_book-sm.png</td>\n",
              "      <td>Publish Date 2015|Publisher  PL Academic Resea...</td>\n",
              "      <td>This edition doesn't have a description yet. C...</td>\n",
              "      <td>0 Want to read|0 Currently reading|0 Have read</td>\n",
              "    </tr>\n",
              "    <tr>\n",
              "      <th>3</th>\n",
              "      <td>Terry McMillan</td>\n",
              "      <td>Paulette Richards</td>\n",
              "      <td>literature</td>\n",
              "      <td>First published in 1999</td>\n",
              "      <td>/works/OL34382W?edition=ia%3Aterrymcmillancri0...</td>\n",
              "      <td>/authors/OL25028A/Paulette_Richards</td>\n",
              "      <td>//covers.openlibrary.org/b/olid/OL38705M-M.jpg</td>\n",
              "      <td>Publish Date 1999|Publisher  Greenwood Press|L...</td>\n",
              "      <td>This edition doesn't have a description yet. C...</td>\n",
              "      <td>1 Want to read|0 Currently reading|0 Have read</td>\n",
              "    </tr>\n",
              "    <tr>\n",
              "      <th>4</th>\n",
              "      <td>Then &amp; now</td>\n",
              "      <td>Floyd C. Watkins</td>\n",
              "      <td>literature</td>\n",
              "      <td>First published in 1982</td>\n",
              "      <td>/works/OL1313660W?edition=ia%3Athennowpersonal...</td>\n",
              "      <td>/authors/OL133535A/Floyd_C._Watkins</td>\n",
              "      <td>//covers.openlibrary.org/b/olid/OL3786776M-M.jpg</td>\n",
              "      <td>Publish Date 1982|Publisher  University Press ...</td>\n",
              "      <td>This edition doesn't have a description yet. C...</td>\n",
              "      <td>0 Want to read|0 Currently reading|0 Have read</td>\n",
              "    </tr>\n",
              "  </tbody>\n",
              "</table>\n",
              "</div>\n",
              "    <div class=\"colab-df-buttons\">\n",
              "\n",
              "  <div class=\"colab-df-container\">\n",
              "    <button class=\"colab-df-convert\" onclick=\"convertToInteractive('df-53d41be6-9164-4d20-b1a2-354f1e52f078')\"\n",
              "            title=\"Convert this dataframe to an interactive table.\"\n",
              "            style=\"display:none;\">\n",
              "\n",
              "  <svg xmlns=\"http://www.w3.org/2000/svg\" height=\"24px\" viewBox=\"0 -960 960 960\">\n",
              "    <path d=\"M120-120v-720h720v720H120Zm60-500h600v-160H180v160Zm220 220h160v-160H400v160Zm0 220h160v-160H400v160ZM180-400h160v-160H180v160Zm440 0h160v-160H620v160ZM180-180h160v-160H180v160Zm440 0h160v-160H620v160Z\"/>\n",
              "  </svg>\n",
              "    </button>\n",
              "\n",
              "  <style>\n",
              "    .colab-df-container {\n",
              "      display:flex;\n",
              "      gap: 12px;\n",
              "    }\n",
              "\n",
              "    .colab-df-convert {\n",
              "      background-color: #E8F0FE;\n",
              "      border: none;\n",
              "      border-radius: 50%;\n",
              "      cursor: pointer;\n",
              "      display: none;\n",
              "      fill: #1967D2;\n",
              "      height: 32px;\n",
              "      padding: 0 0 0 0;\n",
              "      width: 32px;\n",
              "    }\n",
              "\n",
              "    .colab-df-convert:hover {\n",
              "      background-color: #E2EBFA;\n",
              "      box-shadow: 0px 1px 2px rgba(60, 64, 67, 0.3), 0px 1px 3px 1px rgba(60, 64, 67, 0.15);\n",
              "      fill: #174EA6;\n",
              "    }\n",
              "\n",
              "    .colab-df-buttons div {\n",
              "      margin-bottom: 4px;\n",
              "    }\n",
              "\n",
              "    [theme=dark] .colab-df-convert {\n",
              "      background-color: #3B4455;\n",
              "      fill: #D2E3FC;\n",
              "    }\n",
              "\n",
              "    [theme=dark] .colab-df-convert:hover {\n",
              "      background-color: #434B5C;\n",
              "      box-shadow: 0px 1px 3px 1px rgba(0, 0, 0, 0.15);\n",
              "      filter: drop-shadow(0px 1px 2px rgba(0, 0, 0, 0.3));\n",
              "      fill: #FFFFFF;\n",
              "    }\n",
              "  </style>\n",
              "\n",
              "    <script>\n",
              "      const buttonEl =\n",
              "        document.querySelector('#df-53d41be6-9164-4d20-b1a2-354f1e52f078 button.colab-df-convert');\n",
              "      buttonEl.style.display =\n",
              "        google.colab.kernel.accessAllowed ? 'block' : 'none';\n",
              "\n",
              "      async function convertToInteractive(key) {\n",
              "        const element = document.querySelector('#df-53d41be6-9164-4d20-b1a2-354f1e52f078');\n",
              "        const dataTable =\n",
              "          await google.colab.kernel.invokeFunction('convertToInteractive',\n",
              "                                                    [key], {});\n",
              "        if (!dataTable) return;\n",
              "\n",
              "        const docLinkHtml = 'Like what you see? Visit the ' +\n",
              "          '<a target=\"_blank\" href=https://colab.research.google.com/notebooks/data_table.ipynb>data table notebook</a>'\n",
              "          + ' to learn more about interactive tables.';\n",
              "        element.innerHTML = '';\n",
              "        dataTable['output_type'] = 'display_data';\n",
              "        await google.colab.output.renderOutput(dataTable, element);\n",
              "        const docLink = document.createElement('div');\n",
              "        docLink.innerHTML = docLinkHtml;\n",
              "        element.appendChild(docLink);\n",
              "      }\n",
              "    </script>\n",
              "  </div>\n",
              "\n",
              "\n",
              "    <div id=\"df-a18bf997-0f03-410d-9c99-fc600e0e1ce1\">\n",
              "      <button class=\"colab-df-quickchart\" onclick=\"quickchart('df-a18bf997-0f03-410d-9c99-fc600e0e1ce1')\"\n",
              "                title=\"Suggest charts\"\n",
              "                style=\"display:none;\">\n",
              "\n",
              "<svg xmlns=\"http://www.w3.org/2000/svg\" height=\"24px\"viewBox=\"0 0 24 24\"\n",
              "     width=\"24px\">\n",
              "    <g>\n",
              "        <path d=\"M19 3H5c-1.1 0-2 .9-2 2v14c0 1.1.9 2 2 2h14c1.1 0 2-.9 2-2V5c0-1.1-.9-2-2-2zM9 17H7v-7h2v7zm4 0h-2V7h2v10zm4 0h-2v-4h2v4z\"/>\n",
              "    </g>\n",
              "</svg>\n",
              "      </button>\n",
              "\n",
              "<style>\n",
              "  .colab-df-quickchart {\n",
              "      --bg-color: #E8F0FE;\n",
              "      --fill-color: #1967D2;\n",
              "      --hover-bg-color: #E2EBFA;\n",
              "      --hover-fill-color: #174EA6;\n",
              "      --disabled-fill-color: #AAA;\n",
              "      --disabled-bg-color: #DDD;\n",
              "  }\n",
              "\n",
              "  [theme=dark] .colab-df-quickchart {\n",
              "      --bg-color: #3B4455;\n",
              "      --fill-color: #D2E3FC;\n",
              "      --hover-bg-color: #434B5C;\n",
              "      --hover-fill-color: #FFFFFF;\n",
              "      --disabled-bg-color: #3B4455;\n",
              "      --disabled-fill-color: #666;\n",
              "  }\n",
              "\n",
              "  .colab-df-quickchart {\n",
              "    background-color: var(--bg-color);\n",
              "    border: none;\n",
              "    border-radius: 50%;\n",
              "    cursor: pointer;\n",
              "    display: none;\n",
              "    fill: var(--fill-color);\n",
              "    height: 32px;\n",
              "    padding: 0;\n",
              "    width: 32px;\n",
              "  }\n",
              "\n",
              "  .colab-df-quickchart:hover {\n",
              "    background-color: var(--hover-bg-color);\n",
              "    box-shadow: 0 1px 2px rgba(60, 64, 67, 0.3), 0 1px 3px 1px rgba(60, 64, 67, 0.15);\n",
              "    fill: var(--button-hover-fill-color);\n",
              "  }\n",
              "\n",
              "  .colab-df-quickchart-complete:disabled,\n",
              "  .colab-df-quickchart-complete:disabled:hover {\n",
              "    background-color: var(--disabled-bg-color);\n",
              "    fill: var(--disabled-fill-color);\n",
              "    box-shadow: none;\n",
              "  }\n",
              "\n",
              "  .colab-df-spinner {\n",
              "    border: 2px solid var(--fill-color);\n",
              "    border-color: transparent;\n",
              "    border-bottom-color: var(--fill-color);\n",
              "    animation:\n",
              "      spin 1s steps(1) infinite;\n",
              "  }\n",
              "\n",
              "  @keyframes spin {\n",
              "    0% {\n",
              "      border-color: transparent;\n",
              "      border-bottom-color: var(--fill-color);\n",
              "      border-left-color: var(--fill-color);\n",
              "    }\n",
              "    20% {\n",
              "      border-color: transparent;\n",
              "      border-left-color: var(--fill-color);\n",
              "      border-top-color: var(--fill-color);\n",
              "    }\n",
              "    30% {\n",
              "      border-color: transparent;\n",
              "      border-left-color: var(--fill-color);\n",
              "      border-top-color: var(--fill-color);\n",
              "      border-right-color: var(--fill-color);\n",
              "    }\n",
              "    40% {\n",
              "      border-color: transparent;\n",
              "      border-right-color: var(--fill-color);\n",
              "      border-top-color: var(--fill-color);\n",
              "    }\n",
              "    60% {\n",
              "      border-color: transparent;\n",
              "      border-right-color: var(--fill-color);\n",
              "    }\n",
              "    80% {\n",
              "      border-color: transparent;\n",
              "      border-right-color: var(--fill-color);\n",
              "      border-bottom-color: var(--fill-color);\n",
              "    }\n",
              "    90% {\n",
              "      border-color: transparent;\n",
              "      border-bottom-color: var(--fill-color);\n",
              "    }\n",
              "  }\n",
              "</style>\n",
              "\n",
              "      <script>\n",
              "        async function quickchart(key) {\n",
              "          const quickchartButtonEl =\n",
              "            document.querySelector('#' + key + ' button');\n",
              "          quickchartButtonEl.disabled = true;  // To prevent multiple clicks.\n",
              "          quickchartButtonEl.classList.add('colab-df-spinner');\n",
              "          try {\n",
              "            const charts = await google.colab.kernel.invokeFunction(\n",
              "                'suggestCharts', [key], {});\n",
              "          } catch (error) {\n",
              "            console.error('Error during call to suggestCharts:', error);\n",
              "          }\n",
              "          quickchartButtonEl.classList.remove('colab-df-spinner');\n",
              "          quickchartButtonEl.classList.add('colab-df-quickchart-complete');\n",
              "        }\n",
              "        (() => {\n",
              "          let quickchartButtonEl =\n",
              "            document.querySelector('#df-a18bf997-0f03-410d-9c99-fc600e0e1ce1 button');\n",
              "          quickchartButtonEl.style.display =\n",
              "            google.colab.kernel.accessAllowed ? 'block' : 'none';\n",
              "        })();\n",
              "      </script>\n",
              "    </div>\n",
              "\n",
              "    </div>\n",
              "  </div>\n"
            ],
            "application/vnd.google.colaboratory.intrinsic+json": {
              "type": "dataframe",
              "variable_name": "data"
            }
          },
          "metadata": {},
          "execution_count": 181
        }
      ]
    },
    {
      "cell_type": "markdown",
      "source": [
        "### 2. Data Exploration"
      ],
      "metadata": {
        "id": "2HxbaeYI-JcI"
      }
    },
    {
      "cell_type": "markdown",
      "source": [
        "#### 2.1) Check Null Values"
      ],
      "metadata": {
        "id": "VTNZdFvV-MSc"
      }
    },
    {
      "cell_type": "code",
      "source": [
        "data.isnull().sum()"
      ],
      "metadata": {
        "colab": {
          "base_uri": "https://localhost:8080/",
          "height": 397
        },
        "id": "CSX5QhAF-LvU",
        "outputId": "8c27530a-d922-40db-ca20-fedd9d38c117"
      },
      "execution_count": 182,
      "outputs": [
        {
          "output_type": "execute_result",
          "data": {
            "text/plain": [
              "title                1\n",
              "author           65295\n",
              "category             0\n",
              "publish_year      9813\n",
              "title_id             0\n",
              "author_id        64833\n",
              "cover_url            0\n",
              "book_stats        3822\n",
              "descriptions      2780\n",
              "reading_stats     2780\n",
              "dtype: int64"
            ],
            "text/html": [
              "<div>\n",
              "<style scoped>\n",
              "    .dataframe tbody tr th:only-of-type {\n",
              "        vertical-align: middle;\n",
              "    }\n",
              "\n",
              "    .dataframe tbody tr th {\n",
              "        vertical-align: top;\n",
              "    }\n",
              "\n",
              "    .dataframe thead th {\n",
              "        text-align: right;\n",
              "    }\n",
              "</style>\n",
              "<table border=\"1\" class=\"dataframe\">\n",
              "  <thead>\n",
              "    <tr style=\"text-align: right;\">\n",
              "      <th></th>\n",
              "      <th>0</th>\n",
              "    </tr>\n",
              "  </thead>\n",
              "  <tbody>\n",
              "    <tr>\n",
              "      <th>title</th>\n",
              "      <td>1</td>\n",
              "    </tr>\n",
              "    <tr>\n",
              "      <th>author</th>\n",
              "      <td>65295</td>\n",
              "    </tr>\n",
              "    <tr>\n",
              "      <th>category</th>\n",
              "      <td>0</td>\n",
              "    </tr>\n",
              "    <tr>\n",
              "      <th>publish_year</th>\n",
              "      <td>9813</td>\n",
              "    </tr>\n",
              "    <tr>\n",
              "      <th>title_id</th>\n",
              "      <td>0</td>\n",
              "    </tr>\n",
              "    <tr>\n",
              "      <th>author_id</th>\n",
              "      <td>64833</td>\n",
              "    </tr>\n",
              "    <tr>\n",
              "      <th>cover_url</th>\n",
              "      <td>0</td>\n",
              "    </tr>\n",
              "    <tr>\n",
              "      <th>book_stats</th>\n",
              "      <td>3822</td>\n",
              "    </tr>\n",
              "    <tr>\n",
              "      <th>descriptions</th>\n",
              "      <td>2780</td>\n",
              "    </tr>\n",
              "    <tr>\n",
              "      <th>reading_stats</th>\n",
              "      <td>2780</td>\n",
              "    </tr>\n",
              "  </tbody>\n",
              "</table>\n",
              "</div><br><label><b>dtype:</b> int64</label>"
            ]
          },
          "metadata": {},
          "execution_count": 182
        }
      ]
    },
    {
      "cell_type": "markdown",
      "source": [
        "#### 2.2) Check Duplicate Values"
      ],
      "metadata": {
        "id": "MI8tBpI9-T8i"
      }
    },
    {
      "cell_type": "code",
      "source": [
        "print('Duplicated based on ID : ',len(data) - data['title_id'].str.split('?').str[0].str.split('/').str[-1].nunique())"
      ],
      "metadata": {
        "colab": {
          "base_uri": "https://localhost:8080/"
        },
        "id": "a6MzG79d-WLq",
        "outputId": "cbac0403-bf0b-45bf-b6bf-b61244242690"
      },
      "execution_count": 183,
      "outputs": [
        {
          "output_type": "stream",
          "name": "stdout",
          "text": [
            "Duplicated based on ID :  10102\n"
          ]
        }
      ]
    },
    {
      "cell_type": "markdown",
      "source": [
        "### 3. Data Cleaning"
      ],
      "metadata": {
        "id": "789N_TIO-aV7"
      }
    },
    {
      "cell_type": "markdown",
      "source": [
        "#### 3.1) Remove Columns"
      ],
      "metadata": {
        "id": "jR4Kgdg1FDja"
      }
    },
    {
      "cell_type": "code",
      "source": [
        "del data['descriptions']\n",
        "del data['cover_url']"
      ],
      "metadata": {
        "id": "-iMA35ckFGr8"
      },
      "execution_count": 184,
      "outputs": []
    },
    {
      "cell_type": "markdown",
      "source": [
        "#### 3.2) Remove Null Values"
      ],
      "metadata": {
        "id": "cahPvbGa-fUY"
      }
    },
    {
      "cell_type": "code",
      "source": [
        "data = data.dropna()"
      ],
      "metadata": {
        "id": "PNec_kRS-b4t"
      },
      "execution_count": 185,
      "outputs": []
    },
    {
      "cell_type": "markdown",
      "source": [
        "#### 3.3) Remove Duplicate Values"
      ],
      "metadata": {
        "id": "WKbe_DZo-irm"
      }
    },
    {
      "cell_type": "code",
      "source": [
        "data['title_id'] = data['title_id'].str.split('?').str[0].str.split('/').str[-1]\n",
        "\n",
        "data = data.drop_duplicates(subset=['title_id'])"
      ],
      "metadata": {
        "id": "U_6eMBt8MoNa"
      },
      "execution_count": 186,
      "outputs": []
    },
    {
      "cell_type": "markdown",
      "source": [
        "#### 3.4) Clean Publish Years Column and change its datatype top int"
      ],
      "metadata": {
        "id": "nbIZZG6v-ka8"
      }
    },
    {
      "cell_type": "code",
      "source": [
        "data['publish_year'] = data['publish_year'].str.split(' ').str[-1].astype(int)\n",
        "\n",
        "data = data[data['publish_year'] < 2024]\n",
        "data = data[data['publish_year'] > 1200]"
      ],
      "metadata": {
        "id": "HFcd2mZH-oPn"
      },
      "execution_count": 187,
      "outputs": []
    },
    {
      "cell_type": "markdown",
      "source": [
        "#### 3.5) Clean author ID"
      ],
      "metadata": {
        "id": "RyStA02fKEwc"
      }
    },
    {
      "cell_type": "code",
      "source": [
        "data['author_id'] = data['author_id'].str.split('/').str[2]"
      ],
      "metadata": {
        "id": "AECv0sl0NpIo"
      },
      "execution_count": 188,
      "outputs": []
    },
    {
      "cell_type": "markdown",
      "source": [
        "#### 3.6) Extract no of pages from book_stats"
      ],
      "metadata": {
        "id": "hDeLopw1KSDO"
      }
    },
    {
      "cell_type": "code",
      "source": [
        "pages = []\n",
        "\n",
        "for page in tqdm(data['book_stats'].str.split('|').str[-1].str.split(' ').str[-1]):\n",
        "\n",
        "  try:\n",
        "    pages.append(int(page))\n",
        "  except:\n",
        "    pages.append(0)\n",
        "\n",
        "data['pages'] = pages\n",
        "\n",
        "del data['book_stats']"
      ],
      "metadata": {
        "colab": {
          "base_uri": "https://localhost:8080/",
          "height": 49,
          "referenced_widgets": [
            "f5832577ff044c48a08d76a8df795497",
            "6f2349d14dc04d31839c34d733e10196",
            "fffbeaad74524ea2bd67072f9233d9db",
            "2599a0807b7f4d23b5f69836da96c441",
            "3bd9a296f10b443689ddbf78745dfde8",
            "94235d2bd5a44b4686a891903d831985",
            "74b8e7af0840478a8b5fb9a250bd2e4c",
            "ec9227347c7f41e9a385fc8217c33ea0",
            "6d3d2d5cf2ec4688a39c8a96a43b9044",
            "2970fedb64984f0fa6f8918876fb1f9b",
            "c0034aff139e4dca8344df1e122fc04b"
          ]
        },
        "id": "I7L1fyP7KR1a",
        "outputId": "354a65be-de07-4589-ebb3-cdf27d9085c0"
      },
      "execution_count": 189,
      "outputs": [
        {
          "output_type": "display_data",
          "data": {
            "text/plain": [
              "  0%|          | 0/1253472 [00:00<?, ?it/s]"
            ],
            "application/vnd.jupyter.widget-view+json": {
              "version_major": 2,
              "version_minor": 0,
              "model_id": "f5832577ff044c48a08d76a8df795497"
            }
          },
          "metadata": {}
        }
      ]
    },
    {
      "cell_type": "markdown",
      "source": [
        "#### 3.7) Create want_to_read, currently_reading, have_read column from reading_stats"
      ],
      "metadata": {
        "id": "WGAptEWaKauc"
      }
    },
    {
      "cell_type": "code",
      "source": [
        "data['want_to_read']      = data['reading_stats'].str.split('|').str[0].str.split(' ').str[0].astype(int)\n",
        "data['currently_reading'] = data['reading_stats'].str.split('|').str[1].str.split(' ').str[0].astype(int)\n",
        "data['have_read']         = data['reading_stats'].str.split('|').str[2].str.split(' ').str[0].astype(int)\n",
        "\n",
        "del data['reading_stats']"
      ],
      "metadata": {
        "id": "nH_1zInoKbLa"
      },
      "execution_count": 190,
      "outputs": []
    },
    {
      "cell_type": "markdown",
      "source": [
        "### 4. Data Analysis"
      ],
      "metadata": {
        "id": "lKqfXfTu-oma"
      }
    },
    {
      "cell_type": "markdown",
      "source": [
        "#### 4.1) Total number of books"
      ],
      "metadata": {
        "id": "q4zMhvEp-sW2"
      }
    },
    {
      "cell_type": "code",
      "source": [
        "data['title_id'].nunique()"
      ],
      "metadata": {
        "colab": {
          "base_uri": "https://localhost:8080/"
        },
        "id": "aV7EMd9jQR7J",
        "outputId": "8fcd78e7-b4aa-48f1-bc7a-7149c5857ea0"
      },
      "execution_count": 191,
      "outputs": [
        {
          "output_type": "execute_result",
          "data": {
            "text/plain": [
              "1253472"
            ]
          },
          "metadata": {},
          "execution_count": 191
        }
      ]
    },
    {
      "cell_type": "markdown",
      "source": [
        "#### 4.2) Top 25 categories by book count"
      ],
      "metadata": {
        "id": "CjE0mukmEsQz"
      }
    },
    {
      "cell_type": "code",
      "source": [
        "data['category'].value_counts().head(25).plot(kind = 'bar')"
      ],
      "metadata": {
        "colab": {
          "base_uri": "https://localhost:8080/",
          "height": 601
        },
        "id": "PFdkHqIeEuGz",
        "outputId": "76500ad8-58aa-42fd-b14b-362207345234"
      },
      "execution_count": 192,
      "outputs": [
        {
          "output_type": "execute_result",
          "data": {
            "text/plain": [
              "<Axes: xlabel='category'>"
            ]
          },
          "metadata": {},
          "execution_count": 192
        },
        {
          "output_type": "display_data",
          "data": {
            "text/plain": [
              "<Figure size 640x480 with 1 Axes>"
            ],
            "image/png": "[encoded data removed]"
          },
          "metadata": {}
        }
      ]
    },
    {
      "cell_type": "markdown",
      "source": [
        "#### 4.3) Top 25 authors by number of books published."
      ],
      "metadata": {
        "id": "LHevMFTVEvPr"
      }
    },
    {
      "cell_type": "code",
      "source": [
        "data.groupby('author_id').count()['title_id'].sort_values(ascending = False).head(25).plot(kind = 'bar')"
      ],
      "metadata": {
        "colab": {
          "base_uri": "https://localhost:8080/",
          "height": 551
        },
        "id": "jvMjUocpEw7M",
        "outputId": "c2d9a4aa-40fb-4eaf-de62-3a26091ed836"
      },
      "execution_count": 193,
      "outputs": [
        {
          "output_type": "execute_result",
          "data": {
            "text/plain": [
              "<Axes: xlabel='author_id'>"
            ]
          },
          "metadata": {},
          "execution_count": 193
        },
        {
          "output_type": "display_data",
          "data": {
            "text/plain": [
              "<Figure size 640x480 with 1 Axes>"
            ],
            "image/png": "[encoded data removed]"
          },
          "metadata": {}
        }
      ]
    },
    {
      "cell_type": "markdown",
      "source": [
        "#### 4.4) Yearly trend in books published (earliest → latest).\n"
      ],
      "metadata": {
        "id": "PUyU_vc8ExY6"
      }
    },
    {
      "cell_type": "code",
      "source": [
        "data.groupby('publish_year').count()['title_id'].plot(kind = 'line')"
      ],
      "metadata": {
        "colab": {
          "base_uri": "https://localhost:8080/",
          "height": 467
        },
        "id": "8mFldSrpSgzD",
        "outputId": "c29e3fcf-1645-4c7f-9865-51faef0d0b6f"
      },
      "execution_count": 194,
      "outputs": [
        {
          "output_type": "execute_result",
          "data": {
            "text/plain": [
              "<Axes: xlabel='publish_year'>"
            ]
          },
          "metadata": {},
          "execution_count": 194
        },
        {
          "output_type": "display_data",
          "data": {
            "text/plain": [
              "<Figure size 640x480 with 1 Axes>"
            ],
            "image/png": "[encoded data removed]"
          },
          "metadata": {}
        }
      ]
    },
    {
      "cell_type": "markdown",
      "source": [
        "#### 4.5) Top 25 most common book titles."
      ],
      "metadata": {
        "id": "z5myBSszSCRH"
      }
    },
    {
      "cell_type": "code",
      "source": [
        "data['title'].value_counts().head(25).plot(kind='bar')"
      ],
      "metadata": {
        "colab": {
          "base_uri": "https://localhost:8080/",
          "height": 573
        },
        "id": "1MuWy0HJS4xp",
        "outputId": "f0a2d78d-5a61-464c-a0bd-fde3669187c6"
      },
      "execution_count": 195,
      "outputs": [
        {
          "output_type": "execute_result",
          "data": {
            "text/plain": [
              "<Axes: xlabel='title'>"
            ]
          },
          "metadata": {},
          "execution_count": 195
        },
        {
          "output_type": "display_data",
          "data": {
            "text/plain": [
              "<Figure size 640x480 with 1 Axes>"
            ],
            "image/png": "[encoded data removed]"
          },
          "metadata": {}
        }
      ]
    },
    {
      "cell_type": "markdown",
      "source": [
        "#### 4.6) Top 25 authors by total pages written."
      ],
      "metadata": {
        "id": "gqsDxzWFTHWs"
      }
    },
    {
      "cell_type": "code",
      "source": [
        "data = data[data['pages'] < 2000]\n",
        "data.groupby('author_id').sum()['pages'].sort_values(ascending = False).head(25).plot(kind = 'bar')"
      ],
      "metadata": {
        "colab": {
          "base_uri": "https://localhost:8080/",
          "height": 542
        },
        "id": "t49Y_WdtUDGG",
        "outputId": "55f70988-ee7d-4fe0-e8b0-8d3de6d5a116"
      },
      "execution_count": 196,
      "outputs": [
        {
          "output_type": "execute_result",
          "data": {
            "text/plain": [
              "<Axes: xlabel='author_id'>"
            ]
          },
          "metadata": {},
          "execution_count": 196
        },
        {
          "output_type": "display_data",
          "data": {
            "text/plain": [
              "<Figure size 640x480 with 1 Axes>"
            ],
            "image/png": "[encoded data removed]"
          },
          "metadata": {}
        }
      ]
    },
    {
      "cell_type": "markdown",
      "source": [
        "#### 4.7) Top 25 authors by “want_to_read”, “currently_reading”, and “have_read”."
      ],
      "metadata": {
        "id": "x3eZU7brUbo9"
      }
    },
    {
      "cell_type": "code",
      "source": [
        "data.groupby('author_id').sum()[['want_to_read', 'currently_reading', 'have_read']].sort_values(by = 'have_read', ascending = False).head(25).plot(kind = 'bar')\n",
        "\n"
      ],
      "metadata": {
        "colab": {
          "base_uri": "https://localhost:8080/",
          "height": 542
        },
        "id": "Ro4pF-IMUa-Q",
        "outputId": "2a2b6a71-dbca-4ecc-aac0-2a71f6c4ad0e"
      },
      "execution_count": 197,
      "outputs": [
        {
          "output_type": "execute_result",
          "data": {
            "text/plain": [
              "<Axes: xlabel='author_id'>"
            ]
          },
          "metadata": {},
          "execution_count": 197
        },
        {
          "output_type": "display_data",
          "data": {
            "text/plain": [
              "<Figure size 640x480 with 1 Axes>"
            ],
            "image/png": "[encoded data removed]"
          },
          "metadata": {}
        }
      ]
    }
  ]
}