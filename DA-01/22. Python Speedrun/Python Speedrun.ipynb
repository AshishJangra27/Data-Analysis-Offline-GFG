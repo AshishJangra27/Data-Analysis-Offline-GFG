{
  "nbformat": 4,
  "nbformat_minor": 0,
  "metadata": {
    "colab": {
      "provenance": []
    },
    "kernelspec": {
      "name": "python3",
      "display_name": "Python 3"
    },
    "language_info": {
      "name": "python"
    }
  },
  "cells": [
    {
      "cell_type": "markdown",
      "source": [
        "### Notebook Indexes\n",
        "\n",
        "```\n",
        "1. Python Basics\n",
        " 1.1) Data-types\n",
        " 1.2) Operators\n",
        "   1.2.1) Arithmetic\n",
        "   1.2.2) Comparison\n",
        "   1.2.3) Logical\n",
        " 1.3) Typecasting\n",
        " 1.4) Strings\n",
        " 1.5) Variables\n",
        "  1.5.1)Types of naming convention\n",
        "  1.5.2) Ways to assign value in a variable\n",
        "  1.5.3) arithmetic operations with assignment\n",
        "\n",
        "2. Flow Control\n",
        " 2.1) if-else\n",
        " 2.2) nested if-else\n",
        " 2.3) for loop in python\n",
        " 2.4) nested for loop\n",
        " 2.5) while loop\n",
        "\n",
        "3. Data Strucutres\n",
        " 3.1) Why do we need data strucutures?\n",
        " 3.2) Lists\n",
        " 3.3) Multi-dimensional Lists\n",
        " 3.4) List Comprehensions\n",
        " 3.5) Dictionaries\n",
        " 3.6) Multi-dimensional Dictionaries\n",
        " 3.7) Dictionaries Comprehensions\n",
        " 3.8) Set\n",
        " 3.9) Touple\n",
        " 3.10) How to decide the data strucrure for a problem?\n",
        "\n",
        "4. Functions and OOPs\n",
        " 4.1) Defining your first function\n",
        " 4.2) Defining function and understanding their scope\n",
        " 4.3) Passing parameters to the function\n",
        " 4.4) Function returns\n",
        " 4.5) Multi-level function calling\n",
        " 4.6) Module\n",
        " 4.7) Class\n",
        "  4.7.1) Writing your first class\n",
        "  4.7.2) Using Methods\n",
        "  4.7.3) Class with Multiple Methods\n",
        "  4.7.4) init\n",
        "  4.7.5) init with parameters\n",
        "  4.7.6) self\n",
        "  4.7.7) Inheritence\n",
        "\n",
        "5. Special Functions\n",
        " 5.1) zip\n",
        " 5.2) filter\n",
        " 5.3) lambda\n",
        " 5.4) map\n",
        "\n",
        "6. Erros and Exceptions\n",
        " 6.1) Different Errors\n",
        " 6.2) Handling Errors and Exceptions\n",
        "\n",
        "7. Important Libraries\n",
        " 7.1) math\n",
        " 7.2) random\n",
        " 7.3) datetime\n",
        " 7.4) collections\n",
        " 7.5) string\n",
        "```"
      ],
      "metadata": {
        "id": "_h-IoiS35167"
      }
    },
    {
      "cell_type": "markdown",
      "source": [
        "#### 1) Python Basics\n",
        "##### 1.1)  Data-types"
      ],
      "metadata": {
        "id": "tFVCCdNa8r7J"
      }
    },
    {
      "cell_type": "code",
      "execution_count": null,
      "metadata": {
        "id": "L0_bSLKk8CQ5"
      },
      "outputs": [],
      "source": [
        "# Integer\n",
        "\n",
        "print(-10)\n",
        "print(10)\n",
        "print(0)\n",
        "print(7482394)\n",
        "print(type(10))\n",
        "print('-------------')\n",
        "\n",
        "# Float\n",
        "\n",
        "print(-10.5)\n",
        "print(10.2)\n",
        "print(0.0)\n",
        "print(7482394.23)\n",
        "print(type(10.0))\n",
        "print('-------------')\n",
        "\n",
        "# String\n",
        "\n",
        "print('a')\n",
        "print('A')\n",
        "print('Ashish')\n",
        "print(\"Ashish\")\n",
        "print('Ashish Jangra')\n",
        "print(\"Ashish's\")\n",
        "print('1')\n",
        "print('3.14')\n",
        "print(type('10.4'))\n",
        "print('-------------')\n",
        "\n",
        "# Boolean\n",
        "\n",
        "print(True)\n",
        "print(False)\n",
        "print('True')\n",
        "print('False')\n",
        "print(type(False))\n",
        "print('-------------')\n",
        "\n",
        "# Print functionalities\n",
        "\n",
        "print('a')\n",
        "print('b')\n",
        "print('c')\n",
        "print('-------------')\n",
        "\n",
        "print('a', end = ' ')\n",
        "print('b', end = ' ')\n",
        "print('c', end = ' ')\n",
        "print()\n",
        "print('-------------')\n",
        "\n",
        "print('a', 'b', 'c')\n",
        "print('-------------')\n",
        "\n",
        "print('a', 'b', 'c', sep=',')"
      ]
    },
    {
      "cell_type": "markdown",
      "source": [
        "##### 1.2) Operators\n",
        "*   1.2.1) Arithmetic\n",
        "\n"
      ],
      "metadata": {
        "id": "ShE519JH_NH0"
      }
    },
    {
      "cell_type": "code",
      "source": [
        "# Addition\n",
        "print(5 + 4)\n",
        "print(3.2 * 5.5)\n",
        "print('-------------')\n",
        "\n",
        "# Subtraction\n",
        "print(5 - 4)\n",
        "print(3.2 - 5.5)\n",
        "print('-------------')\n",
        "\n",
        "# Multiplication\n",
        "print(5 * 4)\n",
        "print(3.2 * 5.5)\n",
        "print('-------------')\n",
        "\n",
        "# Division\n",
        "print(5 / 4)\n",
        "print(3.2 / 5.5)\n",
        "print('-------------')\n",
        "\n",
        "# Floor Division\n",
        "print(5 // 4)\n",
        "print(3.2 // 5.5)\n",
        "print('-------------')\n",
        "\n",
        "# Modulo\n",
        "print(5 % 4)\n",
        "print(3.2 % 5.5)\n",
        "print('-------------')\n",
        "\n",
        "# Exponentiation\n",
        "print(5 ** 4)\n",
        "print(3.2 ** 5.5)\n",
        "print('-------------')\n",
        "\n",
        "print('--- Others ---')\n",
        "\n",
        "# abs\n",
        "print(abs(-3.14))\n",
        "\n",
        "# round\n",
        "print(round(3.14332,2))\n",
        "\n",
        "# pow\n",
        "print(pow(2,5))"
      ],
      "metadata": {
        "id": "WCVSTh9x_72L"
      },
      "execution_count": null,
      "outputs": []
    },
    {
      "cell_type": "markdown",
      "source": [
        "*   1.2.2) Comparison"
      ],
      "metadata": {
        "id": "lzNkjEOMOLwc"
      }
    },
    {
      "cell_type": "code",
      "source": [
        "# Comparison Operators\n",
        "\n",
        "print(7 == 5)\n",
        "print('Ashish' == 'ashish')\n",
        "print(5 == 5.0)\n",
        "print('-------------')\n",
        "\n",
        "print(7 != 5)\n",
        "print('Ashish' != 'ashish')\n",
        "print(True != False)\n",
        "print(5 != 5.0)\n",
        "print('-------------')\n",
        "\n",
        "print(7 < 5)\n",
        "print(7.0 < 5.0)\n",
        "print(True < False)\n",
        "print('-------------')\n",
        "\n",
        "print(7 > 5)\n",
        "print(7.0 > 5.0)\n",
        "print(True > False)\n",
        "print('-------------')\n",
        "\n",
        "print(7 <= 5)\n",
        "print(7.0 <= 5.0)\n",
        "print(True <= False)\n",
        "print('-------------')\n",
        "\n",
        "print(7 >= 5)\n",
        "print(7.0 >= 5.0)\n",
        "print(True >= False)\n",
        "print('-------------')\n"
      ],
      "metadata": {
        "id": "NBqPMW1tOLYD"
      },
      "execution_count": null,
      "outputs": []
    },
    {
      "cell_type": "markdown",
      "source": [
        "* 1.2.2Comparison"
      ],
      "metadata": {
        "id": "Wv-hnJQzQHyE"
      }
    },
    {
      "cell_type": "code",
      "source": [
        "# and\n",
        "print(True and True)\n",
        "print(True and False)\n",
        "print(False and True)\n",
        "print(False and False)\n",
        "print('-------------')\n",
        "\n",
        "# or\n",
        "print(True or True)\n",
        "print(True or False)\n",
        "print(False or True)\n",
        "print(False or False)\n",
        "print('-------------')\n",
        "\n",
        "# not\n",
        "print(not True)\n",
        "print(not False)\n",
        "print('-------------')"
      ],
      "metadata": {
        "id": "S7OFrEVKQIdJ"
      },
      "execution_count": null,
      "outputs": []
    },
    {
      "cell_type": "markdown",
      "source": [
        "##### 1.3) Typecasting"
      ],
      "metadata": {
        "id": "XrA85_ZZCTA0"
      }
    },
    {
      "cell_type": "code",
      "source": [
        "# int\n",
        "print(int(3.3))\n",
        "print(int(True))\n",
        "print('-------------')\n",
        "\n",
        "# float\n",
        "print(float(3))\n",
        "print(float(False))\n",
        "print('-------------')\n",
        "\n",
        "# str\n",
        "print(str(3))\n",
        "print(str(3.5))\n",
        "print(str(True))\n",
        "print('-------------')\n",
        "\n",
        "# bool\n",
        "print(bool(3))\n",
        "print(bool(0))\n",
        "print(bool(3.5))\n",
        "print(bool(-3.14))\n",
        "print(bool('a'))\n",
        "print(bool('Ashish'))\n",
        "print(bool('Ashish Jangra'))"
      ],
      "metadata": {
        "id": "qxJDIA9BCXs0"
      },
      "execution_count": null,
      "outputs": []
    },
    {
      "cell_type": "markdown",
      "source": [
        "##### 1.4 ) Strings"
      ],
      "metadata": {
        "id": "hEB6z2MPCWuY"
      }
    },
    {
      "cell_type": "code",
      "source": [
        "# Concatenation\n",
        "print('a' + 'b')\n",
        "print('Ashish' + ' ' + 'Jangra')\n",
        "print('-------------')\n",
        "\n",
        "# Langth\n",
        "print('Ashish Jangra')\n",
        "print(len('Ashish Jangra'))\n",
        "print('-------------')\n",
        "\n",
        "\n",
        "# String Replication\n",
        "print('a' * 5)\n",
        "print('Ashish' * 5)\n",
        "print('-'*20)\n",
        "\n",
        "# String Length\n",
        "print(len('Ashish'))\n",
        "print(len('Ashish Jangra'))\n",
        "print('-'*20)\n",
        "\n",
        "# String Slicing\n",
        "print('Ashish Jangra'[7:13])\n",
        "print('Ashish Jangra'[-6: ])\n",
        "print('-'*20)\n",
        "\n",
        "# String Case Conversion\n",
        "print('Ashish Jangra'.upper())\n",
        "print('Ashish Jangra'.lower())\n",
        "print('-'*20)\n",
        "\n",
        "# String Stripping\n",
        "print('     Ashish Jangra     ')\n",
        "print('     Ashish Jangra     '.strip())\n",
        "print('-'*20)\n",
        "\n",
        "# String Replacing\n",
        "print('Ashish-Jangra')\n",
        "print('Ashish-Jangra'.replace('-',' '))\n",
        "print('-'*20)\n",
        "\n",
        "# String Count\n",
        "print('Ashish Jangra'.count('s'))\n",
        "print('-'*20)\n",
        "\n",
        "# String Find\n",
        "print('Ashish Jangra'.find(\"Ashish\"))\n",
        "print('-'*20)\n",
        "\n",
        "# String Check\n",
        "print('Ashish'.isalpha())\n",
        "print('123'.isdigit())\n",
        "print('ashish'.islower())\n",
        "print('ASHISH'.isupper())\n",
        "print('-'*20)\n",
        "\n",
        "# String Capitalization\n",
        "print('ashish jangra'.capitalize())\n",
        "print('ashish jangra'.title())\n",
        "print('-'*20)\n",
        "\n",
        "# Check for start and end\n",
        "print('Ashish Jangra'.startswith(\"Ash\"))\n",
        "print('Ashish Jangra'.endswith(\"gra\"))\n",
        "print('-'*20)\n",
        "\n",
        "print('Ashish Jangra'.center(20, \"*\"))\n",
        "print('Ashish Jangra'.ljust(20, \"*\"))\n",
        "print('Ashish Jangra'.rjust(20, \"*\"))\n",
        "print('-'*20)"
      ],
      "metadata": {
        "id": "4FpZVKAGEkuL"
      },
      "execution_count": null,
      "outputs": []
    },
    {
      "cell_type": "markdown",
      "source": [
        "##### 1.5) Variables\n",
        "###### Types of naming convention"
      ],
      "metadata": {
        "id": "In94dvz7hHsT"
      }
    },
    {
      "cell_type": "code",
      "source": [
        "# snake_case\n",
        "my_variable_name = 42\n",
        "# camelCase\n",
        "myVariableName = \"Hello, world!\"\n",
        "# PascalCase\n",
        "MyClassName = \"ThisIsPascalCase\"\n"
      ],
      "metadata": {
        "id": "FuFtqCB-fXLV"
      },
      "execution_count": null,
      "outputs": []
    },
    {
      "cell_type": "markdown",
      "source": [
        "###### ways to assign value in a variable"
      ],
      "metadata": {
        "id": "K1H3geGUjU2z"
      }
    },
    {
      "cell_type": "code",
      "source": [
        "# Basic variable assignment\n",
        "my_variable = 42\n",
        "\n",
        "# Multiple assignment\n",
        "x = y = z = 0\n",
        "a, b, c = 1, 2, 3\n",
        "\n",
        "# Assignment with unpacking\n",
        "data = [1, 2, 3]\n",
        "x, y, z = data\n",
        "\n",
        "# User Input\n",
        "n = input('enter the number: ')\n",
        "print(n)"
      ],
      "metadata": {
        "colab": {
          "base_uri": "https://localhost:8080/"
        },
        "id": "PNJrq3rQhLEt",
        "outputId": "4867c4c0-1658-4925-f5ce-06ef8dc21fc6"
      },
      "execution_count": null,
      "outputs": [
        {
          "output_type": "stream",
          "name": "stdout",
          "text": [
            "enter the number: 21\n",
            "21\n"
          ]
        }
      ]
    },
    {
      "cell_type": "markdown",
      "source": [
        "###### arithmetic operations with assignment"
      ],
      "metadata": {
        "id": "4Vbm7J0KjhOr"
      }
    },
    {
      "cell_type": "code",
      "source": [
        "n = 7\n",
        "\n",
        "print('-'*20)\n",
        "n += 1\n",
        "print(n)\n",
        "n -= 1\n",
        "print(n)\n",
        "n  *= 2\n",
        "print(n)\n",
        "n /= 2\n",
        "print(n)\n",
        "n //= 2\n",
        "print(n)\n",
        "print('-'*20)"
      ],
      "metadata": {
        "colab": {
          "base_uri": "https://localhost:8080/"
        },
        "id": "XqmpzGlfhLBP",
        "outputId": "10c15922-f3ce-462b-9ce9-35533e4af630"
      },
      "execution_count": null,
      "outputs": [
        {
          "output_type": "stream",
          "name": "stdout",
          "text": [
            "--------------------\n",
            "8\n",
            "7\n",
            "14\n",
            "7.0\n",
            "3.0\n",
            "--------------------\n"
          ]
        }
      ]
    },
    {
      "cell_type": "markdown",
      "source": [
        "#### 2) Conditionals and Flow Control\n",
        "###### 2.1) if-else"
      ],
      "metadata": {
        "id": "I0EQ7MW4ma6L"
      }
    },
    {
      "cell_type": "code",
      "source": [
        "# if\n",
        "# if else\n",
        "# if elif else\n",
        "\n",
        "x = 10\n",
        "\n",
        "if x > 0:\n",
        "    print(\"x is positive\")\n",
        "elif x == 0:\n",
        "    print(\"x is zero\")\n",
        "else:\n",
        "    print(\"x is negative\")\n"
      ],
      "metadata": {
        "colab": {
          "base_uri": "https://localhost:8080/"
        },
        "id": "sEBsnhn6mfrn",
        "outputId": "5feac96d-17a2-434b-8b0b-99c42d727705"
      },
      "execution_count": null,
      "outputs": [
        {
          "output_type": "stream",
          "name": "stdout",
          "text": [
            "x is positive\n"
          ]
        }
      ]
    },
    {
      "cell_type": "markdown",
      "source": [
        "###### 2.2) Nested if-else"
      ],
      "metadata": {
        "id": "EZ_aJwbHO3iN"
      }
    },
    {
      "cell_type": "code",
      "source": [
        "# Temperature Converter Cel to Far & vice versa\n",
        "# Use of logical operators\n",
        "\n",
        "num = 15\n",
        "\n",
        "if num > 10:\n",
        "    print(\"Number is greater than 10.\")\n",
        "    if num % 2 == 0:\n",
        "        print(\"Number is also even.\")\n",
        "    else:\n",
        "        print(\"Number is odd.\")\n",
        "else:\n",
        "    print(\"Number is not greater than 10.\")"
      ],
      "metadata": {
        "colab": {
          "base_uri": "https://localhost:8080/"
        },
        "id": "uSCT-f7umfjw",
        "outputId": "d6aece84-c15d-468d-a8c6-80f92279d325"
      },
      "execution_count": null,
      "outputs": [
        {
          "output_type": "stream",
          "name": "stdout",
          "text": [
            "range(0, 10)\n"
          ]
        }
      ]
    },
    {
      "cell_type": "markdown",
      "source": [
        "###### 2.3) for loop"
      ],
      "metadata": {
        "id": "IAhSXWzd2Lsw"
      }
    },
    {
      "cell_type": "code",
      "source": [
        "# table of a number\n",
        "# range with steps\n",
        "\n",
        "n = 5\n",
        "\n",
        "for i in range(1,10):\n",
        "  print(str(i)  + \" * \" + str(n)  + \" = \" + str(i*n))"
      ],
      "metadata": {
        "id": "wUSnzJQSmfWE"
      },
      "execution_count": null,
      "outputs": []
    },
    {
      "cell_type": "markdown",
      "source": [
        "###### 2.4) nested for loop"
      ],
      "metadata": {
        "id": "DZKneVGD3WIB"
      }
    },
    {
      "cell_type": "code",
      "source": [
        "# rolling two dice simultaniously\n",
        "# rolling 3 dices simultaniously\n",
        "# pairs to get even sum\n",
        "# pairs to get a sum of 8\n",
        "# probability of getting a number greater than 4\n",
        "\n",
        "\n",
        "for i in range(1,7):\n",
        "  for j in range(1,7):\n",
        "    print(i,j)"
      ],
      "metadata": {
        "id": "S9yvzS-M3agm"
      },
      "execution_count": null,
      "outputs": []
    },
    {
      "cell_type": "markdown",
      "source": [
        "###### 2.5) while loop"
      ],
      "metadata": {
        "id": "yRS2pfZR3tm-"
      }
    },
    {
      "cell_type": "code",
      "source": [
        "# reverse a number\n",
        "# factorial of a number\n",
        "# sum of first n nunbers less than\n",
        "\n",
        "n, fact, i = 5, 1, 1\n",
        "\n",
        "while n >= i:\n",
        "  fact *= i\n",
        "  i += 1\n",
        "print(fact)\n",
        "\n",
        "\n",
        "# Using break to find a specific number\n",
        "\n",
        "n, fact, i = 5, 1, 1\n",
        "\n",
        "while True:\n",
        "  fact *= i\n",
        "  i += 1\n",
        "  if  i == n + 1:\n",
        "    break\n",
        "print(fact)"
      ],
      "metadata": {
        "colab": {
          "base_uri": "https://localhost:8080/"
        },
        "id": "nW2XYeo84AQD",
        "outputId": "8f38f893-2d29-43e8-a621-ebf178cb4a0d"
      },
      "execution_count": null,
      "outputs": [
        {
          "output_type": "stream",
          "name": "stdout",
          "text": [
            "120\n",
            "120\n"
          ]
        }
      ]
    },
    {
      "cell_type": "markdown",
      "source": [
        "#### 3) Data Structures\n",
        "###### 3.1) Why data structures are needed?"
      ],
      "metadata": {
        "id": "yoDsDqYx8n71"
      }
    },
    {
      "cell_type": "code",
      "source": [
        "# Without using data structures\n",
        "student1 = \"Ashish\"\n",
        "student2 = \"Riya\"\n",
        "student3 = \"Prakash\"\n",
        "\n",
        "print(\"Students in the class are: \", student1, student2, student3)\n",
        "\n",
        "# Adding a new student without data structures\n",
        "student4 = \"Vrinda\"\n",
        "print(\"Students in the class are: \", student1, student2, student3, student4)\n",
        "\n",
        "# Removing a student without data structures\n",
        "student2 = \"Sakshi\"\n",
        "print(\"Students in the class are: \", student1, student2, student3, student4)"
      ],
      "metadata": {
        "colab": {
          "base_uri": "https://localhost:8080/"
        },
        "id": "rL4YXCan45_2",
        "outputId": "bac6fe89-4c37-4c73-d1a3-b5c7dabf9f53"
      },
      "execution_count": null,
      "outputs": [
        {
          "output_type": "stream",
          "name": "stdout",
          "text": [
            "Students in the class are:  Ashish Riya Prakash\n",
            "Students in the class are:  Ashish Riya Prakash Vrinda\n",
            "Students in the class are:  Ashish Sakshi Prakash Vrinda\n"
          ]
        }
      ]
    },
    {
      "cell_type": "markdown",
      "source": [
        "###### 3.2) Lists"
      ],
      "metadata": {
        "id": "qpMeg2Te6MdA"
      }
    },
    {
      "cell_type": "code",
      "source": [
        "students = ['Ashish','Riya','Prakash','Vrinda']\n",
        "\n",
        "print(students)\n",
        "\n",
        "# Accessing elements\n",
        "print(\"Second student:\", students[1])\n",
        "print('-'*20)\n",
        "\n",
        "# Modifying elements\n",
        "students[2] = 'Prashant'\n",
        "print(\"Modified list:\", students)\n",
        "print('-'*20)\n",
        "\n",
        "# Slicing the list\n",
        "print(\"Sliced list:\", students[1:3])\n",
        "print('-'*20)\n",
        "\n",
        "# Slicing the list with steps\n",
        "print(\"Sliced list:\", students[1:4:2])\n",
        "print('-'*20)\n",
        "\n",
        "# Reverse the list\n",
        "print(\"Sliced list:\", students[::-1])\n",
        "print('-'*20)\n",
        "\n",
        "# Reverse the list with steps\n",
        "print(\"Sliced list:\", students[::-2])\n",
        "\n",
        "# Appending to the list\n",
        "students.append('Suresh')\n",
        "print(\"List after appending:\", students)\n",
        "print('-'*20)\n",
        "\n",
        "# Removing from the list\n",
        "students.remove('Riya')\n",
        "print(\"List after removal:\", students)\n",
        "print('-'*20)\n",
        "\n",
        "# Length of the list\n",
        "print(\"Length of the list:\", len(students))\n",
        "print('-'*20)\n",
        "\n",
        "# Sorting the list\n",
        "students.sort()\n",
        "print(\"Sorted list:\", students)\n",
        "print('-'*20)\n",
        "\n",
        "# Reversing the list\n",
        "students.reverse()\n",
        "print(\"Reversed list:\", students)\n",
        "print('-'*20)\n",
        "\n",
        "# Find the index of an element\n",
        "print(\"Index of 'Prakash':\", students.index('Ashish'))\n",
        "print('-'*20)\n",
        "\n",
        "# Count occurrences of an element\n",
        "print(\"Count of 'Ashish':\", students.count('Ashish'))\n",
        "print('-'*20)\n",
        "\n",
        "# Extending the list\n",
        "students.extend(['Amit', 'Neha', 'Kiran'])\n",
        "print(\"Extended list:\", students)\n",
        "print('-'*20)\n",
        "\n",
        "# Extending the list\n",
        "print(\"Extended list:\", students + ['Amit', 'Neha', 'Kiran'])\n",
        "print('-'*20)\n",
        "\n",
        "# Max and Min\n",
        "grades = [90, 85, 92, 88, 95]\n",
        "print(\"Maximum grade:\", max(grades))\n",
        "print(\"Minimum grade:\", min(grades))\n",
        "print('-'*20)\n",
        "\n",
        "# Iterating over the list\n",
        "print(\"Iterating over the list:\")\n",
        "for st in students:\n",
        "    print(st)\n",
        "print('-'*20)\n",
        "\n",
        "# Iterating over the list with indexing\n",
        "for i in range(len(students)):\n",
        "    print(students[i])\n",
        "print('-'*20)\n",
        "\n",
        "# Iterating over the list with indexing\n",
        "for i in range(len(students)-1,-1,-1):\n",
        "    print(students[i])\n",
        "print('-'*20)"
      ],
      "metadata": {
        "id": "NvPhe36M5_3B"
      },
      "execution_count": null,
      "outputs": []
    },
    {
      "cell_type": "markdown",
      "source": [
        "###### 3.3) Multi-dimensional Lists"
      ],
      "metadata": {
        "id": "9PEc4vpd9sdR"
      }
    },
    {
      "cell_type": "code",
      "source": [
        "students_grades = [ [\"Ashish\", 90], [\"Riya\", 85], [\"Prakash\", 92], [\"Vrinda\", 88] ]\n",
        "\n",
        "# Accessing elements\n",
        "print(\"Grade of Riya:\", students_grades[1][1])\n",
        "print('-'*20)\n",
        "\n",
        "# Modifying elements\n",
        "students_grades[2][1] = 95\n",
        "print(\"Modified list:\", students_grades)\n",
        "print('-'*20)\n",
        "\n",
        "# Slicing the list\n",
        "print(\"Sliced list:\", students_grades[1:3])\n",
        "print('-'*20)\n",
        "\n",
        "# Appending to the list\n",
        "students_grades.append([\"Suresh\", 89])\n",
        "print(\"List after appending:\", students_grades)\n",
        "print('-'*20)\n",
        "\n",
        "# Removing from the list\n",
        "del students_grades[0]\n",
        "print(\"List after removal:\", students_grades)\n",
        "print('-'*20)\n",
        "\n",
        "# Length of the list\n",
        "print(\"Length of the list:\", len(students_grades))\n",
        "print('-'*20)\n",
        "\n",
        "# Sorting the list\n",
        "students_grades.sort(key=lambda x: x[1])\n",
        "print(\"Sorted list:\", students_grades)\n",
        "print('-'*20)\n",
        "\n",
        "# Reversing the list\n",
        "students_grades.reverse()\n",
        "print(\"Reversed list:\", students_grades)\n",
        "print('-'*20)\n",
        "\n",
        "# Adding more data\n",
        "students_grades.extend([[\"Amit\", 91], [\"Neha\", 88], [\"Kiran\", 93]])\n",
        "print(\"Extended list:\", students_grades)\n",
        "print('-'*20)\n",
        "\n",
        "# Adding more data\n",
        "\n",
        "for student in students_grades:\n",
        "    print(f\"Name: {student[0]}, Grade: {student[1]}\")"
      ],
      "metadata": {
        "id": "p9oF7Yf26_vv"
      },
      "execution_count": null,
      "outputs": []
    },
    {
      "cell_type": "markdown",
      "source": [
        "###### 3.4) List Comprehensions"
      ],
      "metadata": {
        "id": "6k2jj8TFP_7F"
      }
    },
    {
      "cell_type": "code",
      "source": [
        "# Square of first 10 numbers\n",
        "squares = [x**2 for x in range(10)]\n",
        "print(squares)\n",
        "print('-'*20)\n",
        "\n",
        "# Filtering even numbers\n",
        "numbers = [x for x in range(20) if x % 2 == 0]\n",
        "print(numbers)\n",
        "print('-'*20)\n",
        "\n",
        "# Filtering the square of even numbers\n",
        "even_squares = [x**2 for x in range(10) if x % 2 == 0]\n",
        "print(even_squares)\n",
        "print('-'*20)\n",
        "\n",
        "# Nested Lists with Comprehensions\n",
        "matrix = [[j for j in range(5)] for i in range(5)]\n",
        "print(matrix)\n",
        "print('-'*20)\n",
        "\n",
        "# Flattening a 2D list\n",
        "matrix = [[1, 2, 3], [4, 5, 6], [7, 8, 9]]\n",
        "flattened = [num for row in matrix for num in row]\n",
        "print(flattened)"
      ],
      "metadata": {
        "id": "dGFh_6Sd9A3_"
      },
      "execution_count": null,
      "outputs": []
    },
    {
      "cell_type": "markdown",
      "source": [
        "###### 3.5) Dictionaries"
      ],
      "metadata": {
        "id": "j5vw4FPUU-0t"
      }
    },
    {
      "cell_type": "code",
      "source": [
        "# Creating the dictionary\n",
        "my_dict = {'a': 1, 'b': 2, 'c': 3}\n",
        "print(my_dict)\n",
        "print('-'*20)\n",
        "\n",
        "# Accessing the element\n",
        "print(my_dict['a'])\n",
        "print(my_dict.get('a'))\n",
        "print('-'*20)\n",
        "\n",
        "# Adding or Updating the data\n",
        "my_dict['d'] = 4\n",
        "print(my_dict)\n",
        "my_dict['a'] = 0\n",
        "print(my_dict)\n",
        "print('-'*20)\n",
        "\n",
        "# Removing ket-value pair\n",
        "del my_dict['b']\n",
        "print(my_dict)\n",
        "my_dict.pop('c')\n",
        "print(my_dict)\n",
        "print('-'*20)\n",
        "\n",
        "# Removing all pairs\n",
        "my_dict.clear()\n",
        "print(my_dict)\n",
        "print('-'*20)\n",
        "\n",
        "# Iterating through dictionaries\n",
        "for key, value in my_dict.items():\n",
        "    print(f\"Key: {key}, Value: {value}\")\n",
        "print('-'*20)\n",
        "\n",
        "# checking if key available\n",
        "print('a' in my_dict)\n",
        "print('b' in my_dict)\n",
        "print('-'*20)\n",
        "\n",
        "# Merging two dictionaries\n",
        "dict1 = {'a': 1, 'b': 2}\n",
        "dict2 = {'c': 3, 'd': 4}\n",
        "dict1.update(dict2)\n",
        "print(dict1)"
      ],
      "metadata": {
        "id": "iuKXSscT9Ced"
      },
      "execution_count": null,
      "outputs": []
    },
    {
      "cell_type": "markdown",
      "source": [
        "###### 3.6) Multi-dimentional Dictionaries"
      ],
      "metadata": {
        "id": "IKXQD4aAq0ln"
      }
    },
    {
      "cell_type": "code",
      "source": [
        "# Creating a multi-dimensional dictionary\n",
        "multi_dict = {\n",
        "    'a': {'x': 1, 'y': 2},\n",
        "    'b': {'x': 3, 'y': 4},\n",
        "    'c': {'x': 5, 'y': 6}\n",
        "}\n",
        "\n",
        "# Accessing elements in a multi-dimensional dictionary\n",
        "print(multi_dict['a']['x'])\n",
        "print('-'*20)\n",
        "\n",
        "# Adding or updating key-value pairs in a multi-dimensional dictionary\n",
        "multi_dict['d'] = {'x': 7, 'y': 8}\n",
        "print(multi_dict)\n",
        "print('-'*20)\n",
        "\n",
        "multi_dict['a']['x'] = 0\n",
        "print(multi_dict)\n",
        "print('-'*20)\n",
        "\n",
        "# Removing key-value pairs from a multi-dimensional dictionary\n",
        "del multi_dict['b']\n",
        "print(multi_dict)\n",
        "print('-'*20)\n",
        "\n",
        "# Iterating over a multi-dimensional dictionary\n",
        "for key, value in multi_dict.items():\n",
        "    print(f\"Key: {key}, Value: {value}\")\n",
        "print('-'*20)\n",
        "\n",
        "# Checking if a key exists in a multi-dimensional dictionary\n",
        "print('a' in multi_dict)\n",
        "print('b' in multi_dict)\n",
        "print('-'*20)\n",
        "\n",
        "# Clearing all elements from the multi-dimensional dictionary\n",
        "multi_dict.clear()\n",
        "print(multi_dict)"
      ],
      "metadata": {
        "id": "SIKQM_Ns9PL6"
      },
      "execution_count": null,
      "outputs": []
    },
    {
      "cell_type": "markdown",
      "source": [
        "###### 3.7) Dictionary Comprehensions"
      ],
      "metadata": {
        "id": "GOn-sXyGvEGg"
      }
    },
    {
      "cell_type": "code",
      "source": [
        "# Square of first 5 numbers\n",
        "squares = {x: x**2 for x in range(5)}\n",
        "print(squares)\n",
        "print('-'*20)\n",
        "\n",
        "# Square of first 5 numbers\n",
        "even_squares = {x: x**2 for x in range(10) if x % 2 == 0}\n",
        "print(even_squares)\n",
        "print('-'*20)\n",
        "\n",
        "# Converting a list to a dictionary\n",
        "my_list = ['apple', 'banana', 'cherry']\n",
        "my_dict = {item: len(item) for item in my_list}\n",
        "print(my_dict)\n",
        "print('-'*20)\n",
        "\n",
        "# Creating a dictionary with a condition\n",
        "numbers = {'num' + str(x): x for x in range(5)}\n",
        "print(numbers)\n",
        "print('-'*20)\n",
        "\n",
        "# Creating a dictionary of cubes\n",
        "cubes = {x: x**3 for x in range(1, 6)}\n",
        "print(cubes)\n",
        "print('-'*20)\n",
        "\n",
        "# Filtering a dictionary based on values\n",
        "my_dict = {'a': 1, 'b': 2, 'c': 3, 'd': 4, 'e': 5}\n",
        "filtered_dict = {k: v for k, v in my_dict.items() if v % 2 == 0}\n",
        "print(filtered_dict)\n",
        "print('-'*20)\n",
        "\n",
        "# Creating a dictionary from two lists\n",
        "keys = ['a', 'b', 'c', 'd', 'e']\n",
        "values = [1, 2, 3, 4, 5]\n",
        "combined_dict = {k: v for k, v in zip(keys, values)}\n",
        "print(combined_dict)\n",
        "print('-'*20)\n",
        "\n",
        "# Nested dictionary comprehension\n",
        "matrix = [[1, 2, 3], [4, 5, 6], [7, 8, 9]]\n",
        "flattened_dict = {(i, j): matrix[i][j] for i in range(3) for j in range(3)}\n",
        "print(flattened_dict)\n",
        "print('-'*20)"
      ],
      "metadata": {
        "id": "3KOoZUCAvDhL"
      },
      "execution_count": null,
      "outputs": []
    },
    {
      "cell_type": "markdown",
      "source": [
        "###### 3.8) Sets\n",
        "\n",
        "\n",
        "*   **Mutability:** Sets are mutable, meaning you can add, remove, or modify elements after the set is created.\n",
        "*   **Uniqueness:** Sets do not allow duplicate elements. If you try to add an element that already exists in the set, it won't create a duplicate.\n",
        "*   **Ordering:** Sets are unordered, meaning the elements do not have a specific order.\n",
        "*   **Common Use Cases:** Removing duplicates from a list. Checking membership and performing set operations (union, intersection, etc.).\n"
      ],
      "metadata": {
        "id": "FJSSI94_zF02"
      }
    },
    {
      "cell_type": "code",
      "source": [
        "# Creating a set\n",
        "my_set = {1, 2, 3, 4, 5}\n",
        "print(my_set)\n",
        "print('-'*20)\n",
        "\n",
        "# Adding elements to a set\n",
        "my_set.add(6)\n",
        "print(my_set)\n",
        "print('-'*20)\n",
        "\n",
        "# Adding elements to a set\n",
        "popped_element = my_set.pop()\n",
        "print(\"Popped element:\", popped_element)\n",
        "print(my_set)\n",
        "print('-'*20)\n",
        "\n",
        "# Removing elements from a set\n",
        "my_set.discard(3)\n",
        "print(my_set)\n",
        "print('-'*20)\n",
        "\n",
        "# Iterating over a set\n",
        "for element in my_set:\n",
        "    print(element)\n",
        "print('-'*20)\n",
        "\n",
        "# Checking membership in a set\n",
        "print(2 in my_set)\n",
        "print(7 in my_set)\n",
        "print('-'*20)\n",
        "\n",
        "# Set operations\n",
        "set1 = {1, 2, 3, 4, 5}\n",
        "set2 = {4, 5, 6, 7, 8}\n",
        "print(\"Union:\", set1 | set2)\n",
        "print(\"Intersection:\", set1 & set2)\n",
        "print(\"Difference:\", set1 - set2)\n",
        "print(\"Symmetric Difference:\", set1 ^ set2)\n",
        "print('-'*20)\n",
        "\n",
        "# Clearing all elements from a set\n",
        "my_set.clear()\n",
        "print(my_set)"
      ],
      "metadata": {
        "id": "yiXEKwXLzGUx"
      },
      "execution_count": null,
      "outputs": []
    },
    {
      "cell_type": "markdown",
      "source": [
        "\n",
        "###### 3.9) Touple\n",
        "\n",
        "*   **Immutability:** Tuples are immutable, meaning once they are created, you cannot change their size or modify their elements.\n",
        "*   **Uniqueness:** Tuples can contain duplicate elements, and the order of elements is maintained.\n",
        "*   **Ordering:** Tuples are ordered, meaning the order of elements is preserved.\n",
        "*   **Common Use Cases:** Used for representing fixed collections of items. Return multiple values from a function. Used as keys in dictionaries."
      ],
      "metadata": {
        "id": "cX7JCFAmePCd"
      }
    },
    {
      "cell_type": "code",
      "source": [
        "# Creating a tuple\n",
        "my_tuple = (1, 2, 3, 4, 5)\n",
        "print(my_tuple)\n",
        "print('-'*20)\n",
        "\n",
        "# Accessing elements of a tuple\n",
        "print(my_tuple[0])\n",
        "print('-'*20)\n",
        "\n",
        "# Slicing a tuple\n",
        "print(my_tuple[1:4])\n",
        "print('-'*20)\n",
        "\n",
        "# Concatenating tuples\n",
        "tuple1 = (1, 2, 3)\n",
        "tuple2 = (4, 5, 6)\n",
        "concatenated_tuple = tuple1 + tuple2\n",
        "print(concatenated_tuple)\n",
        "print('-'*20)\n",
        "\n",
        "# Finding the length of a tuple\n",
        "print(len(my_tuple))\n",
        "print('-'*20)\n",
        "\n",
        "# Iterating over a tuple\n",
        "for element in my_tuple:\n",
        "    print(element)\n",
        "print('-'*20)\n",
        "\n",
        "# Checking membership in a tuple\n",
        "print(3 in my_tuple)\n",
        "print(6 in my_tuple)\n",
        "print('-'*20)\n",
        "\n",
        "# Counting occurrences of an element in a tuple\n",
        "print(my_tuple.count(3))\n",
        "print('-'*20)\n",
        "\n",
        "# Finding the index of an element in a tuple\n",
        "print(my_tuple.index(4))\n",
        "print('-'*20)\n",
        "\n",
        "# Multiplying a tuple\n",
        "multiplied_tuple = my_tuple * 3\n",
        "print(multiplied_tuple)\n",
        "print('-'*20)\n"
      ],
      "metadata": {
        "id": "CyBHoxfPzW4-"
      },
      "execution_count": null,
      "outputs": []
    },
    {
      "cell_type": "markdown",
      "source": [
        "###### 3.10) How to decide the data structure for a problem?"
      ],
      "metadata": {
        "id": "EJvUWUZZ59DT"
      }
    },
    {
      "cell_type": "code",
      "source": [
        "# Phonebook Application: You need to store names and corresponding phone numbers, with fast retrieval and modification capabilities\n",
        "\n",
        "\n",
        "# Inventory Management System: You need to keep track of product details, quantities, and prices, and you also need to efficiently update and retrieve this information.\n",
        "\n",
        "\n",
        "# Online Dictionary Application: You need to manage a large dataset of words and their meanings, allowing for quick and easy access to definitions."
      ],
      "metadata": {
        "id": "vSfqEOM42TW6"
      },
      "execution_count": null,
      "outputs": []
    },
    {
      "cell_type": "markdown",
      "source": [
        "#### 4) Functions & OOPs\n",
        "###### 4.1) Defining your first function"
      ],
      "metadata": {
        "id": "N20m0rObA-AT"
      }
    },
    {
      "cell_type": "code",
      "source": [
        "def my_function():\n",
        "    print(\"hello!\")\n",
        "\n",
        "my_function()\n",
        "print('-'*25)\n",
        "\n",
        "print([my_function() for i in range(10)])\n",
        "print('-'*25)"
      ],
      "metadata": {
        "id": "lyx8rigx_2Yg"
      },
      "execution_count": null,
      "outputs": []
    },
    {
      "cell_type": "markdown",
      "source": [
        "###### 4.2) Defining functions and understanding their scope"
      ],
      "metadata": {
        "id": "kLc8n1rwpV4T"
      }
    },
    {
      "cell_type": "code",
      "source": [
        "global_var = 10\n",
        "\n",
        "def my_function():\n",
        "\n",
        "    local_var = 5\n",
        "    print(\"Inside the function - global_var:\", global_var)\n",
        "    print(\"Inside the function - local_var:\", local_var)\n",
        "\n",
        "my_function()\n",
        "\n",
        "print(\"Outside the function - global_var:\", global_var)\n",
        "# print(\"Outside the function - local_var:\", local_var)"
      ],
      "metadata": {
        "id": "1yhiLSYcDWd-"
      },
      "execution_count": null,
      "outputs": []
    },
    {
      "cell_type": "markdown",
      "source": [
        "###### 4.3) Passing parameters to the function"
      ],
      "metadata": {
        "id": "mgXQqWgOpm7v"
      }
    },
    {
      "cell_type": "code",
      "source": [
        "name = 'Ashish'\n",
        "\n",
        "def my_function(name = '-----'):\n",
        "    print(\"Hello,\", name)\n",
        "\n",
        "my_function()\n",
        "my_function(name)\n",
        "my_function(name = 'Jangra')"
      ],
      "metadata": {
        "id": "yfVAIEwF_rpx"
      },
      "execution_count": null,
      "outputs": []
    },
    {
      "cell_type": "markdown",
      "source": [
        "###### 4.4) Function returns"
      ],
      "metadata": {
        "id": "3TsMq3to42kS"
      }
    },
    {
      "cell_type": "code",
      "source": [
        "def subm( a , b ):\n",
        "  print(a + b)\n",
        "\n",
        "subm(5,10)\n",
        "print('-'*10)\n",
        "print(subm(5,10))\n",
        "print('*'*10)\n",
        "\n",
        "\n",
        "def subm( a , b ):\n",
        "  return a + b\n",
        "\n",
        "subm(5,10)\n",
        "print('-'*10)\n",
        "print(subm(5,10))"
      ],
      "metadata": {
        "id": "PLlzeiHVp6lO"
      },
      "execution_count": null,
      "outputs": []
    },
    {
      "cell_type": "markdown",
      "source": [
        "###### 4.5) Multi-level function calling"
      ],
      "metadata": {
        "id": "wAc-5_FxEmT5"
      }
    },
    {
      "cell_type": "code",
      "source": [
        "# [lst1^2] + [lst2^3]\n",
        "\n",
        "lst = [1,2,3,4,5]\n",
        "\n",
        "def lst_sq(lst):\n",
        "  return [i*i for i in lst]\n",
        "\n",
        "def lst_cu(lst):\n",
        "  return [i*i*i for i in lst]\n",
        "\n",
        "def lst_subm(lst):\n",
        "  lst_1 = lst_sq(lst)\n",
        "  lst_2 = lst_cu(lst)\n",
        "  return [lst_1[i] + lst_2[i] for i in range(len(lst))]\n",
        "\n",
        "lst_subm([1,2,3])"
      ],
      "metadata": {
        "colab": {
          "base_uri": "https://localhost:8080/"
        },
        "id": "YPx6gn2G5OVu",
        "outputId": "bb403717-2171-4864-d2f8-09380e56538d"
      },
      "execution_count": null,
      "outputs": [
        {
          "output_type": "execute_result",
          "data": {
            "text/plain": [
              "[2, 12, 36]"
            ]
          },
          "metadata": {},
          "execution_count": 20
        }
      ]
    },
    {
      "cell_type": "markdown",
      "source": [
        "###### 4.6) Module\n",
        "*   Program - 1 | support.py"
      ],
      "metadata": {
        "id": "goHSGouakWPO"
      }
    },
    {
      "cell_type": "code",
      "source": [
        "def greet(name = '-----'):\n",
        "    return 'Hello ' + name\n",
        "\n",
        "def subm(a = 0,b = 0):\n",
        "    return a+b\n",
        "\n",
        "def arithmetic(a = 0,b = 0):\n",
        "    return a+b , a-b, a*b\n",
        "\n",
        "def sq(lst):\n",
        "    return [i**2 for i in lst]\n",
        "def cu(lst):\n",
        "    return [i**3 for i in lst]\n",
        "\n",
        "def final(lst):\n",
        "    lst_1 = sq(lst)\n",
        "    lst_2 = cu(lst)\n",
        "    return [lst_1[i] + lst_2[i] for i in range(len(lst_1))]"
      ],
      "metadata": {
        "id": "AF6Q9WiSDd-a"
      },
      "execution_count": null,
      "outputs": []
    },
    {
      "cell_type": "markdown",
      "source": [
        "*   Program - 2 | app.py"
      ],
      "metadata": {
        "id": "pIAP3CWGklyD"
      }
    },
    {
      "cell_type": "code",
      "source": [
        "from support import *\n",
        "\n",
        "lst = [1,2,3,4,5]\n",
        "\n",
        "print(greet('Ashish'))\n",
        "print(subm(10,5))\n",
        "print(arithmetic(10,5))\n",
        "print(final(lst))\n",
        "print(cu(lst))\n",
        "print(sq(lst))"
      ],
      "metadata": {
        "id": "b_czD6x43Vll"
      },
      "execution_count": null,
      "outputs": []
    },
    {
      "cell_type": "markdown",
      "source": [
        "###### 4.7) Class\n",
        "**1.   Writing your first Class**\n",
        "\n",
        "\n"
      ],
      "metadata": {
        "id": "AB6lWVWVkuBn"
      }
    },
    {
      "cell_type": "code",
      "source": [
        "class person:\n",
        "  name = 'Ashish'\n",
        "  age = 25\n",
        "\n",
        "p1 = person()\n",
        "\n",
        "print(p1.name)\n",
        "print(p1.age)\n",
        "print('-'*25)\n",
        "\n",
        "p1.name = 'Ankur'\n",
        "p1.age = 28\n",
        "\n",
        "print(p1.name)\n",
        "print(p1.age)\n",
        "\n",
        "\n",
        "print('-'*25)\n",
        "p2 = person()\n",
        "\n",
        "print(p2.name)\n",
        "print(p2.age)\n",
        "print('-'*25)"
      ],
      "metadata": {
        "id": "PUBOmnMoBE36"
      },
      "execution_count": null,
      "outputs": []
    },
    {
      "cell_type": "markdown",
      "source": [
        "**2.   Using Methods**"
      ],
      "metadata": {
        "id": "Tjx5MKZQBJ39"
      }
    },
    {
      "cell_type": "code",
      "source": [
        "class mathematics:\n",
        "\n",
        "    name = 'Ashish'\n",
        "    def greet(self):\n",
        "        print('Hello')\n",
        "        print(self.name)\n",
        "        return True\n",
        "\n",
        "mth = mathematics()\n",
        "print(mth.greet())"
      ],
      "metadata": {
        "colab": {
          "base_uri": "https://localhost:8080/"
        },
        "id": "llaVTQA-ozNs",
        "outputId": "976fd3d1-b38c-4b3e-de9a-c55016d0ba4a"
      },
      "execution_count": null,
      "outputs": [
        {
          "output_type": "stream",
          "name": "stdout",
          "text": [
            "Hello\n",
            "Ashish\n",
            "True\n"
          ]
        }
      ]
    },
    {
      "cell_type": "markdown",
      "source": [
        "**3.   Class with Multiple Methods**"
      ],
      "metadata": {
        "id": "sOq2eKdYueUZ"
      }
    },
    {
      "cell_type": "code",
      "source": [
        "class mathematics:\n",
        "\n",
        "    def greet(self):\n",
        "        print('Hello')\n",
        "        return True\n",
        "\n",
        "    def factorial(self,n):\n",
        "      s = 1\n",
        "      for i in range(1,n+1):\n",
        "        s *= i\n",
        "      return s\n",
        "\n",
        "    def lst_mul(self,lst):\n",
        "      s = 1\n",
        "      for i in lst:\n",
        "        s *= i\n",
        "      return s\n",
        "\n",
        "    def lst_dot(self, lst_1 , lst_2):\n",
        "      return [lst_1[i]*lst_2[i] for i in range(len(lst_1))]\n",
        "\n",
        "\n",
        "mth = mathematics()\n",
        "print(mth.greet())\n",
        "print('-')\n",
        "print(mth.factorial(10))\n",
        "print('-')\n",
        "print(mth.lst_mul([4,3,4,3,4]))\n",
        "print('-')\n",
        "print(mth.lst_dot([1,2,3],[4,5,6]))\n",
        "print('-')"
      ],
      "metadata": {
        "id": "HCB9aUj3qNxE"
      },
      "execution_count": null,
      "outputs": []
    },
    {
      "cell_type": "markdown",
      "source": [
        "**4.   __init__**"
      ],
      "metadata": {
        "id": "txdeAtG5uvaG"
      }
    },
    {
      "cell_type": "code",
      "source": [
        "class agent:\n",
        "    def __init__(self):\n",
        "      print('Hello')\n",
        "\n",
        "    def run():\n",
        "      print('run!')\n",
        "\n",
        "agent()\n",
        "print('-')\n",
        "my_agent = agent()\n",
        "print('-')\n",
        "my_agent.__init__()"
      ],
      "metadata": {
        "id": "EEnrRipTnj6j"
      },
      "execution_count": null,
      "outputs": []
    },
    {
      "cell_type": "markdown",
      "source": [
        "**5.   __init__ with parameters**"
      ],
      "metadata": {
        "id": "Pcp0dieHwA4d"
      }
    },
    {
      "cell_type": "code",
      "source": [
        "class agent:\n",
        "\n",
        "    def __init__(self, name, age):\n",
        "      print('Hello')\n",
        "      print(name)\n",
        "      print(age)\n",
        "\n",
        "    def run(self):\n",
        "      print('run!')\n",
        "\n",
        "agent('Ashish',28)\n",
        "print('-')\n",
        "my_agent = agent('Ashish',28)\n",
        "print('-')\n",
        "my_agent.__init__('Ashish',28)\n",
        "print('-')\n",
        "my_agent.run()"
      ],
      "metadata": {
        "id": "arGDIuxxvRCt"
      },
      "execution_count": null,
      "outputs": []
    },
    {
      "cell_type": "markdown",
      "source": [
        "**6.   Using self**"
      ],
      "metadata": {
        "id": "2xdl00zMyBzc"
      }
    },
    {
      "cell_type": "code",
      "source": [
        "class agent:\n",
        "\n",
        "    def __init__(self, name, age):\n",
        "      print('Hello')\n",
        "      self.name = name\n",
        "      self.age = age\n",
        "      self.health = 100\n",
        "\n",
        "    def run(self):\n",
        "      print('Current health :',self.health)\n",
        "      print('run!')\n",
        "\n",
        "    def punched(self):\n",
        "      self.health -= 5\n",
        "      print('Current health :',self.health)\n",
        "\n",
        "    def info(self):\n",
        "      print('Name    :',self.name)\n",
        "      print('Age     :',self.age)\n",
        "      print('Health  :',self.health)\n",
        "\n",
        "my_agent = agent(name = 'Ashish',age = 28)\n",
        "print(my_agent.name)\n",
        "print(my_agent.age)\n",
        "print('-'*30)\n",
        "\n",
        "my_agent.run()\n",
        "print('-'*30)\n",
        "\n",
        "my_agent.punched()\n",
        "my_agent.punched()\n",
        "\n",
        "print('-'*30)\n",
        "my_agent.info()"
      ],
      "metadata": {
        "id": "ERudjnSwxEY-"
      },
      "execution_count": null,
      "outputs": []
    },
    {
      "cell_type": "markdown",
      "source": [
        "**7.   Inheritence**"
      ],
      "metadata": {
        "id": "pwpswL68Fi9S"
      }
    },
    {
      "cell_type": "code",
      "source": [
        "class Dog:\n",
        "    def __init__(self, name, age):\n",
        "        self.name = name\n",
        "        self.age = age\n",
        "\n",
        "    def bark(self):\n",
        "        print(self.name + 'says Woof!')\n",
        "\n",
        "\n",
        "class Animal(Dog):\n",
        "    def show_breed(self):\n",
        "      print('This is a Dog', self.name)\n",
        "\n",
        "\n",
        "my_dog = Dog(name=\"Buddy\", age=3)\n",
        "print(my_dog.name , my_dog.age)\n",
        "print('-'*25)\n",
        "\n",
        "\n",
        "animal = Animal('Tomy',3)\n",
        "print(animal.show_breed())"
      ],
      "metadata": {
        "id": "nGY-AH4Vk4GF",
        "colab": {
          "base_uri": "https://localhost:8080/"
        },
        "outputId": "e0a49fd5-3eb3-4d6e-8e35-c761e95a0fb0"
      },
      "execution_count": null,
      "outputs": [
        {
          "output_type": "stream",
          "name": "stdout",
          "text": [
            "Buddy 3\n",
            "-------------------------\n",
            "This is a Dog Tomy\n",
            "None\n"
          ]
        }
      ]
    },
    {
      "cell_type": "markdown",
      "source": [
        "#### 5) Special Functions\n",
        "###### 5.1) Zip"
      ],
      "metadata": {
        "id": "XoBC1dGIk4-z"
      }
    },
    {
      "cell_type": "code",
      "source": [
        "# Sample lists\n",
        "names = [\"Alice\", \"Bob\", \"Charlie\"]\n",
        "ages = [25, 30, 35]\n",
        "print(list(zip(names, ages)))\n",
        "print('-'*50)\n",
        "\n",
        "# Zip with Transpose\n",
        "matrix = [[1, 2, 3],[4, 5, 6],[7, 8, 9]]\n",
        "print([list(row) for row in zip(matrix)])\n",
        "print([list(row) for row in zip(*matrix)])\n",
        "print([list(row) for row in zip(*[list(row) for row in zip(*matrix)])])\n",
        "print('-'*50)\n",
        "\n",
        "# Sum of Dot Products\n",
        "vector_a = [2, 4, 6]\n",
        "vector_b = [1, 3, 5]\n",
        "dot_product = sum(a * b for a, b in zip(vector_a, vector_b))\n",
        "print(\"Vector A:\", vector_a)\n",
        "print(\"Vector B:\", vector_b)\n",
        "print(\"Dot Product:\", dot_product)\n"
      ],
      "metadata": {
        "id": "OoZPE7wFk_Qh"
      },
      "execution_count": null,
      "outputs": []
    },
    {
      "cell_type": "markdown",
      "source": [
        "###### 5.2) Filter"
      ],
      "metadata": {
        "id": "nRYj58KGqMS0"
      }
    },
    {
      "cell_type": "code",
      "source": [
        "# Finding Even Numbers\n",
        "numbers = [1, 2, 3, 4, 5, 6, 7, 8, 9, 10]\n",
        "\n",
        "def is_even(num):\n",
        "    return num % 2 == 0\n",
        "\n",
        "even_numbers = list(filter(is_even, numbers))\n",
        "print(\"Original numbers:\", numbers)\n",
        "print(\"Even numbers:\", even_numbers)"
      ],
      "metadata": {
        "colab": {
          "base_uri": "https://localhost:8080/"
        },
        "id": "wHQmm2L4ngJ_",
        "outputId": "1caf4f30-11ad-45e8-d5a2-9b07b8dfd7df"
      },
      "execution_count": null,
      "outputs": [
        {
          "output_type": "stream",
          "name": "stdout",
          "text": [
            "Original numbers: [1, 2, 3, 4, 5, 6, 7, 8, 9, 10]\n",
            "Even numbers: [2, 4, 6, 8, 10]\n"
          ]
        }
      ]
    },
    {
      "cell_type": "markdown",
      "source": [
        "###### 5.3) Lambda"
      ],
      "metadata": {
        "id": "XZ3vHQpbwUXH"
      }
    },
    {
      "cell_type": "code",
      "source": [
        "add_numbers = lambda x, y: x * y\n",
        "print(\"Result:\", add_numbers(5, 10))\n",
        "print('-'*50)\n",
        "\n",
        "\n",
        "numbers = [1, 2, 3, 4, 5, 6, 7, 8, 9, 10]\n",
        "even_numbers = list(filter(lambda x: x % 2 == 0, numbers))\n",
        "print(\"Even Numbers:\", even_numbers)\n"
      ],
      "metadata": {
        "colab": {
          "base_uri": "https://localhost:8080/"
        },
        "id": "Rh-uyGkrqL6_",
        "outputId": "90b9f758-31eb-43d2-9737-5c4893a9015b"
      },
      "execution_count": null,
      "outputs": [
        {
          "output_type": "stream",
          "name": "stdout",
          "text": [
            "Result: 50\n",
            "--------------------------------------------------\n",
            "Even Numbers: [2, 4, 6, 8, 10]\n"
          ]
        }
      ]
    },
    {
      "cell_type": "markdown",
      "source": [
        "###### 5.4) Map"
      ],
      "metadata": {
        "id": "DEs_W_8C0hKT"
      }
    },
    {
      "cell_type": "code",
      "source": [
        "numbers = [1, 2, 3, 4, 5]\n",
        "def square(x):\n",
        "    return x ** 2\n",
        "print(list(map(square, numbers)))\n",
        "print('-'*50)\n",
        "\n",
        "\n",
        "names = [\"Alice\", \"Bob\", \"Charlie\", \"David\", \"Eva\"]\n",
        "lengths_list = list(map(lambda x: len(x), names))\n",
        "print(lengths_list)"
      ],
      "metadata": {
        "colab": {
          "base_uri": "https://localhost:8080/"
        },
        "id": "2h6pbW_0wAv3",
        "outputId": "68f4a854-ccec-4d42-e105-744d5157374d"
      },
      "execution_count": null,
      "outputs": [
        {
          "output_type": "stream",
          "name": "stdout",
          "text": [
            "[1, 4, 9, 16, 25]\n",
            "--------------------------------------------------\n",
            "[5, 3, 7, 5, 3]\n"
          ]
        }
      ]
    },
    {
      "cell_type": "markdown",
      "source": [
        "#### 6) Errors and Exceptions\n",
        "###### 6.1) Different Erros"
      ],
      "metadata": {
        "id": "3MOD4gJB4I68"
      }
    },
    {
      "cell_type": "code",
      "source": [
        "# 1 .Syntax Errors\n",
        "print(\"Hello, World!')\n",
        "\n",
        "# 2. Runtime Erros | ZeroDivisionError\n",
        "num1, num2 = 10, 0\n",
        "result = num1 / num2  # This will raise a ZeroDivisionError\n",
        "\n",
        "# 3. Logical Errors\n",
        "def add_numbers(num1, num2):\n",
        "    return num1 - num2\n",
        "\n",
        "# 4. NameError\n",
        "print(variable_number_1, function_for_sum())\n",
        "\n",
        "# 5. TypeError\n",
        "print(\"2\" + 2)\n",
        "\n",
        "# 6. IndexError\n",
        "my_list = [1, 2, 3]\n",
        "print(my_list[5])\n",
        "\n",
        "# 7. KeyError\n",
        "my_dict = {'name': 'John', 'age': 25}\n",
        "print(my_dict['gender'])\n",
        "\n",
        "# 8. AttributeError\n",
        "x = 10\n",
        "print(x.upper())\n",
        "\n",
        "# 9. IndentationError\n",
        "if True:\n",
        "print(\"Indented incorrectly\")\n",
        "\n",
        "# 10. ImportError\n",
        "import non_existent_module\n",
        "\n",
        "# 11. ValueError\n",
        "int('abc')"
      ],
      "metadata": {
        "id": "PdZ0_qld2saZ"
      },
      "execution_count": null,
      "outputs": []
    },
    {
      "cell_type": "markdown",
      "source": [
        "###### 6.2) Handling Errors with Exception Handling\n",
        "\n",
        "\n",
        "\n",
        "\n",
        "\n",
        "*   The **try** block contains the code that may raise an exception.\n",
        "*   The **except** blocks handle specific types of exceptions. You can have multiple except blocks to handle different types of errors.\n",
        "*   The **else** block is executed if no exception occurs in the try block.\n",
        "*   The **finally** block is always executed, whether an exception occurred or not. It's typically used for cleanup operations."
      ],
      "metadata": {
        "id": "kNUtfVth736l"
      }
    },
    {
      "cell_type": "code",
      "source": [
        "# Beginning with Exception Handling\n",
        "try:\n",
        "  x = 10\n",
        "  print(x)\n",
        "  print(x/0)\n",
        "except:\n",
        "  print('Error Occured!')\n",
        "print('-'*30)\n",
        "\n",
        "# Basic error handling with Specific Error\n",
        "try:\n",
        "    num = 0.0\n",
        "    result = 10 / num\n",
        "    print(\"Result:\", result)\n",
        "except ZeroDivisionError:\n",
        "    print(\"Cannot divide by zero.\")\n",
        "except:\n",
        "    print('Unknown Error')\n",
        "print('-'*30)\n",
        "\n",
        "# Full Structure of Handling Exceptions\n",
        "try:\n",
        "    num1 , num2 = 10, 5\n",
        "    result = num1 / num2\n",
        "    print(\"Result:\", result)\n",
        "\n",
        "except ValueError as ve:\n",
        "    # when the user enters a non-integer\n",
        "    print(\"ValueError:\", ve)\n",
        "\n",
        "except ZeroDivisionError as zde:\n",
        "    # when the user enters 0 as the second number\n",
        "    print(\"ZeroDivisionError:\", zde)\n",
        "\n",
        "except Exception as e:\n",
        "    # Handle any other exceptions that may occur\n",
        "    print(\"An unexpected error occurred:\", e)\n",
        "\n",
        "else:\n",
        "    # This block is executed if no exception occurs\n",
        "    print(\"No errors occurred.\")\n",
        "\n",
        "finally:\n",
        "    # This block is always executed, whether an exception occurred or not\n",
        "    print(\"Execution completed.\")\n"
      ],
      "metadata": {
        "id": "k17B2kOX72Vt"
      },
      "execution_count": null,
      "outputs": []
    },
    {
      "cell_type": "markdown",
      "source": [
        "#### 7) Important Libraries\n",
        "##### 7.1) math"
      ],
      "metadata": {
        "id": "beScLRhZET7G"
      }
    },
    {
      "cell_type": "code",
      "source": [
        "import math\n",
        "\n",
        "# Basic Arithmetic Functions:\n",
        "x = 10.8\n",
        "print(math.ceil(x))  # upper bound\n",
        "print(math.floor(x)) # lower bound\n",
        "print(math.trunc(x)) # remove decimal\n",
        "print('-'*30)\n",
        "\n",
        "# Exponential and Logarithmic Functions:\n",
        "x = 3\n",
        "print(math.exp(x))   # Returns e raised to the power of x.\n",
        "print(math.log10(x)) # Returns the base-10 logarithm of x.\n",
        "print('-'*30)\n",
        "\n",
        "# Trigonometric Functions:\n",
        "print(math.sin(x))\n",
        "print(math.cos(x))\n",
        "print(math.tan(x))\n",
        "print('-'*30)\n",
        "\n",
        "# Constants:\n",
        "print(math.pi)   # Mathematical constant pi (π).\n",
        "print(math.e)    # Mathematical constant e (base of natural logarithm)\n",
        "print('-'*30)\n",
        "\n",
        "\n",
        "# Special Functions:\n",
        "x = 5\n",
        "print(math.factorial(x))  # Returns the factorial of x.\n",
        "print(math.gamma(x))      # Returns the gamma function at x.\n",
        "print('-'*30)"
      ],
      "metadata": {
        "id": "oNmc5Jgi80eH"
      },
      "execution_count": null,
      "outputs": []
    },
    {
      "cell_type": "markdown",
      "source": [
        "##### 7.2) random"
      ],
      "metadata": {
        "id": "eqJNK4TjEpUJ"
      }
    },
    {
      "cell_type": "code",
      "source": [
        "import random\n",
        "\n",
        "print(random.random())                      # [0.0 - 1.0]\n",
        "print(random.randint(1,10))                 # Pick a random number in that range\n",
        "print(random.choice([1, 2, 3, 4, 5]))       # Take a random value\n",
        "print(random.sample([1, 2, 3, 4, 5], 3))    # Random Sample of n values\n",
        "print(random.uniform(1.0, 2.0))             # Random Float in tht range\n",
        "\n",
        "random.seed(42)\n",
        "\n",
        "print(random.random())\n",
        "print(random.randint(1, 10))\n",
        "print(random.choice(['a', 'b', 'c']))\n"
      ],
      "metadata": {
        "id": "6tKdrGJxEqxv"
      },
      "execution_count": null,
      "outputs": []
    },
    {
      "cell_type": "markdown",
      "source": [
        "##### 7.3) datetime"
      ],
      "metadata": {
        "id": "ocAI1YreErMm"
      }
    },
    {
      "cell_type": "code",
      "source": [
        "import datetime\n",
        "\n",
        "print(datetime.datetime(2023, 11, 28, 10, 30, 0)) # Specific Datatime\n",
        "print(datetime.datetime.now())                    # Current Datetime\n",
        "\n",
        "print(datetime.datetime.now().strftime(\"%d/%m/%y %H:%M:%S\"))\n",
        "\n",
        "date_1 = datetime.datetime(2023, 11, 28, 10, 30, 0)\n",
        "date_2    = datetime.datetime.now()\n",
        "\n",
        "print(date_2 - date_1)"
      ],
      "metadata": {
        "id": "ZfXw4I_7EtHY"
      },
      "execution_count": null,
      "outputs": []
    },
    {
      "cell_type": "markdown",
      "source": [
        "##### 7.4) collections"
      ],
      "metadata": {
        "id": "uamnwKE5Etbx"
      }
    },
    {
      "cell_type": "code",
      "source": [
        "from collections import Counter, defaultdict, OrderedDict, ChainMap\n",
        "\n",
        "# 1. Counter\n",
        "my_list = [1, 2, 3, 1, 2, 1, 2, 3, 4]\n",
        "counter = Counter(my_list)\n",
        "print(counter)\n",
        "\n",
        "# 2. Defaul Dictionary | No need to check if 'a' is in the dictionary\n",
        "d = defaultdict(int)\n",
        "d['a'] += 1\n",
        "print(d)\n",
        "\n",
        "# 3. Ordered Dictionary\n",
        "d = OrderedDict()\n",
        "d['one'] = 1\n",
        "d['two'] = 2\n"
      ],
      "metadata": {
        "colab": {
          "base_uri": "https://localhost:8080/"
        },
        "id": "h-HsmN1aEuQn",
        "outputId": "3384fa7d-8a29-43a3-b68d-30e246894620"
      },
      "execution_count": null,
      "outputs": [
        {
          "output_type": "stream",
          "name": "stdout",
          "text": [
            "Counter({1: 3, 2: 3, 3: 2, 4: 1})\n",
            "defaultdict(<class 'int'>, {'a': 1})\n"
          ]
        }
      ]
    },
    {
      "cell_type": "markdown",
      "source": [
        "##### 7.5) string"
      ],
      "metadata": {
        "id": "LJv1YP6jEupE"
      }
    },
    {
      "cell_type": "code",
      "source": [
        "import string\n",
        "\n",
        "# Constants\n",
        "print(string.ascii_letters)\n",
        "print(string.ascii_lowercase)\n",
        "print(string.ascii_uppercase)\n",
        "print('-'*30)\n",
        "\n",
        "print(string.digits)\n",
        "print(string.hexdigits)\n",
        "print(string.octdigits)\n",
        "print('-'*30)\n",
        "\n",
        "print(string.punctuation)"
      ],
      "metadata": {
        "colab": {
          "base_uri": "https://localhost:8080/"
        },
        "id": "s0E2RhMyEykc",
        "outputId": "788f2820-2697-402b-d691-db6f1117df81"
      },
      "execution_count": null,
      "outputs": [
        {
          "output_type": "stream",
          "name": "stdout",
          "text": [
            "abcdefghijklmnopqrstuvwxyzABCDEFGHIJKLMNOPQRSTUVWXYZ\n",
            "abcdefghijklmnopqrstuvwxyz\n",
            "ABCDEFGHIJKLMNOPQRSTUVWXYZ\n",
            "------------------------------\n",
            "0123456789\n",
            "0123456789abcdefABCDEF\n",
            "01234567\n",
            "------------------------------\n",
            "!\"#$%&'()*+,-./:;<=>?@[\\]^_`{|}~\n"
          ]
        }
      ]
    },
    {
      "cell_type": "code",
      "source": [],
      "metadata": {
        "id": "r3rgZ_T-OxJy"
      },
      "execution_count": null,
      "outputs": []
    }
  ]
}