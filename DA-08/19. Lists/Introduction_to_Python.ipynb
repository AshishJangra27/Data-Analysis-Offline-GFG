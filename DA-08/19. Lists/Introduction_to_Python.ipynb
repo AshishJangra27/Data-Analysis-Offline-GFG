{
  "nbformat": 4,
  "nbformat_minor": 0,
  "metadata": {
    "colab": {
      "provenance": []
    },
    "kernelspec": {
      "name": "python3",
      "display_name": "Python 3"
    },
    "language_info": {
      "name": "python"
    }
  },
  "cells": [
    {
      "cell_type": "markdown",
      "source": [
        "### 1. print"
      ],
      "metadata": {
        "id": "0x-1F10jVcq4"
      }
    },
    {
      "cell_type": "code",
      "source": [
        "print(12)\n",
        "print(12.5)\n",
        "print(\"Ashish Jangra)\")\n",
        "print(True)\n",
        "print()\n",
        "print('--------')\n",
        "\n",
        "print(12, 2.5, True,'AShish')"
      ],
      "metadata": {
        "colab": {
          "base_uri": "https://localhost:8080/"
        },
        "id": "ZPLsrdnsVutz",
        "outputId": "8112336d-b780-4e66-ebe8-6b54a41b2c2b"
      },
      "execution_count": null,
      "outputs": [
        {
          "output_type": "stream",
          "name": "stdout",
          "text": [
            "12\n",
            "12.5\n",
            "Ashish Jangra)\n",
            "True\n",
            "\n",
            "--------\n",
            "12 2.5 True AShish\n"
          ]
        }
      ]
    },
    {
      "cell_type": "markdown",
      "source": [
        "### 2. type"
      ],
      "metadata": {
        "id": "jJrjHqE9YRs_"
      }
    },
    {
      "cell_type": "code",
      "source": [
        "print(type(12))\n",
        "print(type(12.5))\n",
        "print(type('12.5'))\n",
        "print(type('Ashish'))\n",
        "print(type(True))\n",
        "print(type('True'))"
      ],
      "metadata": {
        "colab": {
          "base_uri": "https://localhost:8080/"
        },
        "id": "a14fZBbuSBBC",
        "outputId": "02ee8745-b348-437e-e7b1-3e7329393bb7"
      },
      "execution_count": null,
      "outputs": [
        {
          "output_type": "stream",
          "name": "stdout",
          "text": [
            "<class 'int'>\n",
            "<class 'float'>\n",
            "<class 'str'>\n",
            "<class 'str'>\n",
            "<class 'bool'>\n",
            "<class 'str'>\n"
          ]
        }
      ]
    },
    {
      "cell_type": "markdown",
      "source": [
        "### 3. Operators"
      ],
      "metadata": {
        "id": "NDDMC5yqZJaM"
      }
    },
    {
      "cell_type": "markdown",
      "source": [
        "#### 3.1) Arithmetic"
      ],
      "metadata": {
        "id": "nwRuwpAcZiuu"
      }
    },
    {
      "cell_type": "markdown",
      "source": [
        "##### 3.1.1) Int - Int"
      ],
      "metadata": {
        "id": "N-HuGX2zaan_"
      }
    },
    {
      "cell_type": "code",
      "source": [
        "print(12+5)\n",
        "print(12-5)\n",
        "print(12*5)\n",
        "print(12/5)\n",
        "print(12//5)\n",
        "print(12%5)\n",
        "print(12**5)"
      ],
      "metadata": {
        "colab": {
          "base_uri": "https://localhost:8080/"
        },
        "id": "ZmMv-r7nZXQz",
        "outputId": "a6b948d2-d4e9-42a2-c021-eafe996bf42c"
      },
      "execution_count": null,
      "outputs": [
        {
          "output_type": "stream",
          "name": "stdout",
          "text": [
            "17\n",
            "7\n",
            "60\n",
            "2.4\n",
            "2\n",
            "2\n",
            "248832\n"
          ]
        }
      ]
    },
    {
      "cell_type": "markdown",
      "source": [
        "##### 3.1.2) Int - Float"
      ],
      "metadata": {
        "id": "DSQLEG_JaePw"
      }
    },
    {
      "cell_type": "code",
      "source": [
        "print(12+5.2)\n",
        "print(12-5.2)\n",
        "print(12*5.2)\n",
        "print(12/5.2)\n",
        "print(12//5.2)\n",
        "print(12%5.2)\n",
        "print(12**5.2)"
      ],
      "metadata": {
        "colab": {
          "base_uri": "https://localhost:8080/"
        },
        "id": "6PrMIHGcZXOS",
        "outputId": "764cc293-5a8a-4165-fdb0-fb0a4e6bdaa0"
      },
      "execution_count": null,
      "outputs": [
        {
          "output_type": "stream",
          "name": "stdout",
          "text": [
            "17.2\n",
            "6.8\n",
            "62.400000000000006\n",
            "2.3076923076923075\n",
            "2.0\n",
            "1.5999999999999996\n",
            "409018.0552424305\n"
          ]
        }
      ]
    },
    {
      "cell_type": "markdown",
      "source": [
        "##### 3.1.3) Int - String"
      ],
      "metadata": {
        "id": "mM5Uo_jDa1TG"
      }
    },
    {
      "cell_type": "code",
      "source": [
        "print(12*'Ashish')"
      ],
      "metadata": {
        "colab": {
          "base_uri": "https://localhost:8080/"
        },
        "id": "-M3eRwUva3ld",
        "outputId": "4b4151db-ff5a-4c5e-eefd-aa28e774f23c"
      },
      "execution_count": null,
      "outputs": [
        {
          "output_type": "stream",
          "name": "stdout",
          "text": [
            "AshishAshishAshishAshishAshishAshishAshishAshishAshishAshishAshishAshish\n"
          ]
        }
      ]
    },
    {
      "cell_type": "markdown",
      "source": [
        "##### 3.1.4) Int - Boolean"
      ],
      "metadata": {
        "id": "9woOIdlObPHr"
      }
    },
    {
      "cell_type": "code",
      "source": [
        "print(12+True)\n",
        "print(12-False)\n",
        "print(12*True)\n",
        "print(12/True)\n",
        "print(12//True)\n",
        "print(12%True)\n",
        "print(12**True)"
      ],
      "metadata": {
        "colab": {
          "base_uri": "https://localhost:8080/"
        },
        "id": "2Xblf-crbSg4",
        "outputId": "f625d4f9-f480-4c5c-b323-a29583ee6225"
      },
      "execution_count": null,
      "outputs": [
        {
          "output_type": "stream",
          "name": "stdout",
          "text": [
            "13\n",
            "12\n",
            "12\n",
            "12.0\n",
            "12\n",
            "0\n",
            "12\n"
          ]
        }
      ]
    },
    {
      "cell_type": "code",
      "source": [
        "print(False*'Ashish')"
      ],
      "metadata": {
        "colab": {
          "base_uri": "https://localhost:8080/"
        },
        "id": "Jf5iH8vycBS3",
        "outputId": "c4a878e4-5b37-406e-afb7-25f947ae5ccd"
      },
      "execution_count": null,
      "outputs": [
        {
          "output_type": "stream",
          "name": "stdout",
          "text": [
            "\n"
          ]
        }
      ]
    },
    {
      "cell_type": "markdown",
      "source": [
        "#### 3.2) Comparison"
      ],
      "metadata": {
        "id": "V0nf5ujNcLn4"
      }
    },
    {
      "cell_type": "code",
      "source": [
        "print(10>5)\n",
        "print(10<5)\n",
        "# print(a=5)\n",
        "print(10==5)\n",
        "print(10!=5)\n",
        "print(5>=5)\n",
        "print(5>5)\n",
        "print(10<=5)"
      ],
      "metadata": {
        "colab": {
          "base_uri": "https://localhost:8080/"
        },
        "id": "6m_FI_RJcTKU",
        "outputId": "32f04f5c-dd9a-4402-ffb2-30fd416ae9c5"
      },
      "execution_count": null,
      "outputs": [
        {
          "output_type": "stream",
          "name": "stdout",
          "text": [
            "True\n",
            "False\n",
            "False\n",
            "True\n",
            "True\n",
            "False\n",
            "False\n"
          ]
        }
      ]
    },
    {
      "cell_type": "markdown",
      "source": [
        "#### 3.3) Logical"
      ],
      "metadata": {
        "id": "fzBArlMSc-_C"
      }
    },
    {
      "cell_type": "code",
      "source": [
        "n = 70\n",
        "\n",
        "print((n%7 == 0) and (n%5 == 0))\n",
        "print((n%7 == 0) or (n%5 == 0))\n",
        "\n",
        "print((n%7 == 0) and (n%5 == 0) and not (n%9 == 0))\n",
        "print((n%7 == 0) and (n%5 == 0) and not (n%9 == 0) and (n%2 == 0))"
      ],
      "metadata": {
        "colab": {
          "base_uri": "https://localhost:8080/"
        },
        "id": "tjgY6OIHdHlF",
        "outputId": "b77c010d-3ec1-46e4-ab35-e046f7cc0323"
      },
      "execution_count": null,
      "outputs": [
        {
          "output_type": "stream",
          "name": "stdout",
          "text": [
            "True\n",
            "True\n",
            "True\n",
            "True\n"
          ]
        }
      ]
    },
    {
      "cell_type": "markdown",
      "source": [
        "### 4. Typecasting"
      ],
      "metadata": {
        "id": "-NFUD36wZolT"
      }
    },
    {
      "cell_type": "markdown",
      "source": [
        "#### 4.1) Int"
      ],
      "metadata": {
        "id": "mS3tt1GMgy2N"
      }
    },
    {
      "cell_type": "code",
      "source": [
        "print(int(12.99999))\n",
        "print(int('4623'))\n",
        "print(int(True))\n",
        "print(int(False))"
      ],
      "metadata": {
        "colab": {
          "base_uri": "https://localhost:8080/"
        },
        "id": "uUaey1FqZXL5",
        "outputId": "c0df0170-1076-4228-ca4d-f25d21c2368f"
      },
      "execution_count": null,
      "outputs": [
        {
          "output_type": "stream",
          "name": "stdout",
          "text": [
            "12\n",
            "4623\n",
            "1\n",
            "0\n"
          ]
        }
      ]
    },
    {
      "cell_type": "markdown",
      "source": [
        "#### 4.2) Float"
      ],
      "metadata": {
        "id": "Bt9XhXPChswX"
      }
    },
    {
      "cell_type": "code",
      "source": [
        "print(float(12))\n",
        "print(float('462332'))\n",
        "print(float(True))\n",
        "print(float(False))"
      ],
      "metadata": {
        "colab": {
          "base_uri": "https://localhost:8080/"
        },
        "id": "BfBMyFOEZXJn",
        "outputId": "617bdbeb-9b04-487e-ea23-55b73e8b56a3"
      },
      "execution_count": null,
      "outputs": [
        {
          "output_type": "stream",
          "name": "stdout",
          "text": [
            "12.0\n",
            "462332.0\n",
            "1.0\n",
            "0.0\n"
          ]
        }
      ]
    },
    {
      "cell_type": "markdown",
      "source": [
        "#### 4.3) Boolean"
      ],
      "metadata": {
        "id": "9IAjo-CPiIZu"
      }
    },
    {
      "cell_type": "code",
      "source": [
        "print(bool(0))\n",
        "print(bool(0.0))\n",
        "print(bool(' '))"
      ],
      "metadata": {
        "colab": {
          "base_uri": "https://localhost:8080/"
        },
        "id": "NudAdl7gZIgo",
        "outputId": "6413e701-e5ec-44c9-a718-c6117ea8cd68"
      },
      "execution_count": null,
      "outputs": [
        {
          "output_type": "stream",
          "name": "stdout",
          "text": [
            "False\n",
            "False\n",
            "False\n"
          ]
        }
      ]
    },
    {
      "cell_type": "markdown",
      "source": [
        "### 5. Conditionals"
      ],
      "metadata": {
        "id": "iA8TfZQrbaIW"
      }
    },
    {
      "cell_type": "code",
      "source": [
        "n = 35\n",
        "\n",
        "if (n%5 == 0) and (n%7 == 0):\n",
        "  print('Divisible')\n",
        "\n",
        "else:\n",
        "  print('Not Divisible')\n",
        "\n",
        "\n",
        "# 1. Number is Even or Odd\n",
        "# 2. Number is divisible by 5&7 but not 9 and must be off between (0,100)"
      ],
      "metadata": {
        "colab": {
          "base_uri": "https://localhost:8080/"
        },
        "id": "-TwKw9-FTOjD",
        "outputId": "be3d85b4-3bea-4464-843b-aca2b581c8db"
      },
      "execution_count": null,
      "outputs": [
        {
          "output_type": "stream",
          "name": "stdout",
          "text": [
            "Divisible\n"
          ]
        }
      ]
    },
    {
      "cell_type": "code",
      "source": [
        "# 1. Number is Even or Odd\n",
        "\n",
        "n = int(input('Enter a number: '))\n",
        "\n",
        "if n%2 == 0:\n",
        "  print('Even')\n",
        "else:\n",
        "  print('Odd')"
      ],
      "metadata": {
        "colab": {
          "base_uri": "https://localhost:8080/"
        },
        "id": "g0R3gyS-T00X",
        "outputId": "27cc508f-31ef-4631-ecda-fa4a31696774"
      },
      "execution_count": null,
      "outputs": [
        {
          "output_type": "stream",
          "name": "stdout",
          "text": [
            "Enter a number: 12\n",
            "Even\n"
          ]
        }
      ]
    },
    {
      "cell_type": "code",
      "source": [
        "# 2. Number is divisible by either 5 or 7 but not 9 and must be off between (0,100)\n",
        "\n",
        "n = int(input('Enter a number: '))\n",
        "\n",
        "if (n>=0) and (n<=100) and ((n%5==0) or (n%7==0)) and not(n%9==0):\n",
        "  print('Divisible')\n",
        "\n",
        "else:\n",
        "  print('not divisible')"
      ],
      "metadata": {
        "colab": {
          "base_uri": "https://localhost:8080/"
        },
        "id": "0v9TswrMVJSi",
        "outputId": "632d9010-0daa-438a-a011-a83fd805c782"
      },
      "execution_count": null,
      "outputs": [
        {
          "output_type": "stream",
          "name": "stdout",
          "text": [
            "Enter a number: 34\n",
            "not divisible\n"
          ]
        }
      ]
    },
    {
      "cell_type": "code",
      "source": [
        "n = 12\n",
        "\n",
        "if (n%7 == 0):\n",
        "  print('by 7')\n",
        "elif (n%5 == 0):\n",
        "  print('by 5')\n",
        "elif (n%9 == 0):\n",
        "  print('by 9')\n",
        "else:\n",
        "  print('sorry')"
      ],
      "metadata": {
        "colab": {
          "base_uri": "https://localhost:8080/"
        },
        "id": "-cdJsyITZawo",
        "outputId": "d631ec13-065c-4daa-c1f5-363b4cde5c5e"
      },
      "execution_count": null,
      "outputs": [
        {
          "output_type": "stream",
          "name": "stdout",
          "text": [
            "sorry\n"
          ]
        }
      ]
    },
    {
      "cell_type": "code",
      "source": [
        "n = 5*7*9\n",
        "\n",
        "if n <= 1000 and n >= 0:\n",
        "\n",
        "  if n%5 == 0 and n%7 == 0 and n%9 != 0:\n",
        "    print('by 5 & 7 not 9')\n",
        "\n",
        "  elif n%5 == 0 and n%7 != 0 and n%9 == 0:\n",
        "    print('by 5 & 9 not 7')\n",
        "\n",
        "  elif n%5 == 0 and n%7 != 0 and n%9 != 0:\n",
        "    print('by 5 not 7 not 9')\n",
        "\n",
        "  elif n%5 != 0 and n%7 == 0 and n%9 != 0:\n",
        "    print('by 7 not 5 not 9')\n",
        "\n",
        "  elif n%5 == 0 and n%7 == 0 and n%9 != 0:\n",
        "    print('by 7 & 5 not 9')\n",
        "\n",
        "  elif n%5 == 0 and n%7 == 0 and n%9 == 0:\n",
        "    print('by 5 & 7 & 9')\n",
        "\n",
        "else:\n",
        "  print('not in range')"
      ],
      "metadata": {
        "colab": {
          "base_uri": "https://localhost:8080/"
        },
        "id": "1QkQpD6sZI-Q",
        "outputId": "7ea7f099-0b6d-4a80-cedb-bf5b59719a41"
      },
      "execution_count": null,
      "outputs": [
        {
          "output_type": "stream",
          "name": "stdout",
          "text": [
            "by 5 & 7 & 9\n"
          ]
        }
      ]
    },
    {
      "cell_type": "code",
      "source": [
        "num = 0\n",
        "\n",
        "if num >= 0:\n",
        "    if num == 0:\n",
        "        print(\"Zero\")\n",
        "    else:\n",
        "        print(\"Positive\")\n",
        "else:\n",
        "    print(\"Negative\")"
      ],
      "metadata": {
        "colab": {
          "base_uri": "https://localhost:8080/"
        },
        "id": "GzHXoIwel6o2",
        "outputId": "84089847-fb2a-413d-cbbd-13c3fa09c0eb"
      },
      "execution_count": null,
      "outputs": [
        {
          "output_type": "stream",
          "name": "stdout",
          "text": [
            "Zero\n"
          ]
        }
      ]
    },
    {
      "cell_type": "code",
      "source": [
        "num = 0\n",
        "\n",
        "if num > 0:\n",
        "  print(\"Positive\")\n",
        "\n",
        "elif num == 0:\n",
        "      print(\"Zero\")\n",
        "else:\n",
        "    print(\"Negative\")"
      ],
      "metadata": {
        "colab": {
          "base_uri": "https://localhost:8080/"
        },
        "id": "E69Lo0vVtMoe",
        "outputId": "8d04cfad-6eec-4163-fc50-60f8a11a3322"
      },
      "execution_count": null,
      "outputs": [
        {
          "output_type": "stream",
          "name": "stdout",
          "text": [
            "Zero\n"
          ]
        }
      ]
    },
    {
      "cell_type": "markdown",
      "source": [
        "### 6. Loops"
      ],
      "metadata": {
        "id": "rr-XZiJ9TZpG"
      }
    },
    {
      "cell_type": "markdown",
      "source": [
        "##### 6.1) Table of a number"
      ],
      "metadata": {
        "id": "Enc8Niwgh3bv"
      }
    },
    {
      "cell_type": "code",
      "source": [
        "n = 13\n",
        "\n",
        "for i in range(1,11):\n",
        "  print(n,'*',i,'=',n*i)"
      ],
      "metadata": {
        "id": "RvexQApaXI-f"
      },
      "execution_count": null,
      "outputs": []
    },
    {
      "cell_type": "markdown",
      "source": [
        "##### 6.2) Table of a number with range"
      ],
      "metadata": {
        "id": "am04qmYnh7jT"
      }
    },
    {
      "cell_type": "code",
      "source": [
        "n = 39\n",
        "\n",
        "for i in range(n,n*10 + 1,n):\n",
        "  print(i)"
      ],
      "metadata": {
        "colab": {
          "base_uri": "https://localhost:8080/"
        },
        "id": "RC4WRFNkXbtw",
        "outputId": "d619f621-694b-4f97-d1c7-095b168e5dc9"
      },
      "execution_count": null,
      "outputs": [
        {
          "output_type": "stream",
          "name": "stdout",
          "text": [
            "39\n",
            "78\n",
            "117\n",
            "156\n",
            "195\n",
            "234\n",
            "273\n",
            "312\n",
            "351\n",
            "390\n"
          ]
        }
      ]
    },
    {
      "cell_type": "markdown",
      "source": [
        "##### 6.3) Reverse Table of a number"
      ],
      "metadata": {
        "id": "oPsW-wb8h92Z"
      }
    },
    {
      "cell_type": "code",
      "source": [
        "n = 13\n",
        "\n",
        "for i in range(n*10,n-1,-n):\n",
        "  print(i)"
      ],
      "metadata": {
        "colab": {
          "base_uri": "https://localhost:8080/"
        },
        "id": "_OH2ONKyvXwu",
        "outputId": "f32c92b3-4a96-469f-b024-611d3889924d"
      },
      "execution_count": null,
      "outputs": [
        {
          "output_type": "stream",
          "name": "stdout",
          "text": [
            "130\n",
            "117\n",
            "104\n",
            "91\n",
            "78\n",
            "65\n",
            "52\n",
            "39\n",
            "26\n",
            "13\n"
          ]
        }
      ]
    },
    {
      "cell_type": "markdown",
      "source": [
        "##### 6.4) Sum of first n numbers"
      ],
      "metadata": {
        "id": "iz7xiwBjiA6e"
      }
    },
    {
      "cell_type": "code",
      "source": [
        "n = 1000\n",
        "\n",
        "for i in range(n):\n",
        "  n = n + i\n",
        "\n",
        "print(n)"
      ],
      "metadata": {
        "id": "wDDCEdGVvpli",
        "colab": {
          "base_uri": "https://localhost:8080/"
        },
        "outputId": "678309d0-7981-429c-ba87-6f651fbfbec8"
      },
      "execution_count": null,
      "outputs": [
        {
          "output_type": "stream",
          "name": "stdout",
          "text": [
            "500500\n"
          ]
        }
      ]
    },
    {
      "cell_type": "markdown",
      "source": [
        "##### 6.5) Sum of first n numbers with formula"
      ],
      "metadata": {
        "id": "pSDRIE6TiEd2"
      }
    },
    {
      "cell_type": "code",
      "source": [
        "n = 1000000000\n",
        "\n",
        "s = n*((n+1)/2)\n",
        "\n",
        "print(s)"
      ],
      "metadata": {
        "colab": {
          "base_uri": "https://localhost:8080/"
        },
        "id": "QETfPuuRfWYG",
        "outputId": "e08a8fb1-e8df-45b8-e468-2edb6b8975d0"
      },
      "execution_count": null,
      "outputs": [
        {
          "output_type": "stream",
          "name": "stdout",
          "text": [
            "5.000000005e+17\n"
          ]
        }
      ]
    },
    {
      "cell_type": "markdown",
      "source": [
        "##### 6.6) Numbers divisible by 5&7 in range 1-100"
      ],
      "metadata": {
        "id": "4SrwwWxniHO2"
      }
    },
    {
      "cell_type": "code",
      "source": [
        "for n in range(1,101):\n",
        "  if n%5 == 0 and n%7 == 0:\n",
        "    print(n)"
      ],
      "metadata": {
        "colab": {
          "base_uri": "https://localhost:8080/"
        },
        "id": "EGMcQC4Pen6A",
        "outputId": "0c3d9e40-a572-4f7d-b197-6da2b319def8"
      },
      "execution_count": null,
      "outputs": [
        {
          "output_type": "stream",
          "name": "stdout",
          "text": [
            "35\n",
            "70\n"
          ]
        }
      ]
    },
    {
      "cell_type": "markdown",
      "source": [
        "##### 6.7) Check if number is palindrom"
      ],
      "metadata": {
        "id": "zibjVlf_Ytor"
      }
    },
    {
      "cell_type": "code",
      "source": [
        "n = '2342341'\n",
        "n = str(n)\n",
        "rev = n[::-1]\n",
        "\n",
        "if (n == rev):\n",
        "  print('pal')\n"
      ],
      "metadata": {
        "id": "cFKICn4ZjZzF"
      },
      "execution_count": null,
      "outputs": []
    },
    {
      "cell_type": "markdown",
      "source": [
        "##### 6.8) Reverse a String"
      ],
      "metadata": {
        "id": "H4diDSupYxey"
      }
    },
    {
      "cell_type": "code",
      "source": [
        "name = 'ashish sahd jhsakd a'\n",
        "\n",
        "print(name[::-1])"
      ],
      "metadata": {
        "colab": {
          "base_uri": "https://localhost:8080/"
        },
        "id": "K1oRHLL2lxnD",
        "outputId": "3c4a0392-cbd3-4bf0-9791-3a3941a204f0"
      },
      "execution_count": null,
      "outputs": [
        {
          "output_type": "stream",
          "name": "stdout",
          "text": [
            "a dkashj dhas hsihsa\n"
          ]
        }
      ]
    },
    {
      "cell_type": "markdown",
      "source": [
        "##### 6.9) Number of Primes under 1000"
      ],
      "metadata": {
        "id": "GCXU0B7dZAs7"
      }
    },
    {
      "cell_type": "code",
      "source": [
        "count = 0\n",
        "\n",
        "for n in range(2,1001):\n",
        "\n",
        "  isPrime = True\n",
        "\n",
        "  for i in range(2,n):\n",
        "    if (n%i == 0):\n",
        "      isPrime = False\n",
        "      break\n",
        "\n",
        "  if isPrime:\n",
        "    count += 2\n",
        "\n",
        "print(count)"
      ],
      "metadata": {
        "colab": {
          "base_uri": "https://localhost:8080/"
        },
        "id": "tsdkaf0DgpZ-",
        "outputId": "5d46244a-a76d-4da7-9eae-402259967de7"
      },
      "execution_count": null,
      "outputs": [
        {
          "output_type": "stream",
          "name": "stdout",
          "text": [
            "168\n"
          ]
        }
      ]
    },
    {
      "cell_type": "markdown",
      "source": [
        "##### 6.10) Probability Distribution when rolling 3 dices"
      ],
      "metadata": {
        "id": "Pj6pTbLTZHHy"
      }
    },
    {
      "cell_type": "code",
      "source": [
        "n = 2\n",
        "\n",
        "for n in range(3,19):\n",
        "  count = 0\n",
        "\n",
        "  for i in range(1,7):\n",
        "    for j in range(1,7):\n",
        "      for k in range(1,7):\n",
        "        if i + j + k == n:\n",
        "          count += 1\n",
        "\n",
        "  print(n,\":\", str(round((count/216)*100,2)) + '%')"
      ],
      "metadata": {
        "colab": {
          "base_uri": "https://localhost:8080/"
        },
        "id": "9lOJJhFOgpXu",
        "outputId": "504bf484-deb2-4b16-8e0b-02f80e574af5"
      },
      "execution_count": null,
      "outputs": [
        {
          "output_type": "stream",
          "name": "stdout",
          "text": [
            "3 : 0.46%\n",
            "4 : 1.39%\n",
            "5 : 2.78%\n",
            "6 : 4.63%\n",
            "7 : 6.94%\n",
            "8 : 9.72%\n",
            "9 : 11.57%\n",
            "10 : 12.5%\n",
            "11 : 12.5%\n",
            "12 : 11.57%\n",
            "13 : 9.72%\n",
            "14 : 6.94%\n",
            "15 : 4.63%\n",
            "16 : 2.78%\n",
            "17 : 1.39%\n",
            "18 : 0.46%\n"
          ]
        }
      ]
    },
    {
      "cell_type": "markdown",
      "source": [
        "##### 6.11) Text Cleaning with ASCII Codes"
      ],
      "metadata": {
        "id": "Fo-hThsLZMI9"
      }
    },
    {
      "cell_type": "code",
      "source": [
        "# [97-122]\n",
        "# [65-90], 32\n",
        "\n",
        "name = 'Ashish J5234*(&^*)ang^%*&r$&a'\n",
        "\n",
        "for i in name:\n",
        "  if (ord(i) >= 97 and ord(i) <= 122) or (ord(i) >= 65 and ord(i) <= 90) or ord(i) == 32:\n",
        "    print(i)"
      ],
      "metadata": {
        "colab": {
          "base_uri": "https://localhost:8080/"
        },
        "id": "n9HNy3HdvHgu",
        "outputId": "35a81379-d3f3-40aa-d6d7-9b63ebd1cfe4"
      },
      "execution_count": null,
      "outputs": [
        {
          "output_type": "stream",
          "name": "stdout",
          "text": [
            "A\n",
            "s\n",
            "h\n",
            "i\n",
            "s\n",
            "h\n",
            " \n",
            "J\n",
            "a\n",
            "n\n",
            "g\n",
            "r\n",
            "a\n"
          ]
        }
      ]
    },
    {
      "cell_type": "markdown",
      "source": [
        "##### 6.12) Text Cleaning with String"
      ],
      "metadata": {
        "id": "GjOIrIg5ZTmm"
      }
    },
    {
      "cell_type": "code",
      "source": [
        "name = 'Ashish J5234*(&^*)ang^%*&r$&a'\n",
        "\n",
        "for i in name:\n",
        "  if i in 'QWERTYUIOPASDFGHJKLZXCVBNMqwertyuioplkjhgfdsazxcvbnm':\n",
        "    print(i)"
      ],
      "metadata": {
        "colab": {
          "base_uri": "https://localhost:8080/"
        },
        "id": "6HlLkKLmhajO",
        "outputId": "331d198b-231f-430f-d025-374a73a9cde1"
      },
      "execution_count": null,
      "outputs": [
        {
          "output_type": "stream",
          "name": "stdout",
          "text": [
            "A\n",
            "s\n",
            "h\n",
            "i\n",
            "s\n",
            "h\n",
            " \n",
            "J\n",
            "a\n",
            "n\n",
            "g\n",
            "g\n",
            "a\n",
            "s\n",
            "j\n",
            "h\n",
            "d\n",
            "g\n",
            "j\n",
            "a\n",
            "s\n",
            "r\n",
            "a\n"
          ]
        }
      ]
    },
    {
      "cell_type": "markdown",
      "source": [
        "##### 6.13) Count Vowels and Consonents"
      ],
      "metadata": {
        "id": "nw1M6dsmZWUw"
      }
    },
    {
      "cell_type": "code",
      "source": [
        "text = 'aeiou     %^*(^&$%#(Q@)) '\n",
        "\n",
        "v = 0\n",
        "c = 0\n",
        "\n",
        "for i in text:\n",
        "  if i in 'aeiouAEIOU':\n",
        "    v += 1\n",
        "  elif i in ' @$#&^%*()&*^&%#^@$!^@%#$^(*%&)':\n",
        "    continue\n",
        "  else:\n",
        "    c += 1\n",
        "\n",
        "print(v,c)"
      ],
      "metadata": {
        "colab": {
          "base_uri": "https://localhost:8080/"
        },
        "id": "nulmssfXs-RT",
        "outputId": "b0254599-1bc3-4a93-b110-d15a38b82ae7"
      },
      "execution_count": null,
      "outputs": [
        {
          "output_type": "stream",
          "name": "stdout",
          "text": [
            "5 1\n"
          ]
        }
      ]
    },
    {
      "cell_type": "markdown",
      "source": [
        "### 7. Data Structures"
      ],
      "metadata": {
        "id": "0HfcswDVU6VE"
      }
    },
    {
      "cell_type": "markdown",
      "source": [
        "#### 7.1 List"
      ],
      "metadata": {
        "id": "825Y57M-V7E3"
      }
    },
    {
      "cell_type": "markdown",
      "source": [
        "##### 7.1.1) WAP to create a list with values [between 1-100 and divisible by 2,3,5]"
      ],
      "metadata": {
        "id": "nVmprWVjYApg"
      }
    },
    {
      "cell_type": "code",
      "source": [
        "lst = []\n",
        "\n",
        "for i in range(1,101):\n",
        "  if i%2 == 0 or i%3 == 0 or i%5 == 0:\n",
        "    lst.append(i)\n",
        "\n",
        "\n",
        "print(sum(lst))\n",
        "print(len(lst))\n",
        "print(round(sum(lst)/len(lst),2))"
      ],
      "metadata": {
        "id": "WqYztllXhaeV",
        "colab": {
          "base_uri": "https://localhost:8080/"
        },
        "outputId": "1e423a18-b25f-438f-8003-9132c3ed22c1"
      },
      "execution_count": 31,
      "outputs": [
        {
          "output_type": "stream",
          "name": "stdout",
          "text": [
            "3782\n",
            "74\n",
            "51.11\n"
          ]
        }
      ]
    },
    {
      "cell_type": "markdown",
      "source": [
        "#### 7.1.2) Access values from a list"
      ],
      "metadata": {
        "id": "PiJYuzMQcTxA"
      }
    },
    {
      "cell_type": "code",
      "source": [
        "lst = [123,1,3,123,123,21,32,13,12,3,12,41,23,1,23,12]\n",
        "\n",
        "for i in lst:\n",
        "  print(i)\n",
        "\n",
        "print('-'*30)\n",
        "\n",
        "for i in range(len(lst)):\n",
        "  print(i,lst[i])"
      ],
      "metadata": {
        "colab": {
          "base_uri": "https://localhost:8080/"
        },
        "id": "Z513si_TWFmw",
        "outputId": "5aeb62fc-1473-48d4-f6ab-68684e337db0"
      },
      "execution_count": 45,
      "outputs": [
        {
          "output_type": "stream",
          "name": "stdout",
          "text": [
            "123\n",
            "1\n",
            "3\n",
            "123\n",
            "123\n",
            "21\n",
            "32\n",
            "13\n",
            "12\n",
            "3\n",
            "12\n",
            "41\n",
            "23\n",
            "1\n",
            "23\n",
            "12\n",
            "------------------------------\n",
            "0 123\n",
            "1 1\n",
            "2 3\n",
            "3 123\n",
            "4 123\n",
            "5 21\n",
            "6 32\n",
            "7 13\n",
            "8 12\n",
            "9 3\n",
            "10 12\n",
            "11 41\n",
            "12 23\n",
            "13 1\n",
            "14 23\n",
            "15 12\n"
          ]
        }
      ]
    },
    {
      "cell_type": "markdown",
      "source": [
        "#### 7.1.3) Check if a name is there is a list of not"
      ],
      "metadata": {
        "id": "Tt_rO0e0ckIw"
      }
    },
    {
      "cell_type": "code",
      "source": [
        "user_name = 'AShish'\n",
        "\n",
        "names = [\"Aarav\", \"Aditi\", \"Aisha\", \"Amit\", \"Ananya\", \"Ashish\", \"Arjun\", \"Asha\", \"Diya\", \"Ishaan\", \"Neha\", \"Rahul\", \"Riya\", \"Rohan\", \"Sanya\", \"Vivaan\"]\n",
        "\n",
        "ifPresent = False\n",
        "\n",
        "for i in range(len(names)):\n",
        "  if names[i].lower() == user_name.lower():\n",
        "    roll_no = i+1\n",
        "    print(roll_no, names[i])\n",
        "    ifPresent = True\n",
        "\n",
        "if not ifPresent:\n",
        "  print('Not Available')"
      ],
      "metadata": {
        "colab": {
          "base_uri": "https://localhost:8080/"
        },
        "id": "djUvu6yLWFkI",
        "outputId": "3deac02e-f20b-4477-a0b1-debadc0b10f3"
      },
      "execution_count": 62,
      "outputs": [
        {
          "output_type": "stream",
          "name": "stdout",
          "text": [
            "6 Ashish\n"
          ]
        }
      ]
    },
    {
      "cell_type": "code",
      "source": [
        "lst = [1,2,31,23,12,31,23,1]"
      ],
      "metadata": {
        "id": "Z8ElLddIWFhT"
      },
      "execution_count": 72,
      "outputs": []
    },
    {
      "cell_type": "code",
      "source": [
        "lst = [1,2,31,23,[12,31,23,1]]"
      ],
      "metadata": {
        "id": "P1NQXVpzWFfe"
      },
      "execution_count": 76,
      "outputs": []
    },
    {
      "cell_type": "code",
      "source": [
        "lst"
      ],
      "metadata": {
        "colab": {
          "base_uri": "https://localhost:8080/"
        },
        "id": "G0NjCRJlWFcn",
        "outputId": "8c008bb9-9a14-4d6f-e518-ec7fb7ca1a3e"
      },
      "execution_count": 77,
      "outputs": [
        {
          "output_type": "execute_result",
          "data": {
            "text/plain": [
              "[1, 2, 31, 23, [12, 31, 23, 1]]"
            ]
          },
          "metadata": {},
          "execution_count": 77
        }
      ]
    },
    {
      "cell_type": "code",
      "source": [
        "lst = [ [1,2,3,5],\n",
        "        [4,5,6,3],\n",
        "        [7,8,9,3],\n",
        "        [3,4,2,3]]\n",
        "\n",
        "for i in lst:\n",
        "  s = 0\n",
        "  for j in i:\n",
        "    s += j\n",
        "\n",
        "  print(s)"
      ],
      "metadata": {
        "colab": {
          "base_uri": "https://localhost:8080/"
        },
        "id": "wZwBDlLsWFaA",
        "outputId": "44142d5f-f5ae-47ce-a5c9-91c47e1ebb1a"
      },
      "execution_count": 108,
      "outputs": [
        {
          "output_type": "stream",
          "name": "stdout",
          "text": [
            "11\n",
            "18\n",
            "27\n",
            "12\n"
          ]
        }
      ]
    },
    {
      "cell_type": "code",
      "source": [
        "lst = [ [1,2,3],\n",
        "        [4,5,6],\n",
        "        [7,8,9]]\n",
        "\n",
        "# 0,0 + 1,0 + 2,0 + 3,0\n",
        "# 0,1 + 1,1 + 2,1 + 3,1\n",
        "# 0,2 + 1,2 + 2,2 + 3,2\n",
        "\n",
        "for column_index in range(len(lst)):\n",
        "  s = 0\n",
        "  for row in lst:\n",
        "    s += row[column_index]\n",
        "    # print(row[column_index],s)\n",
        "  print(s)\n",
        "\n",
        ""
      ],
      "metadata": {
        "colab": {
          "base_uri": "https://localhost:8080/"
        },
        "id": "EHPR6Jk4WFXd",
        "outputId": "16655a25-3d53-41c1-8af7-6b2bd0238de3"
      },
      "execution_count": 126,
      "outputs": [
        {
          "output_type": "stream",
          "name": "stdout",
          "text": [
            "12\n",
            "15\n",
            "18\n"
          ]
        }
      ]
    },
    {
      "cell_type": "code",
      "source": [
        "lst = [ [1,2,3,4],\n",
        "        [4,5,6,4],\n",
        "        [7,8,9,5],\n",
        "        [7,8,9,5]]\n",
        "\n",
        "\n",
        "s = 0\n",
        "for i in range(len(lst)):\n",
        "  for j in range(len(lst[i])):\n",
        "    if i + j == len(lst)-1 or i==j:\n",
        "      s += lst[i][j]\n",
        "\n",
        "print(s)"
      ],
      "metadata": {
        "colab": {
          "base_uri": "https://localhost:8080/"
        },
        "id": "kK13jxHvWFVD",
        "outputId": "bfc7193b-d836-4355-a96e-dd32b5d17a55"
      },
      "execution_count": 132,
      "outputs": [
        {
          "output_type": "stream",
          "name": "stdout",
          "text": [
            "45\n"
          ]
        }
      ]
    },
    {
      "cell_type": "markdown",
      "source": [
        "#### 7.2) Dictionaries"
      ],
      "metadata": {
        "id": "_D-azt9pV9BY"
      }
    },
    {
      "cell_type": "code",
      "source": [
        "dct = {1:10001,'1':'Ashish', 1 : 34, False : 2, 0 : 3}\n",
        "\n",
        "dct"
      ],
      "metadata": {
        "colab": {
          "base_uri": "https://localhost:8080/"
        },
        "id": "HRSWS2ELtAPB",
        "outputId": "2207c906-f383-44f7-e67a-20a10cab8f82"
      },
      "execution_count": 25,
      "outputs": [
        {
          "output_type": "execute_result",
          "data": {
            "text/plain": [
              "{1: 34, '1': 'Ashish', False: 3}"
            ]
          },
          "metadata": {},
          "execution_count": 25
        }
      ]
    },
    {
      "cell_type": "code",
      "source": [
        "dct = {1:'A',2:'B',3:'C'}\n",
        "\n",
        "dct[4] = dct[3]\n",
        "del dct[3]\n",
        "\n",
        "dct"
      ],
      "metadata": {
        "colab": {
          "base_uri": "https://localhost:8080/"
        },
        "id": "3Jfbd0OWtNdw",
        "outputId": "fceb3e33-44fd-4e98-e42b-169a8caa5793"
      },
      "execution_count": 47,
      "outputs": [
        {
          "output_type": "execute_result",
          "data": {
            "text/plain": [
              "{1: 'A', 2: 'B', 3: 'C', 4: 'C'}"
            ]
          },
          "metadata": {},
          "execution_count": 47
        }
      ]
    },
    {
      "cell_type": "code",
      "source": [
        "a = 10\n",
        "\n",
        "print(a)"
      ],
      "metadata": {
        "colab": {
          "base_uri": "https://localhost:8080/"
        },
        "id": "2a1s_j2kfnDE",
        "outputId": "65ba05ca-886b-49c7-88d2-d0d5521c313a"
      },
      "execution_count": 50,
      "outputs": [
        {
          "output_type": "stream",
          "name": "stdout",
          "text": [
            "10\n"
          ]
        }
      ]
    },
    {
      "cell_type": "code",
      "source": [],
      "metadata": {
        "id": "Oe4Y3D5yr4jG"
      },
      "execution_count": null,
      "outputs": []
    },
    {
      "cell_type": "code",
      "source": [
        "students = {10001 : {'name': 'Ashish', 'marks' : {'english' : 42,'hindi':45}, 'phone_no' : [9324012]},\n",
        "            10002 : {'name': 'Manish', 'marks' : {'english' : 42,'hindi':45, 'maths' : 32}, 'phone_no' : [9324012,312331,123123]},\n",
        "            10003 : {'name': 'Megha' , 'marks' : {'english' : 42,'hindi':45}, 'phone_no' : [9324012]}}\n",
        "\n",
        "for roll_no in students.keys():\n",
        "\n",
        "  total_marks = sum(students[roll_no]['marks'].values())\n",
        "  average = round(sum(students[roll_no]['marks'].values()) / len(students[roll_no]['marks'].values()),2)\n",
        "\n",
        "  students[roll_no]['total'] = total_marks\n",
        "  students[roll_no]['average'] = average\n",
        "\n",
        "  print('Name    : ', students[roll_no]['name'])\n",
        "  print('Roll No : ', roll_no)\n",
        "  print('Marks   : ', students[roll_no]['total'])\n",
        "  print('Avegrage: ', students[roll_no]['average'])\n",
        "\n",
        "  print('-'*25)"
      ],
      "metadata": {
        "colab": {
          "base_uri": "https://localhost:8080/"
        },
        "id": "-lWJO9QjgUmW",
        "outputId": "c1fc2929-3ee4-42c1-bcbf-cf67863cda96"
      },
      "execution_count": 121,
      "outputs": [
        {
          "output_type": "stream",
          "name": "stdout",
          "text": [
            "Name    :  Ashish\n",
            "Roll No :  10001\n",
            "Marks   :  87\n",
            "Avegrage:  43.5\n",
            "-------------------------\n",
            "Name    :  Manish\n",
            "Roll No :  10002\n",
            "Marks   :  119\n",
            "Avegrage:  39.67\n",
            "-------------------------\n",
            "Name    :  Megha\n",
            "Roll No :  10003\n",
            "Marks   :  87\n",
            "Avegrage:  43.5\n",
            "-------------------------\n"
          ]
        }
      ]
    },
    {
      "cell_type": "code",
      "source": [
        "students"
      ],
      "metadata": {
        "colab": {
          "base_uri": "https://localhost:8080/"
        },
        "id": "UTR109E8nbCI",
        "outputId": "ac0af224-0811-4aaa-fc39-19a0bd8f86e9"
      },
      "execution_count": 122,
      "outputs": [
        {
          "output_type": "execute_result",
          "data": {
            "text/plain": [
              "{10001: {'name': 'Ashish',\n",
              "  'marks': {'english': 42, 'hindi': 45},\n",
              "  'phone_no': [9324012],\n",
              "  'total': 87,\n",
              "  'average': 43.5},\n",
              " 10002: {'name': 'Manish',\n",
              "  'marks': {'english': 42, 'hindi': 45, 'maths': 32},\n",
              "  'phone_no': [9324012, 312331, 123123],\n",
              "  'total': 119,\n",
              "  'average': 39.67},\n",
              " 10003: {'name': 'Megha',\n",
              "  'marks': {'english': 42, 'hindi': 45},\n",
              "  'phone_no': [9324012],\n",
              "  'total': 87,\n",
              "  'average': 43.5}}"
            ]
          },
          "metadata": {},
          "execution_count": 122
        }
      ]
    },
    {
      "cell_type": "code",
      "source": [
        "# find the total and average marks of every student"
      ],
      "metadata": {
        "colab": {
          "base_uri": "https://localhost:8080/"
        },
        "id": "dK3K80YDkSwY",
        "outputId": "f9e4b3c4-1e03-4a92-8eb9-714088d85b5a"
      },
      "execution_count": 82,
      "outputs": [
        {
          "output_type": "stream",
          "name": "stdout",
          "text": [
            "9324012\n"
          ]
        }
      ]
    },
    {
      "cell_type": "markdown",
      "source": [
        "Name : Ashish\n",
        "Roll : 10001\n",
        "Total : 89\n",
        "Aevrage : 23\n",
        "print('--------)\n",
        "\n",
        "Name : Manish\n",
        "Roll : 10001\n",
        "Total : 89\n",
        "Aevrage : 23\n",
        "print('--------)\n",
        "\n",
        "Name : Megha\n",
        "Roll : 10001\n",
        "Total : 89\n",
        "Aevrage : 23"
      ],
      "metadata": {
        "id": "EoMbMgFBmNqe"
      }
    },
    {
      "cell_type": "code",
      "source": [
        "basic_details = {10001: {'name': 'Ashish', 'phone_no': [9324012]},\n",
        "                 10002: {'name': 'Manish', 'phone_no': [9324012, 312331, 123123]},\n",
        "                 10003: {'name': 'Megha', 'phone_no': [9324012]}}\n",
        "\n",
        "\n",
        "academic_details = {10001: {'name': 'Ashish', 'marks': {'english': 42, 'hindi': 45, 'science': 60}},\n",
        "                    10002: {'name': 'Manish', 'marks': {'english': 38, 'hindi': 52, 'science': 75}},\n",
        "                    10003: {'name': 'Megha', 'marks': {'english': 45, 'hindi': 40, 'science': 68}}}"
      ],
      "metadata": {
        "colab": {
          "base_uri": "https://localhost:8080/"
        },
        "id": "MfcWQZ9HkdiV",
        "outputId": "e22242fe-642c-4764-9d70-87986a0c6214"
      },
      "execution_count": 84,
      "outputs": [
        {
          "output_type": "stream",
          "name": "stdout",
          "text": [
            "{10001: {'name': 'Ashish', 'phone_no': [9324012]}, 10002: {'name': 'Manish', 'phone_no': [9324012, 312331, 123123]}, 10003: {'name': 'Megha', 'phone_no': [9324012]}}\n"
          ]
        }
      ]
    },
    {
      "cell_type": "code",
      "source": [],
      "metadata": {
        "id": "nad_SnUgnnU3"
      },
      "execution_count": 86,
      "outputs": []
    },
    {
      "cell_type": "code",
      "source": [],
      "metadata": {
        "id": "UhHz9miZn3Up"
      },
      "execution_count": 87,
      "outputs": []
    },
    {
      "cell_type": "code",
      "source": [],
      "metadata": {
        "id": "xHxc2UgWoHiq"
      },
      "execution_count": null,
      "outputs": []
    }
  ]
}