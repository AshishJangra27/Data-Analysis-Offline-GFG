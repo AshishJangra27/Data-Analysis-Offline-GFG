{
  "nbformat": 4,
  "nbformat_minor": 0,
  "metadata": {
    "colab": {
      "provenance": []
    },
    "kernelspec": {
      "name": "python3",
      "display_name": "Python 3"
    },
    "language_info": {
      "name": "python"
    }
  },
  "cells": [
    {
      "cell_type": "code",
      "source": [
        "!git clone https://github.com/AshishJangra27/datasets"
      ],
      "metadata": {
        "colab": {
          "base_uri": "https://localhost:8080/"
        },
        "id": "0M2PC_5GlQSy",
        "outputId": "a28b7990-23e9-4d79-8b1c-aadd4de31706"
      },
      "execution_count": 1,
      "outputs": [
        {
          "output_type": "stream",
          "name": "stdout",
          "text": [
            "Cloning into 'datasets'...\n",
            "remote: Enumerating objects: 328, done.\u001b[K\n",
            "remote: Counting objects: 100% (93/93), done.\u001b[K\n",
            "remote: Compressing objects: 100% (83/83), done.\u001b[K\n",
            "remote: Total 328 (delta 19), reused 54 (delta 9), pack-reused 235 (from 1)\u001b[K\n",
            "Receiving objects: 100% (328/328), 278.62 MiB | 13.38 MiB/s, done.\n",
            "Resolving deltas: 100% (145/145), done.\n",
            "Updating files: 100% (225/225), done.\n"
          ]
        }
      ]
    },
    {
      "cell_type": "code",
      "execution_count": 63,
      "metadata": {
        "id": "jdr9kovolOU-"
      },
      "outputs": [],
      "source": [
        "import re\n",
        "import pandas as pd\n",
        "from tqdm import tqdm\n",
        "import matplotlib.pyplot as plt"
      ]
    },
    {
      "cell_type": "markdown",
      "source": [
        "### 1. Data Exploration"
      ],
      "metadata": {
        "id": "fFaskhXArLaD"
      }
    },
    {
      "cell_type": "markdown",
      "source": [
        "#### 1.1) Loading the Dataset"
      ],
      "metadata": {
        "id": "RUf1FK9SrHgy"
      }
    },
    {
      "cell_type": "code",
      "source": [
        "df = pd.read_csv('/content/datasets/Job Postings/jobs.csv.zip')\n",
        "df.head(2)"
      ],
      "metadata": {
        "colab": {
          "base_uri": "https://localhost:8080/",
          "height": 253
        },
        "id": "vYAxtvs0rFYG",
        "outputId": "d4fc853c-de79-490c-867d-7971f52d3407"
      },
      "execution_count": 64,
      "outputs": [
        {
          "output_type": "execute_result",
          "data": {
            "text/plain": [
              "         job_id                                       job_role    company  \\\n",
              "0  7.012301e+10  Branch Banking - Calling For Women Candidates  Hdfc Bank   \n",
              "1  6.012391e+10                   Product Owner Senior Manager  Accenture   \n",
              "\n",
              "  experience         salary  \\\n",
              "0    1-6 Yrs  Not disclosed   \n",
              "1  11-15 Yrs  Not disclosed   \n",
              "\n",
              "                                            location  rating        reviews  \\\n",
              "0  Kolkata, Hyderabad/Secunderabad, Pune, Ahmedab...     4.0  39110 Reviews   \n",
              "1  Kolkata, Mumbai, Hyderabad/Secunderabad, Pune,...     4.1  32129 Reviews   \n",
              "\n",
              "                                     resposibilities  posted_on  \\\n",
              "0     Customer Service,Sales,Relationship Management  1 Day Ago   \n",
              "1  Product management,Market analysis,Change mana...  1 Day Ago   \n",
              "\n",
              "                                            job_link  \\\n",
              "0  https://www.naukri.com/job-listings-branch-ban...   \n",
              "1  https://www.naukri.com/job-listings-product-ow...   \n",
              "\n",
              "                                        company_link  \n",
              "0  https://www.naukri.com/hdfc-bank-jobs-careers-213  \n",
              "1  https://www.naukri.com/accenture-jobs-careers-...  "
            ],
            "text/html": [
              "\n",
              "  <div id=\"df-fe4b2668-4cf6-4a3b-b86b-435bc5111f8e\" class=\"colab-df-container\">\n",
              "    <div>\n",
              "<style scoped>\n",
              "    .dataframe tbody tr th:only-of-type {\n",
              "        vertical-align: middle;\n",
              "    }\n",
              "\n",
              "    .dataframe tbody tr th {\n",
              "        vertical-align: top;\n",
              "    }\n",
              "\n",
              "    .dataframe thead th {\n",
              "        text-align: right;\n",
              "    }\n",
              "</style>\n",
              "<table border=\"1\" class=\"dataframe\">\n",
              "  <thead>\n",
              "    <tr style=\"text-align: right;\">\n",
              "      <th></th>\n",
              "      <th>job_id</th>\n",
              "      <th>job_role</th>\n",
              "      <th>company</th>\n",
              "      <th>experience</th>\n",
              "      <th>salary</th>\n",
              "      <th>location</th>\n",
              "      <th>rating</th>\n",
              "      <th>reviews</th>\n",
              "      <th>resposibilities</th>\n",
              "      <th>posted_on</th>\n",
              "      <th>job_link</th>\n",
              "      <th>company_link</th>\n",
              "    </tr>\n",
              "  </thead>\n",
              "  <tbody>\n",
              "    <tr>\n",
              "      <th>0</th>\n",
              "      <td>7.012301e+10</td>\n",
              "      <td>Branch Banking - Calling For Women Candidates</td>\n",
              "      <td>Hdfc Bank</td>\n",
              "      <td>1-6 Yrs</td>\n",
              "      <td>Not disclosed</td>\n",
              "      <td>Kolkata, Hyderabad/Secunderabad, Pune, Ahmedab...</td>\n",
              "      <td>4.0</td>\n",
              "      <td>39110 Reviews</td>\n",
              "      <td>Customer Service,Sales,Relationship Management</td>\n",
              "      <td>1 Day Ago</td>\n",
              "      <td>https://www.naukri.com/job-listings-branch-ban...</td>\n",
              "      <td>https://www.naukri.com/hdfc-bank-jobs-careers-213</td>\n",
              "    </tr>\n",
              "    <tr>\n",
              "      <th>1</th>\n",
              "      <td>6.012391e+10</td>\n",
              "      <td>Product Owner Senior Manager</td>\n",
              "      <td>Accenture</td>\n",
              "      <td>11-15 Yrs</td>\n",
              "      <td>Not disclosed</td>\n",
              "      <td>Kolkata, Mumbai, Hyderabad/Secunderabad, Pune,...</td>\n",
              "      <td>4.1</td>\n",
              "      <td>32129 Reviews</td>\n",
              "      <td>Product management,Market analysis,Change mana...</td>\n",
              "      <td>1 Day Ago</td>\n",
              "      <td>https://www.naukri.com/job-listings-product-ow...</td>\n",
              "      <td>https://www.naukri.com/accenture-jobs-careers-...</td>\n",
              "    </tr>\n",
              "  </tbody>\n",
              "</table>\n",
              "</div>\n",
              "    <div class=\"colab-df-buttons\">\n",
              "\n",
              "  <div class=\"colab-df-container\">\n",
              "    <button class=\"colab-df-convert\" onclick=\"convertToInteractive('df-fe4b2668-4cf6-4a3b-b86b-435bc5111f8e')\"\n",
              "            title=\"Convert this dataframe to an interactive table.\"\n",
              "            style=\"display:none;\">\n",
              "\n",
              "  <svg xmlns=\"http://www.w3.org/2000/svg\" height=\"24px\" viewBox=\"0 -960 960 960\">\n",
              "    <path d=\"M120-120v-720h720v720H120Zm60-500h600v-160H180v160Zm220 220h160v-160H400v160Zm0 220h160v-160H400v160ZM180-400h160v-160H180v160Zm440 0h160v-160H620v160ZM180-180h160v-160H180v160Zm440 0h160v-160H620v160Z\"/>\n",
              "  </svg>\n",
              "    </button>\n",
              "\n",
              "  <style>\n",
              "    .colab-df-container {\n",
              "      display:flex;\n",
              "      gap: 12px;\n",
              "    }\n",
              "\n",
              "    .colab-df-convert {\n",
              "      background-color: #E8F0FE;\n",
              "      border: none;\n",
              "      border-radius: 50%;\n",
              "      cursor: pointer;\n",
              "      display: none;\n",
              "      fill: #1967D2;\n",
              "      height: 32px;\n",
              "      padding: 0 0 0 0;\n",
              "      width: 32px;\n",
              "    }\n",
              "\n",
              "    .colab-df-convert:hover {\n",
              "      background-color: #E2EBFA;\n",
              "      box-shadow: 0px 1px 2px rgba(60, 64, 67, 0.3), 0px 1px 3px 1px rgba(60, 64, 67, 0.15);\n",
              "      fill: #174EA6;\n",
              "    }\n",
              "\n",
              "    .colab-df-buttons div {\n",
              "      margin-bottom: 4px;\n",
              "    }\n",
              "\n",
              "    [theme=dark] .colab-df-convert {\n",
              "      background-color: #3B4455;\n",
              "      fill: #D2E3FC;\n",
              "    }\n",
              "\n",
              "    [theme=dark] .colab-df-convert:hover {\n",
              "      background-color: #434B5C;\n",
              "      box-shadow: 0px 1px 3px 1px rgba(0, 0, 0, 0.15);\n",
              "      filter: drop-shadow(0px 1px 2px rgba(0, 0, 0, 0.3));\n",
              "      fill: #FFFFFF;\n",
              "    }\n",
              "  </style>\n",
              "\n",
              "    <script>\n",
              "      const buttonEl =\n",
              "        document.querySelector('#df-fe4b2668-4cf6-4a3b-b86b-435bc5111f8e button.colab-df-convert');\n",
              "      buttonEl.style.display =\n",
              "        google.colab.kernel.accessAllowed ? 'block' : 'none';\n",
              "\n",
              "      async function convertToInteractive(key) {\n",
              "        const element = document.querySelector('#df-fe4b2668-4cf6-4a3b-b86b-435bc5111f8e');\n",
              "        const dataTable =\n",
              "          await google.colab.kernel.invokeFunction('convertToInteractive',\n",
              "                                                    [key], {});\n",
              "        if (!dataTable) return;\n",
              "\n",
              "        const docLinkHtml = 'Like what you see? Visit the ' +\n",
              "          '<a target=\"_blank\" href=https://colab.research.google.com/notebooks/data_table.ipynb>data table notebook</a>'\n",
              "          + ' to learn more about interactive tables.';\n",
              "        element.innerHTML = '';\n",
              "        dataTable['output_type'] = 'display_data';\n",
              "        await google.colab.output.renderOutput(dataTable, element);\n",
              "        const docLink = document.createElement('div');\n",
              "        docLink.innerHTML = docLinkHtml;\n",
              "        element.appendChild(docLink);\n",
              "      }\n",
              "    </script>\n",
              "  </div>\n",
              "\n",
              "\n",
              "<div id=\"df-aef32e11-8f3e-4414-bf4c-a2a613b9078d\">\n",
              "  <button class=\"colab-df-quickchart\" onclick=\"quickchart('df-aef32e11-8f3e-4414-bf4c-a2a613b9078d')\"\n",
              "            title=\"Suggest charts\"\n",
              "            style=\"display:none;\">\n",
              "\n",
              "<svg xmlns=\"http://www.w3.org/2000/svg\" height=\"24px\"viewBox=\"0 0 24 24\"\n",
              "     width=\"24px\">\n",
              "    <g>\n",
              "        <path d=\"M19 3H5c-1.1 0-2 .9-2 2v14c0 1.1.9 2 2 2h14c1.1 0 2-.9 2-2V5c0-1.1-.9-2-2-2zM9 17H7v-7h2v7zm4 0h-2V7h2v10zm4 0h-2v-4h2v4z\"/>\n",
              "    </g>\n",
              "</svg>\n",
              "  </button>\n",
              "\n",
              "<style>\n",
              "  .colab-df-quickchart {\n",
              "      --bg-color: #E8F0FE;\n",
              "      --fill-color: #1967D2;\n",
              "      --hover-bg-color: #E2EBFA;\n",
              "      --hover-fill-color: #174EA6;\n",
              "      --disabled-fill-color: #AAA;\n",
              "      --disabled-bg-color: #DDD;\n",
              "  }\n",
              "\n",
              "  [theme=dark] .colab-df-quickchart {\n",
              "      --bg-color: #3B4455;\n",
              "      --fill-color: #D2E3FC;\n",
              "      --hover-bg-color: #434B5C;\n",
              "      --hover-fill-color: #FFFFFF;\n",
              "      --disabled-bg-color: #3B4455;\n",
              "      --disabled-fill-color: #666;\n",
              "  }\n",
              "\n",
              "  .colab-df-quickchart {\n",
              "    background-color: var(--bg-color);\n",
              "    border: none;\n",
              "    border-radius: 50%;\n",
              "    cursor: pointer;\n",
              "    display: none;\n",
              "    fill: var(--fill-color);\n",
              "    height: 32px;\n",
              "    padding: 0;\n",
              "    width: 32px;\n",
              "  }\n",
              "\n",
              "  .colab-df-quickchart:hover {\n",
              "    background-color: var(--hover-bg-color);\n",
              "    box-shadow: 0 1px 2px rgba(60, 64, 67, 0.3), 0 1px 3px 1px rgba(60, 64, 67, 0.15);\n",
              "    fill: var(--button-hover-fill-color);\n",
              "  }\n",
              "\n",
              "  .colab-df-quickchart-complete:disabled,\n",
              "  .colab-df-quickchart-complete:disabled:hover {\n",
              "    background-color: var(--disabled-bg-color);\n",
              "    fill: var(--disabled-fill-color);\n",
              "    box-shadow: none;\n",
              "  }\n",
              "\n",
              "  .colab-df-spinner {\n",
              "    border: 2px solid var(--fill-color);\n",
              "    border-color: transparent;\n",
              "    border-bottom-color: var(--fill-color);\n",
              "    animation:\n",
              "      spin 1s steps(1) infinite;\n",
              "  }\n",
              "\n",
              "  @keyframes spin {\n",
              "    0% {\n",
              "      border-color: transparent;\n",
              "      border-bottom-color: var(--fill-color);\n",
              "      border-left-color: var(--fill-color);\n",
              "    }\n",
              "    20% {\n",
              "      border-color: transparent;\n",
              "      border-left-color: var(--fill-color);\n",
              "      border-top-color: var(--fill-color);\n",
              "    }\n",
              "    30% {\n",
              "      border-color: transparent;\n",
              "      border-left-color: var(--fill-color);\n",
              "      border-top-color: var(--fill-color);\n",
              "      border-right-color: var(--fill-color);\n",
              "    }\n",
              "    40% {\n",
              "      border-color: transparent;\n",
              "      border-right-color: var(--fill-color);\n",
              "      border-top-color: var(--fill-color);\n",
              "    }\n",
              "    60% {\n",
              "      border-color: transparent;\n",
              "      border-right-color: var(--fill-color);\n",
              "    }\n",
              "    80% {\n",
              "      border-color: transparent;\n",
              "      border-right-color: var(--fill-color);\n",
              "      border-bottom-color: var(--fill-color);\n",
              "    }\n",
              "    90% {\n",
              "      border-color: transparent;\n",
              "      border-bottom-color: var(--fill-color);\n",
              "    }\n",
              "  }\n",
              "</style>\n",
              "\n",
              "  <script>\n",
              "    async function quickchart(key) {\n",
              "      const quickchartButtonEl =\n",
              "        document.querySelector('#' + key + ' button');\n",
              "      quickchartButtonEl.disabled = true;  // To prevent multiple clicks.\n",
              "      quickchartButtonEl.classList.add('colab-df-spinner');\n",
              "      try {\n",
              "        const charts = await google.colab.kernel.invokeFunction(\n",
              "            'suggestCharts', [key], {});\n",
              "      } catch (error) {\n",
              "        console.error('Error during call to suggestCharts:', error);\n",
              "      }\n",
              "      quickchartButtonEl.classList.remove('colab-df-spinner');\n",
              "      quickchartButtonEl.classList.add('colab-df-quickchart-complete');\n",
              "    }\n",
              "    (() => {\n",
              "      let quickchartButtonEl =\n",
              "        document.querySelector('#df-aef32e11-8f3e-4414-bf4c-a2a613b9078d button');\n",
              "      quickchartButtonEl.style.display =\n",
              "        google.colab.kernel.accessAllowed ? 'block' : 'none';\n",
              "    })();\n",
              "  </script>\n",
              "</div>\n",
              "\n",
              "    </div>\n",
              "  </div>\n"
            ],
            "application/vnd.google.colaboratory.intrinsic+json": {
              "type": "dataframe",
              "variable_name": "df",
              "summary": "{\n  \"name\": \"df\",\n  \"rows\": 79147,\n  \"fields\": [\n    {\n      \"column\": \"job_id\",\n      \"properties\": {\n        \"dtype\": \"number\",\n        \"std\": 109746366353.32597,\n        \"min\": 10122000503.0,\n        \"max\": 311222904900.0,\n        \"num_unique_values\": 73009,\n        \"samples\": [\n          20123000806.0,\n          291222007132.0,\n          70123500585.0\n        ],\n        \"semantic_type\": \"\",\n        \"description\": \"\"\n      }\n    },\n    {\n      \"column\": \"job_role\",\n      \"properties\": {\n        \"dtype\": \"string\",\n        \"num_unique_values\": 51050,\n        \"samples\": [\n          \"Web Administrator\",\n          \"Audio framework Engineer\",\n          \"TEKsystems #Hiring # SAP SD Consultant\"\n        ],\n        \"semantic_type\": \"\",\n        \"description\": \"\"\n      }\n    },\n    {\n      \"column\": \"company\",\n      \"properties\": {\n        \"dtype\": \"category\",\n        \"num_unique_values\": 15313,\n        \"samples\": [\n          \"Transglobe Iskcon India\",\n          \"Vrecroot\",\n          \"Leaptest\"\n        ],\n        \"semantic_type\": \"\",\n        \"description\": \"\"\n      }\n    },\n    {\n      \"column\": \"experience\",\n      \"properties\": {\n        \"dtype\": \"category\",\n        \"num_unique_values\": 231,\n        \"samples\": [\n          \"16-19 Yrs\",\n          \"10-12 Yrs\",\n          \"3-8 Yrs\"\n        ],\n        \"semantic_type\": \"\",\n        \"description\": \"\"\n      }\n    },\n    {\n      \"column\": \"salary\",\n      \"properties\": {\n        \"dtype\": \"category\",\n        \"num_unique_values\": 813,\n        \"samples\": [\n          \"14,00,000 - 22,50,000 PA.\",\n          \"55,00,000 - 65,00,000 PA.\",\n          \"2,00,000 - 4,75,000 PA.\"\n        ],\n        \"semantic_type\": \"\",\n        \"description\": \"\"\n      }\n    },\n    {\n      \"column\": \"location\",\n      \"properties\": {\n        \"dtype\": \"category\",\n        \"num_unique_values\": 9038,\n        \"samples\": [\n          \"Temp. WFH - Chennai\",\n          \"Vapi, Dadra & Nagar Haveli/Silvassa\",\n          \"New Delhi(Safdarjung Enclave), Delhi / NCR\"\n        ],\n        \"semantic_type\": \"\",\n        \"description\": \"\"\n      }\n    },\n    {\n      \"column\": \"rating\",\n      \"properties\": {\n        \"dtype\": \"number\",\n        \"std\": 0.5192110664985025,\n        \"min\": 1.0,\n        \"max\": 5.0,\n        \"num_unique_values\": 41,\n        \"samples\": [\n          2.2,\n          3.4,\n          4.4\n        ],\n        \"semantic_type\": \"\",\n        \"description\": \"\"\n      }\n    },\n    {\n      \"column\": \"reviews\",\n      \"properties\": {\n        \"dtype\": \"category\",\n        \"num_unique_values\": 980,\n        \"samples\": [\n          \"942 Reviews\",\n          \"867 Reviews\",\n          \"28172 Reviews\"\n        ],\n        \"semantic_type\": \"\",\n        \"description\": \"\"\n      }\n    },\n    {\n      \"column\": \"resposibilities\",\n      \"properties\": {\n        \"dtype\": \"string\",\n        \"num_unique_values\": 61911,\n        \"samples\": [\n          \".net core,aws,React.Js\",\n          \"Test Engineering,JIRA,Confluence,Analytical,JCL,SDLC,Communication,LMS\",\n          \"Team Management,Reporting,Presentation,account management,Market Research,Business Strategy,Swot Analysis,research\"\n        ],\n        \"semantic_type\": \"\",\n        \"description\": \"\"\n      }\n    },\n    {\n      \"column\": \"posted_on\",\n      \"properties\": {\n        \"dtype\": \"category\",\n        \"num_unique_values\": 26,\n        \"samples\": [\n          \"6 Days Ago\",\n          \"Just Now\",\n          \"1 Day Ago\"\n        ],\n        \"semantic_type\": \"\",\n        \"description\": \"\"\n      }\n    },\n    {\n      \"column\": \"job_link\",\n      \"properties\": {\n        \"dtype\": \"string\",\n        \"num_unique_values\": 73009,\n        \"samples\": [\n          \"https://www.naukri.com/job-listings-medical-coding-for-18-22-passout-microbiology-zoology-adv-zoo-grad-alpha-medical-coding-solutions-pondicherry-puducherry-chennai-tiruchirapalli-trichy-0-to-4-years-020123000806\",\n          \"https://www.naukri.com/job-listings-admission-counsellor-atz-properties-bangalore-bengaluru-1-to-3-years-291222007132\",\n          \"https://www.naukri.com/job-listings-hygiene-care-consultant-sr-hygiene-care-consultant-skillety-noida-kochi-cochin-kolkata-mumbai-chandigarh-hyderabad-secunderabad-pune-chennai-ahmedabad-bangalore-bengaluru-2-to-7-years-070123500585\"\n        ],\n        \"semantic_type\": \"\",\n        \"description\": \"\"\n      }\n    },\n    {\n      \"column\": \"company_link\",\n      \"properties\": {\n        \"dtype\": \"category\",\n        \"num_unique_values\": 13845,\n        \"samples\": [\n          \"https://www.naukri.com/modify-digital-jobs-careers-3717488\",\n          \"https://www.naukri.com/fg-glass-jobs-careers-4624134\",\n          \"https://www.naukri.com/n-solutions-jobs-careers-594659\"\n        ],\n        \"semantic_type\": \"\",\n        \"description\": \"\"\n      }\n    }\n  ]\n}"
            }
          },
          "metadata": {},
          "execution_count": 64
        }
      ]
    },
    {
      "cell_type": "markdown",
      "source": [
        "#### 1.2) Removing \"posted_on\" Columns"
      ],
      "metadata": {
        "id": "NwPcf-Guq8BI"
      }
    },
    {
      "cell_type": "code",
      "source": [
        "del df['posted_on']"
      ],
      "metadata": {
        "id": "EyIRh0aiq7h3"
      },
      "execution_count": 65,
      "outputs": []
    },
    {
      "cell_type": "markdown",
      "source": [
        "#### 1.3) Check Null Values"
      ],
      "metadata": {
        "id": "5Kn306GJrTd4"
      }
    },
    {
      "cell_type": "code",
      "source": [
        "df.isnull().sum()"
      ],
      "metadata": {
        "colab": {
          "base_uri": "https://localhost:8080/",
          "height": 429
        },
        "id": "QjMAPkOjrE4S",
        "outputId": "261681ce-e681-4810-ca0b-0350b6b95f57"
      },
      "execution_count": 66,
      "outputs": [
        {
          "output_type": "execute_result",
          "data": {
            "text/plain": [
              "job_id               480\n",
              "job_role             480\n",
              "company              481\n",
              "experience          1749\n",
              "salary               480\n",
              "location            1706\n",
              "rating             36199\n",
              "reviews            36199\n",
              "resposibilities      500\n",
              "job_link             480\n",
              "company_link         480\n",
              "dtype: int64"
            ],
            "text/html": [
              "<div>\n",
              "<style scoped>\n",
              "    .dataframe tbody tr th:only-of-type {\n",
              "        vertical-align: middle;\n",
              "    }\n",
              "\n",
              "    .dataframe tbody tr th {\n",
              "        vertical-align: top;\n",
              "    }\n",
              "\n",
              "    .dataframe thead th {\n",
              "        text-align: right;\n",
              "    }\n",
              "</style>\n",
              "<table border=\"1\" class=\"dataframe\">\n",
              "  <thead>\n",
              "    <tr style=\"text-align: right;\">\n",
              "      <th></th>\n",
              "      <th>0</th>\n",
              "    </tr>\n",
              "  </thead>\n",
              "  <tbody>\n",
              "    <tr>\n",
              "      <th>job_id</th>\n",
              "      <td>480</td>\n",
              "    </tr>\n",
              "    <tr>\n",
              "      <th>job_role</th>\n",
              "      <td>480</td>\n",
              "    </tr>\n",
              "    <tr>\n",
              "      <th>company</th>\n",
              "      <td>481</td>\n",
              "    </tr>\n",
              "    <tr>\n",
              "      <th>experience</th>\n",
              "      <td>1749</td>\n",
              "    </tr>\n",
              "    <tr>\n",
              "      <th>salary</th>\n",
              "      <td>480</td>\n",
              "    </tr>\n",
              "    <tr>\n",
              "      <th>location</th>\n",
              "      <td>1706</td>\n",
              "    </tr>\n",
              "    <tr>\n",
              "      <th>rating</th>\n",
              "      <td>36199</td>\n",
              "    </tr>\n",
              "    <tr>\n",
              "      <th>reviews</th>\n",
              "      <td>36199</td>\n",
              "    </tr>\n",
              "    <tr>\n",
              "      <th>resposibilities</th>\n",
              "      <td>500</td>\n",
              "    </tr>\n",
              "    <tr>\n",
              "      <th>job_link</th>\n",
              "      <td>480</td>\n",
              "    </tr>\n",
              "    <tr>\n",
              "      <th>company_link</th>\n",
              "      <td>480</td>\n",
              "    </tr>\n",
              "  </tbody>\n",
              "</table>\n",
              "</div><br><label><b>dtype:</b> int64</label>"
            ]
          },
          "metadata": {},
          "execution_count": 66
        }
      ]
    },
    {
      "cell_type": "markdown",
      "source": [
        "#### 1.4) Removign rows with null values in job_id,company and responsibility column"
      ],
      "metadata": {
        "id": "SQl8qNREt5cu"
      }
    },
    {
      "cell_type": "code",
      "source": [
        "df.dropna(subset = ['job_id','company','resposibilities'], inplace = True)"
      ],
      "metadata": {
        "id": "RrOBNuyptAWW"
      },
      "execution_count": 67,
      "outputs": []
    },
    {
      "cell_type": "markdown",
      "source": [
        "#### 1.5) Filling Null values in location and experience column with most frequent"
      ],
      "metadata": {
        "id": "w50bj2MauF1K"
      }
    },
    {
      "cell_type": "code",
      "source": [
        "df['location'].fillna(df['location'].mode()[0], inplace = True)\n",
        "df['experience'].fillna(df['experience'].mode()[0], inplace = True)"
      ],
      "metadata": {
        "colab": {
          "base_uri": "https://localhost:8080/"
        },
        "id": "40rDHjQotkJc",
        "outputId": "67607591-2990-4d91-8cf8-baecaf19d56c"
      },
      "execution_count": 68,
      "outputs": [
        {
          "output_type": "stream",
          "name": "stderr",
          "text": [
            "<ipython-input-68-2a1fddb959e7>:1: FutureWarning: A value is trying to be set on a copy of a DataFrame or Series through chained assignment using an inplace method.\n",
            "The behavior will change in pandas 3.0. This inplace method will never work because the intermediate object on which we are setting values always behaves as a copy.\n",
            "\n",
            "For example, when doing 'df[col].method(value, inplace=True)', try using 'df.method({col: value}, inplace=True)' or df[col] = df[col].method(value) instead, to perform the operation inplace on the original object.\n",
            "\n",
            "\n",
            "  df['location'].fillna(df['location'].mode()[0], inplace = True)\n",
            "<ipython-input-68-2a1fddb959e7>:2: FutureWarning: A value is trying to be set on a copy of a DataFrame or Series through chained assignment using an inplace method.\n",
            "The behavior will change in pandas 3.0. This inplace method will never work because the intermediate object on which we are setting values always behaves as a copy.\n",
            "\n",
            "For example, when doing 'df[col].method(value, inplace=True)', try using 'df.method({col: value}, inplace=True)' or df[col] = df[col].method(value) instead, to perform the operation inplace on the original object.\n",
            "\n",
            "\n",
            "  df['experience'].fillna(df['experience'].mode()[0], inplace = True)\n"
          ]
        }
      ]
    },
    {
      "cell_type": "markdown",
      "source": [
        "#### 1.6) Filling Null values in rating and reviews column with 0"
      ],
      "metadata": {
        "id": "OVl09RQBwPkH"
      }
    },
    {
      "cell_type": "code",
      "source": [
        "df['rating'].fillna(0.0,inplace = True)\n",
        "df['reviews'].fillna('0 Reviews',inplace = True)"
      ],
      "metadata": {
        "colab": {
          "base_uri": "https://localhost:8080/"
        },
        "id": "d33y26B1rl1b",
        "outputId": "315e1dc6-4736-4125-806c-02bf39edaef2"
      },
      "execution_count": 69,
      "outputs": [
        {
          "output_type": "stream",
          "name": "stderr",
          "text": [
            "<ipython-input-69-96e8ba36cda5>:1: FutureWarning: A value is trying to be set on a copy of a DataFrame or Series through chained assignment using an inplace method.\n",
            "The behavior will change in pandas 3.0. This inplace method will never work because the intermediate object on which we are setting values always behaves as a copy.\n",
            "\n",
            "For example, when doing 'df[col].method(value, inplace=True)', try using 'df.method({col: value}, inplace=True)' or df[col] = df[col].method(value) instead, to perform the operation inplace on the original object.\n",
            "\n",
            "\n",
            "  df['rating'].fillna(0.0,inplace = True)\n",
            "<ipython-input-69-96e8ba36cda5>:2: FutureWarning: A value is trying to be set on a copy of a DataFrame or Series through chained assignment using an inplace method.\n",
            "The behavior will change in pandas 3.0. This inplace method will never work because the intermediate object on which we are setting values always behaves as a copy.\n",
            "\n",
            "For example, when doing 'df[col].method(value, inplace=True)', try using 'df.method({col: value}, inplace=True)' or df[col] = df[col].method(value) instead, to perform the operation inplace on the original object.\n",
            "\n",
            "\n",
            "  df['reviews'].fillna('0 Reviews',inplace = True)\n"
          ]
        }
      ]
    },
    {
      "cell_type": "code",
      "source": [
        "df.isnull().sum()"
      ],
      "metadata": {
        "colab": {
          "base_uri": "https://localhost:8080/",
          "height": 429
        },
        "id": "ZCaDc2OUrE2O",
        "outputId": "bbb39237-8b51-45fa-af65-d3140f19a0ea"
      },
      "execution_count": 70,
      "outputs": [
        {
          "output_type": "execute_result",
          "data": {
            "text/plain": [
              "job_id             0\n",
              "job_role           0\n",
              "company            0\n",
              "experience         0\n",
              "salary             0\n",
              "location           0\n",
              "rating             0\n",
              "reviews            0\n",
              "resposibilities    0\n",
              "job_link           0\n",
              "company_link       0\n",
              "dtype: int64"
            ],
            "text/html": [
              "<div>\n",
              "<style scoped>\n",
              "    .dataframe tbody tr th:only-of-type {\n",
              "        vertical-align: middle;\n",
              "    }\n",
              "\n",
              "    .dataframe tbody tr th {\n",
              "        vertical-align: top;\n",
              "    }\n",
              "\n",
              "    .dataframe thead th {\n",
              "        text-align: right;\n",
              "    }\n",
              "</style>\n",
              "<table border=\"1\" class=\"dataframe\">\n",
              "  <thead>\n",
              "    <tr style=\"text-align: right;\">\n",
              "      <th></th>\n",
              "      <th>0</th>\n",
              "    </tr>\n",
              "  </thead>\n",
              "  <tbody>\n",
              "    <tr>\n",
              "      <th>job_id</th>\n",
              "      <td>0</td>\n",
              "    </tr>\n",
              "    <tr>\n",
              "      <th>job_role</th>\n",
              "      <td>0</td>\n",
              "    </tr>\n",
              "    <tr>\n",
              "      <th>company</th>\n",
              "      <td>0</td>\n",
              "    </tr>\n",
              "    <tr>\n",
              "      <th>experience</th>\n",
              "      <td>0</td>\n",
              "    </tr>\n",
              "    <tr>\n",
              "      <th>salary</th>\n",
              "      <td>0</td>\n",
              "    </tr>\n",
              "    <tr>\n",
              "      <th>location</th>\n",
              "      <td>0</td>\n",
              "    </tr>\n",
              "    <tr>\n",
              "      <th>rating</th>\n",
              "      <td>0</td>\n",
              "    </tr>\n",
              "    <tr>\n",
              "      <th>reviews</th>\n",
              "      <td>0</td>\n",
              "    </tr>\n",
              "    <tr>\n",
              "      <th>resposibilities</th>\n",
              "      <td>0</td>\n",
              "    </tr>\n",
              "    <tr>\n",
              "      <th>job_link</th>\n",
              "      <td>0</td>\n",
              "    </tr>\n",
              "    <tr>\n",
              "      <th>company_link</th>\n",
              "      <td>0</td>\n",
              "    </tr>\n",
              "  </tbody>\n",
              "</table>\n",
              "</div><br><label><b>dtype:</b> int64</label>"
            ]
          },
          "metadata": {},
          "execution_count": 70
        }
      ]
    },
    {
      "cell_type": "markdown",
      "source": [
        "#### 1.7) Remove Duplicates"
      ],
      "metadata": {
        "id": "QqP5fIw4zdnM"
      }
    },
    {
      "cell_type": "code",
      "source": [
        "df.drop_duplicates(subset=['job_link'],inplace = True)"
      ],
      "metadata": {
        "id": "xezHsGd7zhyp"
      },
      "execution_count": 71,
      "outputs": []
    },
    {
      "cell_type": "markdown",
      "source": [
        "### 2. Data Cleaning"
      ],
      "metadata": {
        "id": "hDrIyVsvyb6P"
      }
    },
    {
      "cell_type": "markdown",
      "source": [
        "#### 2.1) Cleaning Job_id Column"
      ],
      "metadata": {
        "id": "GBR_J8-9yfwK"
      }
    },
    {
      "cell_type": "code",
      "source": [
        "df['job_id'] = df['job_id'].astype('int').astype('str')"
      ],
      "metadata": {
        "id": "-j5w_fb0y5MD"
      },
      "execution_count": 72,
      "outputs": []
    },
    {
      "cell_type": "markdown",
      "source": [
        "#### 2.2) Creating Company ID Column"
      ],
      "metadata": {
        "id": "DX5QE0sKnIUd"
      }
    },
    {
      "cell_type": "code",
      "source": [
        "df['company_id'] = df['company_link'].str.split('-').str[-1]"
      ],
      "metadata": {
        "id": "MgjBQVeTrEzV"
      },
      "execution_count": 73,
      "outputs": []
    },
    {
      "cell_type": "markdown",
      "source": [
        "#### 2.3) Removing Companies with company_id = 0"
      ],
      "metadata": {
        "id": "koPFhJtSy5hY"
      }
    },
    {
      "cell_type": "code",
      "source": [
        "df = df[df['company_id'] != '0']"
      ],
      "metadata": {
        "id": "xgkLqmY2y_q4"
      },
      "execution_count": 74,
      "outputs": []
    },
    {
      "cell_type": "markdown",
      "source": [
        "#### 2.4) Cleaning Experience Column"
      ],
      "metadata": {
        "id": "vIX_uEkL155f"
      }
    },
    {
      "cell_type": "code",
      "source": [
        "df['start_exp'] = df['experience'].str.replace('Yrs','').str.strip().str.split('-').str[0].astype('int')\n",
        "df['end_exp'] = df['experience'].str.replace('Yrs','').str.strip().str.split('-').str[1].astype('int')"
      ],
      "metadata": {
        "id": "TwoBe-pY2GqK"
      },
      "execution_count": 75,
      "outputs": []
    },
    {
      "cell_type": "markdown",
      "source": [
        "#### 2.5) Cleaning Salary Column"
      ],
      "metadata": {
        "id": "KpyyQUeBy___"
      }
    },
    {
      "cell_type": "markdown",
      "source": [
        "###### 2.5.1 Removing Categories like gradudate etc"
      ],
      "metadata": {
        "id": "qyu_9-F462_c"
      }
    },
    {
      "cell_type": "code",
      "source": [
        "salary_clean = []\n",
        "\n",
        "for i in df['salary']:\n",
        "  if bool(re.search(r'\\d', i)) == False or 'Cr' in i:\n",
        "    salary_clean.append('Not disclosed')\n",
        "  else:\n",
        "    salary_clean.append(i)\n",
        "\n",
        "df['salary_clean'] = salary_clean"
      ],
      "metadata": {
        "id": "OW0AmiYT2brb"
      },
      "execution_count": 76,
      "outputs": []
    },
    {
      "cell_type": "markdown",
      "source": [
        "###### 2.5.2 Splitting salaries"
      ],
      "metadata": {
        "id": "TsneyW-T7A1-"
      }
    },
    {
      "cell_type": "code",
      "source": [
        "min_salaries = []\n",
        "max_salaries = []\n",
        "\n",
        "for i in df['salary_clean']:\n",
        "\n",
        "  if i == 'Not disclosed':\n",
        "    min_salary = 'Not disclosed'\n",
        "    max_salary = 'Not disclosed'\n",
        "\n",
        "  elif len(i.split('-')) == 2:\n",
        "    min_salary = i.split('PA')[0].split('-')[0].strip().replace(',','')\n",
        "    max_salary = i.split('PA')[0].split('-')[1].strip().replace(',','')\n",
        "\n",
        "\n",
        "  elif len(i.split('-')) == 1:\n",
        "    min_salary = ''.join(re.findall(r'\\d', i.split('PA')[0]))\n",
        "    max_salary = ''.join(re.findall(r'\\d', i.split('PA')[0]))\n",
        "\n",
        "\n",
        "  min_salaries.append(min_salary)\n",
        "  max_salaries.append(max_salary)\n",
        "\n",
        "df['min_salary'] = min_salaries\n",
        "df['max_salary'] = max_salaries"
      ],
      "metadata": {
        "id": "bMqOlet-2RUb"
      },
      "execution_count": 77,
      "outputs": []
    },
    {
      "cell_type": "markdown",
      "source": [
        "###### 2.5.3 Clean further minimum and maximum salaries"
      ],
      "metadata": {
        "id": "EYWNXx1gB4ep"
      }
    },
    {
      "cell_type": "code",
      "source": [
        "df.loc[df['min_salary'] == 'Less than 5000', 'min_salary'] = '5000'\n",
        "df.loc[df['min_salary'] == 'Less than 50000', 'min_salary'] = '50000'"
      ],
      "metadata": {
        "id": "vlxoSnCYB48j"
      },
      "execution_count": 78,
      "outputs": []
    },
    {
      "cell_type": "markdown",
      "source": [
        "#### 2.6) Cleaning Reviews Column"
      ],
      "metadata": {
        "id": "l4XgTkdiDXa2"
      }
    },
    {
      "cell_type": "code",
      "source": [
        "df['reviews'] = df['reviews'].str.split(' ').str[0].astype('int')"
      ],
      "metadata": {
        "id": "fmh8yznxrEuI"
      },
      "execution_count": 79,
      "outputs": []
    },
    {
      "cell_type": "markdown",
      "source": [
        "#### 2.7) Cleaning Location"
      ],
      "metadata": {
        "id": "PTbvaue_DmUP"
      }
    },
    {
      "cell_type": "code",
      "source": [
        "df['location'].str.split(',').explode().str.lower().explode().nunique()"
      ],
      "metadata": {
        "colab": {
          "base_uri": "https://localhost:8080/"
        },
        "id": "8lkloZjYDr0G",
        "outputId": "3963204a-3a2a-4d0e-df23-f5cb9523a332"
      },
      "execution_count": 80,
      "outputs": [
        {
          "output_type": "execute_result",
          "data": {
            "text/plain": [
              "4777"
            ]
          },
          "metadata": {},
          "execution_count": 80
        }
      ]
    },
    {
      "cell_type": "markdown",
      "source": [
        "### 3. Companies Analysis"
      ],
      "metadata": {
        "id": "g8yCcKvthsv7"
      }
    },
    {
      "cell_type": "markdown",
      "source": [
        "#### 3.1) Top 20 Companies with maximum Job Openings"
      ],
      "metadata": {
        "id": "XjIaaEqkhzA7"
      }
    },
    {
      "cell_type": "code",
      "source": [
        "freq       = df['company_id'].value_counts().head(20).values\n",
        "company_id = df['company_id'].value_counts().head(20).index\n",
        "\n",
        "company_name = []\n",
        "\n",
        "for i in company_id:\n",
        "  company_name.append(df[df['company_id'] == i]['company'].value_counts().index[0])\n",
        "\n",
        "data = {'company_name': company_name, 'company_id': company_id,'freq': freq}\n",
        "\n",
        "company_df = pd.DataFrame(data)\n",
        "\n",
        "\n",
        "fig, axes = plt.subplots(1, 2, figsize=(16, 6))  # 1 row, 2 columns\n",
        "\n",
        "# Bar chart on the left\n",
        "axes[0].bar(company_df['company_name'], company_df['freq'])\n",
        "axes[0].set_xlabel(\"Company Name\")\n",
        "axes[0].set_ylabel(\"Frequency\")\n",
        "axes[0].set_title(\"Top Companies with Maximum Job Openings (Bar Chart)\")\n",
        "\n",
        "\n",
        "# Pie chart on the right\n",
        "axes[1].pie(company_df['freq'], labels=company_df['company_name'], autopct='%1.1f%%', startangle=90)\n",
        "axes[1].set_title(\"Top Companies with Maximum Job Openings (Pie Chart)\")\n",
        "axes[1].axis('equal')  # Equal aspect ratio for the pie chart\n",
        "\n",
        "plt.tight_layout()  # Adjust layout to prevent overlapping\n",
        "plt.show()"
      ],
      "metadata": {
        "colab": {
          "base_uri": "https://localhost:8080/",
          "height": 563
        },
        "id": "R6zqcvUjiWDU",
        "outputId": "955cc863-a4b0-45c1-e61f-395c803bde64"
      },
      "execution_count": 81,
      "outputs": [
        {
          "output_type": "display_data",
          "data": {
            "text/plain": [
              "<Figure size 1600x600 with 2 Axes>"
            ],
            "image/png": "[encoded data removed]"
          },
          "metadata": {}
        }
      ]
    },
    {
      "cell_type": "markdown",
      "source": [
        "#### 3.2) Top 5 Company with Maximum Salary Variation"
      ],
      "metadata": {
        "id": "pN8tdlyModqd"
      }
    },
    {
      "cell_type": "code",
      "source": [
        "df_salary = df[df['min_salary'] != 'Not disclosed']\n",
        "\n",
        "df_salary['max_salary'] = df_salary['max_salary'].astype('int')\n",
        "df_salary['min_salary'] = df_salary['min_salary'].astype('int')\n",
        "\n",
        "\n",
        "salary_range_df = pd.DataFrame({'max_salary': df_salary.groupby('company_id')['max_salary'].max(),\n",
        "                                'min_salary': df_salary.groupby('company_id')['min_salary'].min()})\n",
        "\n",
        "\n",
        "salary_range_df['salary_diff'] = salary_range_df['max_salary'] - salary_range_df['min_salary']\n",
        "\n",
        "salary_range_df.sort_values(by = 'salary_diff', ascending = False).head(5)\n",
        "\n",
        "company_id = salary_range_df.sort_values(by = 'salary_diff', ascending = False).head(5).index\n",
        "\n",
        "company_name = []\n",
        "\n",
        "for i in company_id:\n",
        "  company_name.append(df_salary[df_salary['company_id'] == i]['company'].value_counts().index[0])\n",
        "\n",
        "final_df = salary_range_df.sort_values(by = 'salary_diff', ascending = False).head(5)\n",
        "\n",
        "final_df['company_name'] = company_name\n",
        "\n",
        "rearranged_df = final_df[['company_name', 'min_salary', 'max_salary', 'salary_diff']]\n",
        "rearranged_df"
      ],
      "metadata": {
        "colab": {
          "base_uri": "https://localhost:8080/",
          "height": 446
        },
        "id": "aBX2N0T_oMBP",
        "outputId": "fb91ed07-9c0a-4025-c440-b2d832eba8d2"
      },
      "execution_count": 113,
      "outputs": [
        {
          "output_type": "stream",
          "name": "stderr",
          "text": [
            "<ipython-input-113-965250b21e3f>:3: SettingWithCopyWarning: \n",
            "A value is trying to be set on a copy of a slice from a DataFrame.\n",
            "Try using .loc[row_indexer,col_indexer] = value instead\n",
            "\n",
            "See the caveats in the documentation: https://pandas.pydata.org/pandas-docs/stable/user_guide/indexing.html#returning-a-view-versus-a-copy\n",
            "  df_salary['max_salary'] = df_salary['max_salary'].astype('int')\n",
            "<ipython-input-113-965250b21e3f>:4: SettingWithCopyWarning: \n",
            "A value is trying to be set on a copy of a slice from a DataFrame.\n",
            "Try using .loc[row_indexer,col_indexer] = value instead\n",
            "\n",
            "See the caveats in the documentation: https://pandas.pydata.org/pandas-docs/stable/user_guide/indexing.html#returning-a-view-versus-a-copy\n",
            "  df_salary['min_salary'] = df_salary['min_salary'].astype('int')\n"
          ]
        },
        {
          "output_type": "execute_result",
          "data": {
            "text/plain": [
              "                     company_name  min_salary  max_salary  salary_diff\n",
              "company_id                                                            \n",
              "1512600                   Experis       50000    90000000     89950000\n",
              "68313          Tata International      350000    90000000     89650000\n",
              "6021346         DM Healthcare Llc      100000    85000000     84900000\n",
              "4422386     Vision India Services      150000    80000000     79850000\n",
              "123508647      Bhagat Hr Services      175000    80000000     79825000"
            ],
            "text/html": [
              "\n",
              "  <div id=\"df-fc73a652-625e-4192-b4de-1ed01671a6ba\" class=\"colab-df-container\">\n",
              "    <div>\n",
              "<style scoped>\n",
              "    .dataframe tbody tr th:only-of-type {\n",
              "        vertical-align: middle;\n",
              "    }\n",
              "\n",
              "    .dataframe tbody tr th {\n",
              "        vertical-align: top;\n",
              "    }\n",
              "\n",
              "    .dataframe thead th {\n",
              "        text-align: right;\n",
              "    }\n",
              "</style>\n",
              "<table border=\"1\" class=\"dataframe\">\n",
              "  <thead>\n",
              "    <tr style=\"text-align: right;\">\n",
              "      <th></th>\n",
              "      <th>company_name</th>\n",
              "      <th>min_salary</th>\n",
              "      <th>max_salary</th>\n",
              "      <th>salary_diff</th>\n",
              "    </tr>\n",
              "    <tr>\n",
              "      <th>company_id</th>\n",
              "      <th></th>\n",
              "      <th></th>\n",
              "      <th></th>\n",
              "      <th></th>\n",
              "    </tr>\n",
              "  </thead>\n",
              "  <tbody>\n",
              "    <tr>\n",
              "      <th>1512600</th>\n",
              "      <td>Experis</td>\n",
              "      <td>50000</td>\n",
              "      <td>90000000</td>\n",
              "      <td>89950000</td>\n",
              "    </tr>\n",
              "    <tr>\n",
              "      <th>68313</th>\n",
              "      <td>Tata International</td>\n",
              "      <td>350000</td>\n",
              "      <td>90000000</td>\n",
              "      <td>89650000</td>\n",
              "    </tr>\n",
              "    <tr>\n",
              "      <th>6021346</th>\n",
              "      <td>DM Healthcare Llc</td>\n",
              "      <td>100000</td>\n",
              "      <td>85000000</td>\n",
              "      <td>84900000</td>\n",
              "    </tr>\n",
              "    <tr>\n",
              "      <th>4422386</th>\n",
              "      <td>Vision India Services</td>\n",
              "      <td>150000</td>\n",
              "      <td>80000000</td>\n",
              "      <td>79850000</td>\n",
              "    </tr>\n",
              "    <tr>\n",
              "      <th>123508647</th>\n",
              "      <td>Bhagat Hr Services</td>\n",
              "      <td>175000</td>\n",
              "      <td>80000000</td>\n",
              "      <td>79825000</td>\n",
              "    </tr>\n",
              "  </tbody>\n",
              "</table>\n",
              "</div>\n",
              "    <div class=\"colab-df-buttons\">\n",
              "\n",
              "  <div class=\"colab-df-container\">\n",
              "    <button class=\"colab-df-convert\" onclick=\"convertToInteractive('df-fc73a652-625e-4192-b4de-1ed01671a6ba')\"\n",
              "            title=\"Convert this dataframe to an interactive table.\"\n",
              "            style=\"display:none;\">\n",
              "\n",
              "  <svg xmlns=\"http://www.w3.org/2000/svg\" height=\"24px\" viewBox=\"0 -960 960 960\">\n",
              "    <path d=\"M120-120v-720h720v720H120Zm60-500h600v-160H180v160Zm220 220h160v-160H400v160Zm0 220h160v-160H400v160ZM180-400h160v-160H180v160Zm440 0h160v-160H620v160ZM180-180h160v-160H180v160Zm440 0h160v-160H620v160Z\"/>\n",
              "  </svg>\n",
              "    </button>\n",
              "\n",
              "  <style>\n",
              "    .colab-df-container {\n",
              "      display:flex;\n",
              "      gap: 12px;\n",
              "    }\n",
              "\n",
              "    .colab-df-convert {\n",
              "      background-color: #E8F0FE;\n",
              "      border: none;\n",
              "      border-radius: 50%;\n",
              "      cursor: pointer;\n",
              "      display: none;\n",
              "      fill: #1967D2;\n",
              "      height: 32px;\n",
              "      padding: 0 0 0 0;\n",
              "      width: 32px;\n",
              "    }\n",
              "\n",
              "    .colab-df-convert:hover {\n",
              "      background-color: #E2EBFA;\n",
              "      box-shadow: 0px 1px 2px rgba(60, 64, 67, 0.3), 0px 1px 3px 1px rgba(60, 64, 67, 0.15);\n",
              "      fill: #174EA6;\n",
              "    }\n",
              "\n",
              "    .colab-df-buttons div {\n",
              "      margin-bottom: 4px;\n",
              "    }\n",
              "\n",
              "    [theme=dark] .colab-df-convert {\n",
              "      background-color: #3B4455;\n",
              "      fill: #D2E3FC;\n",
              "    }\n",
              "\n",
              "    [theme=dark] .colab-df-convert:hover {\n",
              "      background-color: #434B5C;\n",
              "      box-shadow: 0px 1px 3px 1px rgba(0, 0, 0, 0.15);\n",
              "      filter: drop-shadow(0px 1px 2px rgba(0, 0, 0, 0.3));\n",
              "      fill: #FFFFFF;\n",
              "    }\n",
              "  </style>\n",
              "\n",
              "    <script>\n",
              "      const buttonEl =\n",
              "        document.querySelector('#df-fc73a652-625e-4192-b4de-1ed01671a6ba button.colab-df-convert');\n",
              "      buttonEl.style.display =\n",
              "        google.colab.kernel.accessAllowed ? 'block' : 'none';\n",
              "\n",
              "      async function convertToInteractive(key) {\n",
              "        const element = document.querySelector('#df-fc73a652-625e-4192-b4de-1ed01671a6ba');\n",
              "        const dataTable =\n",
              "          await google.colab.kernel.invokeFunction('convertToInteractive',\n",
              "                                                    [key], {});\n",
              "        if (!dataTable) return;\n",
              "\n",
              "        const docLinkHtml = 'Like what you see? Visit the ' +\n",
              "          '<a target=\"_blank\" href=https://colab.research.google.com/notebooks/data_table.ipynb>data table notebook</a>'\n",
              "          + ' to learn more about interactive tables.';\n",
              "        element.innerHTML = '';\n",
              "        dataTable['output_type'] = 'display_data';\n",
              "        await google.colab.output.renderOutput(dataTable, element);\n",
              "        const docLink = document.createElement('div');\n",
              "        docLink.innerHTML = docLinkHtml;\n",
              "        element.appendChild(docLink);\n",
              "      }\n",
              "    </script>\n",
              "  </div>\n",
              "\n",
              "\n",
              "<div id=\"df-1e39fa02-ce5d-4cd9-a498-c4db02db33b1\">\n",
              "  <button class=\"colab-df-quickchart\" onclick=\"quickchart('df-1e39fa02-ce5d-4cd9-a498-c4db02db33b1')\"\n",
              "            title=\"Suggest charts\"\n",
              "            style=\"display:none;\">\n",
              "\n",
              "<svg xmlns=\"http://www.w3.org/2000/svg\" height=\"24px\"viewBox=\"0 0 24 24\"\n",
              "     width=\"24px\">\n",
              "    <g>\n",
              "        <path d=\"M19 3H5c-1.1 0-2 .9-2 2v14c0 1.1.9 2 2 2h14c1.1 0 2-.9 2-2V5c0-1.1-.9-2-2-2zM9 17H7v-7h2v7zm4 0h-2V7h2v10zm4 0h-2v-4h2v4z\"/>\n",
              "    </g>\n",
              "</svg>\n",
              "  </button>\n",
              "\n",
              "<style>\n",
              "  .colab-df-quickchart {\n",
              "      --bg-color: #E8F0FE;\n",
              "      --fill-color: #1967D2;\n",
              "      --hover-bg-color: #E2EBFA;\n",
              "      --hover-fill-color: #174EA6;\n",
              "      --disabled-fill-color: #AAA;\n",
              "      --disabled-bg-color: #DDD;\n",
              "  }\n",
              "\n",
              "  [theme=dark] .colab-df-quickchart {\n",
              "      --bg-color: #3B4455;\n",
              "      --fill-color: #D2E3FC;\n",
              "      --hover-bg-color: #434B5C;\n",
              "      --hover-fill-color: #FFFFFF;\n",
              "      --disabled-bg-color: #3B4455;\n",
              "      --disabled-fill-color: #666;\n",
              "  }\n",
              "\n",
              "  .colab-df-quickchart {\n",
              "    background-color: var(--bg-color);\n",
              "    border: none;\n",
              "    border-radius: 50%;\n",
              "    cursor: pointer;\n",
              "    display: none;\n",
              "    fill: var(--fill-color);\n",
              "    height: 32px;\n",
              "    padding: 0;\n",
              "    width: 32px;\n",
              "  }\n",
              "\n",
              "  .colab-df-quickchart:hover {\n",
              "    background-color: var(--hover-bg-color);\n",
              "    box-shadow: 0 1px 2px rgba(60, 64, 67, 0.3), 0 1px 3px 1px rgba(60, 64, 67, 0.15);\n",
              "    fill: var(--button-hover-fill-color);\n",
              "  }\n",
              "\n",
              "  .colab-df-quickchart-complete:disabled,\n",
              "  .colab-df-quickchart-complete:disabled:hover {\n",
              "    background-color: var(--disabled-bg-color);\n",
              "    fill: var(--disabled-fill-color);\n",
              "    box-shadow: none;\n",
              "  }\n",
              "\n",
              "  .colab-df-spinner {\n",
              "    border: 2px solid var(--fill-color);\n",
              "    border-color: transparent;\n",
              "    border-bottom-color: var(--fill-color);\n",
              "    animation:\n",
              "      spin 1s steps(1) infinite;\n",
              "  }\n",
              "\n",
              "  @keyframes spin {\n",
              "    0% {\n",
              "      border-color: transparent;\n",
              "      border-bottom-color: var(--fill-color);\n",
              "      border-left-color: var(--fill-color);\n",
              "    }\n",
              "    20% {\n",
              "      border-color: transparent;\n",
              "      border-left-color: var(--fill-color);\n",
              "      border-top-color: var(--fill-color);\n",
              "    }\n",
              "    30% {\n",
              "      border-color: transparent;\n",
              "      border-left-color: var(--fill-color);\n",
              "      border-top-color: var(--fill-color);\n",
              "      border-right-color: var(--fill-color);\n",
              "    }\n",
              "    40% {\n",
              "      border-color: transparent;\n",
              "      border-right-color: var(--fill-color);\n",
              "      border-top-color: var(--fill-color);\n",
              "    }\n",
              "    60% {\n",
              "      border-color: transparent;\n",
              "      border-right-color: var(--fill-color);\n",
              "    }\n",
              "    80% {\n",
              "      border-color: transparent;\n",
              "      border-right-color: var(--fill-color);\n",
              "      border-bottom-color: var(--fill-color);\n",
              "    }\n",
              "    90% {\n",
              "      border-color: transparent;\n",
              "      border-bottom-color: var(--fill-color);\n",
              "    }\n",
              "  }\n",
              "</style>\n",
              "\n",
              "  <script>\n",
              "    async function quickchart(key) {\n",
              "      const quickchartButtonEl =\n",
              "        document.querySelector('#' + key + ' button');\n",
              "      quickchartButtonEl.disabled = true;  // To prevent multiple clicks.\n",
              "      quickchartButtonEl.classList.add('colab-df-spinner');\n",
              "      try {\n",
              "        const charts = await google.colab.kernel.invokeFunction(\n",
              "            'suggestCharts', [key], {});\n",
              "      } catch (error) {\n",
              "        console.error('Error during call to suggestCharts:', error);\n",
              "      }\n",
              "      quickchartButtonEl.classList.remove('colab-df-spinner');\n",
              "      quickchartButtonEl.classList.add('colab-df-quickchart-complete');\n",
              "    }\n",
              "    (() => {\n",
              "      let quickchartButtonEl =\n",
              "        document.querySelector('#df-1e39fa02-ce5d-4cd9-a498-c4db02db33b1 button');\n",
              "      quickchartButtonEl.style.display =\n",
              "        google.colab.kernel.accessAllowed ? 'block' : 'none';\n",
              "    })();\n",
              "  </script>\n",
              "</div>\n",
              "\n",
              "  <div id=\"id_c6949cc3-5163-4917-987b-17b307091cd5\">\n",
              "    <style>\n",
              "      .colab-df-generate {\n",
              "        background-color: #E8F0FE;\n",
              "        border: none;\n",
              "        border-radius: 50%;\n",
              "        cursor: pointer;\n",
              "        display: none;\n",
              "        fill: #1967D2;\n",
              "        height: 32px;\n",
              "        padding: 0 0 0 0;\n",
              "        width: 32px;\n",
              "      }\n",
              "\n",
              "      .colab-df-generate:hover {\n",
              "        background-color: #E2EBFA;\n",
              "        box-shadow: 0px 1px 2px rgba(60, 64, 67, 0.3), 0px 1px 3px 1px rgba(60, 64, 67, 0.15);\n",
              "        fill: #174EA6;\n",
              "      }\n",
              "\n",
              "      [theme=dark] .colab-df-generate {\n",
              "        background-color: #3B4455;\n",
              "        fill: #D2E3FC;\n",
              "      }\n",
              "\n",
              "      [theme=dark] .colab-df-generate:hover {\n",
              "        background-color: #434B5C;\n",
              "        box-shadow: 0px 1px 3px 1px rgba(0, 0, 0, 0.15);\n",
              "        filter: drop-shadow(0px 1px 2px rgba(0, 0, 0, 0.3));\n",
              "        fill: #FFFFFF;\n",
              "      }\n",
              "    </style>\n",
              "    <button class=\"colab-df-generate\" onclick=\"generateWithVariable('rearranged_df')\"\n",
              "            title=\"Generate code using this dataframe.\"\n",
              "            style=\"display:none;\">\n",
              "\n",
              "  <svg xmlns=\"http://www.w3.org/2000/svg\" height=\"24px\"viewBox=\"0 0 24 24\"\n",
              "       width=\"24px\">\n",
              "    <path d=\"M7,19H8.4L18.45,9,17,7.55,7,17.6ZM5,21V16.75L18.45,3.32a2,2,0,0,1,2.83,0l1.4,1.43a1.91,1.91,0,0,1,.58,1.4,1.91,1.91,0,0,1-.58,1.4L9.25,21ZM18.45,9,17,7.55Zm-12,3A5.31,5.31,0,0,0,4.9,8.1,5.31,5.31,0,0,0,1,6.5,5.31,5.31,0,0,0,4.9,4.9,5.31,5.31,0,0,0,6.5,1,5.31,5.31,0,0,0,8.1,4.9,5.31,5.31,0,0,0,12,6.5,5.46,5.46,0,0,0,6.5,12Z\"/>\n",
              "  </svg>\n",
              "    </button>\n",
              "    <script>\n",
              "      (() => {\n",
              "      const buttonEl =\n",
              "        document.querySelector('#id_c6949cc3-5163-4917-987b-17b307091cd5 button.colab-df-generate');\n",
              "      buttonEl.style.display =\n",
              "        google.colab.kernel.accessAllowed ? 'block' : 'none';\n",
              "\n",
              "      buttonEl.onclick = () => {\n",
              "        google.colab.notebook.generateWithVariable('rearranged_df');\n",
              "      }\n",
              "      })();\n",
              "    </script>\n",
              "  </div>\n",
              "\n",
              "    </div>\n",
              "  </div>\n"
            ],
            "application/vnd.google.colaboratory.intrinsic+json": {
              "type": "dataframe",
              "variable_name": "rearranged_df",
              "summary": "{\n  \"name\": \"rearranged_df\",\n  \"rows\": 5,\n  \"fields\": [\n    {\n      \"column\": \"company_id\",\n      \"properties\": {\n        \"dtype\": \"string\",\n        \"num_unique_values\": 5,\n        \"samples\": [\n          \"68313\",\n          \"123508647\",\n          \"6021346\"\n        ],\n        \"semantic_type\": \"\",\n        \"description\": \"\"\n      }\n    },\n    {\n      \"column\": \"company_name\",\n      \"properties\": {\n        \"dtype\": \"string\",\n        \"num_unique_values\": 5,\n        \"samples\": [\n          \"Tata International\",\n          \"Bhagat Hr Services\",\n          \"DM Healthcare Llc\"\n        ],\n        \"semantic_type\": \"\",\n        \"description\": \"\"\n      }\n    },\n    {\n      \"column\": \"min_salary\",\n      \"properties\": {\n        \"dtype\": \"number\",\n        \"std\": 114017,\n        \"min\": 50000,\n        \"max\": 350000,\n        \"num_unique_values\": 5,\n        \"samples\": [\n          350000,\n          175000,\n          100000\n        ],\n        \"semantic_type\": \"\",\n        \"description\": \"\"\n      }\n    },\n    {\n      \"column\": \"max_salary\",\n      \"properties\": {\n        \"dtype\": \"number\",\n        \"std\": 5000000,\n        \"min\": 80000000,\n        \"max\": 90000000,\n        \"num_unique_values\": 3,\n        \"samples\": [\n          90000000,\n          85000000,\n          80000000\n        ],\n        \"semantic_type\": \"\",\n        \"description\": \"\"\n      }\n    },\n    {\n      \"column\": \"salary_diff\",\n      \"properties\": {\n        \"dtype\": \"number\",\n        \"std\": 4982519,\n        \"min\": 79825000,\n        \"max\": 89950000,\n        \"num_unique_values\": 5,\n        \"samples\": [\n          89650000,\n          79825000,\n          84900000\n        ],\n        \"semantic_type\": \"\",\n        \"description\": \"\"\n      }\n    }\n  ]\n}"
            }
          },
          "metadata": {},
          "execution_count": 113
        }
      ]
    },
    {
      "cell_type": "markdown",
      "source": [
        "#### 3.3) Top 5 Company hiring for most numbers of locations"
      ],
      "metadata": {
        "id": "cayGFaz4zRls"
      }
    },
    {
      "cell_type": "code",
      "source": [
        "company_ids = df['company_id'].unique()\n",
        "freq = []\n",
        "\n",
        "\n",
        "for company_id in tqdm(company_ids):\n",
        "  freq.append([company_id,df[df['company_id']== company_id]['location'].str.split(',').explode().str.lower().explode().str.split('/').explode().str.split('-').explode().str.strip().nunique()])\n",
        "\n",
        "freq_df = pd.DataFrame(freq, columns = ['company_id','freq'])\n",
        "\n",
        "freq_df.sort_values(by = 'freq', ascending = False).head(5)"
      ],
      "metadata": {
        "colab": {
          "base_uri": "https://localhost:8080/"
        },
        "id": "TIAKHqMEyved",
        "outputId": "3bd7a2a2-bc19-420a-88c9-41048175b2e0"
      },
      "execution_count": null,
      "outputs": [
        {
          "output_type": "stream",
          "name": "stderr",
          "text": [
            " 34%|███▎      | 4644/13790 [00:51<02:53, 52.84it/s]"
          ]
        }
      ]
    },
    {
      "cell_type": "code",
      "source": [],
      "metadata": {
        "id": "U3mTXYvF1uUU"
      },
      "execution_count": 144,
      "outputs": []
    },
    {
      "cell_type": "code",
      "source": [],
      "metadata": {
        "id": "R9p_VJqKC1hc"
      },
      "execution_count": null,
      "outputs": []
    },
    {
      "cell_type": "code",
      "source": [
        "- Salary vs Experience of any Company\n",
        "- Company hiring for most numbers of locations"
      ],
      "metadata": {
        "id": "IPoYro5In5Kx"
      },
      "execution_count": null,
      "outputs": []
    },
    {
      "cell_type": "code",
      "source": [
        "1. Analyze Company Ratings\n",
        "  - Calculate the average rating for each company\n",
        "  - Identify companies with the highest and lowest average ratings.\n",
        "  - Compare the distribution of ratings across different companies.\n",
        "  - Calculate the total number of reviews for each company. | Sort to get most and LiteralString\n",
        "\n",
        "- List the top 10 companies based on average rating and number of reviews.\n",
        "- Analyze the characteristics and practices of these top-rated companies. | Most Popular Responsibilities of top 100 companies\n"
      ],
      "metadata": {
        "id": "1xYIqSK9n5BK"
      },
      "execution_count": null,
      "outputs": []
    }
  ]
}