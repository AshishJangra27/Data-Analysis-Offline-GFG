{
  "nbformat": 4,
  "nbformat_minor": 0,
  "metadata": {
    "colab": {
      "provenance": []
    },
    "kernelspec": {
      "name": "python3",
      "display_name": "Python 3"
    },
    "language_info": {
      "name": "python"
    }
  },
  "cells": [
    {
      "cell_type": "markdown",
      "source": [
        "### 1. Datatypes"
      ],
      "metadata": {
        "id": "x9MFwh6PYKHP"
      }
    },
    {
      "cell_type": "markdown",
      "source": [
        "##### 1.1) print()"
      ],
      "metadata": {
        "id": "8Ay5QdevYOhg"
      }
    },
    {
      "cell_type": "code",
      "execution_count": null,
      "metadata": {
        "colab": {
          "base_uri": "https://localhost:8080/"
        },
        "id": "UyMlm94jSy3G",
        "outputId": "db5c9c49-f714-4d3f-90de-0414abf4377c"
      },
      "outputs": [
        {
          "output_type": "stream",
          "name": "stdout",
          "text": [
            "Ashish Jangra asd hkjashd kjhsakjd hjksahd khask dks\n"
          ]
        }
      ],
      "source": [
        "print(\"Ashish Jangra asd hkjashd kjhsakjd hjksahd khask dks\")"
      ]
    },
    {
      "cell_type": "markdown",
      "source": [
        "##### 1.2) different datatypes"
      ],
      "metadata": {
        "id": "MNTvZl5IYW0g"
      }
    },
    {
      "cell_type": "code",
      "source": [
        "print(0.0)\n",
        "print(0)\n",
        "print(False)\n",
        "print('0.asdasd3458r13fd')"
      ],
      "metadata": {
        "id": "YSQm7TaIYJbe"
      },
      "execution_count": null,
      "outputs": []
    },
    {
      "cell_type": "markdown",
      "source": [
        "##### 1.3) type"
      ],
      "metadata": {
        "id": "nvG3UNCaYhI4"
      }
    },
    {
      "cell_type": "code",
      "source": [
        "print(type(0.0))\n",
        "print(type(0))\n",
        "print(type(False))\n",
        "print(type('0.asdasd3458r13fd'))"
      ],
      "metadata": {
        "id": "wYH_4WrtYJiN"
      },
      "execution_count": null,
      "outputs": []
    },
    {
      "cell_type": "markdown",
      "source": [
        "### 2. Operators"
      ],
      "metadata": {
        "id": "j4yyMiWJYl2f"
      }
    },
    {
      "cell_type": "markdown",
      "source": [
        "#### 2.1) Arithmetic"
      ],
      "metadata": {
        "id": "WymqPZJ6Yuuq"
      }
    },
    {
      "cell_type": "code",
      "source": [
        "print(3+2)\n",
        "print(3-2)\n",
        "print(3*2)\n",
        "print(3/2)\n",
        "print(3//2)\n",
        "print(3%2)\n",
        "print(3**2)\n",
        "\n",
        "print(3*'Ashish')\n",
        "print('Ashish' + 'Jangra')\n",
        "\n",
        "print(True + True + True)\n",
        "print(False + False + False)\n",
        "\n",
        "print('Ashish'*False)\n",
        "print(5*True)"
      ],
      "metadata": {
        "colab": {
          "base_uri": "https://localhost:8080/"
        },
        "id": "gi7QACeEYJkn",
        "outputId": "22134146-753f-4f9e-a06b-28aee1f6f17b"
      },
      "execution_count": null,
      "outputs": [
        {
          "output_type": "stream",
          "name": "stdout",
          "text": [
            "5\n",
            "1\n",
            "6\n",
            "1.5\n",
            "1\n",
            "1\n",
            "9\n",
            "AshishAshishAshish\n",
            "AshishJangra\n",
            "3\n",
            "0\n",
            "\n",
            "5\n"
          ]
        }
      ]
    },
    {
      "cell_type": "markdown",
      "source": [
        "#### 2.2) Comparison"
      ],
      "metadata": {
        "id": "cFUcEC9RaPg8"
      }
    },
    {
      "cell_type": "code",
      "source": [
        "print(2>3)\n",
        "print(2>=3)\n",
        "print(2>=3)\n",
        "print(2<3)\n",
        "print(2<=3)\n",
        "print(2!=3)\n",
        "print(2==3)"
      ],
      "metadata": {
        "colab": {
          "base_uri": "https://localhost:8080/"
        },
        "id": "201Omp0_YJnb",
        "outputId": "c2b8bf68-47fd-4f3e-c0f3-f0ade8b74681"
      },
      "execution_count": null,
      "outputs": [
        {
          "output_type": "stream",
          "name": "stdout",
          "text": [
            "False\n",
            "False\n",
            "True\n",
            "True\n",
            "True\n",
            "False\n"
          ]
        }
      ]
    },
    {
      "cell_type": "markdown",
      "source": [
        "#### 2.3) Logical"
      ],
      "metadata": {
        "id": "C0gtKy9cbK9c"
      }
    },
    {
      "cell_type": "code",
      "source": [
        "age = 19\n",
        "\n",
        "print((age >= 18) and (age <= 100))\n",
        "print((age >= 18) or (age <= 100))\n",
        "print(not(True))"
      ],
      "metadata": {
        "colab": {
          "base_uri": "https://localhost:8080/"
        },
        "id": "MfMAOK55d4oA",
        "outputId": "193ee642-6714-4fbd-ac83-944e7a007433"
      },
      "execution_count": null,
      "outputs": [
        {
          "output_type": "stream",
          "name": "stdout",
          "text": [
            "True\n",
            "True\n",
            "False\n"
          ]
        }
      ]
    },
    {
      "cell_type": "markdown",
      "source": [
        "### 3. Typecasting"
      ],
      "metadata": {
        "id": "d10V2j--gy-s"
      }
    },
    {
      "cell_type": "code",
      "source": [
        "#int - str,bool,float\n",
        "print(int(3.14), int(True), int(False), int('423432432412'))\n",
        "\n",
        "#str - int,bool,float\n",
        "print(str(3.14), str(True), str(False), str(3))\n",
        "\n",
        "#float- int, bool,str\n",
        "print(float(3), float(True), float(False), float('3'))\n",
        "\n",
        "#bool - int,float,str\n",
        "print(bool(3), bool(True), bool(False), bool('3'))"
      ],
      "metadata": {
        "colab": {
          "base_uri": "https://localhost:8080/"
        },
        "id": "TfllAaJXYJp1",
        "outputId": "58a7fa20-e50b-4a1b-92d5-81ca945d27a6"
      },
      "execution_count": null,
      "outputs": [
        {
          "output_type": "stream",
          "name": "stdout",
          "text": [
            "3 1 0 423432432412\n",
            "3.14 True False 3\n",
            "3.0 1.0 0.0 3.0\n",
            "True True False True\n"
          ]
        }
      ]
    },
    {
      "cell_type": "markdown",
      "source": [
        "### 4. Conditionals"
      ],
      "metadata": {
        "id": "BWl65xWlHC7J"
      }
    },
    {
      "cell_type": "code",
      "source": [
        "age = 18\n",
        "\n",
        "if (age >= 18) and (age <= 100):\n",
        "  print('eligible')\n",
        "\n",
        "if (age >= 0) and (age <= 18):\n",
        "  print('not eligibl')\n",
        "\n",
        "if (age < 0) or (age > 100):\n",
        "  print('not a valid age')"
      ],
      "metadata": {
        "colab": {
          "base_uri": "https://localhost:8080/"
        },
        "id": "U8fDc4JmW4fx",
        "outputId": "2cabf60f-fe83-4b95-81e2-d82b70ca8c36"
      },
      "execution_count": 30,
      "outputs": [
        {
          "output_type": "stream",
          "name": "stdout",
          "text": [
            "eligible\n",
            "not eligibl\n"
          ]
        }
      ]
    },
    {
      "cell_type": "code",
      "source": [
        "age = 18\n",
        "\n",
        "if (age >= 18) and (age <= 100):\n",
        "  print('eligible')\n",
        "\n",
        "elif (age >= 0) and (age <= 18):\n",
        "  print('not eligibl')\n",
        "\n",
        "else:\n",
        "  print('not a valid age')"
      ],
      "metadata": {
        "colab": {
          "base_uri": "https://localhost:8080/"
        },
        "id": "Pahu134pPG87",
        "outputId": "191ef12b-cb3c-4d08-acaa-07fd5cd18ffd"
      },
      "execution_count": 32,
      "outputs": [
        {
          "output_type": "stream",
          "name": "stdout",
          "text": [
            "eligible\n"
          ]
        }
      ]
    },
    {
      "cell_type": "code",
      "source": [
        "n = 35\n",
        "\n",
        "if (n%5 == 0) and (n%7 == 0):\n",
        "  print(\"5 and 7\")\n",
        "\n",
        "elif (n%5 == 0) and (n%7 != 0):\n",
        "  print(\"5 not 7\")\n",
        "\n",
        "elif (n%5 == 0) and (n%7 == 0):\n",
        "  print(\"7 not 5\")\n",
        "\n",
        "else:\n",
        "  print('not 5 not 7')"
      ],
      "metadata": {
        "id": "gkOcJU9uS8tA",
        "colab": {
          "base_uri": "https://localhost:8080/"
        },
        "outputId": "5be7e26d-4dbf-4c2b-a840-89fdbf1fd7d0"
      },
      "execution_count": 33,
      "outputs": [
        {
          "output_type": "stream",
          "name": "stdout",
          "text": [
            "5 and 7\n"
          ]
        }
      ]
    },
    {
      "cell_type": "code",
      "source": [
        "n = 70\n",
        "\n",
        "if n%5 == 0:\n",
        "  if n%7 == 0:\n",
        "    print('5 and 7')\n",
        "  else:\n",
        "    print('5 not 7')\n",
        "\n",
        "elif n%7 == 0:\n",
        "  print('7 not 5')\n",
        "\n",
        "else:\n",
        "  print(\"not 7 not 5\")"
      ],
      "metadata": {
        "id": "eaHSTXPMS8vV",
        "colab": {
          "base_uri": "https://localhost:8080/"
        },
        "outputId": "6665cdba-d16e-405f-9bd2-53ecb34233ab"
      },
      "execution_count": 42,
      "outputs": [
        {
          "output_type": "stream",
          "name": "stdout",
          "text": [
            "5 and 7\n"
          ]
        }
      ]
    },
    {
      "cell_type": "markdown",
      "source": [
        "### 5. Loops"
      ],
      "metadata": {
        "id": "in-paHjHXK11"
      }
    },
    {
      "cell_type": "code",
      "source": [
        "n = 17\n",
        "\n",
        "for i in range(1,11):\n",
        "  print(n ,'*', i,'=', n * i)"
      ],
      "metadata": {
        "colab": {
          "base_uri": "https://localhost:8080/"
        },
        "id": "ccp_nQJPS86A",
        "outputId": "eb0aefc1-d1a9-49bc-8f58-854bb2689454"
      },
      "execution_count": 61,
      "outputs": [
        {
          "output_type": "stream",
          "name": "stdout",
          "text": [
            "17 * 1 = 17\n",
            "17 * 2 = 34\n",
            "17 * 3 = 51\n",
            "17 * 4 = 68\n",
            "17 * 5 = 85\n",
            "17 * 6 = 102\n",
            "17 * 7 = 119\n",
            "17 * 8 = 136\n",
            "17 * 9 = 153\n",
            "17 * 10 = 170\n"
          ]
        }
      ]
    },
    {
      "cell_type": "code",
      "source": [
        "n = 23\n",
        "\n",
        "for i in range(n,n*10+1,n):\n",
        "  print(i)"
      ],
      "metadata": {
        "colab": {
          "base_uri": "https://localhost:8080/"
        },
        "id": "vhbhYdi2S882",
        "outputId": "4eb6911d-66d7-4d9a-e0d6-b83e4f70632c"
      },
      "execution_count": 80,
      "outputs": [
        {
          "output_type": "stream",
          "name": "stdout",
          "text": [
            "23\n",
            "46\n",
            "69\n",
            "92\n",
            "115\n",
            "138\n",
            "161\n",
            "184\n",
            "207\n",
            "230\n"
          ]
        }
      ]
    },
    {
      "cell_type": "code",
      "source": [
        "n = 13\n",
        "\n",
        "for i in range(n*10,n-1,-n):\n",
        "  print(i)"
      ],
      "metadata": {
        "id": "HCLOpLxglv2Y",
        "colab": {
          "base_uri": "https://localhost:8080/"
        },
        "outputId": "d75b36ad-a9e4-4972-ffef-e856233cb8a6"
      },
      "execution_count": 89,
      "outputs": [
        {
          "output_type": "stream",
          "name": "stdout",
          "text": [
            "130\n",
            "117\n",
            "104\n",
            "91\n",
            "78\n",
            "65\n",
            "52\n",
            "39\n",
            "26\n",
            "13\n"
          ]
        }
      ]
    },
    {
      "cell_type": "code",
      "source": [
        "n = 10000\n",
        "s = 0\n",
        "\n",
        "for i in range(1,n+1):\n",
        "  s += i\n",
        "\n",
        "print(s)"
      ],
      "metadata": {
        "colab": {
          "base_uri": "https://localhost:8080/"
        },
        "id": "QM9NRy5acr-w",
        "outputId": "6b6d32e2-a38d-4fd4-9e32-b47a152a854c"
      },
      "execution_count": 108,
      "outputs": [
        {
          "output_type": "stream",
          "name": "stdout",
          "text": [
            "50005000\n"
          ]
        }
      ]
    },
    {
      "cell_type": "code",
      "source": [
        "## 1. rolling 2 dices, whats the probability of you getting a sum of 8\n",
        "## 2. rolling 3 dices, whats the probability of you getting a sum of 9\n",
        "## 3. Check if you've rolling 3 dices, is the probability of geting every number is same or not"
      ],
      "metadata": {
        "id": "9U6KWIkCiH-v"
      },
      "execution_count": null,
      "outputs": []
    },
    {
      "cell_type": "code",
      "source": [],
      "metadata": {
        "id": "mK1GhckyiH8J"
      },
      "execution_count": null,
      "outputs": []
    },
    {
      "cell_type": "code",
      "source": [
        "for i in range(1,7):\n",
        "  for j in range(1,7):\n",
        "    for k in range(1,7):\n",
        "      print(i,j,k)\n",
        "    print('-'*10)\n",
        "  print('*'*10)"
      ],
      "metadata": {
        "colab": {
          "base_uri": "https://localhost:8080/"
        },
        "id": "JtiVaMv_gRxI",
        "outputId": "12cc427e-5a4d-4102-bb44-a351c8f20c75"
      },
      "execution_count": 119,
      "outputs": [
        {
          "output_type": "stream",
          "name": "stdout",
          "text": [
            "1 1 1\n",
            "1 1 2\n",
            "1 1 3\n",
            "1 1 4\n",
            "1 1 5\n",
            "1 1 6\n",
            "----------\n",
            "1 2 1\n",
            "1 2 2\n",
            "1 2 3\n",
            "1 2 4\n",
            "1 2 5\n",
            "1 2 6\n",
            "----------\n",
            "1 3 1\n",
            "1 3 2\n",
            "1 3 3\n",
            "1 3 4\n",
            "1 3 5\n",
            "1 3 6\n",
            "----------\n",
            "1 4 1\n",
            "1 4 2\n",
            "1 4 3\n",
            "1 4 4\n",
            "1 4 5\n",
            "1 4 6\n",
            "----------\n",
            "1 5 1\n",
            "1 5 2\n",
            "1 5 3\n",
            "1 5 4\n",
            "1 5 5\n",
            "1 5 6\n",
            "----------\n",
            "1 6 1\n",
            "1 6 2\n",
            "1 6 3\n",
            "1 6 4\n",
            "1 6 5\n",
            "1 6 6\n",
            "----------\n",
            "**********\n",
            "2 1 1\n",
            "2 1 2\n",
            "2 1 3\n",
            "2 1 4\n",
            "2 1 5\n",
            "2 1 6\n",
            "----------\n",
            "2 2 1\n",
            "2 2 2\n",
            "2 2 3\n",
            "2 2 4\n",
            "2 2 5\n",
            "2 2 6\n",
            "----------\n",
            "2 3 1\n",
            "2 3 2\n",
            "2 3 3\n",
            "2 3 4\n",
            "2 3 5\n",
            "2 3 6\n",
            "----------\n",
            "2 4 1\n",
            "2 4 2\n",
            "2 4 3\n",
            "2 4 4\n",
            "2 4 5\n",
            "2 4 6\n",
            "----------\n",
            "2 5 1\n",
            "2 5 2\n",
            "2 5 3\n",
            "2 5 4\n",
            "2 5 5\n",
            "2 5 6\n",
            "----------\n",
            "2 6 1\n",
            "2 6 2\n",
            "2 6 3\n",
            "2 6 4\n",
            "2 6 5\n",
            "2 6 6\n",
            "----------\n",
            "**********\n",
            "3 1 1\n",
            "3 1 2\n",
            "3 1 3\n",
            "3 1 4\n",
            "3 1 5\n",
            "3 1 6\n",
            "----------\n",
            "3 2 1\n",
            "3 2 2\n",
            "3 2 3\n",
            "3 2 4\n",
            "3 2 5\n",
            "3 2 6\n",
            "----------\n",
            "3 3 1\n",
            "3 3 2\n",
            "3 3 3\n",
            "3 3 4\n",
            "3 3 5\n",
            "3 3 6\n",
            "----------\n",
            "3 4 1\n",
            "3 4 2\n",
            "3 4 3\n",
            "3 4 4\n",
            "3 4 5\n",
            "3 4 6\n",
            "----------\n",
            "3 5 1\n",
            "3 5 2\n",
            "3 5 3\n",
            "3 5 4\n",
            "3 5 5\n",
            "3 5 6\n",
            "----------\n",
            "3 6 1\n",
            "3 6 2\n",
            "3 6 3\n",
            "3 6 4\n",
            "3 6 5\n",
            "3 6 6\n",
            "----------\n",
            "**********\n",
            "4 1 1\n",
            "4 1 2\n",
            "4 1 3\n",
            "4 1 4\n",
            "4 1 5\n",
            "4 1 6\n",
            "----------\n",
            "4 2 1\n",
            "4 2 2\n",
            "4 2 3\n",
            "4 2 4\n",
            "4 2 5\n",
            "4 2 6\n",
            "----------\n",
            "4 3 1\n",
            "4 3 2\n",
            "4 3 3\n",
            "4 3 4\n",
            "4 3 5\n",
            "4 3 6\n",
            "----------\n",
            "4 4 1\n",
            "4 4 2\n",
            "4 4 3\n",
            "4 4 4\n",
            "4 4 5\n",
            "4 4 6\n",
            "----------\n",
            "4 5 1\n",
            "4 5 2\n",
            "4 5 3\n",
            "4 5 4\n",
            "4 5 5\n",
            "4 5 6\n",
            "----------\n",
            "4 6 1\n",
            "4 6 2\n",
            "4 6 3\n",
            "4 6 4\n",
            "4 6 5\n",
            "4 6 6\n",
            "----------\n",
            "**********\n",
            "5 1 1\n",
            "5 1 2\n",
            "5 1 3\n",
            "5 1 4\n",
            "5 1 5\n",
            "5 1 6\n",
            "----------\n",
            "5 2 1\n",
            "5 2 2\n",
            "5 2 3\n",
            "5 2 4\n",
            "5 2 5\n",
            "5 2 6\n",
            "----------\n",
            "5 3 1\n",
            "5 3 2\n",
            "5 3 3\n",
            "5 3 4\n",
            "5 3 5\n",
            "5 3 6\n",
            "----------\n",
            "5 4 1\n",
            "5 4 2\n",
            "5 4 3\n",
            "5 4 4\n",
            "5 4 5\n",
            "5 4 6\n",
            "----------\n",
            "5 5 1\n",
            "5 5 2\n",
            "5 5 3\n",
            "5 5 4\n",
            "5 5 5\n",
            "5 5 6\n",
            "----------\n",
            "5 6 1\n",
            "5 6 2\n",
            "5 6 3\n",
            "5 6 4\n",
            "5 6 5\n",
            "5 6 6\n",
            "----------\n",
            "**********\n",
            "6 1 1\n",
            "6 1 2\n",
            "6 1 3\n",
            "6 1 4\n",
            "6 1 5\n",
            "6 1 6\n",
            "----------\n",
            "6 2 1\n",
            "6 2 2\n",
            "6 2 3\n",
            "6 2 4\n",
            "6 2 5\n",
            "6 2 6\n",
            "----------\n",
            "6 3 1\n",
            "6 3 2\n",
            "6 3 3\n",
            "6 3 4\n",
            "6 3 5\n",
            "6 3 6\n",
            "----------\n",
            "6 4 1\n",
            "6 4 2\n",
            "6 4 3\n",
            "6 4 4\n",
            "6 4 5\n",
            "6 4 6\n",
            "----------\n",
            "6 5 1\n",
            "6 5 2\n",
            "6 5 3\n",
            "6 5 4\n",
            "6 5 5\n",
            "6 5 6\n",
            "----------\n",
            "6 6 1\n",
            "6 6 2\n",
            "6 6 3\n",
            "6 6 4\n",
            "6 6 5\n",
            "6 6 6\n",
            "----------\n",
            "**********\n"
          ]
        }
      ]
    },
    {
      "cell_type": "code",
      "source": [],
      "metadata": {
        "id": "XPQio0CzhVlU"
      },
      "execution_count": null,
      "outputs": []
    }
  ]
}