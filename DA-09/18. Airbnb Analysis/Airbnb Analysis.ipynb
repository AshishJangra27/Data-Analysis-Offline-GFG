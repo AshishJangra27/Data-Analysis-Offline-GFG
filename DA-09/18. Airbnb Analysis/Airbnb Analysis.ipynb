{
  "nbformat": 4,
  "nbformat_minor": 0,
  "metadata": {
    "colab": {
      "provenance": []
    },
    "kernelspec": {
      "name": "python3",
      "display_name": "Python 3"
    },
    "language_info": {
      "name": "python"
    }
  },
  "cells": [
    {
      "cell_type": "code",
      "execution_count": 1,
      "metadata": {
        "colab": {
          "base_uri": "https://localhost:8080/"
        },
        "id": "jnZg3DofYh2S",
        "outputId": "93f4deaa-df29-4758-d536-77fad3437706"
      },
      "outputs": [
        {
          "output_type": "stream",
          "name": "stdout",
          "text": [
            "Cloning into 'datasets'...\n",
            "remote: Enumerating objects: 328, done.\u001b[K\n",
            "remote: Counting objects: 100% (93/93), done.\u001b[K\n",
            "remote: Compressing objects: 100% (83/83), done.\u001b[K\n",
            "remote: Total 328 (delta 19), reused 54 (delta 9), pack-reused 235 (from 1)\u001b[K\n",
            "Receiving objects: 100% (328/328), 278.62 MiB | 15.15 MiB/s, done.\n",
            "Resolving deltas: 100% (145/145), done.\n",
            "Updating files: 100% (225/225), done.\n"
          ]
        }
      ],
      "source": [
        "!git clone https://github.com/AshishJangra27/datasets"
      ]
    },
    {
      "cell_type": "markdown",
      "source": [
        "# Agenda | Top 10 Airbnbs of Manali under 5000\n",
        "\n",
        "1. Rating\n",
        "2. Amenities\n",
        "3. Reviews"
      ],
      "metadata": {
        "id": "f4rkNBXuYQb8"
      }
    },
    {
      "cell_type": "markdown",
      "source": [
        "### 1. Exploratory Data Analysis"
      ],
      "metadata": {
        "id": "7zmXSyaoaYw6"
      }
    },
    {
      "cell_type": "code",
      "source": [
        "import pandas as pd\n",
        "\n",
        "data = pd.read_csv('/content/datasets/Airbnb/airbnb_v2.csv')\n",
        "data.head()"
      ],
      "metadata": {
        "colab": {
          "base_uri": "https://localhost:8080/",
          "height": 531
        },
        "id": "4mar9aezbI3M",
        "outputId": "7a59989c-f202-459e-fb69-c0da53c139cd"
      },
      "execution_count": 88,
      "outputs": [
        {
          "output_type": "execute_result",
          "data": {
            "text/plain": [
              "   Unnamed: 0        id                                               name  \\\n",
              "0           0  49849504                                     Perla bungalov   \n",
              "1           1  50891766  Authentic Beach Architect Sheltered Villa with...   \n",
              "2           2  50699164                                  cottages sataplia   \n",
              "3           3  49871422                        Sapanca Breathable Bungalow   \n",
              "4           4  51245886                                      Bungalov Ev 2   \n",
              "\n",
              "  rating reviews    host_name      host_id                   address  \\\n",
              "0   4.71      64    Mehmetcan  357334205.0  Kartepe, Kocaeli, Turkey   \n",
              "1    New       0        Fatih  386223873.0      Kaş, Antalya, Turkey   \n",
              "2   4.85      68       Giorgi  409690853.0          Imereti, Georgia   \n",
              "3    5.0      13        Melih  401873242.0  Sapanca, Sakarya, Turkey   \n",
              "4    New       0  Arp Sapanca  414884116.0  Sapanca, Sakarya, Turkey   \n",
              "\n",
              "                                 features  \\\n",
              "0    2 guests,2 bedrooms,1 bed,1 bathroom   \n",
              "1  4 guests,2 bedrooms,2 beds,2 bathrooms   \n",
              "2    4 guests,1 bedroom,3 beds,1 bathroom   \n",
              "3    4 guests,1 bedroom,2 beds,1 bathroom   \n",
              "4     2 guests,1 bedroom,1 bed,1 bathroom   \n",
              "\n",
              "                                           amenities  ...  price   country  \\\n",
              "0  Mountain view,Valley view,Lake access,Kitchen,...  ...   8078    Turkey   \n",
              "1  Kitchen,Wifi,Dedicated workspace,Free parking ...  ...   4665    Turkey   \n",
              "2  Mountain view,Kitchen,Wifi,Dedicated workspace...  ...   5991   Georgia   \n",
              "3  Mountain view,Valley view,Kitchen,Wifi,Free pa...  ...  11339    Turkey   \n",
              "4  Kitchen,Wifi,Free parking on premises,TV,Air c...  ...   6673    Turkey   \n",
              "\n",
              "  bathrooms  beds guests  toiles  bedrooms  studios              checkin  \\\n",
              "0         1     1      2       0         2        0             Flexible   \n",
              "1         2     2      4       0         2        0   4 00 pm - 11 00 pm   \n",
              "2         1     3      4       0         1        0        After 1 00 pm   \n",
              "3         1     2      4       0         1        0        After 2 00 pm   \n",
              "4         1     1      2       0         1        0        After 2 00 pm   \n",
              "\n",
              "    checkout  \n",
              "0   12 00 pm  \n",
              "1   10 00 am  \n",
              "2   12 00 pm  \n",
              "3   12 00 pm  \n",
              "4   12 00 pm  \n",
              "\n",
              "[5 rows x 23 columns]"
            ],
            "text/html": [
              "\n",
              "  <div id=\"df-10068072-3519-42cf-af25-8e77083313ef\" class=\"colab-df-container\">\n",
              "    <div>\n",
              "<style scoped>\n",
              "    .dataframe tbody tr th:only-of-type {\n",
              "        vertical-align: middle;\n",
              "    }\n",
              "\n",
              "    .dataframe tbody tr th {\n",
              "        vertical-align: top;\n",
              "    }\n",
              "\n",
              "    .dataframe thead th {\n",
              "        text-align: right;\n",
              "    }\n",
              "</style>\n",
              "<table border=\"1\" class=\"dataframe\">\n",
              "  <thead>\n",
              "    <tr style=\"text-align: right;\">\n",
              "      <th></th>\n",
              "      <th>Unnamed: 0</th>\n",
              "      <th>id</th>\n",
              "      <th>name</th>\n",
              "      <th>rating</th>\n",
              "      <th>reviews</th>\n",
              "      <th>host_name</th>\n",
              "      <th>host_id</th>\n",
              "      <th>address</th>\n",
              "      <th>features</th>\n",
              "      <th>amenities</th>\n",
              "      <th>...</th>\n",
              "      <th>price</th>\n",
              "      <th>country</th>\n",
              "      <th>bathrooms</th>\n",
              "      <th>beds</th>\n",
              "      <th>guests</th>\n",
              "      <th>toiles</th>\n",
              "      <th>bedrooms</th>\n",
              "      <th>studios</th>\n",
              "      <th>checkin</th>\n",
              "      <th>checkout</th>\n",
              "    </tr>\n",
              "  </thead>\n",
              "  <tbody>\n",
              "    <tr>\n",
              "      <th>0</th>\n",
              "      <td>0</td>\n",
              "      <td>49849504</td>\n",
              "      <td>Perla bungalov</td>\n",
              "      <td>4.71</td>\n",
              "      <td>64</td>\n",
              "      <td>Mehmetcan</td>\n",
              "      <td>357334205.0</td>\n",
              "      <td>Kartepe, Kocaeli, Turkey</td>\n",
              "      <td>2 guests,2 bedrooms,1 bed,1 bathroom</td>\n",
              "      <td>Mountain view,Valley view,Lake access,Kitchen,...</td>\n",
              "      <td>...</td>\n",
              "      <td>8078</td>\n",
              "      <td>Turkey</td>\n",
              "      <td>1</td>\n",
              "      <td>1</td>\n",
              "      <td>2</td>\n",
              "      <td>0</td>\n",
              "      <td>2</td>\n",
              "      <td>0</td>\n",
              "      <td>Flexible</td>\n",
              "      <td>12 00 pm</td>\n",
              "    </tr>\n",
              "    <tr>\n",
              "      <th>1</th>\n",
              "      <td>1</td>\n",
              "      <td>50891766</td>\n",
              "      <td>Authentic Beach Architect Sheltered Villa with...</td>\n",
              "      <td>New</td>\n",
              "      <td>0</td>\n",
              "      <td>Fatih</td>\n",
              "      <td>386223873.0</td>\n",
              "      <td>Kaş, Antalya, Turkey</td>\n",
              "      <td>4 guests,2 bedrooms,2 beds,2 bathrooms</td>\n",
              "      <td>Kitchen,Wifi,Dedicated workspace,Free parking ...</td>\n",
              "      <td>...</td>\n",
              "      <td>4665</td>\n",
              "      <td>Turkey</td>\n",
              "      <td>2</td>\n",
              "      <td>2</td>\n",
              "      <td>4</td>\n",
              "      <td>0</td>\n",
              "      <td>2</td>\n",
              "      <td>0</td>\n",
              "      <td>4 00 pm - 11 00 pm</td>\n",
              "      <td>10 00 am</td>\n",
              "    </tr>\n",
              "    <tr>\n",
              "      <th>2</th>\n",
              "      <td>2</td>\n",
              "      <td>50699164</td>\n",
              "      <td>cottages sataplia</td>\n",
              "      <td>4.85</td>\n",
              "      <td>68</td>\n",
              "      <td>Giorgi</td>\n",
              "      <td>409690853.0</td>\n",
              "      <td>Imereti, Georgia</td>\n",
              "      <td>4 guests,1 bedroom,3 beds,1 bathroom</td>\n",
              "      <td>Mountain view,Kitchen,Wifi,Dedicated workspace...</td>\n",
              "      <td>...</td>\n",
              "      <td>5991</td>\n",
              "      <td>Georgia</td>\n",
              "      <td>1</td>\n",
              "      <td>3</td>\n",
              "      <td>4</td>\n",
              "      <td>0</td>\n",
              "      <td>1</td>\n",
              "      <td>0</td>\n",
              "      <td>After 1 00 pm</td>\n",
              "      <td>12 00 pm</td>\n",
              "    </tr>\n",
              "    <tr>\n",
              "      <th>3</th>\n",
              "      <td>3</td>\n",
              "      <td>49871422</td>\n",
              "      <td>Sapanca Breathable Bungalow</td>\n",
              "      <td>5.0</td>\n",
              "      <td>13</td>\n",
              "      <td>Melih</td>\n",
              "      <td>401873242.0</td>\n",
              "      <td>Sapanca, Sakarya, Turkey</td>\n",
              "      <td>4 guests,1 bedroom,2 beds,1 bathroom</td>\n",
              "      <td>Mountain view,Valley view,Kitchen,Wifi,Free pa...</td>\n",
              "      <td>...</td>\n",
              "      <td>11339</td>\n",
              "      <td>Turkey</td>\n",
              "      <td>1</td>\n",
              "      <td>2</td>\n",
              "      <td>4</td>\n",
              "      <td>0</td>\n",
              "      <td>1</td>\n",
              "      <td>0</td>\n",
              "      <td>After 2 00 pm</td>\n",
              "      <td>12 00 pm</td>\n",
              "    </tr>\n",
              "    <tr>\n",
              "      <th>4</th>\n",
              "      <td>4</td>\n",
              "      <td>51245886</td>\n",
              "      <td>Bungalov Ev 2</td>\n",
              "      <td>New</td>\n",
              "      <td>0</td>\n",
              "      <td>Arp Sapanca</td>\n",
              "      <td>414884116.0</td>\n",
              "      <td>Sapanca, Sakarya, Turkey</td>\n",
              "      <td>2 guests,1 bedroom,1 bed,1 bathroom</td>\n",
              "      <td>Kitchen,Wifi,Free parking on premises,TV,Air c...</td>\n",
              "      <td>...</td>\n",
              "      <td>6673</td>\n",
              "      <td>Turkey</td>\n",
              "      <td>1</td>\n",
              "      <td>1</td>\n",
              "      <td>2</td>\n",
              "      <td>0</td>\n",
              "      <td>1</td>\n",
              "      <td>0</td>\n",
              "      <td>After 2 00 pm</td>\n",
              "      <td>12 00 pm</td>\n",
              "    </tr>\n",
              "  </tbody>\n",
              "</table>\n",
              "<p>5 rows × 23 columns</p>\n",
              "</div>\n",
              "    <div class=\"colab-df-buttons\">\n",
              "\n",
              "  <div class=\"colab-df-container\">\n",
              "    <button class=\"colab-df-convert\" onclick=\"convertToInteractive('df-10068072-3519-42cf-af25-8e77083313ef')\"\n",
              "            title=\"Convert this dataframe to an interactive table.\"\n",
              "            style=\"display:none;\">\n",
              "\n",
              "  <svg xmlns=\"http://www.w3.org/2000/svg\" height=\"24px\" viewBox=\"0 -960 960 960\">\n",
              "    <path d=\"M120-120v-720h720v720H120Zm60-500h600v-160H180v160Zm220 220h160v-160H400v160Zm0 220h160v-160H400v160ZM180-400h160v-160H180v160Zm440 0h160v-160H620v160ZM180-180h160v-160H180v160Zm440 0h160v-160H620v160Z\"/>\n",
              "  </svg>\n",
              "    </button>\n",
              "\n",
              "  <style>\n",
              "    .colab-df-container {\n",
              "      display:flex;\n",
              "      gap: 12px;\n",
              "    }\n",
              "\n",
              "    .colab-df-convert {\n",
              "      background-color: #E8F0FE;\n",
              "      border: none;\n",
              "      border-radius: 50%;\n",
              "      cursor: pointer;\n",
              "      display: none;\n",
              "      fill: #1967D2;\n",
              "      height: 32px;\n",
              "      padding: 0 0 0 0;\n",
              "      width: 32px;\n",
              "    }\n",
              "\n",
              "    .colab-df-convert:hover {\n",
              "      background-color: #E2EBFA;\n",
              "      box-shadow: 0px 1px 2px rgba(60, 64, 67, 0.3), 0px 1px 3px 1px rgba(60, 64, 67, 0.15);\n",
              "      fill: #174EA6;\n",
              "    }\n",
              "\n",
              "    .colab-df-buttons div {\n",
              "      margin-bottom: 4px;\n",
              "    }\n",
              "\n",
              "    [theme=dark] .colab-df-convert {\n",
              "      background-color: #3B4455;\n",
              "      fill: #D2E3FC;\n",
              "    }\n",
              "\n",
              "    [theme=dark] .colab-df-convert:hover {\n",
              "      background-color: #434B5C;\n",
              "      box-shadow: 0px 1px 3px 1px rgba(0, 0, 0, 0.15);\n",
              "      filter: drop-shadow(0px 1px 2px rgba(0, 0, 0, 0.3));\n",
              "      fill: #FFFFFF;\n",
              "    }\n",
              "  </style>\n",
              "\n",
              "    <script>\n",
              "      const buttonEl =\n",
              "        document.querySelector('#df-10068072-3519-42cf-af25-8e77083313ef button.colab-df-convert');\n",
              "      buttonEl.style.display =\n",
              "        google.colab.kernel.accessAllowed ? 'block' : 'none';\n",
              "\n",
              "      async function convertToInteractive(key) {\n",
              "        const element = document.querySelector('#df-10068072-3519-42cf-af25-8e77083313ef');\n",
              "        const dataTable =\n",
              "          await google.colab.kernel.invokeFunction('convertToInteractive',\n",
              "                                                    [key], {});\n",
              "        if (!dataTable) return;\n",
              "\n",
              "        const docLinkHtml = 'Like what you see? Visit the ' +\n",
              "          '<a target=\"_blank\" href=https://colab.research.google.com/notebooks/data_table.ipynb>data table notebook</a>'\n",
              "          + ' to learn more about interactive tables.';\n",
              "        element.innerHTML = '';\n",
              "        dataTable['output_type'] = 'display_data';\n",
              "        await google.colab.output.renderOutput(dataTable, element);\n",
              "        const docLink = document.createElement('div');\n",
              "        docLink.innerHTML = docLinkHtml;\n",
              "        element.appendChild(docLink);\n",
              "      }\n",
              "    </script>\n",
              "  </div>\n",
              "\n",
              "\n",
              "<div id=\"df-6477318c-1a0f-4b20-8dd3-49f0f1ac2a75\">\n",
              "  <button class=\"colab-df-quickchart\" onclick=\"quickchart('df-6477318c-1a0f-4b20-8dd3-49f0f1ac2a75')\"\n",
              "            title=\"Suggest charts\"\n",
              "            style=\"display:none;\">\n",
              "\n",
              "<svg xmlns=\"http://www.w3.org/2000/svg\" height=\"24px\"viewBox=\"0 0 24 24\"\n",
              "     width=\"24px\">\n",
              "    <g>\n",
              "        <path d=\"M19 3H5c-1.1 0-2 .9-2 2v14c0 1.1.9 2 2 2h14c1.1 0 2-.9 2-2V5c0-1.1-.9-2-2-2zM9 17H7v-7h2v7zm4 0h-2V7h2v10zm4 0h-2v-4h2v4z\"/>\n",
              "    </g>\n",
              "</svg>\n",
              "  </button>\n",
              "\n",
              "<style>\n",
              "  .colab-df-quickchart {\n",
              "      --bg-color: #E8F0FE;\n",
              "      --fill-color: #1967D2;\n",
              "      --hover-bg-color: #E2EBFA;\n",
              "      --hover-fill-color: #174EA6;\n",
              "      --disabled-fill-color: #AAA;\n",
              "      --disabled-bg-color: #DDD;\n",
              "  }\n",
              "\n",
              "  [theme=dark] .colab-df-quickchart {\n",
              "      --bg-color: #3B4455;\n",
              "      --fill-color: #D2E3FC;\n",
              "      --hover-bg-color: #434B5C;\n",
              "      --hover-fill-color: #FFFFFF;\n",
              "      --disabled-bg-color: #3B4455;\n",
              "      --disabled-fill-color: #666;\n",
              "  }\n",
              "\n",
              "  .colab-df-quickchart {\n",
              "    background-color: var(--bg-color);\n",
              "    border: none;\n",
              "    border-radius: 50%;\n",
              "    cursor: pointer;\n",
              "    display: none;\n",
              "    fill: var(--fill-color);\n",
              "    height: 32px;\n",
              "    padding: 0;\n",
              "    width: 32px;\n",
              "  }\n",
              "\n",
              "  .colab-df-quickchart:hover {\n",
              "    background-color: var(--hover-bg-color);\n",
              "    box-shadow: 0 1px 2px rgba(60, 64, 67, 0.3), 0 1px 3px 1px rgba(60, 64, 67, 0.15);\n",
              "    fill: var(--button-hover-fill-color);\n",
              "  }\n",
              "\n",
              "  .colab-df-quickchart-complete:disabled,\n",
              "  .colab-df-quickchart-complete:disabled:hover {\n",
              "    background-color: var(--disabled-bg-color);\n",
              "    fill: var(--disabled-fill-color);\n",
              "    box-shadow: none;\n",
              "  }\n",
              "\n",
              "  .colab-df-spinner {\n",
              "    border: 2px solid var(--fill-color);\n",
              "    border-color: transparent;\n",
              "    border-bottom-color: var(--fill-color);\n",
              "    animation:\n",
              "      spin 1s steps(1) infinite;\n",
              "  }\n",
              "\n",
              "  @keyframes spin {\n",
              "    0% {\n",
              "      border-color: transparent;\n",
              "      border-bottom-color: var(--fill-color);\n",
              "      border-left-color: var(--fill-color);\n",
              "    }\n",
              "    20% {\n",
              "      border-color: transparent;\n",
              "      border-left-color: var(--fill-color);\n",
              "      border-top-color: var(--fill-color);\n",
              "    }\n",
              "    30% {\n",
              "      border-color: transparent;\n",
              "      border-left-color: var(--fill-color);\n",
              "      border-top-color: var(--fill-color);\n",
              "      border-right-color: var(--fill-color);\n",
              "    }\n",
              "    40% {\n",
              "      border-color: transparent;\n",
              "      border-right-color: var(--fill-color);\n",
              "      border-top-color: var(--fill-color);\n",
              "    }\n",
              "    60% {\n",
              "      border-color: transparent;\n",
              "      border-right-color: var(--fill-color);\n",
              "    }\n",
              "    80% {\n",
              "      border-color: transparent;\n",
              "      border-right-color: var(--fill-color);\n",
              "      border-bottom-color: var(--fill-color);\n",
              "    }\n",
              "    90% {\n",
              "      border-color: transparent;\n",
              "      border-bottom-color: var(--fill-color);\n",
              "    }\n",
              "  }\n",
              "</style>\n",
              "\n",
              "  <script>\n",
              "    async function quickchart(key) {\n",
              "      const quickchartButtonEl =\n",
              "        document.querySelector('#' + key + ' button');\n",
              "      quickchartButtonEl.disabled = true;  // To prevent multiple clicks.\n",
              "      quickchartButtonEl.classList.add('colab-df-spinner');\n",
              "      try {\n",
              "        const charts = await google.colab.kernel.invokeFunction(\n",
              "            'suggestCharts', [key], {});\n",
              "      } catch (error) {\n",
              "        console.error('Error during call to suggestCharts:', error);\n",
              "      }\n",
              "      quickchartButtonEl.classList.remove('colab-df-spinner');\n",
              "      quickchartButtonEl.classList.add('colab-df-quickchart-complete');\n",
              "    }\n",
              "    (() => {\n",
              "      let quickchartButtonEl =\n",
              "        document.querySelector('#df-6477318c-1a0f-4b20-8dd3-49f0f1ac2a75 button');\n",
              "      quickchartButtonEl.style.display =\n",
              "        google.colab.kernel.accessAllowed ? 'block' : 'none';\n",
              "    })();\n",
              "  </script>\n",
              "</div>\n",
              "\n",
              "    </div>\n",
              "  </div>\n"
            ],
            "application/vnd.google.colaboratory.intrinsic+json": {
              "type": "dataframe",
              "variable_name": "data"
            }
          },
          "metadata": {},
          "execution_count": 88
        }
      ]
    },
    {
      "cell_type": "markdown",
      "source": [
        "#### 1.1) Checking basic detials"
      ],
      "metadata": {
        "id": "cnMAsgSFaoEW"
      }
    },
    {
      "cell_type": "code",
      "source": [
        "data.info()"
      ],
      "metadata": {
        "colab": {
          "base_uri": "https://localhost:8080/"
        },
        "id": "XiEg_XkMbkUB",
        "outputId": "8e4573d3-c253-4256-e8b4-ece8dcd95aa1"
      },
      "execution_count": 89,
      "outputs": [
        {
          "output_type": "stream",
          "name": "stdout",
          "text": [
            "<class 'pandas.core.frame.DataFrame'>\n",
            "RangeIndex: 12805 entries, 0 to 12804\n",
            "Data columns (total 23 columns):\n",
            " #   Column        Non-Null Count  Dtype  \n",
            "---  ------        --------------  -----  \n",
            " 0   Unnamed: 0    12805 non-null  int64  \n",
            " 1   id            12805 non-null  int64  \n",
            " 2   name          12805 non-null  object \n",
            " 3   rating        12805 non-null  object \n",
            " 4   reviews       12805 non-null  object \n",
            " 5   host_name     12797 non-null  object \n",
            " 6   host_id       12805 non-null  float64\n",
            " 7   address       12805 non-null  object \n",
            " 8   features      12805 non-null  object \n",
            " 9   amenities     12805 non-null  object \n",
            " 10  safety_rules  12805 non-null  object \n",
            " 11  hourse_rules  12805 non-null  object \n",
            " 12  img_links     12805 non-null  object \n",
            " 13  price         12805 non-null  int64  \n",
            " 14  country       12805 non-null  object \n",
            " 15  bathrooms     12805 non-null  int64  \n",
            " 16  beds          12805 non-null  int64  \n",
            " 17  guests        12805 non-null  int64  \n",
            " 18  toiles        12805 non-null  int64  \n",
            " 19  bedrooms      12805 non-null  int64  \n",
            " 20  studios       12805 non-null  int64  \n",
            " 21  checkin       12005 non-null  object \n",
            " 22  checkout      10355 non-null  object \n",
            "dtypes: float64(1), int64(9), object(13)\n",
            "memory usage: 2.2+ MB\n"
          ]
        }
      ]
    },
    {
      "cell_type": "markdown",
      "source": [
        "#### 1.2) Check null values"
      ],
      "metadata": {
        "id": "TYKNsiSIa0yW"
      }
    },
    {
      "cell_type": "code",
      "source": [
        "data.isnull().sum()"
      ],
      "metadata": {
        "colab": {
          "base_uri": "https://localhost:8080/",
          "height": 805
        },
        "id": "7AIXR9JCa_yd",
        "outputId": "d52a7c00-6cb4-489c-aae7-a1b65d41b672"
      },
      "execution_count": 90,
      "outputs": [
        {
          "output_type": "execute_result",
          "data": {
            "text/plain": [
              "Unnamed: 0         0\n",
              "id                 0\n",
              "name               0\n",
              "rating             0\n",
              "reviews            0\n",
              "host_name          8\n",
              "host_id            0\n",
              "address            0\n",
              "features           0\n",
              "amenities          0\n",
              "safety_rules       0\n",
              "hourse_rules       0\n",
              "img_links          0\n",
              "price              0\n",
              "country            0\n",
              "bathrooms          0\n",
              "beds               0\n",
              "guests             0\n",
              "toiles             0\n",
              "bedrooms           0\n",
              "studios            0\n",
              "checkin          800\n",
              "checkout        2450\n",
              "dtype: int64"
            ],
            "text/html": [
              "<div>\n",
              "<style scoped>\n",
              "    .dataframe tbody tr th:only-of-type {\n",
              "        vertical-align: middle;\n",
              "    }\n",
              "\n",
              "    .dataframe tbody tr th {\n",
              "        vertical-align: top;\n",
              "    }\n",
              "\n",
              "    .dataframe thead th {\n",
              "        text-align: right;\n",
              "    }\n",
              "</style>\n",
              "<table border=\"1\" class=\"dataframe\">\n",
              "  <thead>\n",
              "    <tr style=\"text-align: right;\">\n",
              "      <th></th>\n",
              "      <th>0</th>\n",
              "    </tr>\n",
              "  </thead>\n",
              "  <tbody>\n",
              "    <tr>\n",
              "      <th>Unnamed: 0</th>\n",
              "      <td>0</td>\n",
              "    </tr>\n",
              "    <tr>\n",
              "      <th>id</th>\n",
              "      <td>0</td>\n",
              "    </tr>\n",
              "    <tr>\n",
              "      <th>name</th>\n",
              "      <td>0</td>\n",
              "    </tr>\n",
              "    <tr>\n",
              "      <th>rating</th>\n",
              "      <td>0</td>\n",
              "    </tr>\n",
              "    <tr>\n",
              "      <th>reviews</th>\n",
              "      <td>0</td>\n",
              "    </tr>\n",
              "    <tr>\n",
              "      <th>host_name</th>\n",
              "      <td>8</td>\n",
              "    </tr>\n",
              "    <tr>\n",
              "      <th>host_id</th>\n",
              "      <td>0</td>\n",
              "    </tr>\n",
              "    <tr>\n",
              "      <th>address</th>\n",
              "      <td>0</td>\n",
              "    </tr>\n",
              "    <tr>\n",
              "      <th>features</th>\n",
              "      <td>0</td>\n",
              "    </tr>\n",
              "    <tr>\n",
              "      <th>amenities</th>\n",
              "      <td>0</td>\n",
              "    </tr>\n",
              "    <tr>\n",
              "      <th>safety_rules</th>\n",
              "      <td>0</td>\n",
              "    </tr>\n",
              "    <tr>\n",
              "      <th>hourse_rules</th>\n",
              "      <td>0</td>\n",
              "    </tr>\n",
              "    <tr>\n",
              "      <th>img_links</th>\n",
              "      <td>0</td>\n",
              "    </tr>\n",
              "    <tr>\n",
              "      <th>price</th>\n",
              "      <td>0</td>\n",
              "    </tr>\n",
              "    <tr>\n",
              "      <th>country</th>\n",
              "      <td>0</td>\n",
              "    </tr>\n",
              "    <tr>\n",
              "      <th>bathrooms</th>\n",
              "      <td>0</td>\n",
              "    </tr>\n",
              "    <tr>\n",
              "      <th>beds</th>\n",
              "      <td>0</td>\n",
              "    </tr>\n",
              "    <tr>\n",
              "      <th>guests</th>\n",
              "      <td>0</td>\n",
              "    </tr>\n",
              "    <tr>\n",
              "      <th>toiles</th>\n",
              "      <td>0</td>\n",
              "    </tr>\n",
              "    <tr>\n",
              "      <th>bedrooms</th>\n",
              "      <td>0</td>\n",
              "    </tr>\n",
              "    <tr>\n",
              "      <th>studios</th>\n",
              "      <td>0</td>\n",
              "    </tr>\n",
              "    <tr>\n",
              "      <th>checkin</th>\n",
              "      <td>800</td>\n",
              "    </tr>\n",
              "    <tr>\n",
              "      <th>checkout</th>\n",
              "      <td>2450</td>\n",
              "    </tr>\n",
              "  </tbody>\n",
              "</table>\n",
              "</div><br><label><b>dtype:</b> int64</label>"
            ]
          },
          "metadata": {},
          "execution_count": 90
        }
      ]
    },
    {
      "cell_type": "markdown",
      "source": [
        "#### 1.3) Check Duplicates"
      ],
      "metadata": {
        "id": "u7WD-BKqbOiO"
      }
    },
    {
      "cell_type": "code",
      "source": [
        "len(data) - data['id'].nunique()"
      ],
      "metadata": {
        "colab": {
          "base_uri": "https://localhost:8080/"
        },
        "id": "e_tviPHea_sd",
        "outputId": "387ece06-c9c8-42f6-e420-f4275a7f4996"
      },
      "execution_count": 91,
      "outputs": [
        {
          "output_type": "execute_result",
          "data": {
            "text/plain": [
              "0"
            ]
          },
          "metadata": {},
          "execution_count": 91
        }
      ]
    },
    {
      "cell_type": "markdown",
      "source": [
        "#### 1.4) Remove un-necessary columns"
      ],
      "metadata": {
        "id": "E6yuj_NbbhJi"
      }
    },
    {
      "cell_type": "code",
      "source": [
        "del data['Unnamed: 0']\n",
        "del data['host_name']\n",
        "del data['host_id']\n",
        "del data['img_links']\n",
        "del data['checkin']\n",
        "del data['checkout']"
      ],
      "metadata": {
        "id": "muLV7Giza_p4"
      },
      "execution_count": 92,
      "outputs": []
    },
    {
      "cell_type": "markdown",
      "source": [
        "### 2. Data Cleaning"
      ],
      "metadata": {
        "id": "Ah9jBfQdcxai"
      }
    },
    {
      "cell_type": "markdown",
      "source": [
        "#### 2.1) Cleaning Country Column"
      ],
      "metadata": {
        "id": "IXNi502Ekb_n"
      }
    },
    {
      "cell_type": "code",
      "source": [
        "data['country'] = data['country'].str.strip()"
      ],
      "metadata": {
        "id": "Rtc4bbSBbnlV"
      },
      "execution_count": 93,
      "outputs": []
    },
    {
      "cell_type": "markdown",
      "source": [
        "#### 2.2) Taking only the ones of India"
      ],
      "metadata": {
        "id": "yYFWWA_rkmhS"
      }
    },
    {
      "cell_type": "code",
      "source": [
        "data = data[data['country'] == 'India']"
      ],
      "metadata": {
        "id": "NA6Jx7LFbnjP"
      },
      "execution_count": 94,
      "outputs": []
    },
    {
      "cell_type": "markdown",
      "source": [
        "#### 2.3) Creating cities column"
      ],
      "metadata": {
        "id": "QHYMBUaVkqOS"
      }
    },
    {
      "cell_type": "code",
      "source": [
        "data['cities'] = data['address'].str.split(',').str[0]"
      ],
      "metadata": {
        "id": "FpiAYAB2ez_O"
      },
      "execution_count": 95,
      "outputs": []
    },
    {
      "cell_type": "markdown",
      "source": [
        "#### 2.4) Taking only the ones of Manali adn has price less than 5000"
      ],
      "metadata": {
        "id": "c2VwPM_rkvyS"
      }
    },
    {
      "cell_type": "code",
      "source": [
        "data = data[data['cities'] == 'Manali']\n",
        "data = data[data['price'] < 5000]"
      ],
      "metadata": {
        "id": "jI41y2VEbngq"
      },
      "execution_count": 96,
      "outputs": []
    },
    {
      "cell_type": "markdown",
      "source": [
        "### 3. Analyse the Data"
      ],
      "metadata": {
        "id": "5PEWWZpbagyq"
      }
    },
    {
      "cell_type": "markdown",
      "source": [
        "#### 3.1) Finding top 10 based on Rating"
      ],
      "metadata": {
        "id": "lSlJQ3_XhK_H"
      }
    },
    {
      "cell_type": "code",
      "source": [
        "data['rating'] = data['rating'].str.replace('New','0')\n",
        "data['rating'] = data['rating'].astype('float')\n",
        "data.sort_values(by='rating', ascending=False).head(10).to_csv('top_10_airbnb_rating.csv')"
      ],
      "metadata": {
        "id": "f_0Vkanxf2Mo"
      },
      "execution_count": 97,
      "outputs": []
    },
    {
      "cell_type": "markdown",
      "source": [
        "#### 3.2) Finding top 10 based on Reviews"
      ],
      "metadata": {
        "id": "EKhMwrb2inn9"
      }
    },
    {
      "cell_type": "code",
      "source": [
        "data['reviews'] = data['reviews'].astype('int')\n",
        "\n",
        "data.sort_values(by='reviews', ascending=False).head(10).to_csv('top_10_airbnb_reviews.csv')"
      ],
      "metadata": {
        "id": "16CuCxz3hyA-"
      },
      "execution_count": 98,
      "outputs": []
    },
    {
      "cell_type": "markdown",
      "source": [
        "#### 3.3) Finding top 10 based on Reviews as well as Rating"
      ],
      "metadata": {
        "id": "cGLjpCZNjPNn"
      }
    },
    {
      "cell_type": "code",
      "source": [
        "data['rating_and_review_filter'] = data['rating'] * data['reviews']\n",
        "\n",
        "data.sort_values(by = 'rating_and_review_filter', ascending = False).head(10).to_csv('top_10_airbnb_both.csv')"
      ],
      "metadata": {
        "id": "GN6r1jHVhx-e"
      },
      "execution_count": 99,
      "outputs": []
    },
    {
      "cell_type": "code",
      "source": [],
      "metadata": {
        "id": "oJ9m7XgmlaD8"
      },
      "execution_count": null,
      "outputs": []
    }
  ]
}