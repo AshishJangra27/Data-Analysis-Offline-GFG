{
 "cells": [
  {
   "cell_type": "code",
   "execution_count": 1,
   "id": "41817219",
   "metadata": {},
   "outputs": [],
   "source": [
    "import os\n",
    "import pandas"
   ]
  },
  {
   "cell_type": "code",
   "execution_count": 9,
   "id": "d7821dbf",
   "metadata": {},
   "outputs": [],
   "source": [
    "songs = pandas.read_csv('dataset/songs.csv')"
   ]
  },
  {
   "cell_type": "code",
   "execution_count": 10,
   "id": "54f4af13",
   "metadata": {
    "scrolled": true
   },
   "outputs": [
    {
     "data": {
      "text/html": [
       "<div>\n",
       "<style scoped>\n",
       "    .dataframe tbody tr th:only-of-type {\n",
       "        vertical-align: middle;\n",
       "    }\n",
       "\n",
       "    .dataframe tbody tr th {\n",
       "        vertical-align: top;\n",
       "    }\n",
       "\n",
       "    .dataframe thead th {\n",
       "        text-align: right;\n",
       "    }\n",
       "</style>\n",
       "<table border=\"1\" class=\"dataframe\">\n",
       "  <thead>\n",
       "    <tr style=\"text-align: right;\">\n",
       "      <th></th>\n",
       "      <th>name</th>\n",
       "      <th>singer</th>\n",
       "      <th>singer_id</th>\n",
       "      <th>duration</th>\n",
       "      <th>link</th>\n",
       "      <th>language</th>\n",
       "    </tr>\n",
       "  </thead>\n",
       "  <tbody>\n",
       "    <tr>\n",
       "      <th>0</th>\n",
       "      <td>Dil - E - Nadan Tujhe</td>\n",
       "      <td>Chitra Singh|Jagjit Singh</td>\n",
       "      <td>/artist/chitra-singh|/artist/jagjeet-singh-1</td>\n",
       "      <td>05:00</td>\n",
       "      <td>/dil-e-nadan-tujhe-3</td>\n",
       "      <td>Urdu</td>\n",
       "    </tr>\n",
       "    <tr>\n",
       "      <th>1</th>\n",
       "      <td>Agar Hum Kahen Aur Woh Muskara De</td>\n",
       "      <td>Chitra Singh|Jagjit Singh</td>\n",
       "      <td>/artist/chitra-singh|/artist/jagjeet-singh-1</td>\n",
       "      <td>06:26</td>\n",
       "      <td>/agar-hum-kahen-aur-woh-muskura-den</td>\n",
       "      <td>Urdu</td>\n",
       "    </tr>\n",
       "    <tr>\n",
       "      <th>2</th>\n",
       "      <td>Unke Dekhe Se</td>\n",
       "      <td>Jagjit Singh</td>\n",
       "      <td>/artist/jagjeet-singh-1</td>\n",
       "      <td>03:41</td>\n",
       "      <td>/unke-dekhe-se</td>\n",
       "      <td>Urdu</td>\n",
       "    </tr>\n",
       "    <tr>\n",
       "      <th>3</th>\n",
       "      <td>Yeh Na Thi Hamari Qismat - Chitra Singh</td>\n",
       "      <td>Chitra Singh</td>\n",
       "      <td>/artist/chitra-singh</td>\n",
       "      <td>04:26</td>\n",
       "      <td>/yeh-na-thi-hamari-qismat-2</td>\n",
       "      <td>Urdu</td>\n",
       "    </tr>\n",
       "    <tr>\n",
       "      <th>4</th>\n",
       "      <td>Hazaron Khwahishen Aisi</td>\n",
       "      <td>Jagjit Singh</td>\n",
       "      <td>/artist/jagjeet-singh-1</td>\n",
       "      <td>05:39</td>\n",
       "      <td>/hazaron-khwahishen-aisi-1</td>\n",
       "      <td>Urdu</td>\n",
       "    </tr>\n",
       "    <tr>\n",
       "      <th>...</th>\n",
       "      <td>...</td>\n",
       "      <td>...</td>\n",
       "      <td>...</td>\n",
       "      <td>...</td>\n",
       "      <td>...</td>\n",
       "      <td>...</td>\n",
       "    </tr>\n",
       "    <tr>\n",
       "      <th>41350</th>\n",
       "      <td>Chaaridike Paaper Andhar (Manush Janam Diye Bi...</td>\n",
       "      <td>Kishore Kumar</td>\n",
       "      <td>/artist/kishore-kumar</td>\n",
       "      <td>03:23</td>\n",
       "      <td>/chaaridike-paaper-andhar-manush-janam-diye-bidhi</td>\n",
       "      <td>Bengali</td>\n",
       "    </tr>\n",
       "    <tr>\n",
       "      <th>41351</th>\n",
       "      <td>Ei Ki Go Shesh Daan</td>\n",
       "      <td>Feroza Begum</td>\n",
       "      <td>/artist/feroza-begum</td>\n",
       "      <td>03:56</td>\n",
       "      <td>/ei-kigo-sesh-daan</td>\n",
       "      <td>Bengali</td>\n",
       "    </tr>\n",
       "    <tr>\n",
       "      <th>41352</th>\n",
       "      <td>Ei Je Bangla</td>\n",
       "      <td>Sandhya Mukherjee|Hemant Kumar</td>\n",
       "      <td>/artist/sandhya-mukherjee|/artist/hemanta-mukh...</td>\n",
       "      <td>07:36</td>\n",
       "      <td>/ei-je-bangla</td>\n",
       "      <td>Bengali</td>\n",
       "    </tr>\n",
       "    <tr>\n",
       "      <th>41353</th>\n",
       "      <td>Jatone Hridaye Rekho</td>\n",
       "      <td>Ajoy Chakrabarty</td>\n",
       "      <td>/artist/ajoy-chakrabarty</td>\n",
       "      <td>04:29</td>\n",
       "      <td>/jatone-hridaye-rekho</td>\n",
       "      <td>Bengali</td>\n",
       "    </tr>\n",
       "    <tr>\n",
       "      <th>41354</th>\n",
       "      <td>Tomar Je Oi Haater Mala</td>\n",
       "      <td>Asha Bhosle</td>\n",
       "      <td>/artist/asha-bhosle-1</td>\n",
       "      <td>03:22</td>\n",
       "      <td>/tomar-je-oi-haater-mala</td>\n",
       "      <td>Bengali</td>\n",
       "    </tr>\n",
       "  </tbody>\n",
       "</table>\n",
       "<p>41355 rows × 6 columns</p>\n",
       "</div>"
      ],
      "text/plain": [
       "                                                    name  \\\n",
       "0                                  Dil - E - Nadan Tujhe   \n",
       "1                      Agar Hum Kahen Aur Woh Muskara De   \n",
       "2                                          Unke Dekhe Se   \n",
       "3                Yeh Na Thi Hamari Qismat - Chitra Singh   \n",
       "4                                Hazaron Khwahishen Aisi   \n",
       "...                                                  ...   \n",
       "41350  Chaaridike Paaper Andhar (Manush Janam Diye Bi...   \n",
       "41351                                Ei Ki Go Shesh Daan   \n",
       "41352                                       Ei Je Bangla   \n",
       "41353                               Jatone Hridaye Rekho   \n",
       "41354                            Tomar Je Oi Haater Mala   \n",
       "\n",
       "                               singer  \\\n",
       "0           Chitra Singh|Jagjit Singh   \n",
       "1           Chitra Singh|Jagjit Singh   \n",
       "2                        Jagjit Singh   \n",
       "3                        Chitra Singh   \n",
       "4                        Jagjit Singh   \n",
       "...                               ...   \n",
       "41350                   Kishore Kumar   \n",
       "41351                    Feroza Begum   \n",
       "41352  Sandhya Mukherjee|Hemant Kumar   \n",
       "41353                Ajoy Chakrabarty   \n",
       "41354                     Asha Bhosle   \n",
       "\n",
       "                                               singer_id duration  \\\n",
       "0           /artist/chitra-singh|/artist/jagjeet-singh-1    05:00   \n",
       "1           /artist/chitra-singh|/artist/jagjeet-singh-1    06:26   \n",
       "2                                /artist/jagjeet-singh-1    03:41   \n",
       "3                                   /artist/chitra-singh    04:26   \n",
       "4                                /artist/jagjeet-singh-1    05:39   \n",
       "...                                                  ...      ...   \n",
       "41350                              /artist/kishore-kumar    03:23   \n",
       "41351                               /artist/feroza-begum    03:56   \n",
       "41352  /artist/sandhya-mukherjee|/artist/hemanta-mukh...    07:36   \n",
       "41353                           /artist/ajoy-chakrabarty    04:29   \n",
       "41354                              /artist/asha-bhosle-1    03:22   \n",
       "\n",
       "                                                    link language  \n",
       "0                                   /dil-e-nadan-tujhe-3     Urdu  \n",
       "1                    /agar-hum-kahen-aur-woh-muskura-den     Urdu  \n",
       "2                                         /unke-dekhe-se     Urdu  \n",
       "3                            /yeh-na-thi-hamari-qismat-2     Urdu  \n",
       "4                             /hazaron-khwahishen-aisi-1     Urdu  \n",
       "...                                                  ...      ...  \n",
       "41350  /chaaridike-paaper-andhar-manush-janam-diye-bidhi  Bengali  \n",
       "41351                                 /ei-kigo-sesh-daan  Bengali  \n",
       "41352                                      /ei-je-bangla  Bengali  \n",
       "41353                              /jatone-hridaye-rekho  Bengali  \n",
       "41354                           /tomar-je-oi-haater-mala  Bengali  \n",
       "\n",
       "[41355 rows x 6 columns]"
      ]
     },
     "execution_count": 10,
     "metadata": {},
     "output_type": "execute_result"
    }
   ],
   "source": [
    "songs"
   ]
  },
  {
   "cell_type": "code",
   "execution_count": null,
   "id": "d3702a95",
   "metadata": {},
   "outputs": [],
   "source": []
  },
  {
   "cell_type": "code",
   "execution_count": 18,
   "id": "8689cf10",
   "metadata": {},
   "outputs": [
    {
     "name": "stdout",
     "output_type": "stream",
     "text": [
      "5\n"
     ]
    }
   ],
   "source": [
    "print(a)"
   ]
  },
  {
   "cell_type": "code",
   "execution_count": 6,
   "id": "767d20a7",
   "metadata": {},
   "outputs": [
    {
     "name": "stdout",
     "output_type": "stream",
     "text": [
      "24\n"
     ]
    }
   ],
   "source": [
    "print(24)"
   ]
  },
  {
   "cell_type": "code",
   "execution_count": 4,
   "id": "180a5371",
   "metadata": {},
   "outputs": [
    {
     "name": "stdout",
     "output_type": "stream",
     "text": [
      "24\n"
     ]
    }
   ],
   "source": [
    "print(24)"
   ]
  },
  {
   "cell_type": "code",
   "execution_count": 8,
   "id": "7c619a40",
   "metadata": {},
   "outputs": [
    {
     "name": "stdout",
     "output_type": "stream",
     "text": [
      "24\n"
     ]
    }
   ],
   "source": [
    "print(24)"
   ]
  },
  {
   "cell_type": "code",
   "execution_count": 10,
   "id": "02adf7f9",
   "metadata": {},
   "outputs": [
    {
     "data": {
      "text/plain": [
       "5"
      ]
     },
     "execution_count": 10,
     "metadata": {},
     "output_type": "execute_result"
    }
   ],
   "source": [
    "a"
   ]
  },
  {
   "cell_type": "code",
   "execution_count": null,
   "id": "7e9a8270",
   "metadata": {},
   "outputs": [],
   "source": []
  }
 ],
 "metadata": {
  "kernelspec": {
   "display_name": "Python 3 (ipykernel)",
   "language": "python",
   "name": "python3"
  },
  "language_info": {
   "codemirror_mode": {
    "name": "ipython",
    "version": 3
   },
   "file_extension": ".py",
   "mimetype": "text/x-python",
   "name": "python",
   "nbconvert_exporter": "python",
   "pygments_lexer": "ipython3",
   "version": "3.9.16"
  }
 },
 "nbformat": 4,
 "nbformat_minor": 5
}
