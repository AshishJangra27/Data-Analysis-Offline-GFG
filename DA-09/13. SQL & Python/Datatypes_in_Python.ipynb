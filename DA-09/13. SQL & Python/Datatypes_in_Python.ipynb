{
  "nbformat": 4,
  "nbformat_minor": 0,
  "metadata": {
    "colab": {
      "provenance": []
    },
    "kernelspec": {
      "name": "python3",
      "display_name": "Python 3"
    },
    "language_info": {
      "name": "python"
    }
  },
  "cells": [
    {
      "cell_type": "markdown",
      "source": [
        "### 1. Datatypes"
      ],
      "metadata": {
        "id": "x9MFwh6PYKHP"
      }
    },
    {
      "cell_type": "markdown",
      "source": [
        "##### 1.1) print()"
      ],
      "metadata": {
        "id": "8Ay5QdevYOhg"
      }
    },
    {
      "cell_type": "code",
      "execution_count": 16,
      "metadata": {
        "colab": {
          "base_uri": "https://localhost:8080/"
        },
        "id": "UyMlm94jSy3G",
        "outputId": "db5c9c49-f714-4d3f-90de-0414abf4377c"
      },
      "outputs": [
        {
          "output_type": "stream",
          "name": "stdout",
          "text": [
            "Ashish Jangra asd hkjashd kjhsakjd hjksahd khask dks\n"
          ]
        }
      ],
      "source": [
        "print(\"Ashish Jangra asd hkjashd kjhsakjd hjksahd khask dks\")"
      ]
    },
    {
      "cell_type": "markdown",
      "source": [
        "##### 1.2) different datatypes"
      ],
      "metadata": {
        "id": "MNTvZl5IYW0g"
      }
    },
    {
      "cell_type": "code",
      "source": [
        "print(0.0)\n",
        "print(0)\n",
        "print(False)\n",
        "print('0.asdasd3458r13fd')"
      ],
      "metadata": {
        "id": "YSQm7TaIYJbe"
      },
      "execution_count": null,
      "outputs": []
    },
    {
      "cell_type": "markdown",
      "source": [
        "##### 1.3) type"
      ],
      "metadata": {
        "id": "nvG3UNCaYhI4"
      }
    },
    {
      "cell_type": "code",
      "source": [
        "print(type(0.0))\n",
        "print(type(0))\n",
        "print(type(False))\n",
        "print(type('0.asdasd3458r13fd'))"
      ],
      "metadata": {
        "id": "wYH_4WrtYJiN"
      },
      "execution_count": null,
      "outputs": []
    },
    {
      "cell_type": "markdown",
      "source": [
        "### 2. Operators"
      ],
      "metadata": {
        "id": "j4yyMiWJYl2f"
      }
    },
    {
      "cell_type": "markdown",
      "source": [
        "#### 2.1) Arithmetic"
      ],
      "metadata": {
        "id": "WymqPZJ6Yuuq"
      }
    },
    {
      "cell_type": "code",
      "source": [
        "print(3+2)\n",
        "print(3-2)\n",
        "print(3*2)\n",
        "print(3/2)\n",
        "print(3//2)\n",
        "print(3%2)\n",
        "print(3**2)\n",
        "\n",
        "print(3*'Ashish')\n",
        "print('Ashish' + 'Jangra')\n",
        "\n",
        "print(True + True + True)\n",
        "print(False + False + False)\n",
        "\n",
        "print('Ashish'*False)\n",
        "print(5*True)"
      ],
      "metadata": {
        "colab": {
          "base_uri": "https://localhost:8080/"
        },
        "id": "gi7QACeEYJkn",
        "outputId": "22134146-753f-4f9e-a06b-28aee1f6f17b"
      },
      "execution_count": 47,
      "outputs": [
        {
          "output_type": "stream",
          "name": "stdout",
          "text": [
            "5\n",
            "1\n",
            "6\n",
            "1.5\n",
            "1\n",
            "1\n",
            "9\n",
            "AshishAshishAshish\n",
            "AshishJangra\n",
            "3\n",
            "0\n",
            "\n",
            "5\n"
          ]
        }
      ]
    },
    {
      "cell_type": "markdown",
      "source": [
        "#### 2.2) Comparison"
      ],
      "metadata": {
        "id": "cFUcEC9RaPg8"
      }
    },
    {
      "cell_type": "code",
      "source": [
        "print(2>3)\n",
        "print(2>=3)\n",
        "print(2>=3)\n",
        "print(2<3)\n",
        "print(2<=3)\n",
        "print(2!=3)\n",
        "print(2==3)"
      ],
      "metadata": {
        "colab": {
          "base_uri": "https://localhost:8080/"
        },
        "id": "201Omp0_YJnb",
        "outputId": "c2b8bf68-47fd-4f3e-c0f3-f0ade8b74681"
      },
      "execution_count": 48,
      "outputs": [
        {
          "output_type": "stream",
          "name": "stdout",
          "text": [
            "False\n",
            "False\n",
            "True\n",
            "True\n",
            "True\n",
            "False\n"
          ]
        }
      ]
    },
    {
      "cell_type": "markdown",
      "source": [
        "#### 2.3) Logical"
      ],
      "metadata": {
        "id": "C0gtKy9cbK9c"
      }
    },
    {
      "cell_type": "code",
      "source": [
        "age = 19\n",
        "\n",
        "print((age >= 18) and (age <= 100))\n",
        "print((age >= 18) or (age <= 100))\n",
        "print(not(True))"
      ],
      "metadata": {
        "colab": {
          "base_uri": "https://localhost:8080/"
        },
        "id": "MfMAOK55d4oA",
        "outputId": "193ee642-6714-4fbd-ac83-944e7a007433"
      },
      "execution_count": 36,
      "outputs": [
        {
          "output_type": "stream",
          "name": "stdout",
          "text": [
            "True\n",
            "True\n",
            "False\n"
          ]
        }
      ]
    },
    {
      "cell_type": "markdown",
      "source": [
        "### 3. Typecasting"
      ],
      "metadata": {
        "id": "d10V2j--gy-s"
      }
    },
    {
      "cell_type": "code",
      "source": [
        "#int - str,bool,float\n",
        "print(int(3.14), int(True), int(False), int('423432432412'))\n",
        "\n",
        "#str - int,bool,float\n",
        "print(str(3.14), str(True), str(False), str(3))\n",
        "\n",
        "#float- int, bool,str\n",
        "print(float(3), float(True), float(False), float('3'))\n",
        "\n",
        "#bool - int,float,str\n",
        "print(bool(3), bool(True), bool(False), bool('3'))"
      ],
      "metadata": {
        "colab": {
          "base_uri": "https://localhost:8080/"
        },
        "id": "TfllAaJXYJp1",
        "outputId": "58a7fa20-e50b-4a1b-92d5-81ca945d27a6"
      },
      "execution_count": 59,
      "outputs": [
        {
          "output_type": "stream",
          "name": "stdout",
          "text": [
            "3 1 0 423432432412\n",
            "3.14 True False 3\n",
            "3.0 1.0 0.0 3.0\n",
            "True True False True\n"
          ]
        }
      ]
    },
    {
      "cell_type": "code",
      "source": [
        "not('')"
      ],
      "metadata": {
        "colab": {
          "base_uri": "https://localhost:8080/"
        },
        "id": "U8fDc4JmW4fx",
        "outputId": "b18272d7-3919-4bdd-fa9e-9e5cd4f397ea"
      },
      "execution_count": 73,
      "outputs": [
        {
          "output_type": "execute_result",
          "data": {
            "text/plain": [
              "True"
            ]
          },
          "metadata": {},
          "execution_count": 73
        }
      ]
    },
    {
      "cell_type": "code",
      "source": [
        "a = 'A'"
      ],
      "metadata": {
        "id": "gkOcJU9uS8tA"
      },
      "execution_count": 2,
      "outputs": []
    },
    {
      "cell_type": "code",
      "source": [],
      "metadata": {
        "id": "eaHSTXPMS8vV"
      },
      "execution_count": 86,
      "outputs": []
    },
    {
      "cell_type": "code",
      "source": [
        "print('AShish sadasd asd as d asd asd'.upper())\n",
        "print('AShish sadasd asd as d asd asd'.lower())\n",
        "print('AShish sadasd asd as d asd asd'.title())\n",
        "print('AShish sadasd asd as d asd asd'.capitalize())"
      ],
      "metadata": {
        "colab": {
          "base_uri": "https://localhost:8080/"
        },
        "id": "4I20-lfVS80i",
        "outputId": "50e5f562-f02e-4c7b-a04d-2fb6908d4e93"
      },
      "execution_count": 96,
      "outputs": [
        {
          "output_type": "stream",
          "name": "stdout",
          "text": [
            "ASHISH SADASD ASD AS D ASD ASD\n",
            "ashish sadasd asd as d asd asd\n",
            "Ashish Sadasd Asd As D Asd Asd\n",
            "Ashish sadasd asd as d asd asd\n"
          ]
        }
      ]
    },
    {
      "cell_type": "code",
      "source": [
        "'AShish sASasd asd AS d asd asd'.replace('AS','-')"
      ],
      "metadata": {
        "colab": {
          "base_uri": "https://localhost:8080/",
          "height": 35
        },
        "id": "ccp_nQJPS86A",
        "outputId": "32b10b8d-7479-4446-9143-470e4734959d"
      },
      "execution_count": 100,
      "outputs": [
        {
          "output_type": "execute_result",
          "data": {
            "text/plain": [
              "'-hish s-asd asd - d asd asd'"
            ],
            "application/vnd.google.colaboratory.intrinsic+json": {
              "type": "string"
            }
          },
          "metadata": {},
          "execution_count": 100
        }
      ]
    },
    {
      "cell_type": "code",
      "source": [
        "'Ashish afhskjdh akshdkh askas.     '."
      ],
      "metadata": {
        "colab": {
          "base_uri": "https://localhost:8080/",
          "height": 141
        },
        "id": "vhbhYdi2S882",
        "outputId": "ba305c6a-afd2-4c4e-ad26-3eb25e9850fe"
      },
      "execution_count": 103,
      "outputs": [
        {
          "output_type": "error",
          "ename": "AttributeError",
          "evalue": "'str' object has no attribute 'substitute'",
          "traceback": [
            "\u001b[0;31m---------------------------------------------------------------------------\u001b[0m",
            "\u001b[0;31mAttributeError\u001b[0m                            Traceback (most recent call last)",
            "\u001b[0;32m<ipython-input-103-5b09d76c7d61>\u001b[0m in \u001b[0;36m<cell line: 0>\u001b[0;34m()\u001b[0m\n\u001b[0;32m----> 1\u001b[0;31m \u001b[0;34m'Ashish afhskjdh akshdkh askas.     '\u001b[0m\u001b[0;34m.\u001b[0m\u001b[0msubstitute\u001b[0m\u001b[0;34m(\u001b[0m\u001b[0;34m)\u001b[0m\u001b[0;34m\u001b[0m\u001b[0;34m\u001b[0m\u001b[0m\n\u001b[0m",
            "\u001b[0;31mAttributeError\u001b[0m: 'str' object has no attribute 'substitute'"
          ]
        }
      ]
    },
    {
      "cell_type": "code",
      "source": [],
      "metadata": {
        "id": "HCLOpLxglv2Y"
      },
      "execution_count": null,
      "outputs": []
    }
  ]
}