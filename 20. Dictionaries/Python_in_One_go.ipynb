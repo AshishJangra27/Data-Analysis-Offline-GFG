{
  "nbformat": 4,
  "nbformat_minor": 0,
  "metadata": {
    "colab": {
      "provenance": []
    },
    "kernelspec": {
      "name": "python3",
      "display_name": "Python 3"
    },
    "language_info": {
      "name": "python"
    }
  },
  "cells": [
    {
      "cell_type": "markdown",
      "source": [
        "### 1. Introduction to Python"
      ],
      "metadata": {
        "id": "g-J9NlSgXFCu"
      }
    },
    {
      "cell_type": "markdown",
      "source": [
        "#####  1.1) Hello World"
      ],
      "metadata": {
        "id": "-26iqU8HXoxz"
      }
    },
    {
      "cell_type": "code",
      "source": [
        "print('Hello World')"
      ],
      "metadata": {
        "colab": {
          "base_uri": "https://localhost:8080/"
        },
        "id": "fzxIxbNeOo-Q",
        "outputId": "a40eb78b-86e4-4fa3-b774-6858fbb0a11b"
      },
      "execution_count": null,
      "outputs": [
        {
          "output_type": "stream",
          "name": "stdout",
          "text": [
            "Hello World\n"
          ]
        }
      ]
    },
    {
      "cell_type": "markdown",
      "source": [
        "#### 1.2) Dealing with Datatypes"
      ],
      "metadata": {
        "id": "ocIhEbAPXuYr"
      }
    },
    {
      "cell_type": "markdown",
      "source": [
        "1.2.1) int"
      ],
      "metadata": {
        "id": "Fj3XjpDlYNac"
      }
    },
    {
      "cell_type": "code",
      "source": [
        "print(type(12))\n",
        "print(type(-12))\n",
        "print(type(0))"
      ],
      "metadata": {
        "colab": {
          "base_uri": "https://localhost:8080/"
        },
        "id": "0oQQFXe1OpCS",
        "outputId": "10c28a39-5ced-4593-ab14-471be883356f"
      },
      "execution_count": null,
      "outputs": [
        {
          "output_type": "stream",
          "name": "stdout",
          "text": [
            "<class 'int'>\n",
            "<class 'int'>\n",
            "<class 'int'>\n"
          ]
        }
      ]
    },
    {
      "cell_type": "markdown",
      "source": [
        "1.2.2) float"
      ],
      "metadata": {
        "id": "tOzVnlO9Yp_r"
      }
    },
    {
      "cell_type": "code",
      "source": [
        "print(type(12.5))\n",
        "print(type(0.000000001))\n",
        "print(type(0.0))"
      ],
      "metadata": {
        "colab": {
          "base_uri": "https://localhost:8080/"
        },
        "id": "uVq09u8WOpE0",
        "outputId": "a75225f3-3c38-4a8e-a74a-4fc02c162e96"
      },
      "execution_count": null,
      "outputs": [
        {
          "output_type": "stream",
          "name": "stdout",
          "text": [
            "<class 'float'>\n",
            "<class 'float'>\n",
            "<class 'float'>\n"
          ]
        }
      ]
    },
    {
      "cell_type": "markdown",
      "source": [
        "1.2.3) string"
      ],
      "metadata": {
        "id": "P7PXvQ9IYxRo"
      }
    },
    {
      "cell_type": "code",
      "source": [
        "print(type('A'))\n",
        "print(type('Ashish Jangra'))\n",
        "print(type('Ashish Jangra is a data scince mentor at gfg'))\n",
        "print(type('5.5'))\n",
        "print(type('True'))"
      ],
      "metadata": {
        "colab": {
          "base_uri": "https://localhost:8080/"
        },
        "id": "oiPk8yUXOpHh",
        "outputId": "ee7053d7-debf-427d-a123-3800f3ce8413"
      },
      "execution_count": null,
      "outputs": [
        {
          "output_type": "stream",
          "name": "stdout",
          "text": [
            "<class 'str'>\n",
            "<class 'str'>\n",
            "<class 'str'>\n",
            "<class 'str'>\n",
            "<class 'str'>\n"
          ]
        }
      ]
    },
    {
      "cell_type": "markdown",
      "source": [
        "1.2.4) boolean"
      ],
      "metadata": {
        "id": "VnS1GI6tZSeW"
      }
    },
    {
      "cell_type": "code",
      "source": [
        "print(type(True))\n",
        "print(type(False))"
      ],
      "metadata": {
        "colab": {
          "base_uri": "https://localhost:8080/"
        },
        "id": "-j3ELzheY5B5",
        "outputId": "ebc24603-4bd6-4305-8cb2-341a0cfd9c88"
      },
      "execution_count": null,
      "outputs": [
        {
          "output_type": "stream",
          "name": "stdout",
          "text": [
            "<class 'bool'>\n",
            "<class 'bool'>\n"
          ]
        }
      ]
    },
    {
      "cell_type": "markdown",
      "source": [
        "#### 1.3) Operators"
      ],
      "metadata": {
        "id": "YAbCFzAaaeIT"
      }
    },
    {
      "cell_type": "markdown",
      "source": [
        "1.3.1) Arithmetic Operator"
      ],
      "metadata": {
        "id": "9cmWZ02nbNof"
      }
    },
    {
      "cell_type": "code",
      "source": [
        "print('--INT--')\n",
        "print(2+3)\n",
        "print(2-3)\n",
        "print(3/2)\n",
        "print(3//2)\n",
        "print(3%2)\n",
        "print(2*3)\n",
        "print(2**3)\n",
        "\n",
        "print()\n",
        "print()\n",
        "print()\n",
        "print('--STR--')\n",
        "print('A' + 'A')\n",
        "print('Ashish' * 3)\n",
        "\n",
        "print()\n",
        "print()\n",
        "print()\n",
        "print('--Bool--')\n",
        "\n",
        "print(True + True)\n",
        "print(True + False)\n",
        "print(False + True)\n",
        "print(False + False)\n",
        "print('-'*5)\n",
        "\n",
        "print(True * True)\n",
        "print(True * False)\n",
        "print(False * True)\n",
        "print(False * False)"
      ],
      "metadata": {
        "colab": {
          "base_uri": "https://localhost:8080/"
        },
        "id": "6Wf4de-4ZzTm",
        "outputId": "2792fe4f-3408-4174-acfb-56e964e76238"
      },
      "execution_count": null,
      "outputs": [
        {
          "output_type": "stream",
          "name": "stdout",
          "text": [
            "--INT--\n",
            "5\n",
            "-1\n",
            "1.5\n",
            "1\n",
            "1\n",
            "6\n",
            "8\n",
            "\n",
            "\n",
            "\n",
            "--STR--\n",
            "AA\n",
            "AshishAshishAshish\n",
            "\n",
            "\n",
            "\n",
            "--Bool--\n",
            "2\n",
            "1\n",
            "1\n",
            "0\n",
            "-----\n",
            "1\n",
            "0\n",
            "0\n",
            "0\n"
          ]
        }
      ]
    },
    {
      "cell_type": "markdown",
      "source": [
        "1.3.2) Comparison Operators"
      ],
      "metadata": {
        "id": "1ei3wqnWeoRB"
      }
    },
    {
      "cell_type": "code",
      "source": [
        "print(2>3)\n",
        "print(2<3)\n",
        "print(2>=3)\n",
        "print(2<=3)\n",
        "print(2==3)\n",
        "print(2!=3)\n",
        "\n",
        "print(2=='2')\n",
        "print(1 == True)\n",
        "print(100 == True*100)\n"
      ],
      "metadata": {
        "colab": {
          "base_uri": "https://localhost:8080/"
        },
        "id": "_uNsLhyfZ0_N",
        "outputId": "a3545faf-f057-4e91-ff29-ed532d91999e"
      },
      "execution_count": null,
      "outputs": [
        {
          "output_type": "stream",
          "name": "stdout",
          "text": [
            "False\n",
            "True\n",
            "False\n",
            "True\n",
            "False\n",
            "True\n"
          ]
        }
      ]
    },
    {
      "cell_type": "markdown",
      "source": [
        "1.3.3) Logical Operators"
      ],
      "metadata": {
        "id": "gJ8WCu7Eg0oG"
      }
    },
    {
      "cell_type": "code",
      "source": [
        "print(True and True)\n",
        "print(True and False)\n",
        "print(False and True)\n",
        "print(False and False)\n",
        "\n",
        "print(True or True)\n",
        "print(True or False)\n",
        "print(False or True)\n",
        "print(False or False)\n",
        "\n",
        "print(not(True))"
      ],
      "metadata": {
        "colab": {
          "base_uri": "https://localhost:8080/"
        },
        "id": "yPbmis-Wc9jd",
        "outputId": "6bbdc0fb-2887-4d04-a7d2-9674b7334019"
      },
      "execution_count": null,
      "outputs": [
        {
          "output_type": "stream",
          "name": "stdout",
          "text": [
            "True\n",
            "False\n",
            "False\n",
            "False\n",
            "True\n",
            "True\n",
            "True\n",
            "False\n",
            "False\n"
          ]
        }
      ]
    },
    {
      "cell_type": "markdown",
      "source": [
        "#### 1.4) Typecasting"
      ],
      "metadata": {
        "id": "1b5NBzVjhqpG"
      }
    },
    {
      "cell_type": "markdown",
      "source": [
        "1.4.1) int"
      ],
      "metadata": {
        "id": "d2uDl59Jhv_E"
      }
    },
    {
      "cell_type": "code",
      "source": [
        "print(int(12.5))\n",
        "print(type(int(12.5)))\n",
        "\n",
        "print(int('121312'))\n",
        "print(type(int('121312')))\n",
        "\n",
        "print(int(True))\n",
        "print(type(int(True)))"
      ],
      "metadata": {
        "colab": {
          "base_uri": "https://localhost:8080/"
        },
        "id": "tcROLh9MhKp8",
        "outputId": "721a32d1-d2ea-40a2-9f6f-3b1b74789336"
      },
      "execution_count": null,
      "outputs": [
        {
          "output_type": "stream",
          "name": "stdout",
          "text": [
            "12\n",
            "<class 'int'>\n",
            "121312\n",
            "<class 'int'>\n",
            "1\n",
            "<class 'int'>\n"
          ]
        }
      ]
    },
    {
      "cell_type": "markdown",
      "source": [
        "1.4.2) float"
      ],
      "metadata": {
        "id": "mnwu_jadi-6s"
      }
    },
    {
      "cell_type": "code",
      "source": [
        "print(float(12))\n",
        "\n",
        "print(float('12'))\n",
        "\n",
        "print(float(True))"
      ],
      "metadata": {
        "colab": {
          "base_uri": "https://localhost:8080/"
        },
        "id": "83cVMSYmhQFs",
        "outputId": "def233cf-b992-4be9-97e4-f32f894a6ad2"
      },
      "execution_count": null,
      "outputs": [
        {
          "output_type": "stream",
          "name": "stdout",
          "text": [
            "12.0\n",
            "12.0\n",
            "1.0\n"
          ]
        }
      ]
    },
    {
      "cell_type": "markdown",
      "source": [
        "1.4.3) str"
      ],
      "metadata": {
        "id": "pFqXAPuWjWH7"
      }
    },
    {
      "cell_type": "code",
      "source": [
        "print(str(12))\n",
        "\n",
        "print(str(12.5))\n",
        "\n",
        "print(str(True))"
      ],
      "metadata": {
        "colab": {
          "base_uri": "https://localhost:8080/"
        },
        "id": "sEnPWZM1jL-1",
        "outputId": "7d49212b-23b2-4030-eb59-9a92581d1622"
      },
      "execution_count": null,
      "outputs": [
        {
          "output_type": "stream",
          "name": "stdout",
          "text": [
            "12\n",
            "12.5\n",
            "True\n"
          ]
        }
      ]
    },
    {
      "cell_type": "markdown",
      "source": [
        "1.4.4) bool"
      ],
      "metadata": {
        "id": "dyk6ujgaj6_c"
      }
    },
    {
      "cell_type": "code",
      "source": [
        "print(bool(0.0000000000000000))\n",
        "\n",
        "\n",
        "print(bool('0'))\n",
        "print(bool('a'))\n",
        "print(bool(''))"
      ],
      "metadata": {
        "colab": {
          "base_uri": "https://localhost:8080/"
        },
        "id": "GGm4EPfGjmwJ",
        "outputId": "7728a85f-08d5-43ca-e45b-62ddcb370576"
      },
      "execution_count": null,
      "outputs": [
        {
          "output_type": "stream",
          "name": "stdout",
          "text": [
            "False\n",
            "True\n",
            "True\n",
            "False\n"
          ]
        }
      ]
    },
    {
      "cell_type": "markdown",
      "source": [
        "#### 1.5) Variables"
      ],
      "metadata": {
        "id": "36WgYk5guZXu"
      }
    },
    {
      "cell_type": "code",
      "source": [
        "a = 15\n",
        "b = 6\n",
        "\n",
        "print(a+b)\n",
        "print(a-b)\n",
        "print(a*b)\n",
        "print(a/b)\n",
        "print(a//b)\n",
        "print(a%b)\n",
        "print(a**b)"
      ],
      "metadata": {
        "colab": {
          "base_uri": "https://localhost:8080/"
        },
        "id": "iapBt2IWoeQV",
        "outputId": "a695f88e-2fde-4d10-8ecf-c88958edad84"
      },
      "execution_count": null,
      "outputs": [
        {
          "output_type": "stream",
          "name": "stdout",
          "text": [
            "21\n",
            "9\n",
            "90\n",
            "2.5\n",
            "2\n",
            "3\n",
            "11390625\n"
          ]
        }
      ]
    },
    {
      "cell_type": "markdown",
      "source": [
        "### 2. Conditionals"
      ],
      "metadata": {
        "id": "8a_RXD9217X3"
      }
    },
    {
      "cell_type": "code",
      "source": [
        "age = int(input('Enter the age : '))\n",
        "\n",
        "if age >= 18 and age <= 100:\n",
        "  print('You are eligible to vote')\n",
        "elif age >= 0 and age < 18:\n",
        "  print('Not eligible to vote')\n",
        "else:\n",
        "  print('Invalid age')"
      ],
      "metadata": {
        "colab": {
          "base_uri": "https://localhost:8080/"
        },
        "id": "egdGkiZrwbb4",
        "outputId": "c34752de-fef6-4948-f583-1b9f2aa3b559"
      },
      "execution_count": null,
      "outputs": [
        {
          "output_type": "stream",
          "name": "stdout",
          "text": [
            "Enter the age : -576\n",
            "Invalid age\n"
          ]
        }
      ]
    },
    {
      "cell_type": "markdown",
      "source": [
        "### 3. Loops"
      ],
      "metadata": {
        "id": "Dwp3Co58CoEV"
      }
    },
    {
      "cell_type": "code",
      "source": [
        "num = 13\n",
        "\n",
        "for i in range(1,11):\n",
        "  print(num,'*',i,'=',num*i)"
      ],
      "metadata": {
        "colab": {
          "base_uri": "https://localhost:8080/"
        },
        "id": "jx0ggOpU7C3t",
        "outputId": "de47bc2a-ed0e-47d0-e604-68df8ef54649"
      },
      "execution_count": null,
      "outputs": [
        {
          "output_type": "stream",
          "name": "stdout",
          "text": [
            "13 * 1 = 13\n",
            "13 * 2 = 26\n",
            "13 * 3 = 39\n",
            "13 * 4 = 52\n",
            "13 * 5 = 65\n",
            "13 * 6 = 78\n",
            "13 * 7 = 91\n",
            "13 * 8 = 104\n",
            "13 * 9 = 117\n",
            "13 * 10 = 130\n"
          ]
        }
      ]
    },
    {
      "cell_type": "code",
      "source": [
        "num = 13\n",
        "\n",
        "for i in range(num,num*10+ 1,num):\n",
        "  print(i)"
      ],
      "metadata": {
        "colab": {
          "base_uri": "https://localhost:8080/"
        },
        "id": "1rGz2Z_2Cyts",
        "outputId": "46f860fb-4125-4ecf-ac05-ab647998f2a3"
      },
      "execution_count": null,
      "outputs": [
        {
          "output_type": "stream",
          "name": "stdout",
          "text": [
            "13\n",
            "26\n",
            "39\n",
            "52\n",
            "65\n",
            "78\n",
            "91\n",
            "104\n",
            "117\n",
            "130\n"
          ]
        }
      ]
    },
    {
      "cell_type": "code",
      "source": [
        "  num = 14\n",
        "\n"
      ],
      "metadata": {
        "colab": {
          "base_uri": "https://localhost:8080/"
        },
        "id": "lqSgMs--C6UV",
        "outputId": "4a19beed-4250-4443-b345-ba488605d6de"
      },
      "execution_count": null,
      "outputs": [
        {
          "output_type": "stream",
          "name": "stdout",
          "text": [
            "Divisible\n"
          ]
        }
      ]
    },
    {
      "cell_type": "code",
      "source": [
        "s = 0\n",
        "\n",
        "for i in range(0,101):\n",
        "  s += i\n",
        "\n",
        "print(s)"
      ],
      "metadata": {
        "colab": {
          "base_uri": "https://localhost:8080/"
        },
        "id": "8_Zc8R6DEoiJ",
        "outputId": "edf29711-b207-4a98-ae18-cf050a3e6849"
      },
      "execution_count": null,
      "outputs": [
        {
          "output_type": "stream",
          "name": "stdout",
          "text": [
            "5050\n"
          ]
        }
      ]
    },
    {
      "cell_type": "code",
      "source": [
        "c = 0\n",
        "\n",
        "for i in range(1,7):\n",
        "  for j in range(1,7):\n",
        "     if(i+j == 6):\n",
        "      c += 1\n",
        "\n",
        "print(c,round(c/36,3))"
      ],
      "metadata": {
        "colab": {
          "base_uri": "https://localhost:8080/"
        },
        "id": "hapWZcxHC57D",
        "outputId": "910b4b4d-3ef4-43aa-f44d-ca36d9b05caa"
      },
      "execution_count": null,
      "outputs": [
        {
          "output_type": "stream",
          "name": "stdout",
          "text": [
            "5 0.139\n"
          ]
        }
      ]
    },
    {
      "cell_type": "code",
      "source": [
        "c = 0\n",
        "\n",
        "for n in range(1,13):\n",
        "\n",
        "  for i in range(1,7):\n",
        "    for j in range(1,7):\n",
        "      if(i+j == n):\n",
        "        c += 1\n",
        "\n",
        "  print(n,round(c/36,3))"
      ],
      "metadata": {
        "colab": {
          "base_uri": "https://localhost:8080/"
        },
        "id": "3gkkBtJvJiej",
        "outputId": "78ef1a40-eae0-46da-b49f-1871abebc0ad"
      },
      "execution_count": null,
      "outputs": [
        {
          "output_type": "stream",
          "name": "stdout",
          "text": [
            "1 0.0\n",
            "2 0.028\n",
            "3 0.083\n",
            "4 0.167\n",
            "5 0.278\n",
            "6 0.417\n",
            "7 0.583\n",
            "8 0.722\n",
            "9 0.833\n",
            "10 0.917\n",
            "11 0.972\n",
            "12 1.0\n"
          ]
        }
      ]
    },
    {
      "cell_type": "markdown",
      "source": [
        "### 4. Data Structures\n",
        "\n",
        "#### 4.1) Lists"
      ],
      "metadata": {
        "id": "7Im6QsraNcL7"
      }
    },
    {
      "cell_type": "code",
      "source": [
        "a = [1,'2324234',98.99,3,4,5,True]\n",
        "\n",
        "print(a)\n",
        "print(type(a))"
      ],
      "metadata": {
        "colab": {
          "base_uri": "https://localhost:8080/"
        },
        "id": "qP_KUB_8MBgn",
        "outputId": "30019a6d-1780-4d71-bdc4-d2914c09cab3"
      },
      "execution_count": null,
      "outputs": [
        {
          "output_type": "stream",
          "name": "stdout",
          "text": [
            "[1, '2324234', 98.99, 3, 4, 5, True]\n",
            "<class 'list'>\n"
          ]
        }
      ]
    },
    {
      "cell_type": "code",
      "source": [
        "a = [1,22352342,3,4,5,6,7,8]\n",
        "\n",
        "for i in a:\n",
        "  if i%2 == 0:\n",
        "    print(i)"
      ],
      "metadata": {
        "colab": {
          "base_uri": "https://localhost:8080/"
        },
        "id": "5rJ9c96hMBd6",
        "outputId": "e36884a9-d128-4c80-a086-a4155c97457c"
      },
      "execution_count": null,
      "outputs": [
        {
          "output_type": "stream",
          "name": "stdout",
          "text": [
            "22352342\n",
            "4\n",
            "6\n",
            "8\n"
          ]
        }
      ]
    },
    {
      "cell_type": "code",
      "source": [
        "a = [1,22352342,3,4,5,6,7,8]\n",
        "\n",
        "for i in range(len(a)):\n",
        "  print(i, a[i])"
      ],
      "metadata": {
        "colab": {
          "base_uri": "https://localhost:8080/"
        },
        "id": "FNmA2WvAMBU0",
        "outputId": "b0c278c7-a8a0-4ba6-b0fa-4a5e5f7e2a0f"
      },
      "execution_count": null,
      "outputs": [
        {
          "output_type": "stream",
          "name": "stdout",
          "text": [
            "0 1\n",
            "1 22352342\n",
            "2 3\n",
            "3 4\n",
            "4 5\n",
            "5 6\n",
            "6 7\n",
            "7 8\n"
          ]
        }
      ]
    },
    {
      "cell_type": "code",
      "source": [
        "lst = ['Ashish','Manish','Mahima','Sakshi','Avneet','ashish']\n",
        "\n",
        "for i in lst:\n",
        "  if i[0] == 'A' or i[0] == 'a':\n",
        "    print(i)"
      ],
      "metadata": {
        "id": "bveaaDth7ypW",
        "colab": {
          "base_uri": "https://localhost:8080/"
        },
        "outputId": "9ed2d080-a4f7-4e0c-c53b-c3eb865a747e"
      },
      "execution_count": null,
      "outputs": [
        {
          "output_type": "stream",
          "name": "stdout",
          "text": [
            "Ashish\n",
            "Avneet\n",
            "ashish\n"
          ]
        }
      ]
    },
    {
      "cell_type": "code",
      "source": [
        "'   Ashish '.strip()"
      ],
      "metadata": {
        "colab": {
          "base_uri": "https://localhost:8080/",
          "height": 35
        },
        "id": "gkp9017QZ_UL",
        "outputId": "153c162d-3546-4d54-e429-75487233eb11"
      },
      "execution_count": null,
      "outputs": [
        {
          "output_type": "execute_result",
          "data": {
            "text/plain": [
              "'Ashish'"
            ],
            "application/vnd.google.colaboratory.intrinsic+json": {
              "type": "string"
            }
          },
          "metadata": {},
          "execution_count": 7
        }
      ]
    },
    {
      "cell_type": "code",
      "source": [
        "lst = ['   Ashish ','   Manish','  Mahima ','  Sakshi  ','    Avneet   ']\n",
        "\n",
        "# for i in lst:\n",
        "#   print(i.strip())\n",
        "\n",
        "print([len(i.strip()) for i in lst])"
      ],
      "metadata": {
        "id": "e3R6-Vt0-iCo",
        "colab": {
          "base_uri": "https://localhost:8080/"
        },
        "outputId": "7f0f80be-6ae7-4ffb-9fea-6e8813d7fc95"
      },
      "execution_count": null,
      "outputs": [
        {
          "output_type": "stream",
          "name": "stdout",
          "text": [
            "[6, 6, 6, 6, 6]\n"
          ]
        }
      ]
    },
    {
      "cell_type": "code",
      "source": [
        "lst = ['Ash(*(*&(%^i423sh','%&*(&^M6345234anish','Mah^*&i4235436ma','Saks23423%^*&543hi','Avne23432523et']\n",
        "\n",
        "for txt in lst:       # going through each text\n",
        "  for i in txt:       # going through each character of a single text\n",
        "    if (i not in \"1234567890~!@#$%^&*()_+{}|:<>?/.,;[]\\'\"):\n",
        "      print(i, end = '')\n",
        "\n",
        "  print()\n"
      ],
      "metadata": {
        "colab": {
          "base_uri": "https://localhost:8080/"
        },
        "id": "j6tzECFqYrLW",
        "outputId": "a3a887e9-fc70-4cd7-877c-712b23402f67"
      },
      "execution_count": null,
      "outputs": [
        {
          "output_type": "stream",
          "name": "stdout",
          "text": [
            "Ashish\n",
            "Manish\n",
            "Mahima\n",
            "Sakshi\n",
            "Avneet\n"
          ]
        }
      ]
    },
    {
      "cell_type": "code",
      "source": [
        "lst = []\n",
        "\n",
        "for i in range(1,101):\n",
        "  if (i%5 == 0 or i%7 == 0):\n",
        "    lst.append(i)\n",
        "print(lst)"
      ],
      "metadata": {
        "colab": {
          "base_uri": "https://localhost:8080/"
        },
        "id": "03Hx5K3ndMQz",
        "outputId": "4be6c5c8-4bb4-4ead-84e8-4145e37e3f79"
      },
      "execution_count": null,
      "outputs": [
        {
          "output_type": "stream",
          "name": "stdout",
          "text": [
            "[5, 7, 10, 14, 15, 20, 21, 25, 28, 30, 35, 40, 42, 45, 49, 50, 55, 56, 60, 63, 65, 70, 75, 77, 80, 84, 85, 90, 91, 95, 98, 100]\n"
          ]
        }
      ]
    },
    {
      "cell_type": "code",
      "source": [
        "lst[ : :2]"
      ],
      "metadata": {
        "colab": {
          "base_uri": "https://localhost:8080/"
        },
        "id": "IunygrjNdMHq",
        "outputId": "88853584-91a9-4efb-f58b-c635c70b4ba8"
      },
      "execution_count": null,
      "outputs": [
        {
          "output_type": "execute_result",
          "data": {
            "text/plain": [
              "[5, 10, 15, 21, 28, 35, 42, 49, 55, 60, 65, 75, 80, 85, 91, 98]"
            ]
          },
          "metadata": {},
          "execution_count": 51
        }
      ]
    },
    {
      "cell_type": "code",
      "source": [
        "lst = [i%7 for i in range(100)]\n",
        "print(lst)"
      ],
      "metadata": {
        "colab": {
          "base_uri": "https://localhost:8080/"
        },
        "id": "8VpW47UYf0KD",
        "outputId": "cf6ca0de-3e27-4bb5-d2f7-08a2c48569df"
      },
      "execution_count": null,
      "outputs": [
        {
          "output_type": "stream",
          "name": "stdout",
          "text": [
            "[0, 1, 2, 3, 4, 5, 6, 0, 1, 2, 3, 4, 5, 6, 0, 1, 2, 3, 4, 5, 6, 0, 1, 2, 3, 4, 5, 6, 0, 1, 2, 3, 4, 5, 6, 0, 1, 2, 3, 4, 5, 6, 0, 1, 2, 3, 4, 5, 6, 0, 1, 2, 3, 4, 5, 6, 0, 1, 2, 3, 4, 5, 6, 0, 1, 2, 3, 4, 5, 6, 0, 1, 2, 3, 4, 5, 6, 0, 1, 2, 3, 4, 5, 6, 0, 1, 2, 3, 4, 5, 6, 0, 1, 2, 3, 4, 5, 6, 0, 1]\n"
          ]
        }
      ]
    },
    {
      "cell_type": "code",
      "source": [
        "del j,i"
      ],
      "metadata": {
        "id": "IS760TDQmoCh"
      },
      "execution_count": null,
      "outputs": []
    },
    {
      "cell_type": "code",
      "source": [
        "[i for i in range(3) for j in range(i)]"
      ],
      "metadata": {
        "colab": {
          "base_uri": "https://localhost:8080/",
          "height": 141
        },
        "id": "kG-xf560lQWV",
        "outputId": "b160bf8a-3141-423b-d1b4-18e49f4025a5"
      },
      "execution_count": null,
      "outputs": [
        {
          "output_type": "error",
          "ename": "NameError",
          "evalue": "name 'j' is not defined",
          "traceback": [
            "\u001b[0;31m---------------------------------------------------------------------------\u001b[0m",
            "\u001b[0;31mNameError\u001b[0m                                 Traceback (most recent call last)",
            "\u001b[0;32m<ipython-input-66-7141c83627b0>\u001b[0m in \u001b[0;36m<cell line: 1>\u001b[0;34m()\u001b[0m\n\u001b[0;32m----> 1\u001b[0;31m \u001b[0;34m[\u001b[0m\u001b[0mi\u001b[0m \u001b[0;32mfor\u001b[0m \u001b[0mi\u001b[0m \u001b[0;32min\u001b[0m \u001b[0mrange\u001b[0m\u001b[0;34m(\u001b[0m\u001b[0mj\u001b[0m\u001b[0;34m)\u001b[0m \u001b[0;32mfor\u001b[0m \u001b[0mj\u001b[0m \u001b[0;32min\u001b[0m \u001b[0mrange\u001b[0m\u001b[0;34m(\u001b[0m\u001b[0;36m7\u001b[0m\u001b[0;34m)\u001b[0m\u001b[0;34m]\u001b[0m\u001b[0;34m\u001b[0m\u001b[0;34m\u001b[0m\u001b[0m\n\u001b[0m",
            "\u001b[0;31mNameError\u001b[0m: name 'j' is not defined"
          ]
        }
      ]
    },
    {
      "cell_type": "code",
      "source": [
        "for i in range(3):\n",
        "  for j in range(i):\n",
        "    print(i,j)\n"
      ],
      "metadata": {
        "colab": {
          "base_uri": "https://localhost:8080/"
        },
        "id": "lTVWrZy7lrAF",
        "outputId": "5b0bf7a8-bf58-4099-ed4a-88553f92158d"
      },
      "execution_count": null,
      "outputs": [
        {
          "output_type": "stream",
          "name": "stdout",
          "text": [
            "0 0\n",
            "0 1\n",
            "0 2\n",
            "0 3\n",
            "0 4\n",
            "0 5\n",
            "0 6\n",
            "1 0\n",
            "1 1\n",
            "1 2\n",
            "1 3\n",
            "1 4\n",
            "1 5\n",
            "1 6\n",
            "2 0\n",
            "2 1\n",
            "2 2\n",
            "2 3\n",
            "2 4\n",
            "2 5\n",
            "2 6\n"
          ]
        }
      ]
    },
    {
      "cell_type": "code",
      "source": [
        "lst = [[1, 'Ashish', 67],\n",
        "       [2, 'Manish', 87],\n",
        "       [3, 'Mahima', 69],\n",
        "       [4, 'Sunita', 75],\n",
        "       [5, 'Rohan', 82],\n",
        "       [6, 'Pooja', 77],\n",
        "       [7, 'Vijay', 63],\n",
        "       [8, 'Karan', 90],\n",
        "       [9, 'Jyoti', 56],\n",
        "       [10, 'Nitin', 88],\n",
        "       [11, 'Deepa', 72],\n",
        "       [12, 'Anuj', 79],\n",
        "       [13, 'Ritu', 65],\n",
        "       [14, 'Sachin', 84],\n",
        "       [15, 'Gita', 91],\n",
        "       [16, 'Hari', 78],\n",
        "       [17, 'Lata', 70],\n",
        "       [18, 'Raj', 85],\n",
        "       [19, 'Meena', 58],\n",
        "       [20, 'Shyam', 80],\n",
        "       [21, 'Kavita', 92],\n",
        "       [22, 'Mohan', 74],\n",
        "       [23, 'Sneha', 81]]\n",
        "\n",
        "print(lst)"
      ],
      "metadata": {
        "colab": {
          "base_uri": "https://localhost:8080/"
        },
        "id": "tGs4ITS_mCOw",
        "outputId": "ee862926-9545-4ecf-8c2f-b76bb98ad2de"
      },
      "execution_count": null,
      "outputs": [
        {
          "output_type": "stream",
          "name": "stdout",
          "text": [
            "[[1, 'Ashish', 67], [2, 'Manish', 87], [3, 'Mahima', 69], [4, 'Sunita', 75], [5, 'Rohan', 82], [6, 'Pooja', 77], [7, 'Vijay', 63], [8, 'Karan', 90], [9, 'Jyoti', 56], [10, 'Nitin', 88], [11, 'Deepa', 72], [12, 'Anuj', 79], [13, 'Ritu', 65], [14, 'Sachin', 84], [15, 'Gita', 91], [16, 'Hari', 78], [17, 'Lata', 70], [18, 'Raj', 85], [19, 'Meena', 58], [20, 'Shyam', 80], [21, 'Kavita', 92], [22, 'Mohan', 74], [23, 'Sneha', 81]]\n"
          ]
        }
      ]
    },
    {
      "cell_type": "code",
      "source": [
        "roll_no = 5\n",
        "\n",
        "for i in lst:\n",
        "  if(i[0] == roll_no):\n",
        "    print('Name : ',i[1])\n",
        "    print('Marks : ',i[2])"
      ],
      "metadata": {
        "colab": {
          "base_uri": "https://localhost:8080/"
        },
        "id": "uum2Ejhtna-i",
        "outputId": "4ca39498-5d84-4a30-fb0b-10c385c42340"
      },
      "execution_count": null,
      "outputs": [
        {
          "output_type": "stream",
          "name": "stdout",
          "text": [
            "Name :  Rohan\n",
            "Marks :  82\n"
          ]
        }
      ]
    },
    {
      "cell_type": "code",
      "source": [
        "# Define a base structure for new entries\n",
        "lst = [\n",
        "    [5, 'Ashish', 67, 43, 56, 45, 64]\n",
        "]\n",
        "\n",
        "# Append more entries with a pattern\n",
        "for i in range(2, 21):  # Start from 2 because 1 is already defined\n",
        "    lst.append([i, f'Person {i}', i + 65, i + 42, i + 55, i + 44, i + 63])\n",
        "\n",
        "# Print the updated list\n"
      ],
      "metadata": {
        "id": "4bJ2bsyKnxFb"
      },
      "execution_count": null,
      "outputs": []
    },
    {
      "cell_type": "code",
      "source": [
        "roll_no = 5\n",
        "\n",
        "for i in lst:\n",
        "  if(i[0] == roll_no):\n",
        "    print('-'*15)\n",
        "    print('Name  : ', i[1])\n",
        "    print('Hind  : ', i[2])\n",
        "    print('Eng   : ', i[3])\n",
        "    print('Mth   : ', i[4])\n",
        "    print('-'*15)\n",
        "    print('Marks : ', i[2]+i[3]+i[4]+i[5]+i[6])\n",
        "    print('-'*15)\n",
        "    avg = (i[2]+i[3]+i[4]+i[5]+i[6])/5\n",
        "\n",
        "    if (avg >= 60):\n",
        "      print('AVG   : ', avg, '(PASS)')\n",
        "    else:\n",
        "      print('AVG   : ', avg, '(FAIL)')\n",
        "    print('-'*15)"
      ],
      "metadata": {
        "colab": {
          "base_uri": "https://localhost:8080/"
        },
        "id": "XV-kwJojrMNu",
        "outputId": "75c0f7be-3c35-45cb-ff77-8635066581a7"
      },
      "execution_count": null,
      "outputs": [
        {
          "output_type": "stream",
          "name": "stdout",
          "text": [
            "---------------\n",
            "Name  :  Ashish\n",
            "Hind  :  67\n",
            "Eng   :  43\n",
            "Mth   :  56\n",
            "---------------\n",
            "Marks :  275\n",
            "---------------\n",
            "AVG   :  55.0 (FAIL)\n",
            "---------------\n",
            "---------------\n",
            "Name  :  Person 5\n",
            "Hind  :  70\n",
            "Eng   :  47\n",
            "Mth   :  60\n",
            "---------------\n",
            "Marks :  294\n",
            "---------------\n",
            "AVG   :  58.8 (FAIL)\n",
            "---------------\n"
          ]
        }
      ]
    },
    {
      "cell_type": "code",
      "source": [
        "lst = [[[1,2,3],[[4],5,[6,7,6],[7,8,9,[10]]],[6,3,[9],5,5],[4,2,3]]]\n",
        "\n",
        "lst"
      ],
      "metadata": {
        "id": "BZg-pIQbrTJ5",
        "colab": {
          "base_uri": "https://localhost:8080/"
        },
        "outputId": "e5564455-bdc7-4cc7-97f4-98fee8586b50"
      },
      "execution_count": null,
      "outputs": [
        {
          "output_type": "execute_result",
          "data": {
            "text/plain": [
              "[[[1, 2, 3],\n",
              "  [[4], 5, [6, 7, 6], [7, 8, 9, [10]]],\n",
              "  [6, 3, [9], 5, 5],\n",
              "  [4, 2, 3]]]"
            ]
          },
          "metadata": {},
          "execution_count": 21
        }
      ]
    },
    {
      "cell_type": "markdown",
      "source": [
        "#### 4.2) Dictonaries"
      ],
      "metadata": {
        "id": "vaQBAXlCtYGI"
      }
    },
    {
      "cell_type": "code",
      "source": [
        "dct = {1 : 'Ashish', 2 : 'Manish', 3 : 'Ashish'}\n",
        "\n",
        "dct"
      ],
      "metadata": {
        "colab": {
          "base_uri": "https://localhost:8080/"
        },
        "id": "y1Y_rz9XtXx6",
        "outputId": "d8cf1947-d207-41bf-dbb6-8051be02f166"
      },
      "execution_count": null,
      "outputs": [
        {
          "output_type": "execute_result",
          "data": {
            "text/plain": [
              "{1: 'Ashish', 2: 'Manish', 3: 'Ashish'}"
            ]
          },
          "metadata": {},
          "execution_count": 38
        }
      ]
    },
    {
      "cell_type": "code",
      "source": [
        "dct = {1 : {'name' : 'Ashish', 'hindi' : 55, 'eng' : 67, 'math' : 78},\n",
        "       2 : {'name' : 'Manish', 'hindi' : 55, 'eng' : 67, 'math' : 78},\n",
        "       3 : {'name' : 'Hitesh', 'hindi' : 55, 'eng' : 67, 'math' : 78}}\n",
        "\n",
        "dct"
      ],
      "metadata": {
        "colab": {
          "base_uri": "https://localhost:8080/"
        },
        "id": "Cze-vuYup66a",
        "outputId": "cf8c9f47-2839-4914-bf40-f16b2a96390a"
      },
      "execution_count": null,
      "outputs": [
        {
          "output_type": "execute_result",
          "data": {
            "text/plain": [
              "{1: {'name': 'Ashish', 'hindi': 55, 'eng': 67, 'math': 78},\n",
              " 2: {'name': 'Manish', 'hindi': 55, 'eng': 67, 'math': 78},\n",
              " 3: {'name': 'Hitesh', 'hindi': 55, 'eng': 67, 'math': 78}}"
            ]
          },
          "metadata": {},
          "execution_count": 43
        }
      ]
    },
    {
      "cell_type": "code",
      "source": [
        "dct[2]['hindi']"
      ],
      "metadata": {
        "colab": {
          "base_uri": "https://localhost:8080/"
        },
        "id": "itlOOx9hq1mD",
        "outputId": "06107848-ae23-48de-a29e-4af5e0d04ff6"
      },
      "execution_count": null,
      "outputs": [
        {
          "output_type": "execute_result",
          "data": {
            "text/plain": [
              "55"
            ]
          },
          "metadata": {},
          "execution_count": 47
        }
      ]
    },
    {
      "cell_type": "code",
      "source": [
        "dct = {1 : {'name' : 'Ashish', 'marks' : [38,48,87,47,45]},\n",
        "       2 : {'name' : 'Manish', 'marks' : [38,49,87,47,45]},\n",
        "       3 : {'name' : 'Hitesh', 'marks' : [38,23,87,47,45]}}\n",
        "\n",
        "dct"
      ],
      "metadata": {
        "colab": {
          "base_uri": "https://localhost:8080/"
        },
        "id": "TxguqlKdrdTG",
        "outputId": "29f198c5-3c8f-49c4-9f20-a68bb25e458d"
      },
      "execution_count": null,
      "outputs": [
        {
          "output_type": "execute_result",
          "data": {
            "text/plain": [
              "{1: {'name': 'Ashish', 'marks': [38, 48, 87, 47, 45]},\n",
              " 2: {'name': 'Manish', 'marks': [38, 49, 87, 47, 45]},\n",
              " 3: {'name': 'Hitesh', 'marks': [38, 23, 87, 47, 45]}}"
            ]
          },
          "metadata": {},
          "execution_count": 51
        }
      ]
    },
    {
      "cell_type": "code",
      "source": [
        "dct[2]['marks'][1]"
      ],
      "metadata": {
        "colab": {
          "base_uri": "https://localhost:8080/"
        },
        "id": "4Gi1vAB7roeu",
        "outputId": "59f2c984-3aa5-4709-9515-24b966ceeae8"
      },
      "execution_count": null,
      "outputs": [
        {
          "output_type": "execute_result",
          "data": {
            "text/plain": [
              "49"
            ]
          },
          "metadata": {},
          "execution_count": 52
        }
      ]
    },
    {
      "cell_type": "code",
      "source": [
        "lst = [1 , {'name' : 'Ashish', 'marks' : [38,48,87,47,45]}]\n",
        "\n",
        "sum(lst[1]['marks'])/len(lst[1]['marks'])"
      ],
      "metadata": {
        "colab": {
          "base_uri": "https://localhost:8080/"
        },
        "id": "7vIcjQxIv9Eb",
        "outputId": "4ce0e091-32dc-4971-b8d7-09d481168793"
      },
      "execution_count": null,
      "outputs": [
        {
          "output_type": "execute_result",
          "data": {
            "text/plain": [
              "53.0"
            ]
          },
          "metadata": {},
          "execution_count": 56
        }
      ]
    },
    {
      "cell_type": "code",
      "source": [
        "import numpy as np"
      ],
      "metadata": {
        "id": "0Xcm1jc8weKo"
      },
      "execution_count": null,
      "outputs": []
    },
    {
      "cell_type": "code",
      "source": [
        "np.mean([1,23,4,4352,3454])"
      ],
      "metadata": {
        "colab": {
          "base_uri": "https://localhost:8080/"
        },
        "id": "8QjjZYTd17WO",
        "outputId": "5c4f24fd-98d6-45c4-e6d6-29381a4d536a"
      },
      "execution_count": null,
      "outputs": [
        {
          "output_type": "execute_result",
          "data": {
            "text/plain": [
              "1566.8"
            ]
          },
          "metadata": {},
          "execution_count": 60
        }
      ]
    },
    {
      "cell_type": "code",
      "source": [
        "[1,2,3,4]\n",
        "[1,2,6,24]"
      ],
      "metadata": {
        "id": "u9SdajBu2BVS"
      },
      "execution_count": null,
      "outputs": []
    },
    {
      "cell_type": "code",
      "source": [
        "dct = {'2' : 'Ashish', 2 : 'Manish', 1 : 'Manish'}\n",
        "\n",
        "dct"
      ],
      "metadata": {
        "id": "sDLlm9s_2jd_",
        "colab": {
          "base_uri": "https://localhost:8080/"
        },
        "outputId": "a59f9958-7a84-4c87-e89a-aff41070da6d"
      },
      "execution_count": 5,
      "outputs": [
        {
          "output_type": "execute_result",
          "data": {
            "text/plain": [
              "{'2': 'Ashish', 2: 'Manish', 1: 'Manish'}"
            ]
          },
          "metadata": {},
          "execution_count": 5
        }
      ]
    },
    {
      "cell_type": "code",
      "source": [
        "dct['2'] = 'Kashish'"
      ],
      "metadata": {
        "id": "pi4oYKPk-v0V"
      },
      "execution_count": 7,
      "outputs": []
    },
    {
      "cell_type": "code",
      "source": [
        "dct"
      ],
      "metadata": {
        "colab": {
          "base_uri": "https://localhost:8080/"
        },
        "id": "u4MENfXw-_g-",
        "outputId": "336d119e-56ae-4026-ae89-8afc1906b358"
      },
      "execution_count": 8,
      "outputs": [
        {
          "output_type": "execute_result",
          "data": {
            "text/plain": [
              "{'2': 'Kashish', 2: 'Manish', 1: 'Manish'}"
            ]
          },
          "metadata": {},
          "execution_count": 8
        }
      ]
    },
    {
      "cell_type": "code",
      "source": [],
      "metadata": {
        "id": "MS-RPnf3_YoX"
      },
      "execution_count": null,
      "outputs": []
    }
  ]
}